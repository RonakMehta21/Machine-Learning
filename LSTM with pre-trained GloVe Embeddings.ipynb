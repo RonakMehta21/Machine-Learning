{
  "nbformat": 4,
  "nbformat_minor": 0,
  "metadata": {
    "colab": {
      "name": "Copy of Alternus Vera.ipynb",
      "provenance": [],
      "toc_visible": true,
      "authorship_tag": "ABX9TyOxOYiQ0FzpOkUUjUuSXp9S",
      "include_colab_link": true
    },
    "kernelspec": {
      "name": "python3",
      "display_name": "Python 3"
    },
    "accelerator": "GPU"
  },
  "cells": [
    {
      "cell_type": "markdown",
      "metadata": {
        "id": "view-in-github",
        "colab_type": "text"
      },
      "source": [
        "<a href=\"https://colab.research.google.com/github/RonakMehta21/Machine-Learning/blob/master/LSTM%20with%20pre-trained%20GloVe%20Embeddings.ipynb\" target=\"_parent\"><img src=\"https://colab.research.google.com/assets/colab-badge.svg\" alt=\"Open In Colab\"/></a>"
      ]
    },
    {
      "cell_type": "code",
      "metadata": {
        "id": "RUdJdKnsRxXk",
        "colab_type": "code",
        "outputId": "e4ffe336-92fe-4bc3-ab54-ac34d4f93180",
        "colab": {
          "base_uri": "https://localhost:8080/",
          "height": 309
        }
      },
      "source": [
        "import pandas as pd\n",
        "import numpy as np\n",
        "import csv\n",
        "import gensim\n",
        "from sklearn.externals import joblib\n",
        "from joblib import Parallel, delayed\n",
        "from sklearn.feature_extraction.text import TfidfVectorizer\n",
        "from sklearn.feature_extraction.text import CountVectorizer\n",
        "from sklearn.model_selection import train_test_split\n",
        "from sklearn.linear_model import LogisticRegression\n",
        "from sklearn.metrics import classification_report\n",
        "from sklearn.preprocessing import StandardScaler\n",
        "from nltk.stem.wordnet import WordNetLemmatizer\n",
        "from sklearn.model_selection import GridSearchCV\n",
        "from sklearn.metrics import confusion_matrix\n",
        "from nltk.stem.porter import PorterStemmer\n",
        "from sklearn import metrics\n",
        "from sklearn.metrics import roc_auc_score\n",
        "from sklearn.metrics import roc_curve\n",
        "from sklearn.pipeline import Pipeline\n",
        "from sklearn.preprocessing import LabelEncoder\n",
        "from nltk.corpus import stopwords\n",
        "from string import punctuation\n",
        "import seaborn as sns\n",
        "import pandas as pd\n",
        "import numpy as np\n",
        "import nltk\n",
        "import re\n",
        "import nltk\n",
        "# Ignore warnings\n",
        "import warnings\n",
        "warnings.filterwarnings('ignore')\n",
        "\n",
        "# System related libraries\n",
        "import os\n",
        "import re\n",
        "import fnmatch\n",
        "import importlib\n",
        "import multiprocessing\n",
        "from joblib import Parallel, delayed\n",
        "from datetime import datetime\n",
        "from time import time\n",
        "\n",
        "# Formatting\n",
        "import pprint\n",
        "from tabulate import tabulate\n",
        "from IPython.display import display, HTML\n",
        "\n",
        "from tqdm import tqdm\n",
        "tqdm.pandas(desc=\"progress-bar\")\n",
        "\n",
        "# Handle table-like data and matrices\n",
        "import pickle\n",
        "import numpy as np\n",
        "import pandas as pd\n",
        "\n",
        "# Collections\n",
        "import operator\n",
        "from itertools import product, compress\n",
        "from functools import reduce\n",
        "from operator import itemgetter\n",
        "from collections import defaultdict, Counter\n",
        "from glob import glob\n",
        "\n",
        "from sklearn.utils import shuffle\n",
        "from sklearn.externals import joblib\n",
        "\n",
        "# Data Visualization\n",
        "from wordcloud import WordCloud\n",
        "\n",
        "# String, NLTK, Gensim libraries\n",
        "import string\n",
        "\n",
        "import nltk\n",
        "nltk.download('stopwords')\n",
        "from nltk.corpus import stopwords\n",
        "from nltk.corpus import stopwords\n",
        "from nltk.stem.snowball import SnowballStemmer\n",
        "\n",
        "import gensim.downloader as api\n",
        "from gensim.models import FastText\n",
        "from gensim.models import KeyedVectors\n",
        "\n",
        "# Sklearn\n",
        "from sklearn.decomposition import PCA\n",
        "from sklearn.manifold import TSNE\n",
        "from sklearn.preprocessing import StandardScaler, LabelEncoder, MinMaxScaler, Normalizer, normalize, scale, FunctionTransformer\n",
        "from sklearn.feature_extraction.text import CountVectorizer, TfidfVectorizer\n",
        "from sklearn.feature_selection import SelectKBest, chi2\n",
        "from sklearn.model_selection import train_test_split, StratifiedKFold\n",
        "from sklearn.neighbors import KernelDensity, KNeighborsClassifier\n",
        "from skimage.transform import resize as imresize\n",
        "\n",
        "# Modelling Algorithms\n",
        "from sklearn.neural_network import MLPClassifier\n",
        "from sklearn.gaussian_process import GaussianProcessClassifier\n",
        "from sklearn.gaussian_process.kernels import RBF\n",
        "from sklearn.tree import DecisionTreeClassifier\n",
        "from sklearn.ensemble import RandomForestClassifier, AdaBoostClassifier, GradientBoostingClassifier\n",
        "from sklearn.naive_bayes import MultinomialNB\n",
        "from sklearn.discriminant_analysis import LinearDiscriminantAnalysis, QuadraticDiscriminantAnalysis\n",
        "from sklearn.linear_model import LogisticRegression, Ridge, Lasso\n",
        "from sklearn.svm import SVC, LinearSVC\n",
        "from xgboost import XGBClassifier\n",
        "from sklearn.pipeline import Pipeline\n",
        "from sklearn.ensemble import VotingClassifier\n",
        "\n",
        "# Evaluation metrics\n",
        "from sklearn.metrics import accuracy_score, make_scorer, confusion_matrix, classification_report, log_loss, auc, roc_auc_score, roc_curve, f1_score, precision_recall_curve, recall_score, precision_score\n",
        "\n",
        "# Keras\n",
        "from keras.utils import to_categorical, plot_model\n",
        "from keras.preprocessing import sequence\n",
        "from keras.preprocessing.text import Tokenizer\n",
        "from keras.layers.embeddings import Embedding\n",
        "from keras.layers import Dense, Flatten, LSTM, Conv1D, MaxPooling1D, Dropout, Activation, BatchNormalization\n",
        "\n",
        "from keras.models import Model, Sequential, model_from_json, load_model\n",
        "\n",
        "from keras.optimizers import Adam, SGD\n",
        "from keras.callbacks import ModelCheckpoint, ReduceLROnPlateau, EarlyStopping, TensorBoard, Callback, CSVLogger\n",
        "from keras import backend as K\n",
        "\n",
        "# Model Optimization\n",
        "from hyperopt import hp, fmin, tpe, STATUS_OK, Trials, rand, pyll\n",
        "from hyperopt.pyll.base import scope\n",
        "from hyperopt.pyll.stochastic import sample\n",
        "\n",
        "from scipy.stats.kde import gaussian_kde\n",
        "\n",
        "# Visualization using Matplotlib, Seaborn, Plotly\n",
        "import matplotlib.pyplot as plt\n",
        "plt.style.use('ggplot')\n",
        "\n",
        "import seaborn as sns\n",
        "sns.set_style('white')\n",
        "\n",
        "import plotly.offline as py\n",
        "import plotly.graph_objs as go\n",
        "py.init_notebook_mode(connected=True)\n",
        "\n",
        "%matplotlib inline\n",
        "nltk.download('stopwords')\n",
        "nltk.download('averaged_perceptron_tagger')\n",
        "nltk.download('punkt')\n",
        "nltk.download('wordnet')\n",
        "import matplotlib.pyplot as plt\n",
        "from scipy import sparse\n",
        "# Code source: https://degravek.github.io/project-pages/project1/2017/04/28/New-Notebook/\n",
        "# Dataset from Chakraborty et al. (https://github.com/bhargaviparanjape/clickbait/tree/master/dataset)"
      ],
      "execution_count": 1,
      "outputs": [
        {
          "output_type": "stream",
          "text": [
            "/usr/local/lib/python3.6/dist-packages/sklearn/externals/joblib/__init__.py:15: FutureWarning: sklearn.externals.joblib is deprecated in 0.21 and will be removed in 0.23. Please import this functionality directly from joblib, which can be installed with: pip install joblib. If this warning is raised when loading pickled models, you may need to re-serialize those models with scikit-learn 0.21+.\n",
            "  warnings.warn(msg, category=FutureWarning)\n",
            "/usr/local/lib/python3.6/dist-packages/statsmodels/tools/_testing.py:19: FutureWarning: pandas.util.testing is deprecated. Use the functions in the public API at pandas.testing instead.\n",
            "  import pandas.util.testing as tm\n"
          ],
          "name": "stderr"
        },
        {
          "output_type": "stream",
          "text": [
            "[nltk_data] Downloading package stopwords to /root/nltk_data...\n",
            "[nltk_data]   Unzipping corpora/stopwords.zip.\n"
          ],
          "name": "stdout"
        },
        {
          "output_type": "stream",
          "text": [
            "Using TensorFlow backend.\n"
          ],
          "name": "stderr"
        },
        {
          "output_type": "display_data",
          "data": {
            "text/html": [
              "        <script type=\"text/javascript\">\n",
              "        window.PlotlyConfig = {MathJaxConfig: 'local'};\n",
              "        if (window.MathJax) {MathJax.Hub.Config({SVG: {font: \"STIX-Web\"}});}\n",
              "        if (typeof require !== 'undefined') {\n",
              "        require.undef(\"plotly\");\n",
              "        requirejs.config({\n",
              "            paths: {\n",
              "                'plotly': ['https://cdn.plot.ly/plotly-latest.min']\n",
              "            }\n",
              "        });\n",
              "        require(['plotly'], function(Plotly) {\n",
              "            window._Plotly = Plotly;\n",
              "        });\n",
              "        }\n",
              "        </script>\n",
              "        "
            ]
          },
          "metadata": {
            "tags": []
          }
        },
        {
          "output_type": "stream",
          "text": [
            "[nltk_data] Downloading package stopwords to /root/nltk_data...\n",
            "[nltk_data]   Package stopwords is already up-to-date!\n",
            "[nltk_data] Downloading package averaged_perceptron_tagger to\n",
            "[nltk_data]     /root/nltk_data...\n",
            "[nltk_data]   Unzipping taggers/averaged_perceptron_tagger.zip.\n",
            "[nltk_data] Downloading package punkt to /root/nltk_data...\n",
            "[nltk_data]   Unzipping tokenizers/punkt.zip.\n",
            "[nltk_data] Downloading package wordnet to /root/nltk_data...\n",
            "[nltk_data]   Unzipping corpora/wordnet.zip.\n"
          ],
          "name": "stdout"
        }
      ]
    },
    {
      "cell_type": "code",
      "metadata": {
        "id": "K1AMpIX60wKx",
        "colab_type": "code",
        "colab": {}
      },
      "source": [
        "# Read text file into colaboratory\n",
        "!pip install -U -q PyDrive\n",
        "from pydrive.auth import GoogleAuth\n",
        "from pydrive.drive import GoogleDrive\n",
        "from google.colab import auth\n",
        "from oauth2client.client import GoogleCredentials"
      ],
      "execution_count": 0,
      "outputs": []
    },
    {
      "cell_type": "code",
      "metadata": {
        "id": "l7CeIgdh00VK",
        "colab_type": "code",
        "colab": {}
      },
      "source": [
        "# Authenticate and create the PyDrive client.\n",
        "auth.authenticate_user()\n",
        "gauth = GoogleAuth()\n",
        "gauth.credentials = GoogleCredentials.get_application_default()\n",
        "drive = GoogleDrive(gauth)"
      ],
      "execution_count": 0,
      "outputs": []
    },
    {
      "cell_type": "code",
      "metadata": {
        "id": "EjGbT_BeNgyY",
        "colab_type": "code",
        "outputId": "5cc7b430-cf70-476c-b5bd-86096f2149e6",
        "colab": {
          "base_uri": "https://localhost:8080/",
          "height": 34
        }
      },
      "source": [
        "# Google drive link where the dataset is stored.\n",
        "link = 'https://drive.google.com/open?id=19N9D6JONrA75Pd32hl228UoCxZs4K2cF'\n",
        "fluff, id = link.split('=')\n",
        "print (id) # Verify that you have everything after '='"
      ],
      "execution_count": 4,
      "outputs": [
        {
          "output_type": "stream",
          "text": [
            "19N9D6JONrA75Pd32hl228UoCxZs4K2cF\n"
          ],
          "name": "stdout"
        }
      ]
    },
    {
      "cell_type": "code",
      "metadata": {
        "id": "xIzo3bVoNlWE",
        "colab_type": "code",
        "colab": {}
      },
      "source": [
        "# Download the text file.\n",
        "downloaded = drive.CreateFile({'id':id}) \n",
        "downloaded.GetContentFile('fake_news_train.csv')"
      ],
      "execution_count": 0,
      "outputs": []
    },
    {
      "cell_type": "code",
      "metadata": {
        "id": "os2uOFyRNq6X",
        "colab_type": "code",
        "outputId": "dde2a9ed-f7d6-433c-935e-3f54d3a327e7",
        "colab": {
          "base_uri": "https://localhost:8080/",
          "height": 34
        }
      },
      "source": [
        "# Google drive link where the dataset is stored.\n",
        "link = 'https://drive.google.com/open?id=1QP8PL-QCAH2nJto7IBVI_k7TaG0K76G0'\n",
        "fluff, id = link.split('=')\n",
        "print (id) # Verify that you have everything after '='"
      ],
      "execution_count": 6,
      "outputs": [
        {
          "output_type": "stream",
          "text": [
            "1QP8PL-QCAH2nJto7IBVI_k7TaG0K76G0\n"
          ],
          "name": "stdout"
        }
      ]
    },
    {
      "cell_type": "code",
      "metadata": {
        "id": "rLCgJE9OOL_8",
        "colab_type": "code",
        "colab": {}
      },
      "source": [
        "# Download the text file.\n",
        "downloaded = drive.CreateFile({'id':id}) \n",
        "downloaded.GetContentFile('fake_news_test.csv')"
      ],
      "execution_count": 0,
      "outputs": []
    },
    {
      "cell_type": "code",
      "metadata": {
        "id": "Vs_RNVzjs7wc",
        "colab_type": "code",
        "colab": {
          "base_uri": "https://localhost:8080/",
          "height": 34
        },
        "outputId": "d1664cd4-c4f9-456d-f18a-c6810cf78d5a"
      },
      "source": [
        "# Google drive link where the dataset is stored.\n",
        "link = 'https://drive.google.com/open?id=1IY6TLlXcH27-HQhAOu7KoxvHl1nvymO0'\n",
        "fluff, id = link.split('=')\n",
        "print (id) # Verify that you have everything after '='"
      ],
      "execution_count": 8,
      "outputs": [
        {
          "output_type": "stream",
          "text": [
            "1IY6TLlXcH27-HQhAOu7KoxvHl1nvymO0\n"
          ],
          "name": "stdout"
        }
      ]
    },
    {
      "cell_type": "code",
      "metadata": {
        "id": "hKtoqUdstOHk",
        "colab_type": "code",
        "colab": {}
      },
      "source": [
        "# Download the text file.\n",
        "downloaded = drive.CreateFile({'id':id}) \n",
        "downloaded.GetContentFile('glove.6B.300d.txt')"
      ],
      "execution_count": 0,
      "outputs": []
    },
    {
      "cell_type": "code",
      "metadata": {
        "id": "0StGIjdrOkSL",
        "colab_type": "code",
        "colab": {}
      },
      "source": [
        "train = pd.read_csv('fake_news_train.csv')\n",
        "test = pd.read_csv('fake_news_test.csv')"
      ],
      "execution_count": 0,
      "outputs": []
    },
    {
      "cell_type": "code",
      "metadata": {
        "id": "z9BGlscsOl-X",
        "colab_type": "code",
        "outputId": "c1937413-3a26-40c6-bfba-b80c17a8589b",
        "colab": {
          "base_uri": "https://localhost:8080/",
          "height": 145
        }
      },
      "source": [
        "# Display check the dimensions and the first 2 rows of the file.\n",
        "print('Fake News Dataset')\n",
        "print('train dim:',train.shape, 'test dim:', test.shape)\n",
        "train.iloc[0:2]"
      ],
      "execution_count": 11,
      "outputs": [
        {
          "output_type": "stream",
          "text": [
            "Fake News Dataset\n",
            "train dim: (20800, 5) test dim: (5200, 4)\n"
          ],
          "name": "stdout"
        },
        {
          "output_type": "execute_result",
          "data": {
            "text/html": [
              "<div>\n",
              "<style scoped>\n",
              "    .dataframe tbody tr th:only-of-type {\n",
              "        vertical-align: middle;\n",
              "    }\n",
              "\n",
              "    .dataframe tbody tr th {\n",
              "        vertical-align: top;\n",
              "    }\n",
              "\n",
              "    .dataframe thead th {\n",
              "        text-align: right;\n",
              "    }\n",
              "</style>\n",
              "<table border=\"1\" class=\"dataframe\">\n",
              "  <thead>\n",
              "    <tr style=\"text-align: right;\">\n",
              "      <th></th>\n",
              "      <th>id</th>\n",
              "      <th>title</th>\n",
              "      <th>author</th>\n",
              "      <th>text</th>\n",
              "      <th>label</th>\n",
              "    </tr>\n",
              "  </thead>\n",
              "  <tbody>\n",
              "    <tr>\n",
              "      <th>0</th>\n",
              "      <td>0</td>\n",
              "      <td>House Dem Aide: We Didn’t Even See Comey’s Let...</td>\n",
              "      <td>Darrell Lucus</td>\n",
              "      <td>House Dem Aide: We Didn’t Even See Comey’s Let...</td>\n",
              "      <td>1</td>\n",
              "    </tr>\n",
              "    <tr>\n",
              "      <th>1</th>\n",
              "      <td>1</td>\n",
              "      <td>FLYNN: Hillary Clinton, Big Woman on Campus - ...</td>\n",
              "      <td>Daniel J. Flynn</td>\n",
              "      <td>Ever get the feeling your life circles the rou...</td>\n",
              "      <td>0</td>\n",
              "    </tr>\n",
              "  </tbody>\n",
              "</table>\n",
              "</div>"
            ],
            "text/plain": [
              "   id  ... label\n",
              "0   0  ...     1\n",
              "1   1  ...     0\n",
              "\n",
              "[2 rows x 5 columns]"
            ]
          },
          "metadata": {
            "tags": []
          },
          "execution_count": 11
        }
      ]
    },
    {
      "cell_type": "markdown",
      "metadata": {
        "id": "LTabAedu2F3i",
        "colab_type": "text"
      },
      "source": [
        "## **Data Cleaning and Text Preprocessing**\n",
        "\n",
        "*Steps included in the preprocessing:*\n",
        "\n",
        "* Remove Special Characters and Punctuations\n",
        "* Lower case the news\n",
        "* Tokenization\n",
        "* Remove Stop Words\n",
        "* Lemmatization\n",
        "* Stemming\n",
        "* Spell Check\n"
      ]
    },
    {
      "cell_type": "markdown",
      "metadata": {
        "id": "-PwjSsLO2d1w",
        "colab_type": "text"
      },
      "source": [
        "## Putting It All Together"
      ]
    },
    {
      "cell_type": "markdown",
      "metadata": {
        "id": "yfO029cu2gGd",
        "colab_type": "text"
      },
      "source": [
        "To make the code reusable, we need to create a function that can be called many times."
      ]
    },
    {
      "cell_type": "code",
      "metadata": {
        "id": "IKsh4BCK2I_R",
        "colab_type": "code",
        "colab": {}
      },
      "source": [
        "import re\n",
        "\n",
        "def cleaning(raw_news):\n",
        "    import nltk\n",
        "    \n",
        "    # 1. Remove non-letters/Special Characters and Punctuations\n",
        "    news = re.sub(\"[^a-zA-Z]\", \" \", str(raw_news))\n",
        "    \n",
        "    # 2. Convert to lower case.\n",
        "    news =  news.lower()\n",
        "    \n",
        "    # 3. Tokenize.\n",
        "    news_words = nltk.word_tokenize( news)\n",
        "    \n",
        "    # 4. Convert the stopwords list to \"set\" data type.\n",
        "    stops = set(nltk.corpus.stopwords.words(\"english\"))\n",
        "    \n",
        "    # 5. Remove stop words. \n",
        "    words = [w for w in  news_words  if not w in stops]\n",
        "    \n",
        "    # 6. Lemmentize \n",
        "    wordnet_lem = [ WordNetLemmatizer().lemmatize(w) for w in words ]\n",
        "    \n",
        "    # 7. Stemming\n",
        "    stems = [nltk.stem.SnowballStemmer('english').stem(w) for w in wordnet_lem ]\n",
        "    \n",
        "    # 8. Join the stemmed words back into one string separated by space, and return the result.\n",
        "    return \" \".join(stems)"
      ],
      "execution_count": 0,
      "outputs": []
    },
    {
      "cell_type": "code",
      "metadata": {
        "id": "_SGxFM_WPKp-",
        "colab_type": "code",
        "outputId": "a10e4516-4dde-4f35-e352-c5ee72b4275c",
        "colab": {
          "base_uri": "https://localhost:8080/",
          "height": 136
        }
      },
      "source": [
        "import time\n",
        "# clean training and test data \n",
        "# create new column \"tokenized\"\n",
        "t1 = time.time()\n",
        "\n",
        "# Add the processed data to the original data. \n",
        "# Perhaps using apply function would be more elegant and concise than using for loop\n",
        "train['clean'] = train['text'].apply(cleaning) \n",
        "\n",
        "t2 = time.time()\n",
        "print(\"\\nTime to clean, tokenize and stem train data: \\n\", len(train), \"news:\", (t2-t1)/60, \"min\")\n",
        "\n",
        "t1 = time.time()\n",
        "test['clean'] = test['text'].apply(cleaning)\n",
        "\n",
        "t2 = time.time()\n",
        "print(\"\\n\\nTime to clean, tokenize and stem test data: \\n\", len(test), \"news:\", (t2-t1)/60, \"min\")"
      ],
      "execution_count": 13,
      "outputs": [
        {
          "output_type": "stream",
          "text": [
            "\n",
            "Time to clean, tokenize and stem train data: \n",
            " 20800 news: 3.5365283648173014 min\n",
            "\n",
            "\n",
            "Time to clean, tokenize and stem test data: \n",
            " 5200 news: 0.8856431444485983 min\n"
          ],
          "name": "stdout"
        }
      ]
    },
    {
      "cell_type": "code",
      "metadata": {
        "id": "9uYZyKMc4EJr",
        "colab_type": "code",
        "outputId": "376fd44c-8566-4445-dd6b-0e12873b0b79",
        "colab": {
          "base_uri": "https://localhost:8080/",
          "height": 419
        }
      },
      "source": [
        "df_fake = train[['clean','label']]\n",
        "df_fake"
      ],
      "execution_count": 14,
      "outputs": [
        {
          "output_type": "execute_result",
          "data": {
            "text/html": [
              "<div>\n",
              "<style scoped>\n",
              "    .dataframe tbody tr th:only-of-type {\n",
              "        vertical-align: middle;\n",
              "    }\n",
              "\n",
              "    .dataframe tbody tr th {\n",
              "        vertical-align: top;\n",
              "    }\n",
              "\n",
              "    .dataframe thead th {\n",
              "        text-align: right;\n",
              "    }\n",
              "</style>\n",
              "<table border=\"1\" class=\"dataframe\">\n",
              "  <thead>\n",
              "    <tr style=\"text-align: right;\">\n",
              "      <th></th>\n",
              "      <th>clean</th>\n",
              "      <th>label</th>\n",
              "    </tr>\n",
              "  </thead>\n",
              "  <tbody>\n",
              "    <tr>\n",
              "      <th>0</th>\n",
              "      <td>hous dem aid even see comey letter jason chaff...</td>\n",
              "      <td>1</td>\n",
              "    </tr>\n",
              "    <tr>\n",
              "      <th>1</th>\n",
              "      <td>ever get feel life circl roundabout rather hea...</td>\n",
              "      <td>0</td>\n",
              "    </tr>\n",
              "    <tr>\n",
              "      <th>2</th>\n",
              "      <td>truth might get fire octob tension intellig an...</td>\n",
              "      <td>1</td>\n",
              "    </tr>\n",
              "    <tr>\n",
              "      <th>3</th>\n",
              "      <td>video civilian kill singl u airstrik identifi ...</td>\n",
              "      <td>1</td>\n",
              "    </tr>\n",
              "    <tr>\n",
              "      <th>4</th>\n",
              "      <td>print iranian woman sentenc six year prison ir...</td>\n",
              "      <td>1</td>\n",
              "    </tr>\n",
              "    <tr>\n",
              "      <th>...</th>\n",
              "      <td>...</td>\n",
              "      <td>...</td>\n",
              "    </tr>\n",
              "    <tr>\n",
              "      <th>20795</th>\n",
              "      <td>rapper unload black celebr met donald trump el...</td>\n",
              "      <td>0</td>\n",
              "    </tr>\n",
              "    <tr>\n",
              "      <th>20796</th>\n",
              "      <td>green bay packer lost washington redskin week ...</td>\n",
              "      <td>0</td>\n",
              "    </tr>\n",
              "    <tr>\n",
              "      <th>20797</th>\n",
              "      <td>maci today grew union sever great name america...</td>\n",
              "      <td>0</td>\n",
              "    </tr>\n",
              "    <tr>\n",
              "      <th>20798</th>\n",
              "      <td>nato russia hold parallel exercis balkan press...</td>\n",
              "      <td>1</td>\n",
              "    </tr>\n",
              "    <tr>\n",
              "      <th>20799</th>\n",
              "      <td>david swanson author activist journalist radio...</td>\n",
              "      <td>1</td>\n",
              "    </tr>\n",
              "  </tbody>\n",
              "</table>\n",
              "<p>20800 rows × 2 columns</p>\n",
              "</div>"
            ],
            "text/plain": [
              "                                                   clean  label\n",
              "0      hous dem aid even see comey letter jason chaff...      1\n",
              "1      ever get feel life circl roundabout rather hea...      0\n",
              "2      truth might get fire octob tension intellig an...      1\n",
              "3      video civilian kill singl u airstrik identifi ...      1\n",
              "4      print iranian woman sentenc six year prison ir...      1\n",
              "...                                                  ...    ...\n",
              "20795  rapper unload black celebr met donald trump el...      0\n",
              "20796  green bay packer lost washington redskin week ...      0\n",
              "20797  maci today grew union sever great name america...      0\n",
              "20798  nato russia hold parallel exercis balkan press...      1\n",
              "20799  david swanson author activist journalist radio...      1\n",
              "\n",
              "[20800 rows x 2 columns]"
            ]
          },
          "metadata": {
            "tags": []
          },
          "execution_count": 14
        }
      ]
    },
    {
      "cell_type": "code",
      "metadata": {
        "id": "Qxzv5XUXqAYX",
        "colab_type": "code",
        "colab": {
          "base_uri": "https://localhost:8080/",
          "height": 405
        },
        "outputId": "9167c985-c29e-401e-d7a0-1ed88064f6e8"
      },
      "source": [
        "# Encode labels into categorical values\n",
        "\n",
        "train = df_fake.clean\n",
        "label = df_fake.label\n",
        "\n",
        "# Plot of label types numbers\n",
        "pd.Series(label).value_counts().plot(\n",
        "    kind='pie', title='Labels Distribution', figsize=(5, 5))\n",
        "plt.show()\n",
        "\n",
        "# Encode labels and create classes\n",
        "le = LabelEncoder()\n",
        "le.fit(label)\n",
        "label_encoded = le.transform(label)\n",
        "print(\"\\n\\nClasses: \", le.classes_)\n",
        "\n",
        "# Convert labels into categorical values\n",
        "label_onehot = to_categorical(label_encoded)\n",
        "print(\"\\nNumber of One Hot encoded class labels: \", label_onehot.shape[1])"
      ],
      "execution_count": 15,
      "outputs": [
        {
          "output_type": "display_data",
          "data": {
            "image/png": "[encoded data removed]",
            "text/plain": [
              "<Figure size 360x360 with 1 Axes>"
            ]
          },
          "metadata": {
            "tags": []
          }
        },
        {
          "output_type": "stream",
          "text": [
            "\n",
            "\n",
            "Classes:  [0 1]\n",
            "\n",
            "Number of One Hot encoded class labels:  2\n"
          ],
          "name": "stdout"
        }
      ]
    },
    {
      "cell_type": "code",
      "metadata": {
        "id": "Gx2-vcsRsVo8",
        "colab_type": "code",
        "colab": {}
      },
      "source": [
        "vocab_size = 300\n",
        "maxlen = 300\n",
        "batch_size = 32\n",
        "epochs = 10\n",
        "embedding_type = 'glove_embed_tokenizer'\n",
        "\n",
        "seed = 21\n",
        "np.random.seed(seed)"
      ],
      "execution_count": 0,
      "outputs": []
    },
    {
      "cell_type": "code",
      "metadata": {
        "id": "GsjEvxrwsWeo",
        "colab_type": "code",
        "colab": {
          "base_uri": "https://localhost:8080/",
          "height": 51
        },
        "outputId": "1631c8b3-2742-40e3-acae-0e765eb0cac3"
      },
      "source": [
        "%time\n",
        "\n",
        "# Splitting data into train, test & validation sets\n",
        "x_train, x_val_test, y_train, y_val_test = train_test_split(\n",
        "    train, label_onehot, test_size=.4, stratify=label_encoded, random_state=seed)\n",
        "\n",
        "x_val, x_test, y_val, y_test = train_test_split(\n",
        "    x_val_test, y_val_test, test_size=.6, stratify=y_val_test, random_state=seed)"
      ],
      "execution_count": 17,
      "outputs": [
        {
          "output_type": "stream",
          "text": [
            "CPU times: user 2 µs, sys: 0 ns, total: 2 µs\n",
            "Wall time: 5.72 µs\n"
          ],
          "name": "stdout"
        }
      ]
    },
    {
      "cell_type": "code",
      "metadata": {
        "id": "3orvnL4RssW2",
        "colab_type": "code",
        "colab": {
          "base_uri": "https://localhost:8080/",
          "height": 119
        },
        "outputId": "17fd7c81-e5e6-4957-ddae-1424ec84ed78"
      },
      "source": [
        "# Create the tokenizer & fit on all the url texts\n",
        "\n",
        "tokenizer = Tokenizer(num_words=vocab_size, lower=True)\n",
        "tokenizer.fit_on_texts(x_train)\n",
        "\n",
        "# Dumping tokenizer using joblib which is faster than pickle\n",
        "joblib.dump(tokenizer, os.path.join('/content/tokenizer.pickle'))\n",
        "\n",
        "# Generating sequences & padding for efficient training of our neural network\n",
        "# Transforms each text in texts to a sequence of integers.\n",
        "train_sequences = tokenizer.texts_to_sequences(x_train)\n",
        "train_padded_sequences = sequence.pad_sequences(train_sequences, maxlen=maxlen)\n",
        "\n",
        "val_sequences = tokenizer.texts_to_sequences(x_val)\n",
        "val_padded_sequences = sequence.pad_sequences(val_sequences, maxlen=maxlen)\n",
        "\n",
        "test_sequences = tokenizer.texts_to_sequences(x_test)\n",
        "test_padded_sequences = sequence.pad_sequences(test_sequences, maxlen=maxlen)\n",
        "\n",
        "del x_train, train_sequences, x_val, val_sequences, x_test, test_sequences\n",
        "\n",
        "\n",
        "# Load Glove embeddings\n",
        "\n",
        "print('Loading Glove word vectors ...')\n",
        "embeddings_index = dict()\n",
        "\n",
        "try:\n",
        "    f = open('/content/glove.6B.300d.txt')\n",
        "    for line in f:\n",
        "        values = line.split()\n",
        "        word = values[0]\n",
        "        coefs = np.asarray(values[1:], dtype='float32')\n",
        "        embeddings_index[word] = coefs\n",
        "except Exception as e:\n",
        "    print('Stacktrace', e)\n",
        "    print('Glove file does not exist.')\n",
        "finally:\n",
        "    f.close()\n",
        "\n",
        "print('Loaded %s Glove word vectors.' % len(embeddings_index))\n",
        "\n",
        "\n",
        "# Create a weight matrix for all the words\n",
        "\n",
        "print('\\nMapping words to Glove embeddings ...')\n",
        "embedding_matrix = np.zeros((vocab_size, maxlen))\n",
        "\n",
        "for word, index in tokenizer.word_index.items():\n",
        "    if index > vocab_size - 1:\n",
        "        break\n",
        "    else:\n",
        "        embedding_vector = embeddings_index.get(word)\n",
        "        if embedding_vector is not None:\n",
        "            embedding_matrix[index] = embedding_vector\n",
        "\n",
        "print('Shape of Embedding Matrix: ', embedding_matrix.shape)\n",
        "print('Glove Mapping done.')"
      ],
      "execution_count": 18,
      "outputs": [
        {
          "output_type": "stream",
          "text": [
            "Loading Glove word vectors ...\n",
            "Loaded 400000 Glove word vectors.\n",
            "\n",
            "Mapping words to Glove embeddings ...\n",
            "Shape of Embedding Matrix:  (300, 300)\n",
            "Glove Mapping done.\n"
          ],
          "name": "stdout"
        }
      ]
    },
    {
      "cell_type": "code",
      "metadata": {
        "id": "zCiTnNBjxEIp",
        "colab_type": "code",
        "colab": {}
      },
      "source": [
        "# Checking labels, predictions shape\n",
        "\n",
        "\n",
        "def check_units(y_true, y_pred):\n",
        "\n",
        "    if (y_pred.shape[1] != 1):\n",
        "        y_pred = y_pred[:, 1:2]\n",
        "        y_true = y_true[:, 1:2]\n",
        "\n",
        "    return y_true, y_pred\n",
        "\n",
        "\n",
        "# Calculate Precision\n",
        "\n",
        "def precision(y_true, y_pred):\n",
        "\n",
        "    y_true, y_pred = check_units(y_true, y_pred)\n",
        "    true_positives = K.sum(K.round(K.clip(y_true * y_pred, 0, 1)))\n",
        "    predicted_positives = K.sum(K.round(K.clip(y_pred, 0, 1)))\n",
        "    precision = true_positives / (predicted_positives + K.epsilon())\n",
        "\n",
        "    return precision\n",
        "\n",
        "\n",
        "# Calculate Recall\n",
        "\n",
        "def recall(y_true, y_pred):\n",
        "\n",
        "    y_true, y_pred = check_units(y_true, y_pred)\n",
        "    true_positives = K.sum(K.round(K.clip(y_true * y_pred, 0, 1)))\n",
        "    possible_positives = K.sum(K.round(K.clip(y_true, 0, 1)))\n",
        "    recall = true_positives / (possible_positives + K.epsilon())\n",
        "\n",
        "    return recall\n",
        "\n",
        "\n",
        "# Calculate F1 Score\n",
        "\n",
        "def f1(y_true, y_pred):\n",
        "\n",
        "    # Calculate Recall\n",
        "\n",
        "    def recall(y_true, y_pred):\n",
        "\n",
        "        true_positives = K.sum(K.round(K.clip(y_true * y_pred, 0, 1)))\n",
        "        possible_positives = K.sum(K.round(K.clip(y_true, 0, 1)))\n",
        "        recall = true_positives / (possible_positives + K.epsilon())\n",
        "\n",
        "        return recall\n",
        "\n",
        "    # Calculate Precision\n",
        "\n",
        "    def precision(y_true, y_pred):\n",
        "\n",
        "        true_positives = K.sum(K.round(K.clip(y_true * y_pred, 0, 1)))\n",
        "        predicted_positives = K.sum(K.round(K.clip(y_pred, 0, 1)))\n",
        "        precision = true_positives / (predicted_positives + K.epsilon())\n",
        "\n",
        "        return precision\n",
        "\n",
        "    y_true, y_pred = check_units(y_true, y_pred)\n",
        "    precision = precision(y_true, y_pred)\n",
        "    recall = recall(y_true, y_pred)\n",
        "\n",
        "    return 2*((precision*recall)/(precision+recall+K.epsilon()))"
      ],
      "execution_count": 0,
      "outputs": []
    },
    {
      "cell_type": "code",
      "metadata": {
        "id": "zFTj6DkgvoSd",
        "colab_type": "code",
        "colab": {
          "base_uri": "https://localhost:8080/",
          "height": 1000
        },
        "outputId": "1e42698c-ba30-4160-ebca-64d53aa25575"
      },
      "source": [
        "# Initializing & running keras model\n",
        "\n",
        "print('\\n\\n****************** Keras model training started. *******************\\n\\n')\n",
        "\n",
        "# Setting checkpoint & early stopping\n",
        "checkpoint_path = os.path.join('/content/checkpoint','model_best_weights.{epoch:02d}-{val_accuracy:.4f}.hdf5')\n",
        "checkpoint = ModelCheckpoint(\n",
        "    checkpoint_path, monitor='val_accuracy', verbose=1, save_best_only=True, mode='max')\n",
        "\n",
        "early_stop = EarlyStopping(monitor='val_accuracy', patience=5, mode='max')\n",
        "\n",
        "# prefroc_callback = PrefrocCallback(training_data=(train_padded_sequences, y_train), validation_data=(val_padded_sequences, y_val))\n",
        "\n",
        "tensorboard = TensorBoard(\n",
        "    log_dir='./logs', histogram_freq=2000, write_graph=True, write_images=False)\n",
        "\n",
        "callbacks_list = [checkpoint, tensorboard]\n",
        "\n",
        "# Running the pipeline\n",
        "# Fixing the seed again\n",
        "np.random.seed(seed)\n",
        "\n",
        "print('\\n\\nBuild model ...')\n",
        "model = Sequential()\n",
        "model.add(Embedding(vocab_size, 300, input_length=maxlen,\n",
        "                    weights=[embedding_matrix], trainable=False))\n",
        "model.add(LSTM(maxlen, dropout=0.2, recurrent_dropout=0.2))\n",
        "model.add(Dense(2, activation='softmax'))\n",
        "\n",
        "# try using different optimizers and different optimizer configs\n",
        "\n",
        "model.compile(loss='categorical_crossentropy',\n",
        "              optimizer='adam',\n",
        "              metrics=['accuracy', f1, precision, recall])\n",
        "\n",
        "print(model.summary())\n",
        "\n",
        "print('Training starts...')\n",
        "model.fit(train_padded_sequences, y_train,\n",
        "          batch_size=batch_size,\n",
        "          epochs=epochs,\n",
        "          validation_data=(val_padded_sequences, y_val),\n",
        "          verbose=2, callbacks=callbacks_list)"
      ],
      "execution_count": 22,
      "outputs": [
        {
          "output_type": "stream",
          "text": [
            "\n",
            "\n",
            "****************** Keras model training started. *******************\n",
            "\n",
            "\n",
            "\n",
            "\n",
            "Build model ...\n",
            "Model: \"sequential_3\"\n",
            "_________________________________________________________________\n",
            "Layer (type)                 Output Shape              Param #   \n",
            "=================================================================\n",
            "embedding_3 (Embedding)      (None, 300, 300)          90000     \n",
            "_________________________________________________________________\n",
            "lstm_3 (LSTM)                (None, 300)               721200    \n",
            "_________________________________________________________________\n",
            "dense_3 (Dense)              (None, 2)                 602       \n",
            "=================================================================\n",
            "Total params: 811,802\n",
            "Trainable params: 721,802\n",
            "Non-trainable params: 90,000\n",
            "_________________________________________________________________\n",
            "None\n",
            "Training starts...\n",
            "Train on 12480 samples, validate on 3328 samples\n",
            "Epoch 1/10\n",
            " - 234s - loss: 0.3910 - accuracy: 0.8232 - f1: 0.8162 - precision: 0.8122 - recall: 0.8387 - val_loss: 0.3062 - val_accuracy: 0.8720 - val_f1: 0.8735 - val_precision: 0.8484 - val_recall: 0.9057\n",
            "\n",
            "Epoch 00001: val_accuracy improved from -inf to 0.87200, saving model to /content/checkpoint/model_best_weights.01-0.8720.hdf5\n",
            "Epoch 2/10\n",
            " - 230s - loss: 0.2922 - accuracy: 0.8774 - f1: 0.8763 - precision: 0.8686 - recall: 0.8945 - val_loss: 0.2890 - val_accuracy: 0.8765 - val_f1: 0.8672 - val_precision: 0.9033 - val_recall: 0.8407\n",
            "\n",
            "Epoch 00002: val_accuracy improved from 0.87200 to 0.87650, saving model to /content/checkpoint/model_best_weights.02-0.8765.hdf5\n",
            "Epoch 3/10\n",
            " - 229s - loss: 0.2564 - accuracy: 0.8895 - f1: 0.8871 - precision: 0.8820 - recall: 0.9009 - val_loss: 0.2603 - val_accuracy: 0.8900 - val_f1: 0.8884 - val_precision: 0.8751 - val_recall: 0.9078\n",
            "\n",
            "Epoch 00003: val_accuracy improved from 0.87650 to 0.89002, saving model to /content/checkpoint/model_best_weights.03-0.8900.hdf5\n",
            "Epoch 4/10\n",
            " - 229s - loss: 0.2374 - accuracy: 0.9019 - f1: 0.9001 - precision: 0.8887 - recall: 0.9194 - val_loss: 0.2627 - val_accuracy: 0.8891 - val_f1: 0.8921 - val_precision: 0.8476 - val_recall: 0.9465\n",
            "\n",
            "Epoch 00004: val_accuracy did not improve from 0.89002\n",
            "Epoch 5/10\n",
            " - 228s - loss: 0.2132 - accuracy: 0.9106 - f1: 0.9086 - precision: 0.9059 - recall: 0.9188 - val_loss: 0.2364 - val_accuracy: 0.9014 - val_f1: 0.9013 - val_precision: 0.8785 - val_recall: 0.9292\n",
            "\n",
            "Epoch 00005: val_accuracy improved from 0.89002 to 0.90144, saving model to /content/checkpoint/model_best_weights.05-0.9014.hdf5\n",
            "Epoch 6/10\n",
            " - 228s - loss: 0.1891 - accuracy: 0.9224 - f1: 0.9212 - precision: 0.9142 - recall: 0.9336 - val_loss: 0.2320 - val_accuracy: 0.9084 - val_f1: 0.9084 - val_precision: 0.8842 - val_recall: 0.9380\n",
            "\n",
            "Epoch 00006: val_accuracy improved from 0.90144 to 0.90835, saving model to /content/checkpoint/model_best_weights.06-0.9084.hdf5\n",
            "Epoch 7/10\n",
            " - 228s - loss: 0.1667 - accuracy: 0.9309 - f1: 0.9289 - precision: 0.9252 - recall: 0.9378 - val_loss: 0.2374 - val_accuracy: 0.9072 - val_f1: 0.9023 - val_precision: 0.9238 - val_recall: 0.8867\n",
            "\n",
            "Epoch 00007: val_accuracy did not improve from 0.90835\n",
            "Epoch 8/10\n",
            " - 229s - loss: 0.1588 - accuracy: 0.9348 - f1: 0.9328 - precision: 0.9289 - recall: 0.9412 - val_loss: 0.2263 - val_accuracy: 0.9105 - val_f1: 0.9095 - val_precision: 0.8919 - val_recall: 0.9322\n",
            "\n",
            "Epoch 00008: val_accuracy improved from 0.90835 to 0.91046, saving model to /content/checkpoint/model_best_weights.08-0.9105.hdf5\n",
            "Epoch 9/10\n",
            " - 229s - loss: 0.1280 - accuracy: 0.9470 - f1: 0.9460 - precision: 0.9419 - recall: 0.9537 - val_loss: 0.2409 - val_accuracy: 0.9053 - val_f1: 0.9013 - val_precision: 0.9113 - val_recall: 0.8961\n",
            "\n",
            "Epoch 00009: val_accuracy did not improve from 0.91046\n",
            "Epoch 10/10\n",
            " - 227s - loss: 0.1040 - accuracy: 0.9613 - f1: 0.9601 - precision: 0.9602 - recall: 0.9624 - val_loss: 0.2475 - val_accuracy: 0.9144 - val_f1: 0.9146 - val_precision: 0.8936 - val_recall: 0.9410\n",
            "\n",
            "Epoch 00010: val_accuracy improved from 0.91046 to 0.91436, saving model to /content/checkpoint/model_best_weights.10-0.9144.hdf5\n"
          ],
          "name": "stdout"
        },
        {
          "output_type": "execute_result",
          "data": {
            "text/plain": [
              "<keras.callbacks.callbacks.History at 0x7ff6ae449748>"
            ]
          },
          "metadata": {
            "tags": []
          },
          "execution_count": 22
        }
      ]
    },
    {
      "cell_type": "code",
      "metadata": {
        "id": "ilo7BLX__cb6",
        "colab_type": "code",
        "colab": {
          "base_uri": "https://localhost:8080/",
          "height": 68
        },
        "outputId": "6a904736-2656-4c41-a9d8-b86dd0bcd859"
      },
      "source": [
        "# Evaluate the model\n",
        "\n",
        "scores = model.evaluate(test_padded_sequences, y_test,\n",
        "                        batch_size=batch_size)\n",
        "print('Loss:', scores[0])\n",
        "print('Accuracy:', scores[1])"
      ],
      "execution_count": 24,
      "outputs": [
        {
          "output_type": "stream",
          "text": [
            "4992/4992 [==============================] - 9s 2ms/step\n",
            "Loss: 0.24642074818555743\n",
            "Accuracy: 0.9114583134651184\n"
          ],
          "name": "stdout"
        }
      ]
    },
    {
      "cell_type": "code",
      "metadata": {
        "id": "E-Upe--E_5zM",
        "colab_type": "code",
        "colab": {}
      },
      "source": [
        "model.save('/content/model.hdf5')"
      ],
      "execution_count": 0,
      "outputs": []
    }
  ]
}
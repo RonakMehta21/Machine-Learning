{
  "nbformat": 4,
  "nbformat_minor": 0,
  "metadata": {
    "colab": {
      "name": "weatherDataLoadFinal.ipynb",
      "provenance": [],
      "collapsed_sections": []
    },
    "kernelspec": {
      "name": "python3",
      "display_name": "Python 3"
    },
    "accelerator": "GPU"
  },
  "cells": [
    {
      "cell_type": "markdown",
      "metadata": {
        "id": "_wW12hALVQlp",
        "colab_type": "text"
      },
      "source": [
        "# Amalgamation of Data\n",
        "This notebook demonstrates the amalgamation of Time Series dataset, Weather dataset, Fire Station dataset, and the Fire dataset.\n",
        "\n",
        "[Global Historical Climatology Network Daily's](https://www.ncdc.noaa.gov/ghcnd-data-access) archived weather data was used from NOAA's National Centers for Environmental Information (NCEI) or formerly known as [NCDC](https://www.ncdc.noaa.gov/). The weather dataset was accessed using [FTP Access](ftp://ftp.ncdc.noaa.gov/pub/data/ghcn/daily/)\n",
        "\n",
        "Fire dataset was obtained from [Kaggle](https://www.kaggle.com/rtatman/188-million-us-wildfires) containing a spatial SQL database of wildfires that occurred in the United States from 1992 to 2015."
      ]
    },
    {
      "cell_type": "code",
      "metadata": {
        "id": "5rKto2fZygxi",
        "colab_type": "code",
        "colab": {}
      },
      "source": [
        "#Import necessary libraries\n",
        "import requests\n",
        "import pandas as pd"
      ],
      "execution_count": 0,
      "outputs": []
    },
    {
      "cell_type": "markdown",
      "metadata": {
        "id": "IwwjPtwscE2W",
        "colab_type": "text"
      },
      "source": [
        "Download the `Fire` Dataset\n",
        "\n"
      ]
    },
    {
      "cell_type": "code",
      "metadata": {
        "id": "xATI2IWZBusG",
        "colab_type": "code",
        "outputId": "a1dfdd65-09d1-4490-9a22-ad0c80828403",
        "colab": {
          "base_uri": "https://localhost:8080/",
          "height": 34
        }
      },
      "source": [
        "!pip install -U -q PyDrive\n",
        "from pydrive.auth import GoogleAuth\n",
        "from pydrive.drive import GoogleDrive\n",
        "from google.colab import auth\n",
        "from oauth2client.client import GoogleCredentials\n",
        "# Authenticate and create the PyDrive client.\n",
        "auth.authenticate_user()\n",
        "gauth = GoogleAuth()\n",
        "gauth.credentials = GoogleCredentials.get_application_default()\n",
        "drive = GoogleDrive(gauth)\n",
        "\n",
        "# Google drive link where the dataset is stored.\n",
        "link = 'https://drive.google.com/open?id=1ApRYxyMqnFKH8XW1GbQ-KZNJdbdeEdV9'\n",
        "fluff, id = link.split('=')\n",
        "print (id) # Verify that you have everything after '='\n",
        "\n",
        "# Download the fire dataset initially used for exploratory data analysis.\n",
        "downloaded = drive.CreateFile({'id':id}) \n",
        "downloaded.GetContentFile('Fire.csv')\n"
      ],
      "execution_count": 0,
      "outputs": [
        {
          "output_type": "stream",
          "text": [
            "1ApRYxyMqnFKH8XW1GbQ-KZNJdbdeEdV9\n"
          ],
          "name": "stdout"
        }
      ]
    },
    {
      "cell_type": "markdown",
      "metadata": {
        "id": "NRIzGwhVfXCF",
        "colab_type": "text"
      },
      "source": [
        "Download the `Fire Station` Dataset containing Fire Station's ID and their location."
      ]
    },
    {
      "cell_type": "code",
      "metadata": {
        "id": "o5GMqO98l-nv",
        "colab_type": "code",
        "outputId": "bec3ec7a-270c-4eb0-d995-464da67b7861",
        "colab": {
          "base_uri": "https://localhost:8080/",
          "height": 34
        }
      },
      "source": [
        "link = 'https://drive.google.com/open?id=1A7RNorqSglE-G8j5BacVsGYmE6eR4cwx'\n",
        "fluff, id = link.split('=')\n",
        "print (id) # Verify that you have everything after '='\n",
        "\n",
        "# To download the Fire Station\n",
        "downloaded = drive.CreateFile({'id':id}) \n",
        "downloaded.GetContentFile('ghcnd-stations.csv')"
      ],
      "execution_count": 0,
      "outputs": [
        {
          "output_type": "stream",
          "text": [
            "1A7RNorqSglE-G8j5BacVsGYmE6eR4cwx\n"
          ],
          "name": "stdout"
        }
      ]
    },
    {
      "cell_type": "code",
      "metadata": {
        "id": "wB6JTIqH2rCo",
        "colab_type": "code",
        "outputId": "a863c5da-bff2-447d-86e3-93a361da1cc9",
        "colab": {
          "base_uri": "https://localhost:8080/",
          "height": 34
        }
      },
      "source": [
        "# Change the range to the year interested to get the weather data.\n",
        "files = [str(x)+'.csv.gz' for x in range(2015,2016)]\n",
        "files"
      ],
      "execution_count": 0,
      "outputs": [
        {
          "output_type": "execute_result",
          "data": {
            "text/plain": [
              "['2015.csv.gz']"
            ]
          },
          "metadata": {
            "tags": []
          },
          "execution_count": 220
        }
      ]
    },
    {
      "cell_type": "code",
      "metadata": {
        "id": "1q2_371rJ8Oa",
        "colab_type": "code",
        "outputId": "50570f30-6565-4be9-d8fc-7c2a0a6236cb",
        "colab": {
          "base_uri": "https://localhost:8080/",
          "height": 51
        }
      },
      "source": [
        "#fetching data from ftp server for years from 2015 to 2016\n",
        "\n",
        "from ftplib import FTP\n",
        "from datetime import datetime\n",
        "\n",
        "start = datetime.now()\n",
        "ftp = FTP('ftp.ncdc.noaa.gov')\n",
        "ftp.login()\n",
        "ftp.cwd(\"pub/data/ghcn/daily/by_year/\")\n",
        "\n",
        "\n",
        "# Get All Files\n",
        "files = [str(x)+'.csv.gz' for x in range(2015,2016)]\n",
        "\n",
        "# Print out the files\n",
        "for file in files:\n",
        "\tprint(\"Downloading...\" + file)\n",
        "\tftp.retrbinary(\"RETR \" + file ,open(file, 'wb').write)\n",
        "\n",
        "ftp.close()\n",
        "\n",
        "end = datetime.now()\n",
        "diff = end - start\n",
        "print('All files downloaded for ' + str(diff.seconds) + 's')"
      ],
      "execution_count": 0,
      "outputs": [
        {
          "output_type": "stream",
          "text": [
            "Downloading...2015.csv.gz\n",
            "All files downloaded for 4s\n"
          ],
          "name": "stdout"
        }
      ]
    },
    {
      "cell_type": "markdown",
      "metadata": {
        "id": "8Y8V8Gd1gjk_",
        "colab_type": "text"
      },
      "source": [
        "Install Apache Spark, OpenJDK Development Kit(JDK), and Pyspark"
      ]
    },
    {
      "cell_type": "code",
      "metadata": {
        "id": "drRvwh6NYtzh",
        "colab_type": "code",
        "colab": {}
      },
      "source": [
        "!apt-get install openjdk-8-jdk-headless -qq > /dev/null\n",
        "!wget -q https://www-us.apache.org/dist/spark/spark-2.4.5/spark-2.4.5-bin-hadoop2.7.tgz\n",
        "!tar xf spark-2.4.5-bin-hadoop2.7.tgz\n",
        "!pip install -q findspark"
      ],
      "execution_count": 0,
      "outputs": []
    },
    {
      "cell_type": "code",
      "metadata": {
        "id": "941dXJgKcIos",
        "colab_type": "code",
        "outputId": "0332dc92-4d02-4c52-bfb5-2b0117fd4a95",
        "colab": {
          "base_uri": "https://localhost:8080/",
          "height": 258
        }
      },
      "source": [
        "!pip install pyspark\n",
        "import pyspark\n",
        "from pyspark import SparkContext\n",
        "from pyspark.sql import SQLContext\n",
        "from pyspark import SparkFiles\n",
        "import pyspark.sql.functions as func"
      ],
      "execution_count": 0,
      "outputs": [
        {
          "output_type": "stream",
          "text": [
            "Collecting pyspark\n",
            "\u001b[?25l  Downloading https://files.pythonhosted.org/packages/9a/5a/271c416c1c2185b6cb0151b29a91fff6fcaed80173c8584ff6d20e46b465/pyspark-2.4.5.tar.gz (217.8MB)\n",
            "\u001b[K     |████████████████████████████████| 217.8MB 63kB/s \n",
            "\u001b[?25hCollecting py4j==0.10.7\n",
            "\u001b[?25l  Downloading https://files.pythonhosted.org/packages/e3/53/c737818eb9a7dc32a7cd4f1396e787bd94200c3997c72c1dbe028587bd76/py4j-0.10.7-py2.py3-none-any.whl (197kB)\n",
            "\u001b[K     |████████████████████████████████| 204kB 47.2MB/s \n",
            "\u001b[?25hBuilding wheels for collected packages: pyspark\n",
            "  Building wheel for pyspark (setup.py) ... \u001b[?25l\u001b[?25hdone\n",
            "  Created wheel for pyspark: filename=pyspark-2.4.5-py2.py3-none-any.whl size=218257927 sha256=593b7549dd37261f99265b6caa1fb9145e5f327cf823ee53fe61f3088b1d50b8\n",
            "  Stored in directory: /root/.cache/pip/wheels/bf/db/04/61d66a5939364e756eb1c1be4ec5bdce6e04047fc7929a3c3c\n",
            "Successfully built pyspark\n",
            "Installing collected packages: py4j, pyspark\n",
            "Successfully installed py4j-0.10.7 pyspark-2.4.5\n"
          ],
          "name": "stdout"
        }
      ]
    },
    {
      "cell_type": "code",
      "metadata": {
        "id": "vF8vg5-GbEIq",
        "colab_type": "code",
        "colab": {}
      },
      "source": [
        "import os\n",
        "os.environ[\"JAVA_HOME\"] = \"/usr/lib/jvm/java-8-openjdk-amd64\"\n",
        "os.environ[\"SPARK_HOME\"] = \"/content/spark-2.4.5-bin-hadoop2.7\""
      ],
      "execution_count": 0,
      "outputs": []
    },
    {
      "cell_type": "markdown",
      "metadata": {
        "id": "6JS0c9UJhgZC",
        "colab_type": "text"
      },
      "source": [
        "Generating spark contect and sessions to consume our datasets."
      ]
    },
    {
      "cell_type": "code",
      "metadata": {
        "id": "_DWRv7jMfp4s",
        "colab_type": "code",
        "colab": {}
      },
      "source": [
        "from pyspark.sql import SparkSession\n",
        "spark = SparkSession \\\n",
        "        .builder \\\n",
        "        .appName(\"gfcj\") \\\n",
        "        .getOrCreate()"
      ],
      "execution_count": 0,
      "outputs": []
    },
    {
      "cell_type": "markdown",
      "metadata": {
        "id": "6-CNQ-pthlhD",
        "colab_type": "text"
      },
      "source": [
        "Adding all the files to spark context to spread them into rdd and perform faster execution on huge dataset."
      ]
    },
    {
      "cell_type": "code",
      "metadata": {
        "id": "c2abOIlAbikp",
        "colab_type": "code",
        "colab": {}
      },
      "source": [
        "sc=SparkContext.getOrCreate()\n",
        "\n",
        "for file in files:\n",
        "  sc.addFile(file)"
      ],
      "execution_count": 0,
      "outputs": []
    },
    {
      "cell_type": "code",
      "metadata": {
        "id": "AzXpcXHhbBcG",
        "colab_type": "code",
        "colab": {}
      },
      "source": [
        "sqlContext = SQLContext(sc)\n",
        "sqlContext\n",
        "# df = sqlContext.read.csv(SparkFiles.get(files), header=True, inferSchema= True)\n",
        "# df.printSchema()\n",
        "\n",
        "spark.read.format(\"csv\").option(\"header\", \"true\").load(\"*.csv.gz\")\n",
        "df=spark.read.option(\"header\", \"false\").csv(\"*.csv.gz\")"
      ],
      "execution_count": 0,
      "outputs": []
    },
    {
      "cell_type": "code",
      "metadata": {
        "id": "972gSaH7bUgc",
        "colab_type": "code",
        "outputId": "34730f93-f877-4e7c-9e8f-8a2cae0b7149",
        "colab": {
          "base_uri": "https://localhost:8080/",
          "height": 187
        }
      },
      "source": [
        "df.printSchema()"
      ],
      "execution_count": 0,
      "outputs": [
        {
          "output_type": "stream",
          "text": [
            "root\n",
            " |-- _c0: string (nullable = true)\n",
            " |-- _c1: string (nullable = true)\n",
            " |-- _c2: string (nullable = true)\n",
            " |-- _c3: string (nullable = true)\n",
            " |-- _c4: string (nullable = true)\n",
            " |-- _c5: string (nullable = true)\n",
            " |-- _c6: string (nullable = true)\n",
            " |-- _c7: string (nullable = true)\n",
            "\n"
          ],
          "name": "stdout"
        }
      ]
    },
    {
      "cell_type": "code",
      "metadata": {
        "id": "4KssyH6nhRUY",
        "colab_type": "code",
        "outputId": "de71fb19-33f5-40aa-e568-e4be751d0d03",
        "colab": {
          "base_uri": "https://localhost:8080/",
          "height": 204
        }
      },
      "source": [
        "df.show(5)"
      ],
      "execution_count": 0,
      "outputs": [
        {
          "output_type": "stream",
          "text": [
            "+-----------+--------+----+----+----+----+---+----+\n",
            "|        _c0|     _c1| _c2| _c3| _c4| _c5|_c6| _c7|\n",
            "+-----------+--------+----+----+----+----+---+----+\n",
            "|US1FLSL0019|20150101|PRCP| 173|null|null|  N|null|\n",
            "|US1TXTV0133|20150101|PRCP| 119|null|null|  N|null|\n",
            "|USC00178998|20150101|TMAX| -33|null|null|  7|0700|\n",
            "|USC00178998|20150101|TMIN|-167|null|null|  7|0700|\n",
            "|USC00178998|20150101|TOBS| -67|null|null|  7|0700|\n",
            "+-----------+--------+----+----+----+----+---+----+\n",
            "only showing top 5 rows\n",
            "\n"
          ],
          "name": "stdout"
        }
      ]
    },
    {
      "cell_type": "markdown",
      "metadata": {
        "id": "bBMsPAOjhyrF",
        "colab_type": "text"
      },
      "source": [
        "Adding Fire-Station Dataset to Spark Context"
      ]
    },
    {
      "cell_type": "code",
      "metadata": {
        "id": "A12tIlfLhszO",
        "colab_type": "code",
        "colab": {}
      },
      "source": [
        "sc.addFile('ghcnd-stations.csv')"
      ],
      "execution_count": 0,
      "outputs": []
    },
    {
      "cell_type": "markdown",
      "metadata": {
        "id": "d887TItBh8R8",
        "colab_type": "text"
      },
      "source": [
        "Converting the CSV file into Spark Dataframe"
      ]
    },
    {
      "cell_type": "code",
      "metadata": {
        "id": "Dm6K46Z0xwSG",
        "colab_type": "code",
        "colab": {}
      },
      "source": [
        "df2=spark.read.option(\"header\", \"true\").csv('ghcnd-stations.csv')"
      ],
      "execution_count": 0,
      "outputs": []
    },
    {
      "cell_type": "code",
      "metadata": {
        "id": "OQFENBQDx-lC",
        "colab_type": "code",
        "outputId": "ec929665-0dc1-461e-d668-1e5ac5b02f2d",
        "colab": {
          "base_uri": "https://localhost:8080/",
          "height": 34
        }
      },
      "source": [
        "df2"
      ],
      "execution_count": 0,
      "outputs": [
        {
          "output_type": "execute_result",
          "data": {
            "text/plain": [
              "DataFrame[id: string, lat: string, long: string, _c3: string, _c4: string, _c5: string]"
            ]
          },
          "metadata": {
            "tags": []
          },
          "execution_count": 230
        }
      ]
    },
    {
      "cell_type": "markdown",
      "metadata": {
        "id": "Fw29VoBXiEK_",
        "colab_type": "text"
      },
      "source": [
        "Displaying the first five records"
      ]
    },
    {
      "cell_type": "code",
      "metadata": {
        "id": "XAafATiYx_KP",
        "colab_type": "code",
        "outputId": "aa966e19-40b2-43ca-9d76-a67c9e06b3c4",
        "colab": {
          "base_uri": "https://localhost:8080/",
          "height": 204
        }
      },
      "source": [
        "df.show(5)"
      ],
      "execution_count": 0,
      "outputs": [
        {
          "output_type": "stream",
          "text": [
            "+-----------+--------+----+----+----+----+---+----+\n",
            "|        _c0|     _c1| _c2| _c3| _c4| _c5|_c6| _c7|\n",
            "+-----------+--------+----+----+----+----+---+----+\n",
            "|US1FLSL0019|20150101|PRCP| 173|null|null|  N|null|\n",
            "|US1TXTV0133|20150101|PRCP| 119|null|null|  N|null|\n",
            "|USC00178998|20150101|TMAX| -33|null|null|  7|0700|\n",
            "|USC00178998|20150101|TMIN|-167|null|null|  7|0700|\n",
            "|USC00178998|20150101|TOBS| -67|null|null|  7|0700|\n",
            "+-----------+--------+----+----+----+----+---+----+\n",
            "only showing top 5 rows\n",
            "\n"
          ],
          "name": "stdout"
        }
      ]
    },
    {
      "cell_type": "code",
      "metadata": {
        "id": "t-fqNpPAyFOC",
        "colab_type": "code",
        "outputId": "e30e5770-bafd-4949-c688-24166552f55b",
        "colab": {
          "base_uri": "https://localhost:8080/",
          "height": 204
        }
      },
      "source": [
        "df2.show(5)"
      ],
      "execution_count": 0,
      "outputs": [
        {
          "output_type": "stream",
          "text": [
            "+-----------+-------+--------+----+----+----+\n",
            "|         id|    lat|    long| _c3| _c4| _c5|\n",
            "+-----------+-------+--------+----+----+----+\n",
            "|ACW00011604|17.1167|-61.7833|null|null|null|\n",
            "|ACW00011647|17.1333|-61.7833|null|null|null|\n",
            "|AE000041196| 25.333|  55.517|null|null|null|\n",
            "|AEM00041194| 25.255|  55.364|null|null|null|\n",
            "|AEM00041217| 24.433|  54.651|null|null|null|\n",
            "+-----------+-------+--------+----+----+----+\n",
            "only showing top 5 rows\n",
            "\n"
          ],
          "name": "stdout"
        }
      ]
    },
    {
      "cell_type": "code",
      "metadata": {
        "id": "rjCNW15fyvdH",
        "colab_type": "code",
        "colab": {}
      },
      "source": [
        "# Renaming the headers\n",
        "data=df.selectExpr('_c0 as id','_c1 as date','_c2 as type','_c3 as value')"
      ],
      "execution_count": 0,
      "outputs": []
    },
    {
      "cell_type": "code",
      "metadata": {
        "id": "VzhUCvkT0kUS",
        "colab_type": "code",
        "outputId": "7ca7499a-7f7a-4546-c1f1-e9bbca0efa1d",
        "colab": {
          "base_uri": "https://localhost:8080/",
          "height": 459
        }
      },
      "source": [
        "data.show()"
      ],
      "execution_count": 0,
      "outputs": [
        {
          "output_type": "stream",
          "text": [
            "+-----------+--------+----+-----+\n",
            "|         id|    date|type|value|\n",
            "+-----------+--------+----+-----+\n",
            "|US1FLSL0019|20150101|PRCP|  173|\n",
            "|US1TXTV0133|20150101|PRCP|  119|\n",
            "|USC00178998|20150101|TMAX|  -33|\n",
            "|USC00178998|20150101|TMIN| -167|\n",
            "|USC00178998|20150101|TOBS|  -67|\n",
            "|USC00178998|20150101|PRCP|    0|\n",
            "|USC00178998|20150101|SNOW|    0|\n",
            "|USC00178998|20150101|SNWD|    0|\n",
            "|NOE00133566|20150101|TMAX|   90|\n",
            "|NOE00133566|20150101|TMIN|   44|\n",
            "|NOE00133566|20150101|PRCP|   19|\n",
            "|NOE00133566|20150101|SNWD|   40|\n",
            "|USC00141761|20150101|TMAX|  -83|\n",
            "|USC00141761|20150101|TMIN| -183|\n",
            "|USC00141761|20150101|TOBS| -122|\n",
            "|USC00141761|20150101|PRCP|    0|\n",
            "|USC00141761|20150101|SNOW|    0|\n",
            "|USC00141761|20150101|SNWD|    0|\n",
            "|USS0018D08S|20150101|TMAX|   -8|\n",
            "|USS0018D08S|20150101|TMIN| -130|\n",
            "+-----------+--------+----+-----+\n",
            "only showing top 20 rows\n",
            "\n"
          ],
          "name": "stdout"
        }
      ]
    },
    {
      "cell_type": "code",
      "metadata": {
        "id": "n2naBB3M7nA2",
        "colab_type": "code",
        "outputId": "ae189228-c6d7-4378-cc8a-2e7f9941a314",
        "colab": {
          "base_uri": "https://localhost:8080/",
          "height": 153
        }
      },
      "source": [
        "df2.show(2)"
      ],
      "execution_count": 0,
      "outputs": [
        {
          "output_type": "stream",
          "text": [
            "+-----------+-------+--------+----+----+----+\n",
            "|         id|    lat|    long| _c3| _c4| _c5|\n",
            "+-----------+-------+--------+----+----+----+\n",
            "|ACW00011604|17.1167|-61.7833|null|null|null|\n",
            "|ACW00011647|17.1333|-61.7833|null|null|null|\n",
            "+-----------+-------+--------+----+----+----+\n",
            "only showing top 2 rows\n",
            "\n"
          ],
          "name": "stdout"
        }
      ]
    },
    {
      "cell_type": "markdown",
      "metadata": {
        "id": "h0BxKv_1ie1d",
        "colab_type": "text"
      },
      "source": [
        "Performing an Inner join on ID"
      ]
    },
    {
      "cell_type": "code",
      "metadata": {
        "id": "0OuauQzi0oGK",
        "colab_type": "code",
        "colab": {}
      },
      "source": [
        "final_df = data.join(df2, on=['id'], how='inner')"
      ],
      "execution_count": 0,
      "outputs": []
    },
    {
      "cell_type": "code",
      "metadata": {
        "id": "IQ1EFTzM06I8",
        "colab_type": "code",
        "colab": {}
      },
      "source": [
        "final_df=final_df.selectExpr('id','lat as LATITUDE','long as LONGITUDE','date','type','value')"
      ],
      "execution_count": 0,
      "outputs": []
    },
    {
      "cell_type": "code",
      "metadata": {
        "id": "v_Cn4KLt07DQ",
        "colab_type": "code",
        "colab": {}
      },
      "source": [
        "final_df.registerTempTable(\"temperature\")"
      ],
      "execution_count": 0,
      "outputs": []
    },
    {
      "cell_type": "markdown",
      "metadata": {
        "id": "vAZ2tphiilLx",
        "colab_type": "text"
      },
      "source": [
        "Converting the Timestamp into Julian date format and add Month and Weekday to the dataset."
      ]
    },
    {
      "cell_type": "code",
      "metadata": {
        "id": "Km5GkQxI-ClH",
        "colab_type": "code",
        "outputId": "b262e585-2548-46aa-95bd-65ba97eff860",
        "colab": {
          "base_uri": "https://localhost:8080/",
          "height": 71
        }
      },
      "source": [
        "df=pd.read_csv('Fire.csv')\n",
        "\n",
        "df['disc_clean_date'] = pd.to_datetime(df['DISCOVERY_DATE'] - pd.Timestamp(0).to_julian_date(), unit='D')\n",
        "#Convert containment date from julian to standard date\n",
        "df['cont_clean_date'] = pd.to_datetime(df['CONT_DATE'] - pd.Timestamp(0).to_julian_date(), unit='D')\n",
        "# Day of month string\n",
        "df['discovery_month'] = df['disc_clean_date'].dt.strftime('%b')\n",
        "#Returns the weekday string\n",
        "df['discovery_weekday'] = df['disc_clean_date'].dt.strftime('%a')\n",
        "#Merge discovery date and time \n"
      ],
      "execution_count": 0,
      "outputs": [
        {
          "output_type": "stream",
          "text": [
            "/usr/local/lib/python3.6/dist-packages/IPython/core/interactiveshell.py:2718: DtypeWarning: Columns (9,11,12,13,14,15,16,17,18,19,36,38) have mixed types.Specify dtype option on import or set low_memory=False.\n",
            "  interactivity=interactivity, compiler=compiler, result=result)\n"
          ],
          "name": "stderr"
        }
      ]
    },
    {
      "cell_type": "code",
      "metadata": {
        "id": "OKKqwAQwdpq5",
        "colab_type": "code",
        "outputId": "423f4ec4-f5b7-4990-f612-56034e967b28",
        "colab": {
          "base_uri": "https://localhost:8080/",
          "height": 507
        }
      },
      "source": [
        "df"
      ],
      "execution_count": 0,
      "outputs": [
        {
          "output_type": "execute_result",
          "data": {
            "text/html": [
              "<div>\n",
              "<style scoped>\n",
              "    .dataframe tbody tr th:only-of-type {\n",
              "        vertical-align: middle;\n",
              "    }\n",
              "\n",
              "    .dataframe tbody tr th {\n",
              "        vertical-align: top;\n",
              "    }\n",
              "\n",
              "    .dataframe thead th {\n",
              "        text-align: right;\n",
              "    }\n",
              "</style>\n",
              "<table border=\"1\" class=\"dataframe\">\n",
              "  <thead>\n",
              "    <tr style=\"text-align: right;\">\n",
              "      <th></th>\n",
              "      <th>Unnamed: 0</th>\n",
              "      <th>OBJECTID</th>\n",
              "      <th>FOD_ID</th>\n",
              "      <th>FPA_ID</th>\n",
              "      <th>SOURCE_SYSTEM_TYPE</th>\n",
              "      <th>SOURCE_SYSTEM</th>\n",
              "      <th>NWCG_REPORTING_AGENCY</th>\n",
              "      <th>NWCG_REPORTING_UNIT_ID</th>\n",
              "      <th>NWCG_REPORTING_UNIT_NAME</th>\n",
              "      <th>SOURCE_REPORTING_UNIT</th>\n",
              "      <th>SOURCE_REPORTING_UNIT_NAME</th>\n",
              "      <th>LOCAL_FIRE_REPORT_ID</th>\n",
              "      <th>LOCAL_INCIDENT_ID</th>\n",
              "      <th>FIRE_CODE</th>\n",
              "      <th>FIRE_NAME</th>\n",
              "      <th>ICS_209_INCIDENT_NUMBER</th>\n",
              "      <th>ICS_209_NAME</th>\n",
              "      <th>MTBS_ID</th>\n",
              "      <th>MTBS_FIRE_NAME</th>\n",
              "      <th>COMPLEX_NAME</th>\n",
              "      <th>FIRE_YEAR</th>\n",
              "      <th>DISCOVERY_DATE</th>\n",
              "      <th>DISCOVERY_DOY</th>\n",
              "      <th>DISCOVERY_TIME</th>\n",
              "      <th>STAT_CAUSE_CODE</th>\n",
              "      <th>STAT_CAUSE_DESCR</th>\n",
              "      <th>CONT_DATE</th>\n",
              "      <th>CONT_DOY</th>\n",
              "      <th>CONT_TIME</th>\n",
              "      <th>FIRE_SIZE</th>\n",
              "      <th>FIRE_SIZE_CLASS</th>\n",
              "      <th>LATITUDE</th>\n",
              "      <th>LONGITUDE</th>\n",
              "      <th>OWNER_CODE</th>\n",
              "      <th>OWNER_DESCR</th>\n",
              "      <th>STATE</th>\n",
              "      <th>COUNTY</th>\n",
              "      <th>FIPS_CODE</th>\n",
              "      <th>FIPS_NAME</th>\n",
              "      <th>Shape</th>\n",
              "      <th>disc_clean_date</th>\n",
              "      <th>cont_clean_date</th>\n",
              "      <th>discovery_month</th>\n",
              "      <th>discovery_weekday</th>\n",
              "    </tr>\n",
              "  </thead>\n",
              "  <tbody>\n",
              "    <tr>\n",
              "      <th>0</th>\n",
              "      <td>0</td>\n",
              "      <td>1</td>\n",
              "      <td>1</td>\n",
              "      <td>FS-1418826</td>\n",
              "      <td>FED</td>\n",
              "      <td>FS-FIRESTAT</td>\n",
              "      <td>FS</td>\n",
              "      <td>USCAPNF</td>\n",
              "      <td>Plumas National Forest</td>\n",
              "      <td>511</td>\n",
              "      <td>Plumas National Forest</td>\n",
              "      <td>1</td>\n",
              "      <td>PNF-47</td>\n",
              "      <td>BJ8K</td>\n",
              "      <td>FOUNTAIN</td>\n",
              "      <td>NaN</td>\n",
              "      <td>NaN</td>\n",
              "      <td>NaN</td>\n",
              "      <td>NaN</td>\n",
              "      <td>NaN</td>\n",
              "      <td>2005</td>\n",
              "      <td>2453403.5</td>\n",
              "      <td>33</td>\n",
              "      <td>1300.0</td>\n",
              "      <td>9.0</td>\n",
              "      <td>Miscellaneous</td>\n",
              "      <td>2453403.5</td>\n",
              "      <td>33.0</td>\n",
              "      <td>1730.0</td>\n",
              "      <td>0.10</td>\n",
              "      <td>A</td>\n",
              "      <td>40.036944</td>\n",
              "      <td>-121.005833</td>\n",
              "      <td>5.0</td>\n",
              "      <td>USFS</td>\n",
              "      <td>CA</td>\n",
              "      <td>63</td>\n",
              "      <td>63.0</td>\n",
              "      <td>Plumas</td>\n",
              "      <td>b'\\x00\\x01\\xad\\x10\\x00\\x00\\xe8d\\xc2\\x92_@^\\xc0...</td>\n",
              "      <td>2005-02-02</td>\n",
              "      <td>2005-02-02</td>\n",
              "      <td>Feb</td>\n",
              "      <td>Wed</td>\n",
              "    </tr>\n",
              "    <tr>\n",
              "      <th>1</th>\n",
              "      <td>1</td>\n",
              "      <td>2</td>\n",
              "      <td>2</td>\n",
              "      <td>FS-1418827</td>\n",
              "      <td>FED</td>\n",
              "      <td>FS-FIRESTAT</td>\n",
              "      <td>FS</td>\n",
              "      <td>USCAENF</td>\n",
              "      <td>Eldorado National Forest</td>\n",
              "      <td>503</td>\n",
              "      <td>Eldorado National Forest</td>\n",
              "      <td>13</td>\n",
              "      <td>13</td>\n",
              "      <td>AAC0</td>\n",
              "      <td>PIGEON</td>\n",
              "      <td>NaN</td>\n",
              "      <td>NaN</td>\n",
              "      <td>NaN</td>\n",
              "      <td>NaN</td>\n",
              "      <td>NaN</td>\n",
              "      <td>2004</td>\n",
              "      <td>2453137.5</td>\n",
              "      <td>133</td>\n",
              "      <td>845.0</td>\n",
              "      <td>1.0</td>\n",
              "      <td>Lightning</td>\n",
              "      <td>2453137.5</td>\n",
              "      <td>133.0</td>\n",
              "      <td>1530.0</td>\n",
              "      <td>0.25</td>\n",
              "      <td>A</td>\n",
              "      <td>38.933056</td>\n",
              "      <td>-120.404444</td>\n",
              "      <td>5.0</td>\n",
              "      <td>USFS</td>\n",
              "      <td>CA</td>\n",
              "      <td>61</td>\n",
              "      <td>61.0</td>\n",
              "      <td>Placer</td>\n",
              "      <td>b'\\x00\\x01\\xad\\x10\\x00\\x00T\\xb6\\xeej\\xe2\\x19^\\...</td>\n",
              "      <td>2004-05-12</td>\n",
              "      <td>2004-05-12</td>\n",
              "      <td>May</td>\n",
              "      <td>Wed</td>\n",
              "    </tr>\n",
              "    <tr>\n",
              "      <th>2</th>\n",
              "      <td>2</td>\n",
              "      <td>3</td>\n",
              "      <td>3</td>\n",
              "      <td>FS-1418835</td>\n",
              "      <td>FED</td>\n",
              "      <td>FS-FIRESTAT</td>\n",
              "      <td>FS</td>\n",
              "      <td>USCAENF</td>\n",
              "      <td>Eldorado National Forest</td>\n",
              "      <td>503</td>\n",
              "      <td>Eldorado National Forest</td>\n",
              "      <td>27</td>\n",
              "      <td>021</td>\n",
              "      <td>A32W</td>\n",
              "      <td>SLACK</td>\n",
              "      <td>NaN</td>\n",
              "      <td>NaN</td>\n",
              "      <td>NaN</td>\n",
              "      <td>NaN</td>\n",
              "      <td>NaN</td>\n",
              "      <td>2004</td>\n",
              "      <td>2453156.5</td>\n",
              "      <td>152</td>\n",
              "      <td>1921.0</td>\n",
              "      <td>5.0</td>\n",
              "      <td>Debris Burning</td>\n",
              "      <td>2453156.5</td>\n",
              "      <td>152.0</td>\n",
              "      <td>2024.0</td>\n",
              "      <td>0.10</td>\n",
              "      <td>A</td>\n",
              "      <td>38.984167</td>\n",
              "      <td>-120.735556</td>\n",
              "      <td>13.0</td>\n",
              "      <td>STATE OR PRIVATE</td>\n",
              "      <td>CA</td>\n",
              "      <td>17</td>\n",
              "      <td>17.0</td>\n",
              "      <td>El Dorado</td>\n",
              "      <td>b'\\x00\\x01\\xad\\x10\\x00\\x00\\xd0\\xa5\\xa0W\\x13/^\\...</td>\n",
              "      <td>2004-05-31</td>\n",
              "      <td>2004-05-31</td>\n",
              "      <td>May</td>\n",
              "      <td>Mon</td>\n",
              "    </tr>\n",
              "    <tr>\n",
              "      <th>3</th>\n",
              "      <td>3</td>\n",
              "      <td>4</td>\n",
              "      <td>4</td>\n",
              "      <td>FS-1418845</td>\n",
              "      <td>FED</td>\n",
              "      <td>FS-FIRESTAT</td>\n",
              "      <td>FS</td>\n",
              "      <td>USCAENF</td>\n",
              "      <td>Eldorado National Forest</td>\n",
              "      <td>503</td>\n",
              "      <td>Eldorado National Forest</td>\n",
              "      <td>43</td>\n",
              "      <td>6</td>\n",
              "      <td>NaN</td>\n",
              "      <td>DEER</td>\n",
              "      <td>NaN</td>\n",
              "      <td>NaN</td>\n",
              "      <td>NaN</td>\n",
              "      <td>NaN</td>\n",
              "      <td>NaN</td>\n",
              "      <td>2004</td>\n",
              "      <td>2453184.5</td>\n",
              "      <td>180</td>\n",
              "      <td>1600.0</td>\n",
              "      <td>1.0</td>\n",
              "      <td>Lightning</td>\n",
              "      <td>2453189.5</td>\n",
              "      <td>185.0</td>\n",
              "      <td>1400.0</td>\n",
              "      <td>0.10</td>\n",
              "      <td>A</td>\n",
              "      <td>38.559167</td>\n",
              "      <td>-119.913333</td>\n",
              "      <td>5.0</td>\n",
              "      <td>USFS</td>\n",
              "      <td>CA</td>\n",
              "      <td>3</td>\n",
              "      <td>3.0</td>\n",
              "      <td>Alpine</td>\n",
              "      <td>b'\\x00\\x01\\xad\\x10\\x00\\x00\\x94\\xac\\xa3\\rt\\xfa]...</td>\n",
              "      <td>2004-06-28</td>\n",
              "      <td>2004-07-03</td>\n",
              "      <td>Jun</td>\n",
              "      <td>Mon</td>\n",
              "    </tr>\n",
              "    <tr>\n",
              "      <th>4</th>\n",
              "      <td>4</td>\n",
              "      <td>5</td>\n",
              "      <td>5</td>\n",
              "      <td>FS-1418847</td>\n",
              "      <td>FED</td>\n",
              "      <td>FS-FIRESTAT</td>\n",
              "      <td>FS</td>\n",
              "      <td>USCAENF</td>\n",
              "      <td>Eldorado National Forest</td>\n",
              "      <td>503</td>\n",
              "      <td>Eldorado National Forest</td>\n",
              "      <td>44</td>\n",
              "      <td>7</td>\n",
              "      <td>NaN</td>\n",
              "      <td>STEVENOT</td>\n",
              "      <td>NaN</td>\n",
              "      <td>NaN</td>\n",
              "      <td>NaN</td>\n",
              "      <td>NaN</td>\n",
              "      <td>NaN</td>\n",
              "      <td>2004</td>\n",
              "      <td>2453184.5</td>\n",
              "      <td>180</td>\n",
              "      <td>1600.0</td>\n",
              "      <td>1.0</td>\n",
              "      <td>Lightning</td>\n",
              "      <td>2453189.5</td>\n",
              "      <td>185.0</td>\n",
              "      <td>1200.0</td>\n",
              "      <td>0.10</td>\n",
              "      <td>A</td>\n",
              "      <td>38.559167</td>\n",
              "      <td>-119.933056</td>\n",
              "      <td>5.0</td>\n",
              "      <td>USFS</td>\n",
              "      <td>CA</td>\n",
              "      <td>3</td>\n",
              "      <td>3.0</td>\n",
              "      <td>Alpine</td>\n",
              "      <td>b'\\x00\\x01\\xad\\x10\\x00\\x00@\\xe3\\xaa.\\xb7\\xfb]\\...</td>\n",
              "      <td>2004-06-28</td>\n",
              "      <td>2004-07-03</td>\n",
              "      <td>Jun</td>\n",
              "      <td>Mon</td>\n",
              "    </tr>\n",
              "    <tr>\n",
              "      <th>...</th>\n",
              "      <td>...</td>\n",
              "      <td>...</td>\n",
              "      <td>...</td>\n",
              "      <td>...</td>\n",
              "      <td>...</td>\n",
              "      <td>...</td>\n",
              "      <td>...</td>\n",
              "      <td>...</td>\n",
              "      <td>...</td>\n",
              "      <td>...</td>\n",
              "      <td>...</td>\n",
              "      <td>...</td>\n",
              "      <td>...</td>\n",
              "      <td>...</td>\n",
              "      <td>...</td>\n",
              "      <td>...</td>\n",
              "      <td>...</td>\n",
              "      <td>...</td>\n",
              "      <td>...</td>\n",
              "      <td>...</td>\n",
              "      <td>...</td>\n",
              "      <td>...</td>\n",
              "      <td>...</td>\n",
              "      <td>...</td>\n",
              "      <td>...</td>\n",
              "      <td>...</td>\n",
              "      <td>...</td>\n",
              "      <td>...</td>\n",
              "      <td>...</td>\n",
              "      <td>...</td>\n",
              "      <td>...</td>\n",
              "      <td>...</td>\n",
              "      <td>...</td>\n",
              "      <td>...</td>\n",
              "      <td>...</td>\n",
              "      <td>...</td>\n",
              "      <td>...</td>\n",
              "      <td>...</td>\n",
              "      <td>...</td>\n",
              "      <td>...</td>\n",
              "      <td>...</td>\n",
              "      <td>...</td>\n",
              "      <td>...</td>\n",
              "      <td>...</td>\n",
              "    </tr>\n",
              "    <tr>\n",
              "      <th>1880460</th>\n",
              "      <td>1880460</td>\n",
              "      <td>1880461</td>\n",
              "      <td>300348363</td>\n",
              "      <td>2015CAIRS29019636</td>\n",
              "      <td>NONFED</td>\n",
              "      <td>ST-CACDF</td>\n",
              "      <td>ST/C&amp;L</td>\n",
              "      <td>USCASHU</td>\n",
              "      <td>Shasta-Trinity Unit</td>\n",
              "      <td>CASHU</td>\n",
              "      <td>Shasta-Trinity Unit</td>\n",
              "      <td>591814</td>\n",
              "      <td>009371</td>\n",
              "      <td>NaN</td>\n",
              "      <td>ODESSA 2</td>\n",
              "      <td>NaN</td>\n",
              "      <td>NaN</td>\n",
              "      <td>NaN</td>\n",
              "      <td>NaN</td>\n",
              "      <td>NaN</td>\n",
              "      <td>2015</td>\n",
              "      <td>2457291.5</td>\n",
              "      <td>269</td>\n",
              "      <td>1726.0</td>\n",
              "      <td>13.0</td>\n",
              "      <td>Missing/Undefined</td>\n",
              "      <td>2457291.5</td>\n",
              "      <td>269.0</td>\n",
              "      <td>1843.0</td>\n",
              "      <td>0.01</td>\n",
              "      <td>A</td>\n",
              "      <td>40.481637</td>\n",
              "      <td>-122.389375</td>\n",
              "      <td>13.0</td>\n",
              "      <td>STATE OR PRIVATE</td>\n",
              "      <td>CA</td>\n",
              "      <td>NaN</td>\n",
              "      <td>NaN</td>\n",
              "      <td>NaN</td>\n",
              "      <td>b'\\x00\\x01\\xad\\x10\\x00\\x00P\\xb8\\x1e\\x85\\xeb\\x9...</td>\n",
              "      <td>2015-09-26</td>\n",
              "      <td>2015-09-26</td>\n",
              "      <td>Sep</td>\n",
              "      <td>Sat</td>\n",
              "    </tr>\n",
              "    <tr>\n",
              "      <th>1880461</th>\n",
              "      <td>1880461</td>\n",
              "      <td>1880462</td>\n",
              "      <td>300348373</td>\n",
              "      <td>2015CAIRS29217935</td>\n",
              "      <td>NONFED</td>\n",
              "      <td>ST-CACDF</td>\n",
              "      <td>ST/C&amp;L</td>\n",
              "      <td>USCATCU</td>\n",
              "      <td>Tuolumne-Calaveras Unit</td>\n",
              "      <td>CATCU</td>\n",
              "      <td>Tuolumne-Calaveras Unit</td>\n",
              "      <td>569419</td>\n",
              "      <td>000366</td>\n",
              "      <td>NaN</td>\n",
              "      <td>NaN</td>\n",
              "      <td>NaN</td>\n",
              "      <td>NaN</td>\n",
              "      <td>NaN</td>\n",
              "      <td>NaN</td>\n",
              "      <td>NaN</td>\n",
              "      <td>2015</td>\n",
              "      <td>2457300.5</td>\n",
              "      <td>278</td>\n",
              "      <td>126.0</td>\n",
              "      <td>9.0</td>\n",
              "      <td>Miscellaneous</td>\n",
              "      <td>NaN</td>\n",
              "      <td>NaN</td>\n",
              "      <td>NaN</td>\n",
              "      <td>0.20</td>\n",
              "      <td>A</td>\n",
              "      <td>37.617619</td>\n",
              "      <td>-120.938570</td>\n",
              "      <td>12.0</td>\n",
              "      <td>MUNICIPAL/LOCAL</td>\n",
              "      <td>CA</td>\n",
              "      <td>NaN</td>\n",
              "      <td>NaN</td>\n",
              "      <td>NaN</td>\n",
              "      <td>b'\\x00\\x01\\xad\\x10\\x00\\x00\\x00\\x80\\xbe\\x88\\x11...</td>\n",
              "      <td>2015-10-05</td>\n",
              "      <td>NaT</td>\n",
              "      <td>Oct</td>\n",
              "      <td>Mon</td>\n",
              "    </tr>\n",
              "    <tr>\n",
              "      <th>1880462</th>\n",
              "      <td>1880462</td>\n",
              "      <td>1880463</td>\n",
              "      <td>300348375</td>\n",
              "      <td>2015CAIRS28364460</td>\n",
              "      <td>NONFED</td>\n",
              "      <td>ST-CACDF</td>\n",
              "      <td>ST/C&amp;L</td>\n",
              "      <td>USCATCU</td>\n",
              "      <td>Tuolumne-Calaveras Unit</td>\n",
              "      <td>CATCU</td>\n",
              "      <td>Tuolumne-Calaveras Unit</td>\n",
              "      <td>574245</td>\n",
              "      <td>000158</td>\n",
              "      <td>NaN</td>\n",
              "      <td>NaN</td>\n",
              "      <td>NaN</td>\n",
              "      <td>NaN</td>\n",
              "      <td>NaN</td>\n",
              "      <td>NaN</td>\n",
              "      <td>NaN</td>\n",
              "      <td>2015</td>\n",
              "      <td>2457144.5</td>\n",
              "      <td>122</td>\n",
              "      <td>2052.0</td>\n",
              "      <td>13.0</td>\n",
              "      <td>Missing/Undefined</td>\n",
              "      <td>NaN</td>\n",
              "      <td>NaN</td>\n",
              "      <td>NaN</td>\n",
              "      <td>0.10</td>\n",
              "      <td>A</td>\n",
              "      <td>37.617619</td>\n",
              "      <td>-120.938570</td>\n",
              "      <td>12.0</td>\n",
              "      <td>MUNICIPAL/LOCAL</td>\n",
              "      <td>CA</td>\n",
              "      <td>NaN</td>\n",
              "      <td>NaN</td>\n",
              "      <td>NaN</td>\n",
              "      <td>b'\\x00\\x01\\xad\\x10\\x00\\x00\\x00\\x80\\xbe\\x88\\x11...</td>\n",
              "      <td>2015-05-02</td>\n",
              "      <td>NaT</td>\n",
              "      <td>May</td>\n",
              "      <td>Sat</td>\n",
              "    </tr>\n",
              "    <tr>\n",
              "      <th>1880463</th>\n",
              "      <td>1880463</td>\n",
              "      <td>1880464</td>\n",
              "      <td>300348377</td>\n",
              "      <td>2015CAIRS29218079</td>\n",
              "      <td>NONFED</td>\n",
              "      <td>ST-CACDF</td>\n",
              "      <td>ST/C&amp;L</td>\n",
              "      <td>USCATCU</td>\n",
              "      <td>Tuolumne-Calaveras Unit</td>\n",
              "      <td>CATCU</td>\n",
              "      <td>Tuolumne-Calaveras Unit</td>\n",
              "      <td>570462</td>\n",
              "      <td>000380</td>\n",
              "      <td>NaN</td>\n",
              "      <td>NaN</td>\n",
              "      <td>NaN</td>\n",
              "      <td>NaN</td>\n",
              "      <td>NaN</td>\n",
              "      <td>NaN</td>\n",
              "      <td>NaN</td>\n",
              "      <td>2015</td>\n",
              "      <td>2457309.5</td>\n",
              "      <td>287</td>\n",
              "      <td>2309.0</td>\n",
              "      <td>13.0</td>\n",
              "      <td>Missing/Undefined</td>\n",
              "      <td>NaN</td>\n",
              "      <td>NaN</td>\n",
              "      <td>NaN</td>\n",
              "      <td>2.00</td>\n",
              "      <td>B</td>\n",
              "      <td>37.672235</td>\n",
              "      <td>-120.898356</td>\n",
              "      <td>12.0</td>\n",
              "      <td>MUNICIPAL/LOCAL</td>\n",
              "      <td>CA</td>\n",
              "      <td>NaN</td>\n",
              "      <td>NaN</td>\n",
              "      <td>NaN</td>\n",
              "      <td>b'\\x00\\x01\\xad\\x10\\x00\\x00x\\xba_\\xaa~9^\\xc0\\xb...</td>\n",
              "      <td>2015-10-14</td>\n",
              "      <td>NaT</td>\n",
              "      <td>Oct</td>\n",
              "      <td>Wed</td>\n",
              "    </tr>\n",
              "    <tr>\n",
              "      <th>1880464</th>\n",
              "      <td>1880464</td>\n",
              "      <td>1880465</td>\n",
              "      <td>300348399</td>\n",
              "      <td>2015CAIRS26733926</td>\n",
              "      <td>NONFED</td>\n",
              "      <td>ST-CACDF</td>\n",
              "      <td>ST/C&amp;L</td>\n",
              "      <td>USCABDU</td>\n",
              "      <td>San Bernardino Unit</td>\n",
              "      <td>CABDU</td>\n",
              "      <td>CDF - San Bernardino Unit</td>\n",
              "      <td>535436</td>\n",
              "      <td>003225</td>\n",
              "      <td>NaN</td>\n",
              "      <td>BARKER BL  BIG_BEAR_LAKE_</td>\n",
              "      <td>NaN</td>\n",
              "      <td>NaN</td>\n",
              "      <td>NaN</td>\n",
              "      <td>NaN</td>\n",
              "      <td>NaN</td>\n",
              "      <td>2015</td>\n",
              "      <td>2457095.5</td>\n",
              "      <td>73</td>\n",
              "      <td>2128.0</td>\n",
              "      <td>9.0</td>\n",
              "      <td>Miscellaneous</td>\n",
              "      <td>NaN</td>\n",
              "      <td>NaN</td>\n",
              "      <td>NaN</td>\n",
              "      <td>0.10</td>\n",
              "      <td>A</td>\n",
              "      <td>34.263217</td>\n",
              "      <td>-116.830950</td>\n",
              "      <td>13.0</td>\n",
              "      <td>STATE OR PRIVATE</td>\n",
              "      <td>CA</td>\n",
              "      <td>NaN</td>\n",
              "      <td>NaN</td>\n",
              "      <td>NaN</td>\n",
              "      <td>b'\\x00\\x01\\xad\\x10\\x00\\x00\\x1c\\xa7\\xe8H.5]\\xc0...</td>\n",
              "      <td>2015-03-14</td>\n",
              "      <td>NaT</td>\n",
              "      <td>Mar</td>\n",
              "      <td>Sat</td>\n",
              "    </tr>\n",
              "  </tbody>\n",
              "</table>\n",
              "<p>1880465 rows × 44 columns</p>\n",
              "</div>"
            ],
            "text/plain": [
              "         Unnamed: 0  OBJECTID  ...  discovery_month discovery_weekday\n",
              "0                 0         1  ...              Feb               Wed\n",
              "1                 1         2  ...              May               Wed\n",
              "2                 2         3  ...              May               Mon\n",
              "3                 3         4  ...              Jun               Mon\n",
              "4                 4         5  ...              Jun               Mon\n",
              "...             ...       ...  ...              ...               ...\n",
              "1880460     1880460   1880461  ...              Sep               Sat\n",
              "1880461     1880461   1880462  ...              Oct               Mon\n",
              "1880462     1880462   1880463  ...              May               Sat\n",
              "1880463     1880463   1880464  ...              Oct               Wed\n",
              "1880464     1880464   1880465  ...              Mar               Sat\n",
              "\n",
              "[1880465 rows x 44 columns]"
            ]
          },
          "metadata": {
            "tags": []
          },
          "execution_count": 240
        }
      ]
    },
    {
      "cell_type": "markdown",
      "metadata": {
        "id": "ojb9tw0Ji6yP",
        "colab_type": "text"
      },
      "source": [
        "Filter the Fire dataset with records of the year 2015. Change the year for which you are amalgamating."
      ]
    },
    {
      "cell_type": "code",
      "metadata": {
        "id": "0AzefXQ4_vHB",
        "colab_type": "code",
        "outputId": "38f0b99a-0e44-46f0-a135-153e41d0ddc3",
        "colab": {
          "base_uri": "https://localhost:8080/",
          "height": 34
        }
      },
      "source": [
        "fire_filter=[2015]\n",
        "df_2015=df[df.FIRE_YEAR.isin(fire_filter)]\n",
        "\n",
        "fire_filter"
      ],
      "execution_count": 0,
      "outputs": [
        {
          "output_type": "execute_result",
          "data": {
            "text/plain": [
              "[2015]"
            ]
          },
          "metadata": {
            "tags": []
          },
          "execution_count": 241
        }
      ]
    },
    {
      "cell_type": "markdown",
      "metadata": {
        "id": "bbC8dOomjH__",
        "colab_type": "text"
      },
      "source": [
        "Keeping only `Latitude, Longitude, and cont_clean_date` in the Fire dataset."
      ]
    },
    {
      "cell_type": "code",
      "metadata": {
        "id": "nCnukLmPAJHj",
        "colab_type": "code",
        "colab": {}
      },
      "source": [
        "df_2015=df_2015[['LATITUDE','LONGITUDE','cont_clean_date']]"
      ],
      "execution_count": 0,
      "outputs": []
    },
    {
      "cell_type": "markdown",
      "metadata": {
        "id": "l7igeSCjjTxN",
        "colab_type": "text"
      },
      "source": [
        "Dropping all Null values."
      ]
    },
    {
      "cell_type": "code",
      "metadata": {
        "id": "Vh5vVuY4F9VE",
        "colab_type": "code",
        "colab": {}
      },
      "source": [
        "df_2015=df_2015.dropna()"
      ],
      "execution_count": 0,
      "outputs": []
    },
    {
      "cell_type": "code",
      "metadata": {
        "id": "KzWcbC4WHUk3",
        "colab_type": "code",
        "outputId": "f49601c7-468d-45c0-9959-fd06e7c788a4",
        "colab": {
          "base_uri": "https://localhost:8080/",
          "height": 419
        }
      },
      "source": [
        "df_2015"
      ],
      "execution_count": 0,
      "outputs": [
        {
          "output_type": "execute_result",
          "data": {
            "text/html": [
              "<div>\n",
              "<style scoped>\n",
              "    .dataframe tbody tr th:only-of-type {\n",
              "        vertical-align: middle;\n",
              "    }\n",
              "\n",
              "    .dataframe tbody tr th {\n",
              "        vertical-align: top;\n",
              "    }\n",
              "\n",
              "    .dataframe thead th {\n",
              "        text-align: right;\n",
              "    }\n",
              "</style>\n",
              "<table border=\"1\" class=\"dataframe\">\n",
              "  <thead>\n",
              "    <tr style=\"text-align: right;\">\n",
              "      <th></th>\n",
              "      <th>LATITUDE</th>\n",
              "      <th>LONGITUDE</th>\n",
              "      <th>cont_clean_date</th>\n",
              "    </tr>\n",
              "  </thead>\n",
              "  <tbody>\n",
              "    <tr>\n",
              "      <th>1789011</th>\n",
              "      <td>45.934167</td>\n",
              "      <td>-113.020833</td>\n",
              "      <td>2015-08-15</td>\n",
              "    </tr>\n",
              "    <tr>\n",
              "      <th>1789013</th>\n",
              "      <td>45.727222</td>\n",
              "      <td>-112.943889</td>\n",
              "      <td>2015-07-15</td>\n",
              "    </tr>\n",
              "    <tr>\n",
              "      <th>1789015</th>\n",
              "      <td>44.416667</td>\n",
              "      <td>-112.843333</td>\n",
              "      <td>2015-10-26</td>\n",
              "    </tr>\n",
              "    <tr>\n",
              "      <th>1789016</th>\n",
              "      <td>46.052222</td>\n",
              "      <td>-113.635556</td>\n",
              "      <td>2015-07-02</td>\n",
              "    </tr>\n",
              "    <tr>\n",
              "      <th>1789017</th>\n",
              "      <td>46.234444</td>\n",
              "      <td>-113.301667</td>\n",
              "      <td>2015-05-26</td>\n",
              "    </tr>\n",
              "    <tr>\n",
              "      <th>...</th>\n",
              "      <td>...</td>\n",
              "      <td>...</td>\n",
              "      <td>...</td>\n",
              "    </tr>\n",
              "    <tr>\n",
              "      <th>1880456</th>\n",
              "      <td>40.019907</td>\n",
              "      <td>-122.391398</td>\n",
              "      <td>2015-06-14</td>\n",
              "    </tr>\n",
              "    <tr>\n",
              "      <th>1880457</th>\n",
              "      <td>40.588583</td>\n",
              "      <td>-123.069617</td>\n",
              "      <td>2015-10-01</td>\n",
              "    </tr>\n",
              "    <tr>\n",
              "      <th>1880458</th>\n",
              "      <td>40.244833</td>\n",
              "      <td>-123.544167</td>\n",
              "      <td>2015-08-06</td>\n",
              "    </tr>\n",
              "    <tr>\n",
              "      <th>1880459</th>\n",
              "      <td>38.415608</td>\n",
              "      <td>-122.660044</td>\n",
              "      <td>2015-05-28</td>\n",
              "    </tr>\n",
              "    <tr>\n",
              "      <th>1880460</th>\n",
              "      <td>40.481637</td>\n",
              "      <td>-122.389375</td>\n",
              "      <td>2015-09-26</td>\n",
              "    </tr>\n",
              "  </tbody>\n",
              "</table>\n",
              "<p>62202 rows × 3 columns</p>\n",
              "</div>"
            ],
            "text/plain": [
              "          LATITUDE   LONGITUDE cont_clean_date\n",
              "1789011  45.934167 -113.020833      2015-08-15\n",
              "1789013  45.727222 -112.943889      2015-07-15\n",
              "1789015  44.416667 -112.843333      2015-10-26\n",
              "1789016  46.052222 -113.635556      2015-07-02\n",
              "1789017  46.234444 -113.301667      2015-05-26\n",
              "...            ...         ...             ...\n",
              "1880456  40.019907 -122.391398      2015-06-14\n",
              "1880457  40.588583 -123.069617      2015-10-01\n",
              "1880458  40.244833 -123.544167      2015-08-06\n",
              "1880459  38.415608 -122.660044      2015-05-28\n",
              "1880460  40.481637 -122.389375      2015-09-26\n",
              "\n",
              "[62202 rows x 3 columns]"
            ]
          },
          "metadata": {
            "tags": []
          },
          "execution_count": 244
        }
      ]
    },
    {
      "cell_type": "code",
      "metadata": {
        "id": "ss2S3ArYHvWo",
        "colab_type": "code",
        "colab": {}
      },
      "source": [
        "# Converting the timestamp to string.\n",
        "df_2015['cont_clean_date']=df_2015['cont_clean_date'].astype(str)"
      ],
      "execution_count": 0,
      "outputs": []
    },
    {
      "cell_type": "code",
      "metadata": {
        "id": "tCJQUj8mH_yw",
        "colab_type": "code",
        "colab": {}
      },
      "source": [
        "# Applying Regex on the cont_clean_date column to remove '-' and adding into the dataset as date column.\n",
        "df_2015['date']=df_2015['cont_clean_date'].replace('-', '', regex=True).astype(int)"
      ],
      "execution_count": 0,
      "outputs": []
    },
    {
      "cell_type": "code",
      "metadata": {
        "id": "bFpmE9GtITRe",
        "colab_type": "code",
        "outputId": "821f566f-9a11-433e-9b3a-3cf03b155eda",
        "colab": {
          "base_uri": "https://localhost:8080/",
          "height": 419
        }
      },
      "source": [
        "df_2015"
      ],
      "execution_count": 0,
      "outputs": [
        {
          "output_type": "execute_result",
          "data": {
            "text/html": [
              "<div>\n",
              "<style scoped>\n",
              "    .dataframe tbody tr th:only-of-type {\n",
              "        vertical-align: middle;\n",
              "    }\n",
              "\n",
              "    .dataframe tbody tr th {\n",
              "        vertical-align: top;\n",
              "    }\n",
              "\n",
              "    .dataframe thead th {\n",
              "        text-align: right;\n",
              "    }\n",
              "</style>\n",
              "<table border=\"1\" class=\"dataframe\">\n",
              "  <thead>\n",
              "    <tr style=\"text-align: right;\">\n",
              "      <th></th>\n",
              "      <th>LATITUDE</th>\n",
              "      <th>LONGITUDE</th>\n",
              "      <th>cont_clean_date</th>\n",
              "      <th>date</th>\n",
              "    </tr>\n",
              "  </thead>\n",
              "  <tbody>\n",
              "    <tr>\n",
              "      <th>1789011</th>\n",
              "      <td>45.934167</td>\n",
              "      <td>-113.020833</td>\n",
              "      <td>2015-08-15</td>\n",
              "      <td>20150815</td>\n",
              "    </tr>\n",
              "    <tr>\n",
              "      <th>1789013</th>\n",
              "      <td>45.727222</td>\n",
              "      <td>-112.943889</td>\n",
              "      <td>2015-07-15</td>\n",
              "      <td>20150715</td>\n",
              "    </tr>\n",
              "    <tr>\n",
              "      <th>1789015</th>\n",
              "      <td>44.416667</td>\n",
              "      <td>-112.843333</td>\n",
              "      <td>2015-10-26</td>\n",
              "      <td>20151026</td>\n",
              "    </tr>\n",
              "    <tr>\n",
              "      <th>1789016</th>\n",
              "      <td>46.052222</td>\n",
              "      <td>-113.635556</td>\n",
              "      <td>2015-07-02</td>\n",
              "      <td>20150702</td>\n",
              "    </tr>\n",
              "    <tr>\n",
              "      <th>1789017</th>\n",
              "      <td>46.234444</td>\n",
              "      <td>-113.301667</td>\n",
              "      <td>2015-05-26</td>\n",
              "      <td>20150526</td>\n",
              "    </tr>\n",
              "    <tr>\n",
              "      <th>...</th>\n",
              "      <td>...</td>\n",
              "      <td>...</td>\n",
              "      <td>...</td>\n",
              "      <td>...</td>\n",
              "    </tr>\n",
              "    <tr>\n",
              "      <th>1880456</th>\n",
              "      <td>40.019907</td>\n",
              "      <td>-122.391398</td>\n",
              "      <td>2015-06-14</td>\n",
              "      <td>20150614</td>\n",
              "    </tr>\n",
              "    <tr>\n",
              "      <th>1880457</th>\n",
              "      <td>40.588583</td>\n",
              "      <td>-123.069617</td>\n",
              "      <td>2015-10-01</td>\n",
              "      <td>20151001</td>\n",
              "    </tr>\n",
              "    <tr>\n",
              "      <th>1880458</th>\n",
              "      <td>40.244833</td>\n",
              "      <td>-123.544167</td>\n",
              "      <td>2015-08-06</td>\n",
              "      <td>20150806</td>\n",
              "    </tr>\n",
              "    <tr>\n",
              "      <th>1880459</th>\n",
              "      <td>38.415608</td>\n",
              "      <td>-122.660044</td>\n",
              "      <td>2015-05-28</td>\n",
              "      <td>20150528</td>\n",
              "    </tr>\n",
              "    <tr>\n",
              "      <th>1880460</th>\n",
              "      <td>40.481637</td>\n",
              "      <td>-122.389375</td>\n",
              "      <td>2015-09-26</td>\n",
              "      <td>20150926</td>\n",
              "    </tr>\n",
              "  </tbody>\n",
              "</table>\n",
              "<p>62202 rows × 4 columns</p>\n",
              "</div>"
            ],
            "text/plain": [
              "          LATITUDE   LONGITUDE cont_clean_date      date\n",
              "1789011  45.934167 -113.020833      2015-08-15  20150815\n",
              "1789013  45.727222 -112.943889      2015-07-15  20150715\n",
              "1789015  44.416667 -112.843333      2015-10-26  20151026\n",
              "1789016  46.052222 -113.635556      2015-07-02  20150702\n",
              "1789017  46.234444 -113.301667      2015-05-26  20150526\n",
              "...            ...         ...             ...       ...\n",
              "1880456  40.019907 -122.391398      2015-06-14  20150614\n",
              "1880457  40.588583 -123.069617      2015-10-01  20151001\n",
              "1880458  40.244833 -123.544167      2015-08-06  20150806\n",
              "1880459  38.415608 -122.660044      2015-05-28  20150528\n",
              "1880460  40.481637 -122.389375      2015-09-26  20150926\n",
              "\n",
              "[62202 rows x 4 columns]"
            ]
          },
          "metadata": {
            "tags": []
          },
          "execution_count": 247
        }
      ]
    },
    {
      "cell_type": "code",
      "metadata": {
        "id": "iDxAcUF-IWY3",
        "colab_type": "code",
        "colab": {}
      },
      "source": [
        "df_2015=df_2015[['LATITUDE','LONGITUDE','date']]"
      ],
      "execution_count": 0,
      "outputs": []
    },
    {
      "cell_type": "code",
      "metadata": {
        "id": "06xZFbskI9iu",
        "colab_type": "code",
        "colab": {}
      },
      "source": [
        "# Save the intermediate csv file\n",
        "df_2015.to_csv(r'fire_2015.csv')"
      ],
      "execution_count": 0,
      "outputs": []
    },
    {
      "cell_type": "code",
      "metadata": {
        "id": "yPfPiI1qJFNj",
        "colab_type": "code",
        "colab": {}
      },
      "source": [
        "# Add it to the spark context\n",
        "sc.addFile('fire_2015.csv')"
      ],
      "execution_count": 0,
      "outputs": []
    },
    {
      "cell_type": "code",
      "metadata": {
        "id": "Xvy1cNlpJM-8",
        "colab_type": "code",
        "colab": {}
      },
      "source": [
        "# Convert it into Spark Dataframe\n",
        "fire=spark.read.option(\"header\", \"true\").csv('fire_2015.csv')"
      ],
      "execution_count": 0,
      "outputs": []
    },
    {
      "cell_type": "code",
      "metadata": {
        "id": "rNl0sFtEJWGu",
        "colab_type": "code",
        "outputId": "e2c38153-0851-4ef5-fab5-e9d69281dfdb",
        "colab": {
          "base_uri": "https://localhost:8080/",
          "height": 204
        }
      },
      "source": [
        "fire.show(5)"
      ],
      "execution_count": 0,
      "outputs": [
        {
          "output_type": "stream",
          "text": [
            "+-------+-----------+-------------+--------+\n",
            "|    _c0|   LATITUDE|    LONGITUDE|    date|\n",
            "+-------+-----------+-------------+--------+\n",
            "|1789011|45.93416667|-113.02083333|20150815|\n",
            "|1789013|45.72722222|-112.94388889|20150715|\n",
            "|1789015|44.41666667|-112.84333333|20151026|\n",
            "|1789016|46.05222222|-113.63555556|20150702|\n",
            "|1789017|46.23444444|-113.30166667|20150526|\n",
            "+-------+-----------+-------------+--------+\n",
            "only showing top 5 rows\n",
            "\n"
          ],
          "name": "stdout"
        }
      ]
    },
    {
      "cell_type": "code",
      "metadata": {
        "id": "Ah4pUSHlsJCT",
        "colab_type": "code",
        "colab": {}
      },
      "source": [
        "# Round the Latitude and Longitude values to scale decimal places.\n",
        "fire=fire.withColumn(\"LATITUDE\", func.round(fire[\"LATITUDE\"]))\n",
        "fire=fire.withColumn(\"LONGITUDE\", func.round(fire[\"LONGITUDE\"]))"
      ],
      "execution_count": 0,
      "outputs": []
    },
    {
      "cell_type": "code",
      "metadata": {
        "id": "-42ZT3dCKVv5",
        "colab_type": "code",
        "outputId": "6da5799e-963a-4286-d78b-54ebcbbfc234",
        "colab": {
          "base_uri": "https://localhost:8080/",
          "height": 459
        }
      },
      "source": [
        "final_df.show()"
      ],
      "execution_count": 0,
      "outputs": [
        {
          "output_type": "stream",
          "text": [
            "+-----------+--------+---------+--------+----+-----+\n",
            "|         id|LATITUDE|LONGITUDE|    date|type|value|\n",
            "+-----------+--------+---------+--------+----+-----+\n",
            "|US1FLSL0019| 27.3237| -80.3111|20150101|PRCP|  173|\n",
            "|US1TXTV0133| 30.3597| -98.0252|20150101|PRCP|  119|\n",
            "|USC00178998| 44.6917| -68.3475|20150101|TMAX|  -33|\n",
            "|USC00178998| 44.6917| -68.3475|20150101|TMIN| -167|\n",
            "|USC00178998| 44.6917| -68.3475|20150101|TOBS|  -67|\n",
            "|USC00178998| 44.6917| -68.3475|20150101|PRCP|    0|\n",
            "|USC00178998| 44.6917| -68.3475|20150101|SNOW|    0|\n",
            "|USC00178998| 44.6917| -68.3475|20150101|SNWD|    0|\n",
            "|NOE00133566| 62.1031|   5.5817|20150101|TMAX|   90|\n",
            "|NOE00133566| 62.1031|   5.5817|20150101|TMIN|   44|\n",
            "|NOE00133566| 62.1031|   5.5817|20150101|PRCP|   19|\n",
            "|NOE00133566| 62.1031|   5.5817|20150101|SNWD|   40|\n",
            "|USC00141761| 39.5592| -97.6697|20150101|TMAX|  -83|\n",
            "|USC00141761| 39.5592| -97.6697|20150101|TMIN| -183|\n",
            "|USC00141761| 39.5592| -97.6697|20150101|TOBS| -122|\n",
            "|USC00141761| 39.5592| -97.6697|20150101|PRCP|    0|\n",
            "|USC00141761| 39.5592| -97.6697|20150101|SNOW|    0|\n",
            "|USC00141761| 39.5592| -97.6697|20150101|SNWD|    0|\n",
            "|USS0018D08S|   45.19|  -118.55|20150101|TMAX|   -8|\n",
            "|USS0018D08S|   45.19|  -118.55|20150101|TMIN| -130|\n",
            "+-----------+--------+---------+--------+----+-----+\n",
            "only showing top 20 rows\n",
            "\n"
          ],
          "name": "stdout"
        }
      ]
    },
    {
      "cell_type": "code",
      "metadata": {
        "id": "A7Ou865uOkIn",
        "colab_type": "code",
        "colab": {}
      },
      "source": [
        "# Round the Latitude and Longitude values to scale decimal places.\n",
        "final_df=final_df.withColumn(\"LATITUDE\", func.round(final_df[\"LATITUDE\"]))\n",
        "final_df=final_df.withColumn(\"LONGITUDE\", func.round(final_df[\"LONGITUDE\"]))"
      ],
      "execution_count": 0,
      "outputs": []
    },
    {
      "cell_type": "code",
      "metadata": {
        "id": "msdKGkD5PBDh",
        "colab_type": "code",
        "outputId": "3b06d99d-f6b6-43e3-e6f1-d130a10c0664",
        "colab": {
          "base_uri": "https://localhost:8080/",
          "height": 459
        }
      },
      "source": [
        "final_df.show()"
      ],
      "execution_count": 0,
      "outputs": [
        {
          "output_type": "stream",
          "text": [
            "+-----------+--------+---------+--------+----+-----+\n",
            "|         id|LATITUDE|LONGITUDE|    date|type|value|\n",
            "+-----------+--------+---------+--------+----+-----+\n",
            "|US1FLSL0019|    27.0|    -80.0|20150101|PRCP|  173|\n",
            "|US1TXTV0133|    30.0|    -98.0|20150101|PRCP|  119|\n",
            "|USC00178998|    45.0|    -68.0|20150101|TMAX|  -33|\n",
            "|USC00178998|    45.0|    -68.0|20150101|TMIN| -167|\n",
            "|USC00178998|    45.0|    -68.0|20150101|TOBS|  -67|\n",
            "|USC00178998|    45.0|    -68.0|20150101|PRCP|    0|\n",
            "|USC00178998|    45.0|    -68.0|20150101|SNOW|    0|\n",
            "|USC00178998|    45.0|    -68.0|20150101|SNWD|    0|\n",
            "|NOE00133566|    62.0|      6.0|20150101|TMAX|   90|\n",
            "|NOE00133566|    62.0|      6.0|20150101|TMIN|   44|\n",
            "|NOE00133566|    62.0|      6.0|20150101|PRCP|   19|\n",
            "|NOE00133566|    62.0|      6.0|20150101|SNWD|   40|\n",
            "|USC00141761|    40.0|    -98.0|20150101|TMAX|  -83|\n",
            "|USC00141761|    40.0|    -98.0|20150101|TMIN| -183|\n",
            "|USC00141761|    40.0|    -98.0|20150101|TOBS| -122|\n",
            "|USC00141761|    40.0|    -98.0|20150101|PRCP|    0|\n",
            "|USC00141761|    40.0|    -98.0|20150101|SNOW|    0|\n",
            "|USC00141761|    40.0|    -98.0|20150101|SNWD|    0|\n",
            "|USS0018D08S|    45.0|   -119.0|20150101|TMAX|   -8|\n",
            "|USS0018D08S|    45.0|   -119.0|20150101|TMIN| -130|\n",
            "+-----------+--------+---------+--------+----+-----+\n",
            "only showing top 20 rows\n",
            "\n"
          ],
          "name": "stdout"
        }
      ]
    },
    {
      "cell_type": "markdown",
      "metadata": {
        "id": "ftnQ56PwkW_w",
        "colab_type": "text"
      },
      "source": [
        "Merge the Fire Dataset with the Spark Dataframe"
      ]
    },
    {
      "cell_type": "code",
      "metadata": {
        "id": "smmN-2StJYGJ",
        "colab_type": "code",
        "colab": {}
      },
      "source": [
        "complete = fire.join(final_df, on=['LATITUDE','LONGITUDE','date'], how='inner')"
      ],
      "execution_count": 0,
      "outputs": []
    },
    {
      "cell_type": "code",
      "metadata": {
        "id": "QvGZLvj6PMtq",
        "colab_type": "code",
        "outputId": "37d67932-f6cd-46a4-9503-41184921923b",
        "colab": {
          "base_uri": "https://localhost:8080/",
          "height": 136
        }
      },
      "source": [
        "complete.show(1)"
      ],
      "execution_count": 0,
      "outputs": [
        {
          "output_type": "stream",
          "text": [
            "+--------+---------+--------+-------+-----------+----+-----+\n",
            "|LATITUDE|LONGITUDE|    date|    _c0|         id|type|value|\n",
            "+--------+---------+--------+-------+-----------+----+-----+\n",
            "|    34.0|   -112.0|20150101|1852766|US1AZMR0026|PRCP|   13|\n",
            "+--------+---------+--------+-------+-----------+----+-----+\n",
            "only showing top 1 row\n",
            "\n"
          ],
          "name": "stdout"
        }
      ]
    },
    {
      "cell_type": "code",
      "metadata": {
        "id": "2QHNh1uzPzbH",
        "colab_type": "code",
        "colab": {}
      },
      "source": [
        "# Store the resulting Spark Dataframe into the local machine in order to convert the csv file into pandas dataframe.\n",
        "complete.write.csv('2015Py.csv',header='true')"
      ],
      "execution_count": 0,
      "outputs": []
    },
    {
      "cell_type": "code",
      "metadata": {
        "id": "MnxhqDGAhNzy",
        "colab_type": "code",
        "colab": {}
      },
      "source": [
        "# Read the csv file using pandas\n",
        "csv = pd.read_csv('completePandas.csv')"
      ],
      "execution_count": 0,
      "outputs": []
    },
    {
      "cell_type": "code",
      "metadata": {
        "id": "QbQsIsyJiesQ",
        "colab_type": "code",
        "colab": {}
      },
      "source": [
        "completepandas_df=csv"
      ],
      "execution_count": 0,
      "outputs": []
    },
    {
      "cell_type": "code",
      "metadata": {
        "id": "2VlB84vDDY41",
        "colab_type": "code",
        "outputId": "16cf24d5-fcc4-4b26-91c8-bebdc68ba0cf",
        "colab": {
          "base_uri": "https://localhost:8080/",
          "height": 34
        }
      },
      "source": [
        "# Displays the size of the pandas dataframe\n",
        "completepandas_df.shape"
      ],
      "execution_count": 0,
      "outputs": [
        {
          "output_type": "execute_result",
          "data": {
            "text/plain": [
              "(6255725, 7)"
            ]
          },
          "metadata": {
            "tags": []
          },
          "execution_count": 7
        }
      ]
    },
    {
      "cell_type": "code",
      "metadata": {
        "id": "xc-lox7LQfoN",
        "colab_type": "code",
        "outputId": "27f168e9-feca-4799-ad2f-020089355d63",
        "colab": {
          "base_uri": "https://localhost:8080/",
          "height": 255
        }
      },
      "source": [
        "completepandas_df.head"
      ],
      "execution_count": 0,
      "outputs": [
        {
          "output_type": "execute_result",
          "data": {
            "text/plain": [
              "<bound method NDFrame.head of          LATITUDE  LONGITUDE      date      _c0           id  type  value\n",
              "0            34.0     -112.0  20150101  1852766  US1AZMR0026  PRCP     13\n",
              "1            34.0     -112.0  20150101  1852762  US1AZMR0026  PRCP     13\n",
              "2            34.0     -112.0  20150101  1852761  US1AZMR0026  PRCP     13\n",
              "3            34.0     -112.0  20150101  1852760  US1AZMR0026  PRCP     13\n",
              "4            36.0      -78.0  20150101  1857745  US1NCJH0009  PRCP      0\n",
              "...           ...        ...       ...      ...          ...   ...    ...\n",
              "6255720      34.0     -112.0  20151231  1856828  US1AZMR0164  SNOW      0\n",
              "6255721      34.0     -110.0  20151231  1796878  US1AZNV0009  PRCP      0\n",
              "6255722      34.0     -110.0  20151231  1796878  US1AZNV0009  SNOW      0\n",
              "6255723      40.0      -74.0  20151231  1813028  US1NJMN0010  PRCP     69\n",
              "6255724      40.0      -74.0  20151231  1813027  US1NJMN0010  PRCP     69\n",
              "\n",
              "[6255725 rows x 7 columns]>"
            ]
          },
          "metadata": {
            "tags": []
          },
          "execution_count": 8
        }
      ]
    },
    {
      "cell_type": "code",
      "metadata": {
        "id": "cWn3amgfvO0P",
        "colab_type": "code",
        "outputId": "6b5da8f1-74d1-4850-dfa1-66e868de52ba",
        "colab": {
          "base_uri": "https://localhost:8080/",
          "height": 419
        }
      },
      "source": [
        "completepandas_df"
      ],
      "execution_count": 0,
      "outputs": [
        {
          "output_type": "execute_result",
          "data": {
            "text/html": [
              "<div>\n",
              "<style scoped>\n",
              "    .dataframe tbody tr th:only-of-type {\n",
              "        vertical-align: middle;\n",
              "    }\n",
              "\n",
              "    .dataframe tbody tr th {\n",
              "        vertical-align: top;\n",
              "    }\n",
              "\n",
              "    .dataframe thead th {\n",
              "        text-align: right;\n",
              "    }\n",
              "</style>\n",
              "<table border=\"1\" class=\"dataframe\">\n",
              "  <thead>\n",
              "    <tr style=\"text-align: right;\">\n",
              "      <th></th>\n",
              "      <th>LATITUDE</th>\n",
              "      <th>LONGITUDE</th>\n",
              "      <th>date</th>\n",
              "      <th>_c0</th>\n",
              "      <th>id</th>\n",
              "      <th>type</th>\n",
              "      <th>value</th>\n",
              "    </tr>\n",
              "  </thead>\n",
              "  <tbody>\n",
              "    <tr>\n",
              "      <th>0</th>\n",
              "      <td>34.0</td>\n",
              "      <td>-112.0</td>\n",
              "      <td>20150101</td>\n",
              "      <td>1852766</td>\n",
              "      <td>US1AZMR0026</td>\n",
              "      <td>PRCP</td>\n",
              "      <td>13</td>\n",
              "    </tr>\n",
              "    <tr>\n",
              "      <th>1</th>\n",
              "      <td>34.0</td>\n",
              "      <td>-112.0</td>\n",
              "      <td>20150101</td>\n",
              "      <td>1852762</td>\n",
              "      <td>US1AZMR0026</td>\n",
              "      <td>PRCP</td>\n",
              "      <td>13</td>\n",
              "    </tr>\n",
              "    <tr>\n",
              "      <th>2</th>\n",
              "      <td>34.0</td>\n",
              "      <td>-112.0</td>\n",
              "      <td>20150101</td>\n",
              "      <td>1852761</td>\n",
              "      <td>US1AZMR0026</td>\n",
              "      <td>PRCP</td>\n",
              "      <td>13</td>\n",
              "    </tr>\n",
              "    <tr>\n",
              "      <th>3</th>\n",
              "      <td>34.0</td>\n",
              "      <td>-112.0</td>\n",
              "      <td>20150101</td>\n",
              "      <td>1852760</td>\n",
              "      <td>US1AZMR0026</td>\n",
              "      <td>PRCP</td>\n",
              "      <td>13</td>\n",
              "    </tr>\n",
              "    <tr>\n",
              "      <th>4</th>\n",
              "      <td>36.0</td>\n",
              "      <td>-78.0</td>\n",
              "      <td>20150101</td>\n",
              "      <td>1857745</td>\n",
              "      <td>US1NCJH0009</td>\n",
              "      <td>PRCP</td>\n",
              "      <td>0</td>\n",
              "    </tr>\n",
              "    <tr>\n",
              "      <th>...</th>\n",
              "      <td>...</td>\n",
              "      <td>...</td>\n",
              "      <td>...</td>\n",
              "      <td>...</td>\n",
              "      <td>...</td>\n",
              "      <td>...</td>\n",
              "      <td>...</td>\n",
              "    </tr>\n",
              "    <tr>\n",
              "      <th>6255720</th>\n",
              "      <td>34.0</td>\n",
              "      <td>-112.0</td>\n",
              "      <td>20151231</td>\n",
              "      <td>1856828</td>\n",
              "      <td>US1AZMR0164</td>\n",
              "      <td>SNOW</td>\n",
              "      <td>0</td>\n",
              "    </tr>\n",
              "    <tr>\n",
              "      <th>6255721</th>\n",
              "      <td>34.0</td>\n",
              "      <td>-110.0</td>\n",
              "      <td>20151231</td>\n",
              "      <td>1796878</td>\n",
              "      <td>US1AZNV0009</td>\n",
              "      <td>PRCP</td>\n",
              "      <td>0</td>\n",
              "    </tr>\n",
              "    <tr>\n",
              "      <th>6255722</th>\n",
              "      <td>34.0</td>\n",
              "      <td>-110.0</td>\n",
              "      <td>20151231</td>\n",
              "      <td>1796878</td>\n",
              "      <td>US1AZNV0009</td>\n",
              "      <td>SNOW</td>\n",
              "      <td>0</td>\n",
              "    </tr>\n",
              "    <tr>\n",
              "      <th>6255723</th>\n",
              "      <td>40.0</td>\n",
              "      <td>-74.0</td>\n",
              "      <td>20151231</td>\n",
              "      <td>1813028</td>\n",
              "      <td>US1NJMN0010</td>\n",
              "      <td>PRCP</td>\n",
              "      <td>69</td>\n",
              "    </tr>\n",
              "    <tr>\n",
              "      <th>6255724</th>\n",
              "      <td>40.0</td>\n",
              "      <td>-74.0</td>\n",
              "      <td>20151231</td>\n",
              "      <td>1813027</td>\n",
              "      <td>US1NJMN0010</td>\n",
              "      <td>PRCP</td>\n",
              "      <td>69</td>\n",
              "    </tr>\n",
              "  </tbody>\n",
              "</table>\n",
              "<p>6255725 rows × 7 columns</p>\n",
              "</div>"
            ],
            "text/plain": [
              "         LATITUDE  LONGITUDE      date      _c0           id  type  value\n",
              "0            34.0     -112.0  20150101  1852766  US1AZMR0026  PRCP     13\n",
              "1            34.0     -112.0  20150101  1852762  US1AZMR0026  PRCP     13\n",
              "2            34.0     -112.0  20150101  1852761  US1AZMR0026  PRCP     13\n",
              "3            34.0     -112.0  20150101  1852760  US1AZMR0026  PRCP     13\n",
              "4            36.0      -78.0  20150101  1857745  US1NCJH0009  PRCP      0\n",
              "...           ...        ...       ...      ...          ...   ...    ...\n",
              "6255720      34.0     -112.0  20151231  1856828  US1AZMR0164  SNOW      0\n",
              "6255721      34.0     -110.0  20151231  1796878  US1AZNV0009  PRCP      0\n",
              "6255722      34.0     -110.0  20151231  1796878  US1AZNV0009  SNOW      0\n",
              "6255723      40.0      -74.0  20151231  1813028  US1NJMN0010  PRCP     69\n",
              "6255724      40.0      -74.0  20151231  1813027  US1NJMN0010  PRCP     69\n",
              "\n",
              "[6255725 rows x 7 columns]"
            ]
          },
          "metadata": {
            "tags": []
          },
          "execution_count": 9
        }
      ]
    },
    {
      "cell_type": "markdown",
      "metadata": {
        "id": "KHtnArB5lR9a",
        "colab_type": "text"
      },
      "source": [
        "Store only `'LATITUDE', 'LONGITUDE', 'date', 'type', and 'value'` columns into the pandas dataframe."
      ]
    },
    {
      "cell_type": "code",
      "metadata": {
        "id": "Vv29r1d_RJ0D",
        "colab_type": "code",
        "colab": {}
      },
      "source": [
        "completepandas_df=completepandas_df[['LATITUDE','LONGITUDE','date','type','value']]"
      ],
      "execution_count": 0,
      "outputs": []
    },
    {
      "cell_type": "code",
      "metadata": {
        "id": "fECvPKAXYByV",
        "colab_type": "code",
        "colab": {}
      },
      "source": [
        "temp1=completepandas_df[completepandas_df.type=='TMAX']\n",
        "temp2=completepandas_df[completepandas_df.type=='PRCP']\n",
        "temp3=completepandas_df[completepandas_df.type=='TOBS']\n",
        "temp4=completepandas_df[completepandas_df.type=='SNOW']"
      ],
      "execution_count": 0,
      "outputs": []
    },
    {
      "cell_type": "markdown",
      "metadata": {
        "id": "1AK53bailpBN",
        "colab_type": "text"
      },
      "source": [
        "Fetch the `Maximum Temperature, Precipitation, Snow level, and Time of Observation changes` from the dataframe and add an additional column with those matching."
      ]
    },
    {
      "cell_type": "code",
      "metadata": {
        "id": "8r4eSvStv0tt",
        "colab_type": "code",
        "outputId": "3cd3508d-f541-4f88-f9af-f28b4baa74ce",
        "colab": {
          "base_uri": "https://localhost:8080/",
          "height": 419
        }
      },
      "source": [
        "temp1=temp1[['LATITUDE','LONGITUDE','date','value']]\n",
        "temp1.rename(columns={'value':'TMAX'}, inplace=True)\n",
        "temp1"
      ],
      "execution_count": 0,
      "outputs": [
        {
          "output_type": "execute_result",
          "data": {
            "text/html": [
              "<div>\n",
              "<style scoped>\n",
              "    .dataframe tbody tr th:only-of-type {\n",
              "        vertical-align: middle;\n",
              "    }\n",
              "\n",
              "    .dataframe tbody tr th {\n",
              "        vertical-align: top;\n",
              "    }\n",
              "\n",
              "    .dataframe thead th {\n",
              "        text-align: right;\n",
              "    }\n",
              "</style>\n",
              "<table border=\"1\" class=\"dataframe\">\n",
              "  <thead>\n",
              "    <tr style=\"text-align: right;\">\n",
              "      <th></th>\n",
              "      <th>LATITUDE</th>\n",
              "      <th>LONGITUDE</th>\n",
              "      <th>date</th>\n",
              "      <th>TMAX</th>\n",
              "    </tr>\n",
              "  </thead>\n",
              "  <tbody>\n",
              "    <tr>\n",
              "      <th>10</th>\n",
              "      <td>40.0</td>\n",
              "      <td>-96.0</td>\n",
              "      <td>20150101</td>\n",
              "      <td>-72</td>\n",
              "    </tr>\n",
              "    <tr>\n",
              "      <th>14</th>\n",
              "      <td>38.0</td>\n",
              "      <td>-120.0</td>\n",
              "      <td>20150101</td>\n",
              "      <td>72</td>\n",
              "    </tr>\n",
              "    <tr>\n",
              "      <th>22</th>\n",
              "      <td>41.0</td>\n",
              "      <td>-74.0</td>\n",
              "      <td>20150101</td>\n",
              "      <td>33</td>\n",
              "    </tr>\n",
              "    <tr>\n",
              "      <th>23</th>\n",
              "      <td>41.0</td>\n",
              "      <td>-74.0</td>\n",
              "      <td>20150101</td>\n",
              "      <td>33</td>\n",
              "    </tr>\n",
              "    <tr>\n",
              "      <th>24</th>\n",
              "      <td>41.0</td>\n",
              "      <td>-74.0</td>\n",
              "      <td>20150101</td>\n",
              "      <td>33</td>\n",
              "    </tr>\n",
              "    <tr>\n",
              "      <th>...</th>\n",
              "      <td>...</td>\n",
              "      <td>...</td>\n",
              "      <td>...</td>\n",
              "      <td>...</td>\n",
              "    </tr>\n",
              "    <tr>\n",
              "      <th>6255647</th>\n",
              "      <td>34.0</td>\n",
              "      <td>-112.0</td>\n",
              "      <td>20151231</td>\n",
              "      <td>156</td>\n",
              "    </tr>\n",
              "    <tr>\n",
              "      <th>6255648</th>\n",
              "      <td>34.0</td>\n",
              "      <td>-112.0</td>\n",
              "      <td>20151231</td>\n",
              "      <td>156</td>\n",
              "    </tr>\n",
              "    <tr>\n",
              "      <th>6255683</th>\n",
              "      <td>49.0</td>\n",
              "      <td>-120.0</td>\n",
              "      <td>20151231</td>\n",
              "      <td>-75</td>\n",
              "    </tr>\n",
              "    <tr>\n",
              "      <th>6255691</th>\n",
              "      <td>40.0</td>\n",
              "      <td>-102.0</td>\n",
              "      <td>20151231</td>\n",
              "      <td>-6</td>\n",
              "    </tr>\n",
              "    <tr>\n",
              "      <th>6255697</th>\n",
              "      <td>39.0</td>\n",
              "      <td>-121.0</td>\n",
              "      <td>20151231</td>\n",
              "      <td>117</td>\n",
              "    </tr>\n",
              "  </tbody>\n",
              "</table>\n",
              "<p>663290 rows × 4 columns</p>\n",
              "</div>"
            ],
            "text/plain": [
              "         LATITUDE  LONGITUDE      date  TMAX\n",
              "10           40.0      -96.0  20150101   -72\n",
              "14           38.0     -120.0  20150101    72\n",
              "22           41.0      -74.0  20150101    33\n",
              "23           41.0      -74.0  20150101    33\n",
              "24           41.0      -74.0  20150101    33\n",
              "...           ...        ...       ...   ...\n",
              "6255647      34.0     -112.0  20151231   156\n",
              "6255648      34.0     -112.0  20151231   156\n",
              "6255683      49.0     -120.0  20151231   -75\n",
              "6255691      40.0     -102.0  20151231    -6\n",
              "6255697      39.0     -121.0  20151231   117\n",
              "\n",
              "[663290 rows x 4 columns]"
            ]
          },
          "metadata": {
            "tags": []
          },
          "execution_count": 12
        }
      ]
    },
    {
      "cell_type": "code",
      "metadata": {
        "id": "jt2_q8sAwf9K",
        "colab_type": "code",
        "outputId": "8e1a1ce5-36c1-45ff-8497-fd2b7dcdd4d0",
        "colab": {
          "base_uri": "https://localhost:8080/",
          "height": 419
        }
      },
      "source": [
        "temp2=temp2[['LATITUDE','LONGITUDE','date','value']]\n",
        "temp2.rename(columns={'value':'PRCP'}, inplace=True)\n",
        "temp2"
      ],
      "execution_count": 0,
      "outputs": [
        {
          "output_type": "execute_result",
          "data": {
            "text/html": [
              "<div>\n",
              "<style scoped>\n",
              "    .dataframe tbody tr th:only-of-type {\n",
              "        vertical-align: middle;\n",
              "    }\n",
              "\n",
              "    .dataframe tbody tr th {\n",
              "        vertical-align: top;\n",
              "    }\n",
              "\n",
              "    .dataframe thead th {\n",
              "        text-align: right;\n",
              "    }\n",
              "</style>\n",
              "<table border=\"1\" class=\"dataframe\">\n",
              "  <thead>\n",
              "    <tr style=\"text-align: right;\">\n",
              "      <th></th>\n",
              "      <th>LATITUDE</th>\n",
              "      <th>LONGITUDE</th>\n",
              "      <th>date</th>\n",
              "      <th>PRCP</th>\n",
              "    </tr>\n",
              "  </thead>\n",
              "  <tbody>\n",
              "    <tr>\n",
              "      <th>0</th>\n",
              "      <td>34.0</td>\n",
              "      <td>-112.0</td>\n",
              "      <td>20150101</td>\n",
              "      <td>13</td>\n",
              "    </tr>\n",
              "    <tr>\n",
              "      <th>1</th>\n",
              "      <td>34.0</td>\n",
              "      <td>-112.0</td>\n",
              "      <td>20150101</td>\n",
              "      <td>13</td>\n",
              "    </tr>\n",
              "    <tr>\n",
              "      <th>2</th>\n",
              "      <td>34.0</td>\n",
              "      <td>-112.0</td>\n",
              "      <td>20150101</td>\n",
              "      <td>13</td>\n",
              "    </tr>\n",
              "    <tr>\n",
              "      <th>3</th>\n",
              "      <td>34.0</td>\n",
              "      <td>-112.0</td>\n",
              "      <td>20150101</td>\n",
              "      <td>13</td>\n",
              "    </tr>\n",
              "    <tr>\n",
              "      <th>4</th>\n",
              "      <td>36.0</td>\n",
              "      <td>-78.0</td>\n",
              "      <td>20150101</td>\n",
              "      <td>0</td>\n",
              "    </tr>\n",
              "    <tr>\n",
              "      <th>...</th>\n",
              "      <td>...</td>\n",
              "      <td>...</td>\n",
              "      <td>...</td>\n",
              "      <td>...</td>\n",
              "    </tr>\n",
              "    <tr>\n",
              "      <th>6255717</th>\n",
              "      <td>34.0</td>\n",
              "      <td>-112.0</td>\n",
              "      <td>20151231</td>\n",
              "      <td>0</td>\n",
              "    </tr>\n",
              "    <tr>\n",
              "      <th>6255718</th>\n",
              "      <td>34.0</td>\n",
              "      <td>-112.0</td>\n",
              "      <td>20151231</td>\n",
              "      <td>0</td>\n",
              "    </tr>\n",
              "    <tr>\n",
              "      <th>6255721</th>\n",
              "      <td>34.0</td>\n",
              "      <td>-110.0</td>\n",
              "      <td>20151231</td>\n",
              "      <td>0</td>\n",
              "    </tr>\n",
              "    <tr>\n",
              "      <th>6255723</th>\n",
              "      <td>40.0</td>\n",
              "      <td>-74.0</td>\n",
              "      <td>20151231</td>\n",
              "      <td>69</td>\n",
              "    </tr>\n",
              "    <tr>\n",
              "      <th>6255724</th>\n",
              "      <td>40.0</td>\n",
              "      <td>-74.0</td>\n",
              "      <td>20151231</td>\n",
              "      <td>69</td>\n",
              "    </tr>\n",
              "  </tbody>\n",
              "</table>\n",
              "<p>1822364 rows × 4 columns</p>\n",
              "</div>"
            ],
            "text/plain": [
              "         LATITUDE  LONGITUDE      date  PRCP\n",
              "0            34.0     -112.0  20150101    13\n",
              "1            34.0     -112.0  20150101    13\n",
              "2            34.0     -112.0  20150101    13\n",
              "3            34.0     -112.0  20150101    13\n",
              "4            36.0      -78.0  20150101     0\n",
              "...           ...        ...       ...   ...\n",
              "6255717      34.0     -112.0  20151231     0\n",
              "6255718      34.0     -112.0  20151231     0\n",
              "6255721      34.0     -110.0  20151231     0\n",
              "6255723      40.0      -74.0  20151231    69\n",
              "6255724      40.0      -74.0  20151231    69\n",
              "\n",
              "[1822364 rows x 4 columns]"
            ]
          },
          "metadata": {
            "tags": []
          },
          "execution_count": 13
        }
      ]
    },
    {
      "cell_type": "code",
      "metadata": {
        "id": "XCfunK3BwKQd",
        "colab_type": "code",
        "outputId": "38585164-8790-48f2-cf89-69fb467ac9bf",
        "colab": {
          "base_uri": "https://localhost:8080/",
          "height": 419
        }
      },
      "source": [
        "temp3=temp3[['LATITUDE','LONGITUDE','date','value']]\n",
        "temp3.rename(columns={'value':'TOBS'}, inplace=True)\n",
        "temp3"
      ],
      "execution_count": 0,
      "outputs": [
        {
          "output_type": "execute_result",
          "data": {
            "text/html": [
              "<div>\n",
              "<style scoped>\n",
              "    .dataframe tbody tr th:only-of-type {\n",
              "        vertical-align: middle;\n",
              "    }\n",
              "\n",
              "    .dataframe tbody tr th {\n",
              "        vertical-align: top;\n",
              "    }\n",
              "\n",
              "    .dataframe thead th {\n",
              "        text-align: right;\n",
              "    }\n",
              "</style>\n",
              "<table border=\"1\" class=\"dataframe\">\n",
              "  <thead>\n",
              "    <tr style=\"text-align: right;\">\n",
              "      <th></th>\n",
              "      <th>LATITUDE</th>\n",
              "      <th>LONGITUDE</th>\n",
              "      <th>date</th>\n",
              "      <th>TOBS</th>\n",
              "    </tr>\n",
              "  </thead>\n",
              "  <tbody>\n",
              "    <tr>\n",
              "      <th>12</th>\n",
              "      <td>40.0</td>\n",
              "      <td>-96.0</td>\n",
              "      <td>20150101</td>\n",
              "      <td>-128</td>\n",
              "    </tr>\n",
              "    <tr>\n",
              "      <th>96</th>\n",
              "      <td>38.0</td>\n",
              "      <td>-93.0</td>\n",
              "      <td>20150101</td>\n",
              "      <td>-50</td>\n",
              "    </tr>\n",
              "    <tr>\n",
              "      <th>113</th>\n",
              "      <td>41.0</td>\n",
              "      <td>-72.0</td>\n",
              "      <td>20150101</td>\n",
              "      <td>44</td>\n",
              "    </tr>\n",
              "    <tr>\n",
              "      <th>287</th>\n",
              "      <td>36.0</td>\n",
              "      <td>-78.0</td>\n",
              "      <td>20150101</td>\n",
              "      <td>-6</td>\n",
              "    </tr>\n",
              "    <tr>\n",
              "      <th>297</th>\n",
              "      <td>39.0</td>\n",
              "      <td>-94.0</td>\n",
              "      <td>20150101</td>\n",
              "      <td>-83</td>\n",
              "    </tr>\n",
              "    <tr>\n",
              "      <th>...</th>\n",
              "      <td>...</td>\n",
              "      <td>...</td>\n",
              "      <td>...</td>\n",
              "      <td>...</td>\n",
              "    </tr>\n",
              "    <tr>\n",
              "      <th>6255585</th>\n",
              "      <td>49.0</td>\n",
              "      <td>-119.0</td>\n",
              "      <td>20151231</td>\n",
              "      <td>-139</td>\n",
              "    </tr>\n",
              "    <tr>\n",
              "      <th>6255586</th>\n",
              "      <td>49.0</td>\n",
              "      <td>-119.0</td>\n",
              "      <td>20151231</td>\n",
              "      <td>-139</td>\n",
              "    </tr>\n",
              "    <tr>\n",
              "      <th>6255587</th>\n",
              "      <td>49.0</td>\n",
              "      <td>-119.0</td>\n",
              "      <td>20151231</td>\n",
              "      <td>-139</td>\n",
              "    </tr>\n",
              "    <tr>\n",
              "      <th>6255626</th>\n",
              "      <td>31.0</td>\n",
              "      <td>-83.0</td>\n",
              "      <td>20151231</td>\n",
              "      <td>200</td>\n",
              "    </tr>\n",
              "    <tr>\n",
              "      <th>6255693</th>\n",
              "      <td>40.0</td>\n",
              "      <td>-102.0</td>\n",
              "      <td>20151231</td>\n",
              "      <td>-78</td>\n",
              "    </tr>\n",
              "  </tbody>\n",
              "</table>\n",
              "<p>402997 rows × 4 columns</p>\n",
              "</div>"
            ],
            "text/plain": [
              "         LATITUDE  LONGITUDE      date  TOBS\n",
              "12           40.0      -96.0  20150101  -128\n",
              "96           38.0      -93.0  20150101   -50\n",
              "113          41.0      -72.0  20150101    44\n",
              "287          36.0      -78.0  20150101    -6\n",
              "297          39.0      -94.0  20150101   -83\n",
              "...           ...        ...       ...   ...\n",
              "6255585      49.0     -119.0  20151231  -139\n",
              "6255586      49.0     -119.0  20151231  -139\n",
              "6255587      49.0     -119.0  20151231  -139\n",
              "6255626      31.0      -83.0  20151231   200\n",
              "6255693      40.0     -102.0  20151231   -78\n",
              "\n",
              "[402997 rows x 4 columns]"
            ]
          },
          "metadata": {
            "tags": []
          },
          "execution_count": 14
        }
      ]
    },
    {
      "cell_type": "code",
      "metadata": {
        "id": "xYzm-X2CwyDr",
        "colab_type": "code",
        "outputId": "dc74b866-c596-47ed-8f18-fd211408e5ea",
        "colab": {
          "base_uri": "https://localhost:8080/",
          "height": 419
        }
      },
      "source": [
        "temp4=temp4[['LATITUDE','LONGITUDE','date','value']]\n",
        "temp4.rename(columns={'value':'SNOW'}, inplace=True)\n",
        "temp4"
      ],
      "execution_count": 0,
      "outputs": [
        {
          "output_type": "execute_result",
          "data": {
            "text/html": [
              "<div>\n",
              "<style scoped>\n",
              "    .dataframe tbody tr th:only-of-type {\n",
              "        vertical-align: middle;\n",
              "    }\n",
              "\n",
              "    .dataframe tbody tr th {\n",
              "        vertical-align: top;\n",
              "    }\n",
              "\n",
              "    .dataframe thead th {\n",
              "        text-align: right;\n",
              "    }\n",
              "</style>\n",
              "<table border=\"1\" class=\"dataframe\">\n",
              "  <thead>\n",
              "    <tr style=\"text-align: right;\">\n",
              "      <th></th>\n",
              "      <th>LATITUDE</th>\n",
              "      <th>LONGITUDE</th>\n",
              "      <th>date</th>\n",
              "      <th>SNOW</th>\n",
              "    </tr>\n",
              "  </thead>\n",
              "  <tbody>\n",
              "    <tr>\n",
              "      <th>5</th>\n",
              "      <td>36.0</td>\n",
              "      <td>-78.0</td>\n",
              "      <td>20150101</td>\n",
              "      <td>0</td>\n",
              "    </tr>\n",
              "    <tr>\n",
              "      <th>7</th>\n",
              "      <td>41.0</td>\n",
              "      <td>-76.0</td>\n",
              "      <td>20150101</td>\n",
              "      <td>0</td>\n",
              "    </tr>\n",
              "    <tr>\n",
              "      <th>9</th>\n",
              "      <td>38.0</td>\n",
              "      <td>-93.0</td>\n",
              "      <td>20150101</td>\n",
              "      <td>0</td>\n",
              "    </tr>\n",
              "    <tr>\n",
              "      <th>20</th>\n",
              "      <td>42.0</td>\n",
              "      <td>-89.0</td>\n",
              "      <td>20150101</td>\n",
              "      <td>0</td>\n",
              "    </tr>\n",
              "    <tr>\n",
              "      <th>45</th>\n",
              "      <td>39.0</td>\n",
              "      <td>-94.0</td>\n",
              "      <td>20150101</td>\n",
              "      <td>0</td>\n",
              "    </tr>\n",
              "    <tr>\n",
              "      <th>...</th>\n",
              "      <td>...</td>\n",
              "      <td>...</td>\n",
              "      <td>...</td>\n",
              "      <td>...</td>\n",
              "    </tr>\n",
              "    <tr>\n",
              "      <th>6255715</th>\n",
              "      <td>33.0</td>\n",
              "      <td>-112.0</td>\n",
              "      <td>20151231</td>\n",
              "      <td>0</td>\n",
              "    </tr>\n",
              "    <tr>\n",
              "      <th>6255716</th>\n",
              "      <td>33.0</td>\n",
              "      <td>-112.0</td>\n",
              "      <td>20151231</td>\n",
              "      <td>0</td>\n",
              "    </tr>\n",
              "    <tr>\n",
              "      <th>6255719</th>\n",
              "      <td>34.0</td>\n",
              "      <td>-112.0</td>\n",
              "      <td>20151231</td>\n",
              "      <td>0</td>\n",
              "    </tr>\n",
              "    <tr>\n",
              "      <th>6255720</th>\n",
              "      <td>34.0</td>\n",
              "      <td>-112.0</td>\n",
              "      <td>20151231</td>\n",
              "      <td>0</td>\n",
              "    </tr>\n",
              "    <tr>\n",
              "      <th>6255722</th>\n",
              "      <td>34.0</td>\n",
              "      <td>-110.0</td>\n",
              "      <td>20151231</td>\n",
              "      <td>0</td>\n",
              "    </tr>\n",
              "  </tbody>\n",
              "</table>\n",
              "<p>1222034 rows × 4 columns</p>\n",
              "</div>"
            ],
            "text/plain": [
              "         LATITUDE  LONGITUDE      date  SNOW\n",
              "5            36.0      -78.0  20150101     0\n",
              "7            41.0      -76.0  20150101     0\n",
              "9            38.0      -93.0  20150101     0\n",
              "20           42.0      -89.0  20150101     0\n",
              "45           39.0      -94.0  20150101     0\n",
              "...           ...        ...       ...   ...\n",
              "6255715      33.0     -112.0  20151231     0\n",
              "6255716      33.0     -112.0  20151231     0\n",
              "6255719      34.0     -112.0  20151231     0\n",
              "6255720      34.0     -112.0  20151231     0\n",
              "6255722      34.0     -110.0  20151231     0\n",
              "\n",
              "[1222034 rows x 4 columns]"
            ]
          },
          "metadata": {
            "tags": []
          },
          "execution_count": 15
        }
      ]
    },
    {
      "cell_type": "code",
      "metadata": {
        "id": "y2sF--XgxUgT",
        "colab_type": "code",
        "colab": {}
      },
      "source": [
        "# temp1.astype({'TMAX': 'int32'}).dtypes\n",
        "temp1['TMAX']=pd.to_numeric(temp1['TMAX'])\n",
        "temp2['PRCP']=pd.to_numeric(temp2['PRCP'])\n",
        "temp3['TOBS']=pd.to_numeric(temp3['TOBS'])\n",
        "temp4['SNOW']=pd.to_numeric(temp4['SNOW'])"
      ],
      "execution_count": 0,
      "outputs": []
    },
    {
      "cell_type": "code",
      "metadata": {
        "id": "7qszcVXnyrkX",
        "colab_type": "code",
        "outputId": "5d8552c4-03f6-4ef9-ac03-845ed31d1f41",
        "colab": {
          "base_uri": "https://localhost:8080/",
          "height": 419
        }
      },
      "source": [
        "temp2"
      ],
      "execution_count": 0,
      "outputs": [
        {
          "output_type": "execute_result",
          "data": {
            "text/html": [
              "<div>\n",
              "<style scoped>\n",
              "    .dataframe tbody tr th:only-of-type {\n",
              "        vertical-align: middle;\n",
              "    }\n",
              "\n",
              "    .dataframe tbody tr th {\n",
              "        vertical-align: top;\n",
              "    }\n",
              "\n",
              "    .dataframe thead th {\n",
              "        text-align: right;\n",
              "    }\n",
              "</style>\n",
              "<table border=\"1\" class=\"dataframe\">\n",
              "  <thead>\n",
              "    <tr style=\"text-align: right;\">\n",
              "      <th></th>\n",
              "      <th>LATITUDE</th>\n",
              "      <th>LONGITUDE</th>\n",
              "      <th>date</th>\n",
              "      <th>PRCP</th>\n",
              "    </tr>\n",
              "  </thead>\n",
              "  <tbody>\n",
              "    <tr>\n",
              "      <th>0</th>\n",
              "      <td>34.0</td>\n",
              "      <td>-112.0</td>\n",
              "      <td>20150101</td>\n",
              "      <td>13</td>\n",
              "    </tr>\n",
              "    <tr>\n",
              "      <th>1</th>\n",
              "      <td>34.0</td>\n",
              "      <td>-112.0</td>\n",
              "      <td>20150101</td>\n",
              "      <td>13</td>\n",
              "    </tr>\n",
              "    <tr>\n",
              "      <th>2</th>\n",
              "      <td>34.0</td>\n",
              "      <td>-112.0</td>\n",
              "      <td>20150101</td>\n",
              "      <td>13</td>\n",
              "    </tr>\n",
              "    <tr>\n",
              "      <th>3</th>\n",
              "      <td>34.0</td>\n",
              "      <td>-112.0</td>\n",
              "      <td>20150101</td>\n",
              "      <td>13</td>\n",
              "    </tr>\n",
              "    <tr>\n",
              "      <th>4</th>\n",
              "      <td>36.0</td>\n",
              "      <td>-78.0</td>\n",
              "      <td>20150101</td>\n",
              "      <td>0</td>\n",
              "    </tr>\n",
              "    <tr>\n",
              "      <th>...</th>\n",
              "      <td>...</td>\n",
              "      <td>...</td>\n",
              "      <td>...</td>\n",
              "      <td>...</td>\n",
              "    </tr>\n",
              "    <tr>\n",
              "      <th>6255717</th>\n",
              "      <td>34.0</td>\n",
              "      <td>-112.0</td>\n",
              "      <td>20151231</td>\n",
              "      <td>0</td>\n",
              "    </tr>\n",
              "    <tr>\n",
              "      <th>6255718</th>\n",
              "      <td>34.0</td>\n",
              "      <td>-112.0</td>\n",
              "      <td>20151231</td>\n",
              "      <td>0</td>\n",
              "    </tr>\n",
              "    <tr>\n",
              "      <th>6255721</th>\n",
              "      <td>34.0</td>\n",
              "      <td>-110.0</td>\n",
              "      <td>20151231</td>\n",
              "      <td>0</td>\n",
              "    </tr>\n",
              "    <tr>\n",
              "      <th>6255723</th>\n",
              "      <td>40.0</td>\n",
              "      <td>-74.0</td>\n",
              "      <td>20151231</td>\n",
              "      <td>69</td>\n",
              "    </tr>\n",
              "    <tr>\n",
              "      <th>6255724</th>\n",
              "      <td>40.0</td>\n",
              "      <td>-74.0</td>\n",
              "      <td>20151231</td>\n",
              "      <td>69</td>\n",
              "    </tr>\n",
              "  </tbody>\n",
              "</table>\n",
              "<p>1822364 rows × 4 columns</p>\n",
              "</div>"
            ],
            "text/plain": [
              "         LATITUDE  LONGITUDE      date  PRCP\n",
              "0            34.0     -112.0  20150101    13\n",
              "1            34.0     -112.0  20150101    13\n",
              "2            34.0     -112.0  20150101    13\n",
              "3            34.0     -112.0  20150101    13\n",
              "4            36.0      -78.0  20150101     0\n",
              "...           ...        ...       ...   ...\n",
              "6255717      34.0     -112.0  20151231     0\n",
              "6255718      34.0     -112.0  20151231     0\n",
              "6255721      34.0     -110.0  20151231     0\n",
              "6255723      40.0      -74.0  20151231    69\n",
              "6255724      40.0      -74.0  20151231    69\n",
              "\n",
              "[1822364 rows x 4 columns]"
            ]
          },
          "metadata": {
            "tags": []
          },
          "execution_count": 17
        }
      ]
    },
    {
      "cell_type": "code",
      "metadata": {
        "id": "eUCHAxsiWhjQ",
        "colab_type": "code",
        "colab": {}
      },
      "source": [
        "temp1=temp1.groupby(by=['LATITUDE','LONGITUDE','date']).mean().reset_index()\n",
        "temp2=temp2.groupby(by=['LATITUDE','LONGITUDE','date']).mean().reset_index()\n",
        "temp3=temp3.groupby(by=['LATITUDE','LONGITUDE','date']).mean().reset_index()\n",
        "temp4=temp4.groupby(by=['LATITUDE','LONGITUDE','date']).mean().reset_index()"
      ],
      "execution_count": 0,
      "outputs": []
    },
    {
      "cell_type": "markdown",
      "metadata": {
        "id": "zG8t4Pkdn4S7",
        "colab_type": "text"
      },
      "source": [
        "Merge the resulting dataframes containing Maximum Temperature, Precipitation, Snow level, and Time of Observation changes into `temp`."
      ]
    },
    {
      "cell_type": "code",
      "metadata": {
        "id": "j1-mRs6Ay_Nn",
        "colab_type": "code",
        "colab": {}
      },
      "source": [
        "x=pd.merge(temp1, temp2, on=['LATITUDE','LONGITUDE','date'], how='inner')\n",
        "y=pd.merge(temp3, temp4, on=['LATITUDE','LONGITUDE','date'], how='inner')\n",
        "temp=pd.merge(x, y, on=['LATITUDE','LONGITUDE','date'], how='inner')"
      ],
      "execution_count": 0,
      "outputs": []
    },
    {
      "cell_type": "code",
      "metadata": {
        "id": "_T77Yfx90CxD",
        "colab_type": "code",
        "outputId": "d50968f6-8f32-4f87-ba31-813b43d5d595",
        "colab": {
          "base_uri": "https://localhost:8080/",
          "height": 419
        }
      },
      "source": [
        "temp"
      ],
      "execution_count": 0,
      "outputs": [
        {
          "output_type": "execute_result",
          "data": {
            "text/html": [
              "<div>\n",
              "<style scoped>\n",
              "    .dataframe tbody tr th:only-of-type {\n",
              "        vertical-align: middle;\n",
              "    }\n",
              "\n",
              "    .dataframe tbody tr th {\n",
              "        vertical-align: top;\n",
              "    }\n",
              "\n",
              "    .dataframe thead th {\n",
              "        text-align: right;\n",
              "    }\n",
              "</style>\n",
              "<table border=\"1\" class=\"dataframe\">\n",
              "  <thead>\n",
              "    <tr style=\"text-align: right;\">\n",
              "      <th></th>\n",
              "      <th>LATITUDE</th>\n",
              "      <th>LONGITUDE</th>\n",
              "      <th>date</th>\n",
              "      <th>TMAX</th>\n",
              "      <th>PRCP</th>\n",
              "      <th>TOBS</th>\n",
              "      <th>SNOW</th>\n",
              "    </tr>\n",
              "  </thead>\n",
              "  <tbody>\n",
              "    <tr>\n",
              "      <th>0</th>\n",
              "      <td>18.0</td>\n",
              "      <td>-67.0</td>\n",
              "      <td>20150313</td>\n",
              "      <td>289.500000</td>\n",
              "      <td>5.657143</td>\n",
              "      <td>211.285714</td>\n",
              "      <td>0.0</td>\n",
              "    </tr>\n",
              "    <tr>\n",
              "      <th>1</th>\n",
              "      <td>18.0</td>\n",
              "      <td>-67.0</td>\n",
              "      <td>20150317</td>\n",
              "      <td>286.222222</td>\n",
              "      <td>37.000000</td>\n",
              "      <td>202.125000</td>\n",
              "      <td>0.0</td>\n",
              "    </tr>\n",
              "    <tr>\n",
              "      <th>2</th>\n",
              "      <td>18.0</td>\n",
              "      <td>-67.0</td>\n",
              "      <td>20150319</td>\n",
              "      <td>290.222222</td>\n",
              "      <td>14.000000</td>\n",
              "      <td>219.250000</td>\n",
              "      <td>0.0</td>\n",
              "    </tr>\n",
              "    <tr>\n",
              "      <th>3</th>\n",
              "      <td>18.0</td>\n",
              "      <td>-67.0</td>\n",
              "      <td>20150501</td>\n",
              "      <td>311.666667</td>\n",
              "      <td>0.000000</td>\n",
              "      <td>235.111111</td>\n",
              "      <td>0.0</td>\n",
              "    </tr>\n",
              "    <tr>\n",
              "      <th>4</th>\n",
              "      <td>18.0</td>\n",
              "      <td>-67.0</td>\n",
              "      <td>20150623</td>\n",
              "      <td>311.300000</td>\n",
              "      <td>134.843750</td>\n",
              "      <td>246.888889</td>\n",
              "      <td>0.0</td>\n",
              "    </tr>\n",
              "    <tr>\n",
              "      <th>...</th>\n",
              "      <td>...</td>\n",
              "      <td>...</td>\n",
              "      <td>...</td>\n",
              "      <td>...</td>\n",
              "      <td>...</td>\n",
              "      <td>...</td>\n",
              "      <td>...</td>\n",
              "    </tr>\n",
              "    <tr>\n",
              "      <th>31978</th>\n",
              "      <td>65.0</td>\n",
              "      <td>-141.0</td>\n",
              "      <td>20150618</td>\n",
              "      <td>245.000000</td>\n",
              "      <td>0.000000</td>\n",
              "      <td>102.500000</td>\n",
              "      <td>0.0</td>\n",
              "    </tr>\n",
              "    <tr>\n",
              "      <th>31979</th>\n",
              "      <td>65.0</td>\n",
              "      <td>-141.0</td>\n",
              "      <td>20150621</td>\n",
              "      <td>269.750000</td>\n",
              "      <td>1.000000</td>\n",
              "      <td>140.500000</td>\n",
              "      <td>0.0</td>\n",
              "    </tr>\n",
              "    <tr>\n",
              "      <th>31980</th>\n",
              "      <td>65.0</td>\n",
              "      <td>-141.0</td>\n",
              "      <td>20150813</td>\n",
              "      <td>164.750000</td>\n",
              "      <td>19.333333</td>\n",
              "      <td>79.000000</td>\n",
              "      <td>0.0</td>\n",
              "    </tr>\n",
              "    <tr>\n",
              "      <th>31981</th>\n",
              "      <td>65.0</td>\n",
              "      <td>-141.0</td>\n",
              "      <td>20151005</td>\n",
              "      <td>60.000000</td>\n",
              "      <td>0.000000</td>\n",
              "      <td>-4.500000</td>\n",
              "      <td>0.0</td>\n",
              "    </tr>\n",
              "    <tr>\n",
              "      <th>31982</th>\n",
              "      <td>67.0</td>\n",
              "      <td>-150.0</td>\n",
              "      <td>20150929</td>\n",
              "      <td>24.000000</td>\n",
              "      <td>0.000000</td>\n",
              "      <td>-44.000000</td>\n",
              "      <td>0.0</td>\n",
              "    </tr>\n",
              "  </tbody>\n",
              "</table>\n",
              "<p>31983 rows × 7 columns</p>\n",
              "</div>"
            ],
            "text/plain": [
              "       LATITUDE  LONGITUDE      date        TMAX        PRCP        TOBS  SNOW\n",
              "0          18.0      -67.0  20150313  289.500000    5.657143  211.285714   0.0\n",
              "1          18.0      -67.0  20150317  286.222222   37.000000  202.125000   0.0\n",
              "2          18.0      -67.0  20150319  290.222222   14.000000  219.250000   0.0\n",
              "3          18.0      -67.0  20150501  311.666667    0.000000  235.111111   0.0\n",
              "4          18.0      -67.0  20150623  311.300000  134.843750  246.888889   0.0\n",
              "...         ...        ...       ...         ...         ...         ...   ...\n",
              "31978      65.0     -141.0  20150618  245.000000    0.000000  102.500000   0.0\n",
              "31979      65.0     -141.0  20150621  269.750000    1.000000  140.500000   0.0\n",
              "31980      65.0     -141.0  20150813  164.750000   19.333333   79.000000   0.0\n",
              "31981      65.0     -141.0  20151005   60.000000    0.000000   -4.500000   0.0\n",
              "31982      67.0     -150.0  20150929   24.000000    0.000000  -44.000000   0.0\n",
              "\n",
              "[31983 rows x 7 columns]"
            ]
          },
          "metadata": {
            "tags": []
          },
          "execution_count": 20
        }
      ]
    },
    {
      "cell_type": "markdown",
      "metadata": {
        "id": "uxqYFyAgnEvV",
        "colab_type": "text"
      },
      "source": [
        "Converting the Timestamp into Julian date format and add Month and Weekday to the dataset."
      ]
    },
    {
      "cell_type": "code",
      "metadata": {
        "id": "fknyLQBXbEXU",
        "colab_type": "code",
        "outputId": "50f2d6e2-823c-4437-a569-692aa1dd94d1",
        "colab": {
          "base_uri": "https://localhost:8080/",
          "height": 173
        }
      },
      "source": [
        "fire=pd.read_csv('Fire.csv')\n",
        "df=fire\n",
        "\n",
        "df['disc_clean_date'] = pd.to_datetime(df['DISCOVERY_DATE'] - pd.Timestamp(0).to_julian_date(), unit='D')\n",
        "#Convert containment date from julian to standard date\n",
        "df['cont_clean_date'] = pd.to_datetime(df['CONT_DATE'] - pd.Timestamp(0).to_julian_date(), unit='D')\n",
        "# Day of month string\n",
        "df['discovery_month'] = df['disc_clean_date'].dt.strftime('%b')\n",
        "#Returns the weekday string\n",
        "df['discovery_weekday'] = df['disc_clean_date'].dt.strftime('%a')\n",
        "df['cont_clean_date']=df['cont_clean_date'].astype(str)\n",
        "df=df[df.cont_clean_date!='NaT']\n",
        "df['date']=df['cont_clean_date'].replace('-', '', regex=True).astype(int)\n",
        "df=df[['LATITUDE','LONGITUDE','STAT_CAUSE_CODE','DISCOVERY_DOY','date','FIRE_SIZE']]\n",
        "fire=df"
      ],
      "execution_count": 0,
      "outputs": [
        {
          "output_type": "stream",
          "text": [
            "/usr/local/lib/python3.6/dist-packages/IPython/core/interactiveshell.py:2718: DtypeWarning: Columns (9,11,12,13,14,15,16,17,18,19,36,38) have mixed types.Specify dtype option on import or set low_memory=False.\n",
            "  interactivity=interactivity, compiler=compiler, result=result)\n",
            "/usr/local/lib/python3.6/dist-packages/ipykernel_launcher.py:13: SettingWithCopyWarning: \n",
            "A value is trying to be set on a copy of a slice from a DataFrame.\n",
            "Try using .loc[row_indexer,col_indexer] = value instead\n",
            "\n",
            "See the caveats in the documentation: https://pandas.pydata.org/pandas-docs/stable/user_guide/indexing.html#returning-a-view-versus-a-copy\n",
            "  del sys.path[0]\n"
          ],
          "name": "stderr"
        }
      ]
    },
    {
      "cell_type": "code",
      "metadata": {
        "id": "zpWgM9OTh2MN",
        "colab_type": "code",
        "colab": {}
      },
      "source": [
        "# Round the Latitude and Longitude values to scale decimal places.\n",
        "fire['LATITUDE']=fire['LATITUDE'].round()\n",
        "fire['LONGITUDE']=fire['LONGITUDE'].round()\n"
      ],
      "execution_count": 0,
      "outputs": []
    },
    {
      "cell_type": "code",
      "metadata": {
        "id": "lOP_P1Renf2j",
        "colab_type": "code",
        "colab": {}
      },
      "source": [
        "# Converting the date to Integer Datatype\n",
        "fire['date']=fire['date'].astype(int)\n",
        "temp['date']=temp['date'].astype(int)"
      ],
      "execution_count": 0,
      "outputs": []
    },
    {
      "cell_type": "code",
      "metadata": {
        "id": "trtU_DIY08VZ",
        "colab_type": "code",
        "outputId": "f60945ea-698a-455e-e02b-4a69a6d9ec96",
        "colab": {
          "base_uri": "https://localhost:8080/",
          "height": 419
        }
      },
      "source": [
        "fire"
      ],
      "execution_count": 0,
      "outputs": [
        {
          "output_type": "execute_result",
          "data": {
            "text/html": [
              "<div>\n",
              "<style scoped>\n",
              "    .dataframe tbody tr th:only-of-type {\n",
              "        vertical-align: middle;\n",
              "    }\n",
              "\n",
              "    .dataframe tbody tr th {\n",
              "        vertical-align: top;\n",
              "    }\n",
              "\n",
              "    .dataframe thead th {\n",
              "        text-align: right;\n",
              "    }\n",
              "</style>\n",
              "<table border=\"1\" class=\"dataframe\">\n",
              "  <thead>\n",
              "    <tr style=\"text-align: right;\">\n",
              "      <th></th>\n",
              "      <th>LATITUDE</th>\n",
              "      <th>LONGITUDE</th>\n",
              "      <th>STAT_CAUSE_CODE</th>\n",
              "      <th>DISCOVERY_DOY</th>\n",
              "      <th>date</th>\n",
              "      <th>FIRE_SIZE</th>\n",
              "    </tr>\n",
              "  </thead>\n",
              "  <tbody>\n",
              "    <tr>\n",
              "      <th>0</th>\n",
              "      <td>40.0</td>\n",
              "      <td>-121.0</td>\n",
              "      <td>9.0</td>\n",
              "      <td>33</td>\n",
              "      <td>20050202</td>\n",
              "      <td>0.10</td>\n",
              "    </tr>\n",
              "    <tr>\n",
              "      <th>1</th>\n",
              "      <td>39.0</td>\n",
              "      <td>-120.0</td>\n",
              "      <td>1.0</td>\n",
              "      <td>133</td>\n",
              "      <td>20040512</td>\n",
              "      <td>0.25</td>\n",
              "    </tr>\n",
              "    <tr>\n",
              "      <th>2</th>\n",
              "      <td>39.0</td>\n",
              "      <td>-121.0</td>\n",
              "      <td>5.0</td>\n",
              "      <td>152</td>\n",
              "      <td>20040531</td>\n",
              "      <td>0.10</td>\n",
              "    </tr>\n",
              "    <tr>\n",
              "      <th>3</th>\n",
              "      <td>39.0</td>\n",
              "      <td>-120.0</td>\n",
              "      <td>1.0</td>\n",
              "      <td>180</td>\n",
              "      <td>20040703</td>\n",
              "      <td>0.10</td>\n",
              "    </tr>\n",
              "    <tr>\n",
              "      <th>4</th>\n",
              "      <td>39.0</td>\n",
              "      <td>-120.0</td>\n",
              "      <td>1.0</td>\n",
              "      <td>180</td>\n",
              "      <td>20040703</td>\n",
              "      <td>0.10</td>\n",
              "    </tr>\n",
              "    <tr>\n",
              "      <th>...</th>\n",
              "      <td>...</td>\n",
              "      <td>...</td>\n",
              "      <td>...</td>\n",
              "      <td>...</td>\n",
              "      <td>...</td>\n",
              "      <td>...</td>\n",
              "    </tr>\n",
              "    <tr>\n",
              "      <th>1880456</th>\n",
              "      <td>40.0</td>\n",
              "      <td>-122.0</td>\n",
              "      <td>13.0</td>\n",
              "      <td>165</td>\n",
              "      <td>20150614</td>\n",
              "      <td>2.22</td>\n",
              "    </tr>\n",
              "    <tr>\n",
              "      <th>1880457</th>\n",
              "      <td>41.0</td>\n",
              "      <td>-123.0</td>\n",
              "      <td>7.0</td>\n",
              "      <td>273</td>\n",
              "      <td>20151001</td>\n",
              "      <td>1.00</td>\n",
              "    </tr>\n",
              "    <tr>\n",
              "      <th>1880458</th>\n",
              "      <td>40.0</td>\n",
              "      <td>-124.0</td>\n",
              "      <td>1.0</td>\n",
              "      <td>213</td>\n",
              "      <td>20150806</td>\n",
              "      <td>4.00</td>\n",
              "    </tr>\n",
              "    <tr>\n",
              "      <th>1880459</th>\n",
              "      <td>38.0</td>\n",
              "      <td>-123.0</td>\n",
              "      <td>9.0</td>\n",
              "      <td>148</td>\n",
              "      <td>20150528</td>\n",
              "      <td>0.50</td>\n",
              "    </tr>\n",
              "    <tr>\n",
              "      <th>1880460</th>\n",
              "      <td>40.0</td>\n",
              "      <td>-122.0</td>\n",
              "      <td>13.0</td>\n",
              "      <td>269</td>\n",
              "      <td>20150926</td>\n",
              "      <td>0.01</td>\n",
              "    </tr>\n",
              "  </tbody>\n",
              "</table>\n",
              "<p>988934 rows × 6 columns</p>\n",
              "</div>"
            ],
            "text/plain": [
              "         LATITUDE  LONGITUDE  ...      date  FIRE_SIZE\n",
              "0            40.0     -121.0  ...  20050202       0.10\n",
              "1            39.0     -120.0  ...  20040512       0.25\n",
              "2            39.0     -121.0  ...  20040531       0.10\n",
              "3            39.0     -120.0  ...  20040703       0.10\n",
              "4            39.0     -120.0  ...  20040703       0.10\n",
              "...           ...        ...  ...       ...        ...\n",
              "1880456      40.0     -122.0  ...  20150614       2.22\n",
              "1880457      41.0     -123.0  ...  20151001       1.00\n",
              "1880458      40.0     -124.0  ...  20150806       4.00\n",
              "1880459      38.0     -123.0  ...  20150528       0.50\n",
              "1880460      40.0     -122.0  ...  20150926       0.01\n",
              "\n",
              "[988934 rows x 6 columns]"
            ]
          },
          "metadata": {
            "tags": []
          },
          "execution_count": 24
        }
      ]
    },
    {
      "cell_type": "code",
      "metadata": {
        "id": "3XpJbOz4glyf",
        "colab_type": "code",
        "colab": {}
      },
      "source": [
        "# Perform the inner join temp dataframe and fire\n",
        "finalFinal = pd.merge(temp, fire, on=['LATITUDE','LONGITUDE','date'], how='inner')"
      ],
      "execution_count": 0,
      "outputs": []
    },
    {
      "cell_type": "code",
      "metadata": {
        "id": "L93g2lwaHTOs",
        "colab_type": "code",
        "outputId": "60d16d63-1a28-42ce-cf7d-b80b5db6279a",
        "colab": {
          "base_uri": "https://localhost:8080/",
          "height": 419
        }
      },
      "source": [
        "finalFinal"
      ],
      "execution_count": 0,
      "outputs": [
        {
          "output_type": "execute_result",
          "data": {
            "text/html": [
              "<div>\n",
              "<style scoped>\n",
              "    .dataframe tbody tr th:only-of-type {\n",
              "        vertical-align: middle;\n",
              "    }\n",
              "\n",
              "    .dataframe tbody tr th {\n",
              "        vertical-align: top;\n",
              "    }\n",
              "\n",
              "    .dataframe thead th {\n",
              "        text-align: right;\n",
              "    }\n",
              "</style>\n",
              "<table border=\"1\" class=\"dataframe\">\n",
              "  <thead>\n",
              "    <tr style=\"text-align: right;\">\n",
              "      <th></th>\n",
              "      <th>LATITUDE</th>\n",
              "      <th>LONGITUDE</th>\n",
              "      <th>date</th>\n",
              "      <th>TMAX</th>\n",
              "      <th>PRCP</th>\n",
              "      <th>TOBS</th>\n",
              "      <th>SNOW</th>\n",
              "      <th>STAT_CAUSE_CODE</th>\n",
              "      <th>DISCOVERY_DOY</th>\n",
              "      <th>FIRE_SIZE</th>\n",
              "    </tr>\n",
              "  </thead>\n",
              "  <tbody>\n",
              "    <tr>\n",
              "      <th>0</th>\n",
              "      <td>18.0</td>\n",
              "      <td>-67.0</td>\n",
              "      <td>20150313</td>\n",
              "      <td>289.500000</td>\n",
              "      <td>5.657143</td>\n",
              "      <td>211.285714</td>\n",
              "      <td>0.0</td>\n",
              "      <td>7.0</td>\n",
              "      <td>71</td>\n",
              "      <td>1.10</td>\n",
              "    </tr>\n",
              "    <tr>\n",
              "      <th>1</th>\n",
              "      <td>18.0</td>\n",
              "      <td>-67.0</td>\n",
              "      <td>20150313</td>\n",
              "      <td>289.500000</td>\n",
              "      <td>5.657143</td>\n",
              "      <td>211.285714</td>\n",
              "      <td>0.0</td>\n",
              "      <td>7.0</td>\n",
              "      <td>71</td>\n",
              "      <td>1.80</td>\n",
              "    </tr>\n",
              "    <tr>\n",
              "      <th>2</th>\n",
              "      <td>18.0</td>\n",
              "      <td>-67.0</td>\n",
              "      <td>20150313</td>\n",
              "      <td>289.500000</td>\n",
              "      <td>5.657143</td>\n",
              "      <td>211.285714</td>\n",
              "      <td>0.0</td>\n",
              "      <td>7.0</td>\n",
              "      <td>71</td>\n",
              "      <td>0.75</td>\n",
              "    </tr>\n",
              "    <tr>\n",
              "      <th>3</th>\n",
              "      <td>18.0</td>\n",
              "      <td>-67.0</td>\n",
              "      <td>20150317</td>\n",
              "      <td>286.222222</td>\n",
              "      <td>37.000000</td>\n",
              "      <td>202.125000</td>\n",
              "      <td>0.0</td>\n",
              "      <td>7.0</td>\n",
              "      <td>76</td>\n",
              "      <td>0.50</td>\n",
              "    </tr>\n",
              "    <tr>\n",
              "      <th>4</th>\n",
              "      <td>18.0</td>\n",
              "      <td>-67.0</td>\n",
              "      <td>20150319</td>\n",
              "      <td>290.222222</td>\n",
              "      <td>14.000000</td>\n",
              "      <td>219.250000</td>\n",
              "      <td>0.0</td>\n",
              "      <td>7.0</td>\n",
              "      <td>78</td>\n",
              "      <td>0.50</td>\n",
              "    </tr>\n",
              "    <tr>\n",
              "      <th>...</th>\n",
              "      <td>...</td>\n",
              "      <td>...</td>\n",
              "      <td>...</td>\n",
              "      <td>...</td>\n",
              "      <td>...</td>\n",
              "      <td>...</td>\n",
              "      <td>...</td>\n",
              "      <td>...</td>\n",
              "      <td>...</td>\n",
              "      <td>...</td>\n",
              "    </tr>\n",
              "    <tr>\n",
              "      <th>60354</th>\n",
              "      <td>65.0</td>\n",
              "      <td>-141.0</td>\n",
              "      <td>20150618</td>\n",
              "      <td>245.000000</td>\n",
              "      <td>0.000000</td>\n",
              "      <td>102.500000</td>\n",
              "      <td>0.0</td>\n",
              "      <td>1.0</td>\n",
              "      <td>144</td>\n",
              "      <td>5.00</td>\n",
              "    </tr>\n",
              "    <tr>\n",
              "      <th>60355</th>\n",
              "      <td>65.0</td>\n",
              "      <td>-141.0</td>\n",
              "      <td>20150621</td>\n",
              "      <td>269.750000</td>\n",
              "      <td>1.000000</td>\n",
              "      <td>140.500000</td>\n",
              "      <td>0.0</td>\n",
              "      <td>1.0</td>\n",
              "      <td>148</td>\n",
              "      <td>0.30</td>\n",
              "    </tr>\n",
              "    <tr>\n",
              "      <th>60356</th>\n",
              "      <td>65.0</td>\n",
              "      <td>-141.0</td>\n",
              "      <td>20150813</td>\n",
              "      <td>164.750000</td>\n",
              "      <td>19.333333</td>\n",
              "      <td>79.000000</td>\n",
              "      <td>0.0</td>\n",
              "      <td>1.0</td>\n",
              "      <td>144</td>\n",
              "      <td>2902.30</td>\n",
              "    </tr>\n",
              "    <tr>\n",
              "      <th>60357</th>\n",
              "      <td>65.0</td>\n",
              "      <td>-141.0</td>\n",
              "      <td>20151005</td>\n",
              "      <td>60.000000</td>\n",
              "      <td>0.000000</td>\n",
              "      <td>-4.500000</td>\n",
              "      <td>0.0</td>\n",
              "      <td>1.0</td>\n",
              "      <td>128</td>\n",
              "      <td>56.00</td>\n",
              "    </tr>\n",
              "    <tr>\n",
              "      <th>60358</th>\n",
              "      <td>67.0</td>\n",
              "      <td>-150.0</td>\n",
              "      <td>20150929</td>\n",
              "      <td>24.000000</td>\n",
              "      <td>0.000000</td>\n",
              "      <td>-44.000000</td>\n",
              "      <td>0.0</td>\n",
              "      <td>1.0</td>\n",
              "      <td>183</td>\n",
              "      <td>4156.60</td>\n",
              "    </tr>\n",
              "  </tbody>\n",
              "</table>\n",
              "<p>60359 rows × 10 columns</p>\n",
              "</div>"
            ],
            "text/plain": [
              "       LATITUDE  LONGITUDE      date  ...  STAT_CAUSE_CODE  DISCOVERY_DOY  FIRE_SIZE\n",
              "0          18.0      -67.0  20150313  ...              7.0             71       1.10\n",
              "1          18.0      -67.0  20150313  ...              7.0             71       1.80\n",
              "2          18.0      -67.0  20150313  ...              7.0             71       0.75\n",
              "3          18.0      -67.0  20150317  ...              7.0             76       0.50\n",
              "4          18.0      -67.0  20150319  ...              7.0             78       0.50\n",
              "...         ...        ...       ...  ...              ...            ...        ...\n",
              "60354      65.0     -141.0  20150618  ...              1.0            144       5.00\n",
              "60355      65.0     -141.0  20150621  ...              1.0            148       0.30\n",
              "60356      65.0     -141.0  20150813  ...              1.0            144    2902.30\n",
              "60357      65.0     -141.0  20151005  ...              1.0            128      56.00\n",
              "60358      67.0     -150.0  20150929  ...              1.0            183    4156.60\n",
              "\n",
              "[60359 rows x 10 columns]"
            ]
          },
          "metadata": {
            "tags": []
          },
          "execution_count": 26
        }
      ]
    },
    {
      "cell_type": "markdown",
      "metadata": {
        "id": "LVrqIbOKoHRT",
        "colab_type": "text"
      },
      "source": [
        "Save the Final CSV file for that particular year. This process is repeated for all the 21 years."
      ]
    },
    {
      "cell_type": "code",
      "metadata": {
        "id": "l5jzQmGghBqG",
        "colab_type": "code",
        "colab": {}
      },
      "source": [
        "finalFinal.to_csv('2015.csv')"
      ],
      "execution_count": 0,
      "outputs": []
    },
    {
      "cell_type": "markdown",
      "metadata": {
        "id": "ZAgLpW_IohZE",
        "colab_type": "text"
      },
      "source": [
        "The below code shows how to aggregate individual 21 years of dataset into one final dataset."
      ]
    },
    {
      "cell_type": "code",
      "metadata": {
        "id": "C_djRwfboWgi",
        "colab_type": "code",
        "colab": {}
      },
      "source": [
        "import os\n",
        "import glob\n",
        "import pandas as pd"
      ],
      "execution_count": 0,
      "outputs": []
    },
    {
      "cell_type": "code",
      "metadata": {
        "id": "le-sLhvLo2hN",
        "colab_type": "code",
        "colab": {}
      },
      "source": [
        "extension = 'csv'\n",
        "all_filenames = [i for i in glob.glob('*.{}'.format(extension))]"
      ],
      "execution_count": 0,
      "outputs": []
    },
    {
      "cell_type": "code",
      "metadata": {
        "id": "w79iYRNgo8uH",
        "colab_type": "code",
        "colab": {}
      },
      "source": [
        "#combine all files in the list\n",
        "combined_csv = pd.concat([pd.read_csv(f) for f in all_filenames ])\n",
        "#export to csv\n",
        "combined_csv.to_csv(\"final.csv\", index=False, encoding='utf-8-sig')"
      ],
      "execution_count": 0,
      "outputs": []
    }
  ]
}
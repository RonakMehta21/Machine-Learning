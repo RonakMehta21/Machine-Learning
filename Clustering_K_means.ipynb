{
  "nbformat": 4,
  "nbformat_minor": 0,
  "metadata": {
    "colab": {
      "name": "Clustering K-means.ipynb",
      "provenance": [],
      "collapsed_sections": [],
      "authorship_tag": "ABX9TyPpga3sp1gReu9MmRkUCDzV",
      "include_colab_link": true
    },
    "kernelspec": {
      "name": "python3",
      "display_name": "Python 3"
    },
    "accelerator": "TPU"
  },
  "cells": [
    {
      "cell_type": "markdown",
      "metadata": {
        "id": "view-in-github",
        "colab_type": "text"
      },
      "source": [
        "<a href=\"https://colab.research.google.com/github/RonakMehta21/Machine-Learning/blob/master/Clustering_K_means.ipynb\" target=\"_parent\"><img src=\"https://colab.research.google.com/assets/colab-badge.svg\" alt=\"Open In Colab\"/></a>"
      ]
    },
    {
      "cell_type": "markdown",
      "metadata": {
        "id": "cgtrKXYCilqO",
        "colab_type": "text"
      },
      "source": [
        "# Assignment: Clustering K-Means"
      ]
    },
    {
      "cell_type": "markdown",
      "metadata": {
        "id": "sFlD1-x7jesZ",
        "colab_type": "text"
      },
      "source": [
        "## Machine Learning Life-cycle"
      ]
    },
    {
      "cell_type": "markdown",
      "metadata": {
        "id": "3PNo39xYjwnM",
        "colab_type": "text"
      },
      "source": [
        "> 1. Business Objective: Predicting Wildfire Damage Area\n",
        "2. Dataset: [1.88 Million US Wildfires](https://www.kaggle.com/rtatman/188-million-us-wildfires/version/1#FPA_FOD_20170508.sqlite)\n",
        "3. Data Wrangling, Exploratory Data Analysis, Preparation and Insights is shown below."
      ]
    },
    {
      "cell_type": "code",
      "metadata": {
        "id": "WFV2fCDFyCYy",
        "colab_type": "code",
        "colab": {}
      },
      "source": [
        "# Code to read csv file into Colaboratory:\n",
        "!pip install -U -q PyDrive\n",
        "from pydrive.auth import GoogleAuth\n",
        "from pydrive.drive import GoogleDrive\n",
        "from google.colab import auth\n",
        "from oauth2client.client import GoogleCredentials\n",
        "# Authenticate and create the PyDrive client.\n",
        "auth.authenticate_user()\n",
        "gauth = GoogleAuth()\n",
        "gauth.credentials = GoogleCredentials.get_application_default()\n",
        "drive = GoogleDrive(gauth)"
      ],
      "execution_count": 0,
      "outputs": []
    },
    {
      "cell_type": "code",
      "metadata": {
        "id": "QQKIjkx12BYu",
        "colab_type": "code",
        "colab": {
          "base_uri": "https://localhost:8080/",
          "height": 34
        },
        "outputId": "e9b4d801-85db-465f-ae9c-6ea944c9370a"
      },
      "source": [
        "link = 'https://drive.google.com/open?id=1ApRYxyMqnFKH8XW1GbQ-KZNJdbdeEdV9'\n",
        "fluff, id = link.split('=')\n",
        "print (id) # Verify that you have everything after '='"
      ],
      "execution_count": 3,
      "outputs": [
        {
          "output_type": "stream",
          "text": [
            "1ApRYxyMqnFKH8XW1GbQ-KZNJdbdeEdV9\n"
          ],
          "name": "stdout"
        }
      ]
    },
    {
      "cell_type": "code",
      "metadata": {
        "id": "tnoIn3dK3-RF",
        "colab_type": "code",
        "colab": {}
      },
      "source": [
        "#Import the necessary libraries\n",
        "#Note: Please make sure to change the runtime type to TPU\n",
        "import pandas as pd\n",
        "import matplotlib.pyplot as plt\n",
        "import numpy as np\n",
        "import seaborn as sns; sns.set()  # for plot styling\n",
        "%matplotlib inline"
      ],
      "execution_count": 0,
      "outputs": []
    },
    {
      "cell_type": "code",
      "metadata": {
        "id": "IDuBFseX3q5T",
        "colab_type": "code",
        "colab": {}
      },
      "source": [
        "downloaded = drive.CreateFile({'id':id}) \n",
        "downloaded.GetContentFile('Fire.csv')"
      ],
      "execution_count": 0,
      "outputs": []
    },
    {
      "cell_type": "code",
      "metadata": {
        "id": "VcVyCZDn3z9e",
        "colab_type": "code",
        "colab": {
          "base_uri": "https://localhost:8080/",
          "height": 71
        },
        "outputId": "9721322b-956f-49dc-b001-4b0f387ac9fe"
      },
      "source": [
        "df = pd.read_csv('Fire.csv')"
      ],
      "execution_count": 5,
      "outputs": [
        {
          "output_type": "stream",
          "text": [
            "/usr/local/lib/python3.6/dist-packages/IPython/core/interactiveshell.py:2718: DtypeWarning: Columns (9,11,12,13,14,15,16,17,18,19,36,38) have mixed types. Specify dtype option on import or set low_memory=False.\n",
            "  interactivity=interactivity, compiler=compiler, result=result)\n"
          ],
          "name": "stderr"
        }
      ]
    },
    {
      "cell_type": "code",
      "metadata": {
        "id": "EKUDE6mH4Gua",
        "colab_type": "code",
        "colab": {
          "base_uri": "https://localhost:8080/",
          "height": 507
        },
        "outputId": "d9f31cf8-bcf9-423f-d090-68e49332d489"
      },
      "source": [
        "#Unprocessed dataset\n",
        "df "
      ],
      "execution_count": 6,
      "outputs": [
        {
          "output_type": "execute_result",
          "data": {
            "text/html": [
              "<div>\n",
              "<style scoped>\n",
              "    .dataframe tbody tr th:only-of-type {\n",
              "        vertical-align: middle;\n",
              "    }\n",
              "\n",
              "    .dataframe tbody tr th {\n",
              "        vertical-align: top;\n",
              "    }\n",
              "\n",
              "    .dataframe thead th {\n",
              "        text-align: right;\n",
              "    }\n",
              "</style>\n",
              "<table border=\"1\" class=\"dataframe\">\n",
              "  <thead>\n",
              "    <tr style=\"text-align: right;\">\n",
              "      <th></th>\n",
              "      <th>Unnamed: 0</th>\n",
              "      <th>OBJECTID</th>\n",
              "      <th>FOD_ID</th>\n",
              "      <th>FPA_ID</th>\n",
              "      <th>SOURCE_SYSTEM_TYPE</th>\n",
              "      <th>SOURCE_SYSTEM</th>\n",
              "      <th>NWCG_REPORTING_AGENCY</th>\n",
              "      <th>NWCG_REPORTING_UNIT_ID</th>\n",
              "      <th>NWCG_REPORTING_UNIT_NAME</th>\n",
              "      <th>SOURCE_REPORTING_UNIT</th>\n",
              "      <th>SOURCE_REPORTING_UNIT_NAME</th>\n",
              "      <th>LOCAL_FIRE_REPORT_ID</th>\n",
              "      <th>LOCAL_INCIDENT_ID</th>\n",
              "      <th>FIRE_CODE</th>\n",
              "      <th>FIRE_NAME</th>\n",
              "      <th>ICS_209_INCIDENT_NUMBER</th>\n",
              "      <th>ICS_209_NAME</th>\n",
              "      <th>MTBS_ID</th>\n",
              "      <th>MTBS_FIRE_NAME</th>\n",
              "      <th>COMPLEX_NAME</th>\n",
              "      <th>FIRE_YEAR</th>\n",
              "      <th>DISCOVERY_DATE</th>\n",
              "      <th>DISCOVERY_DOY</th>\n",
              "      <th>DISCOVERY_TIME</th>\n",
              "      <th>STAT_CAUSE_CODE</th>\n",
              "      <th>STAT_CAUSE_DESCR</th>\n",
              "      <th>CONT_DATE</th>\n",
              "      <th>CONT_DOY</th>\n",
              "      <th>CONT_TIME</th>\n",
              "      <th>FIRE_SIZE</th>\n",
              "      <th>FIRE_SIZE_CLASS</th>\n",
              "      <th>LATITUDE</th>\n",
              "      <th>LONGITUDE</th>\n",
              "      <th>OWNER_CODE</th>\n",
              "      <th>OWNER_DESCR</th>\n",
              "      <th>STATE</th>\n",
              "      <th>COUNTY</th>\n",
              "      <th>FIPS_CODE</th>\n",
              "      <th>FIPS_NAME</th>\n",
              "      <th>Shape</th>\n",
              "    </tr>\n",
              "  </thead>\n",
              "  <tbody>\n",
              "    <tr>\n",
              "      <th>0</th>\n",
              "      <td>0</td>\n",
              "      <td>1</td>\n",
              "      <td>1</td>\n",
              "      <td>FS-1418826</td>\n",
              "      <td>FED</td>\n",
              "      <td>FS-FIRESTAT</td>\n",
              "      <td>FS</td>\n",
              "      <td>USCAPNF</td>\n",
              "      <td>Plumas National Forest</td>\n",
              "      <td>511</td>\n",
              "      <td>Plumas National Forest</td>\n",
              "      <td>1</td>\n",
              "      <td>PNF-47</td>\n",
              "      <td>BJ8K</td>\n",
              "      <td>FOUNTAIN</td>\n",
              "      <td>NaN</td>\n",
              "      <td>NaN</td>\n",
              "      <td>NaN</td>\n",
              "      <td>NaN</td>\n",
              "      <td>NaN</td>\n",
              "      <td>2005</td>\n",
              "      <td>2453403.5</td>\n",
              "      <td>33</td>\n",
              "      <td>1300.0</td>\n",
              "      <td>9.0</td>\n",
              "      <td>Miscellaneous</td>\n",
              "      <td>2453403.5</td>\n",
              "      <td>33.0</td>\n",
              "      <td>1730.0</td>\n",
              "      <td>0.10</td>\n",
              "      <td>A</td>\n",
              "      <td>40.036944</td>\n",
              "      <td>-121.005833</td>\n",
              "      <td>5.0</td>\n",
              "      <td>USFS</td>\n",
              "      <td>CA</td>\n",
              "      <td>63</td>\n",
              "      <td>63.0</td>\n",
              "      <td>Plumas</td>\n",
              "      <td>b'\\x00\\x01\\xad\\x10\\x00\\x00\\xe8d\\xc2\\x92_@^\\xc0...</td>\n",
              "    </tr>\n",
              "    <tr>\n",
              "      <th>1</th>\n",
              "      <td>1</td>\n",
              "      <td>2</td>\n",
              "      <td>2</td>\n",
              "      <td>FS-1418827</td>\n",
              "      <td>FED</td>\n",
              "      <td>FS-FIRESTAT</td>\n",
              "      <td>FS</td>\n",
              "      <td>USCAENF</td>\n",
              "      <td>Eldorado National Forest</td>\n",
              "      <td>503</td>\n",
              "      <td>Eldorado National Forest</td>\n",
              "      <td>13</td>\n",
              "      <td>13</td>\n",
              "      <td>AAC0</td>\n",
              "      <td>PIGEON</td>\n",
              "      <td>NaN</td>\n",
              "      <td>NaN</td>\n",
              "      <td>NaN</td>\n",
              "      <td>NaN</td>\n",
              "      <td>NaN</td>\n",
              "      <td>2004</td>\n",
              "      <td>2453137.5</td>\n",
              "      <td>133</td>\n",
              "      <td>845.0</td>\n",
              "      <td>1.0</td>\n",
              "      <td>Lightning</td>\n",
              "      <td>2453137.5</td>\n",
              "      <td>133.0</td>\n",
              "      <td>1530.0</td>\n",
              "      <td>0.25</td>\n",
              "      <td>A</td>\n",
              "      <td>38.933056</td>\n",
              "      <td>-120.404444</td>\n",
              "      <td>5.0</td>\n",
              "      <td>USFS</td>\n",
              "      <td>CA</td>\n",
              "      <td>61</td>\n",
              "      <td>61.0</td>\n",
              "      <td>Placer</td>\n",
              "      <td>b'\\x00\\x01\\xad\\x10\\x00\\x00T\\xb6\\xeej\\xe2\\x19^\\...</td>\n",
              "    </tr>\n",
              "    <tr>\n",
              "      <th>2</th>\n",
              "      <td>2</td>\n",
              "      <td>3</td>\n",
              "      <td>3</td>\n",
              "      <td>FS-1418835</td>\n",
              "      <td>FED</td>\n",
              "      <td>FS-FIRESTAT</td>\n",
              "      <td>FS</td>\n",
              "      <td>USCAENF</td>\n",
              "      <td>Eldorado National Forest</td>\n",
              "      <td>503</td>\n",
              "      <td>Eldorado National Forest</td>\n",
              "      <td>27</td>\n",
              "      <td>021</td>\n",
              "      <td>A32W</td>\n",
              "      <td>SLACK</td>\n",
              "      <td>NaN</td>\n",
              "      <td>NaN</td>\n",
              "      <td>NaN</td>\n",
              "      <td>NaN</td>\n",
              "      <td>NaN</td>\n",
              "      <td>2004</td>\n",
              "      <td>2453156.5</td>\n",
              "      <td>152</td>\n",
              "      <td>1921.0</td>\n",
              "      <td>5.0</td>\n",
              "      <td>Debris Burning</td>\n",
              "      <td>2453156.5</td>\n",
              "      <td>152.0</td>\n",
              "      <td>2024.0</td>\n",
              "      <td>0.10</td>\n",
              "      <td>A</td>\n",
              "      <td>38.984167</td>\n",
              "      <td>-120.735556</td>\n",
              "      <td>13.0</td>\n",
              "      <td>STATE OR PRIVATE</td>\n",
              "      <td>CA</td>\n",
              "      <td>17</td>\n",
              "      <td>17.0</td>\n",
              "      <td>El Dorado</td>\n",
              "      <td>b'\\x00\\x01\\xad\\x10\\x00\\x00\\xd0\\xa5\\xa0W\\x13/^\\...</td>\n",
              "    </tr>\n",
              "    <tr>\n",
              "      <th>3</th>\n",
              "      <td>3</td>\n",
              "      <td>4</td>\n",
              "      <td>4</td>\n",
              "      <td>FS-1418845</td>\n",
              "      <td>FED</td>\n",
              "      <td>FS-FIRESTAT</td>\n",
              "      <td>FS</td>\n",
              "      <td>USCAENF</td>\n",
              "      <td>Eldorado National Forest</td>\n",
              "      <td>503</td>\n",
              "      <td>Eldorado National Forest</td>\n",
              "      <td>43</td>\n",
              "      <td>6</td>\n",
              "      <td>NaN</td>\n",
              "      <td>DEER</td>\n",
              "      <td>NaN</td>\n",
              "      <td>NaN</td>\n",
              "      <td>NaN</td>\n",
              "      <td>NaN</td>\n",
              "      <td>NaN</td>\n",
              "      <td>2004</td>\n",
              "      <td>2453184.5</td>\n",
              "      <td>180</td>\n",
              "      <td>1600.0</td>\n",
              "      <td>1.0</td>\n",
              "      <td>Lightning</td>\n",
              "      <td>2453189.5</td>\n",
              "      <td>185.0</td>\n",
              "      <td>1400.0</td>\n",
              "      <td>0.10</td>\n",
              "      <td>A</td>\n",
              "      <td>38.559167</td>\n",
              "      <td>-119.913333</td>\n",
              "      <td>5.0</td>\n",
              "      <td>USFS</td>\n",
              "      <td>CA</td>\n",
              "      <td>3</td>\n",
              "      <td>3.0</td>\n",
              "      <td>Alpine</td>\n",
              "      <td>b'\\x00\\x01\\xad\\x10\\x00\\x00\\x94\\xac\\xa3\\rt\\xfa]...</td>\n",
              "    </tr>\n",
              "    <tr>\n",
              "      <th>4</th>\n",
              "      <td>4</td>\n",
              "      <td>5</td>\n",
              "      <td>5</td>\n",
              "      <td>FS-1418847</td>\n",
              "      <td>FED</td>\n",
              "      <td>FS-FIRESTAT</td>\n",
              "      <td>FS</td>\n",
              "      <td>USCAENF</td>\n",
              "      <td>Eldorado National Forest</td>\n",
              "      <td>503</td>\n",
              "      <td>Eldorado National Forest</td>\n",
              "      <td>44</td>\n",
              "      <td>7</td>\n",
              "      <td>NaN</td>\n",
              "      <td>STEVENOT</td>\n",
              "      <td>NaN</td>\n",
              "      <td>NaN</td>\n",
              "      <td>NaN</td>\n",
              "      <td>NaN</td>\n",
              "      <td>NaN</td>\n",
              "      <td>2004</td>\n",
              "      <td>2453184.5</td>\n",
              "      <td>180</td>\n",
              "      <td>1600.0</td>\n",
              "      <td>1.0</td>\n",
              "      <td>Lightning</td>\n",
              "      <td>2453189.5</td>\n",
              "      <td>185.0</td>\n",
              "      <td>1200.0</td>\n",
              "      <td>0.10</td>\n",
              "      <td>A</td>\n",
              "      <td>38.559167</td>\n",
              "      <td>-119.933056</td>\n",
              "      <td>5.0</td>\n",
              "      <td>USFS</td>\n",
              "      <td>CA</td>\n",
              "      <td>3</td>\n",
              "      <td>3.0</td>\n",
              "      <td>Alpine</td>\n",
              "      <td>b'\\x00\\x01\\xad\\x10\\x00\\x00@\\xe3\\xaa.\\xb7\\xfb]\\...</td>\n",
              "    </tr>\n",
              "    <tr>\n",
              "      <th>...</th>\n",
              "      <td>...</td>\n",
              "      <td>...</td>\n",
              "      <td>...</td>\n",
              "      <td>...</td>\n",
              "      <td>...</td>\n",
              "      <td>...</td>\n",
              "      <td>...</td>\n",
              "      <td>...</td>\n",
              "      <td>...</td>\n",
              "      <td>...</td>\n",
              "      <td>...</td>\n",
              "      <td>...</td>\n",
              "      <td>...</td>\n",
              "      <td>...</td>\n",
              "      <td>...</td>\n",
              "      <td>...</td>\n",
              "      <td>...</td>\n",
              "      <td>...</td>\n",
              "      <td>...</td>\n",
              "      <td>...</td>\n",
              "      <td>...</td>\n",
              "      <td>...</td>\n",
              "      <td>...</td>\n",
              "      <td>...</td>\n",
              "      <td>...</td>\n",
              "      <td>...</td>\n",
              "      <td>...</td>\n",
              "      <td>...</td>\n",
              "      <td>...</td>\n",
              "      <td>...</td>\n",
              "      <td>...</td>\n",
              "      <td>...</td>\n",
              "      <td>...</td>\n",
              "      <td>...</td>\n",
              "      <td>...</td>\n",
              "      <td>...</td>\n",
              "      <td>...</td>\n",
              "      <td>...</td>\n",
              "      <td>...</td>\n",
              "      <td>...</td>\n",
              "    </tr>\n",
              "    <tr>\n",
              "      <th>1880460</th>\n",
              "      <td>1880460</td>\n",
              "      <td>1880461</td>\n",
              "      <td>300348363</td>\n",
              "      <td>2015CAIRS29019636</td>\n",
              "      <td>NONFED</td>\n",
              "      <td>ST-CACDF</td>\n",
              "      <td>ST/C&amp;L</td>\n",
              "      <td>USCASHU</td>\n",
              "      <td>Shasta-Trinity Unit</td>\n",
              "      <td>CASHU</td>\n",
              "      <td>Shasta-Trinity Unit</td>\n",
              "      <td>591814</td>\n",
              "      <td>009371</td>\n",
              "      <td>NaN</td>\n",
              "      <td>ODESSA 2</td>\n",
              "      <td>NaN</td>\n",
              "      <td>NaN</td>\n",
              "      <td>NaN</td>\n",
              "      <td>NaN</td>\n",
              "      <td>NaN</td>\n",
              "      <td>2015</td>\n",
              "      <td>2457291.5</td>\n",
              "      <td>269</td>\n",
              "      <td>1726.0</td>\n",
              "      <td>13.0</td>\n",
              "      <td>Missing/Undefined</td>\n",
              "      <td>2457291.5</td>\n",
              "      <td>269.0</td>\n",
              "      <td>1843.0</td>\n",
              "      <td>0.01</td>\n",
              "      <td>A</td>\n",
              "      <td>40.481637</td>\n",
              "      <td>-122.389375</td>\n",
              "      <td>13.0</td>\n",
              "      <td>STATE OR PRIVATE</td>\n",
              "      <td>CA</td>\n",
              "      <td>NaN</td>\n",
              "      <td>NaN</td>\n",
              "      <td>NaN</td>\n",
              "      <td>b'\\x00\\x01\\xad\\x10\\x00\\x00P\\xb8\\x1e\\x85\\xeb\\x9...</td>\n",
              "    </tr>\n",
              "    <tr>\n",
              "      <th>1880461</th>\n",
              "      <td>1880461</td>\n",
              "      <td>1880462</td>\n",
              "      <td>300348373</td>\n",
              "      <td>2015CAIRS29217935</td>\n",
              "      <td>NONFED</td>\n",
              "      <td>ST-CACDF</td>\n",
              "      <td>ST/C&amp;L</td>\n",
              "      <td>USCATCU</td>\n",
              "      <td>Tuolumne-Calaveras Unit</td>\n",
              "      <td>CATCU</td>\n",
              "      <td>Tuolumne-Calaveras Unit</td>\n",
              "      <td>569419</td>\n",
              "      <td>000366</td>\n",
              "      <td>NaN</td>\n",
              "      <td>NaN</td>\n",
              "      <td>NaN</td>\n",
              "      <td>NaN</td>\n",
              "      <td>NaN</td>\n",
              "      <td>NaN</td>\n",
              "      <td>NaN</td>\n",
              "      <td>2015</td>\n",
              "      <td>2457300.5</td>\n",
              "      <td>278</td>\n",
              "      <td>126.0</td>\n",
              "      <td>9.0</td>\n",
              "      <td>Miscellaneous</td>\n",
              "      <td>NaN</td>\n",
              "      <td>NaN</td>\n",
              "      <td>NaN</td>\n",
              "      <td>0.20</td>\n",
              "      <td>A</td>\n",
              "      <td>37.617619</td>\n",
              "      <td>-120.938570</td>\n",
              "      <td>12.0</td>\n",
              "      <td>MUNICIPAL/LOCAL</td>\n",
              "      <td>CA</td>\n",
              "      <td>NaN</td>\n",
              "      <td>NaN</td>\n",
              "      <td>NaN</td>\n",
              "      <td>b'\\x00\\x01\\xad\\x10\\x00\\x00\\x00\\x80\\xbe\\x88\\x11...</td>\n",
              "    </tr>\n",
              "    <tr>\n",
              "      <th>1880462</th>\n",
              "      <td>1880462</td>\n",
              "      <td>1880463</td>\n",
              "      <td>300348375</td>\n",
              "      <td>2015CAIRS28364460</td>\n",
              "      <td>NONFED</td>\n",
              "      <td>ST-CACDF</td>\n",
              "      <td>ST/C&amp;L</td>\n",
              "      <td>USCATCU</td>\n",
              "      <td>Tuolumne-Calaveras Unit</td>\n",
              "      <td>CATCU</td>\n",
              "      <td>Tuolumne-Calaveras Unit</td>\n",
              "      <td>574245</td>\n",
              "      <td>000158</td>\n",
              "      <td>NaN</td>\n",
              "      <td>NaN</td>\n",
              "      <td>NaN</td>\n",
              "      <td>NaN</td>\n",
              "      <td>NaN</td>\n",
              "      <td>NaN</td>\n",
              "      <td>NaN</td>\n",
              "      <td>2015</td>\n",
              "      <td>2457144.5</td>\n",
              "      <td>122</td>\n",
              "      <td>2052.0</td>\n",
              "      <td>13.0</td>\n",
              "      <td>Missing/Undefined</td>\n",
              "      <td>NaN</td>\n",
              "      <td>NaN</td>\n",
              "      <td>NaN</td>\n",
              "      <td>0.10</td>\n",
              "      <td>A</td>\n",
              "      <td>37.617619</td>\n",
              "      <td>-120.938570</td>\n",
              "      <td>12.0</td>\n",
              "      <td>MUNICIPAL/LOCAL</td>\n",
              "      <td>CA</td>\n",
              "      <td>NaN</td>\n",
              "      <td>NaN</td>\n",
              "      <td>NaN</td>\n",
              "      <td>b'\\x00\\x01\\xad\\x10\\x00\\x00\\x00\\x80\\xbe\\x88\\x11...</td>\n",
              "    </tr>\n",
              "    <tr>\n",
              "      <th>1880463</th>\n",
              "      <td>1880463</td>\n",
              "      <td>1880464</td>\n",
              "      <td>300348377</td>\n",
              "      <td>2015CAIRS29218079</td>\n",
              "      <td>NONFED</td>\n",
              "      <td>ST-CACDF</td>\n",
              "      <td>ST/C&amp;L</td>\n",
              "      <td>USCATCU</td>\n",
              "      <td>Tuolumne-Calaveras Unit</td>\n",
              "      <td>CATCU</td>\n",
              "      <td>Tuolumne-Calaveras Unit</td>\n",
              "      <td>570462</td>\n",
              "      <td>000380</td>\n",
              "      <td>NaN</td>\n",
              "      <td>NaN</td>\n",
              "      <td>NaN</td>\n",
              "      <td>NaN</td>\n",
              "      <td>NaN</td>\n",
              "      <td>NaN</td>\n",
              "      <td>NaN</td>\n",
              "      <td>2015</td>\n",
              "      <td>2457309.5</td>\n",
              "      <td>287</td>\n",
              "      <td>2309.0</td>\n",
              "      <td>13.0</td>\n",
              "      <td>Missing/Undefined</td>\n",
              "      <td>NaN</td>\n",
              "      <td>NaN</td>\n",
              "      <td>NaN</td>\n",
              "      <td>2.00</td>\n",
              "      <td>B</td>\n",
              "      <td>37.672235</td>\n",
              "      <td>-120.898356</td>\n",
              "      <td>12.0</td>\n",
              "      <td>MUNICIPAL/LOCAL</td>\n",
              "      <td>CA</td>\n",
              "      <td>NaN</td>\n",
              "      <td>NaN</td>\n",
              "      <td>NaN</td>\n",
              "      <td>b'\\x00\\x01\\xad\\x10\\x00\\x00x\\xba_\\xaa~9^\\xc0\\xb...</td>\n",
              "    </tr>\n",
              "    <tr>\n",
              "      <th>1880464</th>\n",
              "      <td>1880464</td>\n",
              "      <td>1880465</td>\n",
              "      <td>300348399</td>\n",
              "      <td>2015CAIRS26733926</td>\n",
              "      <td>NONFED</td>\n",
              "      <td>ST-CACDF</td>\n",
              "      <td>ST/C&amp;L</td>\n",
              "      <td>USCABDU</td>\n",
              "      <td>San Bernardino Unit</td>\n",
              "      <td>CABDU</td>\n",
              "      <td>CDF - San Bernardino Unit</td>\n",
              "      <td>535436</td>\n",
              "      <td>003225</td>\n",
              "      <td>NaN</td>\n",
              "      <td>BARKER BL  BIG_BEAR_LAKE_</td>\n",
              "      <td>NaN</td>\n",
              "      <td>NaN</td>\n",
              "      <td>NaN</td>\n",
              "      <td>NaN</td>\n",
              "      <td>NaN</td>\n",
              "      <td>2015</td>\n",
              "      <td>2457095.5</td>\n",
              "      <td>73</td>\n",
              "      <td>2128.0</td>\n",
              "      <td>9.0</td>\n",
              "      <td>Miscellaneous</td>\n",
              "      <td>NaN</td>\n",
              "      <td>NaN</td>\n",
              "      <td>NaN</td>\n",
              "      <td>0.10</td>\n",
              "      <td>A</td>\n",
              "      <td>34.263217</td>\n",
              "      <td>-116.830950</td>\n",
              "      <td>13.0</td>\n",
              "      <td>STATE OR PRIVATE</td>\n",
              "      <td>CA</td>\n",
              "      <td>NaN</td>\n",
              "      <td>NaN</td>\n",
              "      <td>NaN</td>\n",
              "      <td>b'\\x00\\x01\\xad\\x10\\x00\\x00\\x1c\\xa7\\xe8H.5]\\xc0...</td>\n",
              "    </tr>\n",
              "  </tbody>\n",
              "</table>\n",
              "<p>1880465 rows × 40 columns</p>\n",
              "</div>"
            ],
            "text/plain": [
              "         Unnamed: 0  ...                                              Shape\n",
              "0                 0  ...  b'\\x00\\x01\\xad\\x10\\x00\\x00\\xe8d\\xc2\\x92_@^\\xc0...\n",
              "1                 1  ...  b'\\x00\\x01\\xad\\x10\\x00\\x00T\\xb6\\xeej\\xe2\\x19^\\...\n",
              "2                 2  ...  b'\\x00\\x01\\xad\\x10\\x00\\x00\\xd0\\xa5\\xa0W\\x13/^\\...\n",
              "3                 3  ...  b'\\x00\\x01\\xad\\x10\\x00\\x00\\x94\\xac\\xa3\\rt\\xfa]...\n",
              "4                 4  ...  b'\\x00\\x01\\xad\\x10\\x00\\x00@\\xe3\\xaa.\\xb7\\xfb]\\...\n",
              "...             ...  ...                                                ...\n",
              "1880460     1880460  ...  b'\\x00\\x01\\xad\\x10\\x00\\x00P\\xb8\\x1e\\x85\\xeb\\x9...\n",
              "1880461     1880461  ...  b'\\x00\\x01\\xad\\x10\\x00\\x00\\x00\\x80\\xbe\\x88\\x11...\n",
              "1880462     1880462  ...  b'\\x00\\x01\\xad\\x10\\x00\\x00\\x00\\x80\\xbe\\x88\\x11...\n",
              "1880463     1880463  ...  b'\\x00\\x01\\xad\\x10\\x00\\x00x\\xba_\\xaa~9^\\xc0\\xb...\n",
              "1880464     1880464  ...  b'\\x00\\x01\\xad\\x10\\x00\\x00\\x1c\\xa7\\xe8H.5]\\xc0...\n",
              "\n",
              "[1880465 rows x 40 columns]"
            ]
          },
          "metadata": {
            "tags": []
          },
          "execution_count": 6
        }
      ]
    },
    {
      "cell_type": "markdown",
      "metadata": {
        "id": "LSkMFH605il2",
        "colab_type": "text"
      },
      "source": [
        "## Data Preparation"
      ]
    },
    {
      "cell_type": "markdown",
      "metadata": {
        "id": "n_fVLIbf5dy8",
        "colab_type": "text"
      },
      "source": [
        "The features that would help provide hypothesis are:\n",
        "``` python\n",
        "FIRE_YEAR, STAT_CAUSE_DESCR, LATITUDE, LONGITUDE, STATE, DISCOVERY_DATE, FIRE_SIZE, SOURCE_REPORTING_UNIT, FIRE_SIZE_CLASS\n",
        "```"
      ]
    },
    {
      "cell_type": "code",
      "metadata": {
        "id": "cR5Fde-74O49",
        "colab_type": "code",
        "colab": {
          "base_uri": "https://localhost:8080/",
          "height": 153
        },
        "outputId": "085d69b5-091c-4348-9c34-0e9950f41727"
      },
      "source": [
        "#Selecting features that would help provide hypothesis\n",
        "df_fire = df[['FIRE_YEAR','STAT_CAUSE_DESCR','LATITUDE','LONGITUDE','STATE','DISCOVERY_DATE','FIRE_SIZE','SOURCE_REPORTING_UNIT','FIRE_SIZE_CLASS']]\n",
        "print(df_fire.head())"
      ],
      "execution_count": 7,
      "outputs": [
        {
          "output_type": "stream",
          "text": [
            "   FIRE_YEAR STAT_CAUSE_DESCR  ...  SOURCE_REPORTING_UNIT  FIRE_SIZE_CLASS\n",
            "0       2005    Miscellaneous  ...                    511                A\n",
            "1       2004        Lightning  ...                    503                A\n",
            "2       2004   Debris Burning  ...                    503                A\n",
            "3       2004        Lightning  ...                    503                A\n",
            "4       2004        Lightning  ...                    503                A\n",
            "\n",
            "[5 rows x 9 columns]\n"
          ],
          "name": "stdout"
        }
      ]
    },
    {
      "cell_type": "code",
      "metadata": {
        "id": "6VuND8fn6aup",
        "colab_type": "code",
        "colab": {
          "base_uri": "https://localhost:8080/",
          "height": 187
        },
        "outputId": "db82ecaf-8163-4f58-c461-5e5097f1bd45"
      },
      "source": [
        "df_fire.isnull().sum() #To check any missing values"
      ],
      "execution_count": 8,
      "outputs": [
        {
          "output_type": "execute_result",
          "data": {
            "text/plain": [
              "FIRE_YEAR                0\n",
              "STAT_CAUSE_DESCR         0\n",
              "LATITUDE                 0\n",
              "LONGITUDE                0\n",
              "STATE                    0\n",
              "DISCOVERY_DATE           0\n",
              "FIRE_SIZE                0\n",
              "SOURCE_REPORTING_UNIT    0\n",
              "FIRE_SIZE_CLASS          0\n",
              "dtype: int64"
            ]
          },
          "metadata": {
            "tags": []
          },
          "execution_count": 8
        }
      ]
    },
    {
      "cell_type": "markdown",
      "metadata": {
        "id": "bvmYzog17gk0",
        "colab_type": "text"
      },
      "source": [
        "It can be seen that the `DISCOVERY_DATE` is in Julian Format. It can be converted into Gregorian format.\n",
        "\n"
      ]
    },
    {
      "cell_type": "code",
      "metadata": {
        "id": "FpVL_EPs67LY",
        "colab_type": "code",
        "colab": {
          "base_uri": "https://localhost:8080/",
          "height": 275
        },
        "outputId": "82a5ec0d-2084-4544-9509-f4932fa9729f"
      },
      "source": [
        "df_fire['DATE'] = pd.to_datetime(df_fire['DISCOVERY_DATE'] - pd.Timestamp(0).to_julian_date(), unit='D')\n",
        "print(df_fire.head()) #check the data"
      ],
      "execution_count": 9,
      "outputs": [
        {
          "output_type": "stream",
          "text": [
            "   FIRE_YEAR STAT_CAUSE_DESCR  ...  FIRE_SIZE_CLASS       DATE\n",
            "0       2005    Miscellaneous  ...                A 2005-02-02\n",
            "1       2004        Lightning  ...                A 2004-05-12\n",
            "2       2004   Debris Burning  ...                A 2004-05-31\n",
            "3       2004        Lightning  ...                A 2004-06-28\n",
            "4       2004        Lightning  ...                A 2004-06-28\n",
            "\n",
            "[5 rows x 10 columns]\n"
          ],
          "name": "stdout"
        },
        {
          "output_type": "stream",
          "text": [
            "/usr/local/lib/python3.6/dist-packages/ipykernel_launcher.py:1: SettingWithCopyWarning: \n",
            "A value is trying to be set on a copy of a slice from a DataFrame.\n",
            "Try using .loc[row_indexer,col_indexer] = value instead\n",
            "\n",
            "See the caveats in the documentation: http://pandas.pydata.org/pandas-docs/stable/user_guide/indexing.html#returning-a-view-versus-a-copy\n",
            "  \"\"\"Entry point for launching an IPython kernel.\n"
          ],
          "name": "stderr"
        }
      ]
    },
    {
      "cell_type": "code",
      "metadata": {
        "id": "97j7Cr9H7xrp",
        "colab_type": "code",
        "colab": {
          "base_uri": "https://localhost:8080/",
          "height": 609
        },
        "outputId": "be87ca8c-ac0b-448c-927b-26622477237b"
      },
      "source": [
        "df_fire"
      ],
      "execution_count": 10,
      "outputs": [
        {
          "output_type": "execute_result",
          "data": {
            "text/html": [
              "<div>\n",
              "<style scoped>\n",
              "    .dataframe tbody tr th:only-of-type {\n",
              "        vertical-align: middle;\n",
              "    }\n",
              "\n",
              "    .dataframe tbody tr th {\n",
              "        vertical-align: top;\n",
              "    }\n",
              "\n",
              "    .dataframe thead th {\n",
              "        text-align: right;\n",
              "    }\n",
              "</style>\n",
              "<table border=\"1\" class=\"dataframe\">\n",
              "  <thead>\n",
              "    <tr style=\"text-align: right;\">\n",
              "      <th></th>\n",
              "      <th>FIRE_YEAR</th>\n",
              "      <th>STAT_CAUSE_DESCR</th>\n",
              "      <th>LATITUDE</th>\n",
              "      <th>LONGITUDE</th>\n",
              "      <th>STATE</th>\n",
              "      <th>DISCOVERY_DATE</th>\n",
              "      <th>FIRE_SIZE</th>\n",
              "      <th>SOURCE_REPORTING_UNIT</th>\n",
              "      <th>FIRE_SIZE_CLASS</th>\n",
              "      <th>DATE</th>\n",
              "    </tr>\n",
              "  </thead>\n",
              "  <tbody>\n",
              "    <tr>\n",
              "      <th>0</th>\n",
              "      <td>2005</td>\n",
              "      <td>Miscellaneous</td>\n",
              "      <td>40.036944</td>\n",
              "      <td>-121.005833</td>\n",
              "      <td>CA</td>\n",
              "      <td>2453403.5</td>\n",
              "      <td>0.10</td>\n",
              "      <td>511</td>\n",
              "      <td>A</td>\n",
              "      <td>2005-02-02</td>\n",
              "    </tr>\n",
              "    <tr>\n",
              "      <th>1</th>\n",
              "      <td>2004</td>\n",
              "      <td>Lightning</td>\n",
              "      <td>38.933056</td>\n",
              "      <td>-120.404444</td>\n",
              "      <td>CA</td>\n",
              "      <td>2453137.5</td>\n",
              "      <td>0.25</td>\n",
              "      <td>503</td>\n",
              "      <td>A</td>\n",
              "      <td>2004-05-12</td>\n",
              "    </tr>\n",
              "    <tr>\n",
              "      <th>2</th>\n",
              "      <td>2004</td>\n",
              "      <td>Debris Burning</td>\n",
              "      <td>38.984167</td>\n",
              "      <td>-120.735556</td>\n",
              "      <td>CA</td>\n",
              "      <td>2453156.5</td>\n",
              "      <td>0.10</td>\n",
              "      <td>503</td>\n",
              "      <td>A</td>\n",
              "      <td>2004-05-31</td>\n",
              "    </tr>\n",
              "    <tr>\n",
              "      <th>3</th>\n",
              "      <td>2004</td>\n",
              "      <td>Lightning</td>\n",
              "      <td>38.559167</td>\n",
              "      <td>-119.913333</td>\n",
              "      <td>CA</td>\n",
              "      <td>2453184.5</td>\n",
              "      <td>0.10</td>\n",
              "      <td>503</td>\n",
              "      <td>A</td>\n",
              "      <td>2004-06-28</td>\n",
              "    </tr>\n",
              "    <tr>\n",
              "      <th>4</th>\n",
              "      <td>2004</td>\n",
              "      <td>Lightning</td>\n",
              "      <td>38.559167</td>\n",
              "      <td>-119.933056</td>\n",
              "      <td>CA</td>\n",
              "      <td>2453184.5</td>\n",
              "      <td>0.10</td>\n",
              "      <td>503</td>\n",
              "      <td>A</td>\n",
              "      <td>2004-06-28</td>\n",
              "    </tr>\n",
              "    <tr>\n",
              "      <th>...</th>\n",
              "      <td>...</td>\n",
              "      <td>...</td>\n",
              "      <td>...</td>\n",
              "      <td>...</td>\n",
              "      <td>...</td>\n",
              "      <td>...</td>\n",
              "      <td>...</td>\n",
              "      <td>...</td>\n",
              "      <td>...</td>\n",
              "      <td>...</td>\n",
              "    </tr>\n",
              "    <tr>\n",
              "      <th>1880460</th>\n",
              "      <td>2015</td>\n",
              "      <td>Missing/Undefined</td>\n",
              "      <td>40.481637</td>\n",
              "      <td>-122.389375</td>\n",
              "      <td>CA</td>\n",
              "      <td>2457291.5</td>\n",
              "      <td>0.01</td>\n",
              "      <td>CASHU</td>\n",
              "      <td>A</td>\n",
              "      <td>2015-09-26</td>\n",
              "    </tr>\n",
              "    <tr>\n",
              "      <th>1880461</th>\n",
              "      <td>2015</td>\n",
              "      <td>Miscellaneous</td>\n",
              "      <td>37.617619</td>\n",
              "      <td>-120.938570</td>\n",
              "      <td>CA</td>\n",
              "      <td>2457300.5</td>\n",
              "      <td>0.20</td>\n",
              "      <td>CATCU</td>\n",
              "      <td>A</td>\n",
              "      <td>2015-10-05</td>\n",
              "    </tr>\n",
              "    <tr>\n",
              "      <th>1880462</th>\n",
              "      <td>2015</td>\n",
              "      <td>Missing/Undefined</td>\n",
              "      <td>37.617619</td>\n",
              "      <td>-120.938570</td>\n",
              "      <td>CA</td>\n",
              "      <td>2457144.5</td>\n",
              "      <td>0.10</td>\n",
              "      <td>CATCU</td>\n",
              "      <td>A</td>\n",
              "      <td>2015-05-02</td>\n",
              "    </tr>\n",
              "    <tr>\n",
              "      <th>1880463</th>\n",
              "      <td>2015</td>\n",
              "      <td>Missing/Undefined</td>\n",
              "      <td>37.672235</td>\n",
              "      <td>-120.898356</td>\n",
              "      <td>CA</td>\n",
              "      <td>2457309.5</td>\n",
              "      <td>2.00</td>\n",
              "      <td>CATCU</td>\n",
              "      <td>B</td>\n",
              "      <td>2015-10-14</td>\n",
              "    </tr>\n",
              "    <tr>\n",
              "      <th>1880464</th>\n",
              "      <td>2015</td>\n",
              "      <td>Miscellaneous</td>\n",
              "      <td>34.263217</td>\n",
              "      <td>-116.830950</td>\n",
              "      <td>CA</td>\n",
              "      <td>2457095.5</td>\n",
              "      <td>0.10</td>\n",
              "      <td>CABDU</td>\n",
              "      <td>A</td>\n",
              "      <td>2015-03-14</td>\n",
              "    </tr>\n",
              "  </tbody>\n",
              "</table>\n",
              "<p>1880465 rows × 10 columns</p>\n",
              "</div>"
            ],
            "text/plain": [
              "         FIRE_YEAR   STAT_CAUSE_DESCR  ...  FIRE_SIZE_CLASS       DATE\n",
              "0             2005      Miscellaneous  ...                A 2005-02-02\n",
              "1             2004          Lightning  ...                A 2004-05-12\n",
              "2             2004     Debris Burning  ...                A 2004-05-31\n",
              "3             2004          Lightning  ...                A 2004-06-28\n",
              "4             2004          Lightning  ...                A 2004-06-28\n",
              "...            ...                ...  ...              ...        ...\n",
              "1880460       2015  Missing/Undefined  ...                A 2015-09-26\n",
              "1880461       2015      Miscellaneous  ...                A 2015-10-05\n",
              "1880462       2015  Missing/Undefined  ...                A 2015-05-02\n",
              "1880463       2015  Missing/Undefined  ...                B 2015-10-14\n",
              "1880464       2015      Miscellaneous  ...                A 2015-03-14\n",
              "\n",
              "[1880465 rows x 10 columns]"
            ]
          },
          "metadata": {
            "tags": []
          },
          "execution_count": 10
        }
      ]
    },
    {
      "cell_type": "markdown",
      "metadata": {
        "id": "-rGI3kv78NoO",
        "colab_type": "text"
      },
      "source": [
        "We can extract additional fields from `DATE`"
      ]
    },
    {
      "cell_type": "code",
      "metadata": {
        "id": "efCObz-N8B0a",
        "colab_type": "code",
        "colab": {
          "base_uri": "https://localhost:8080/",
          "height": 377
        },
        "outputId": "18657bfc-7ba5-46b2-d2cb-b3904dfc246e"
      },
      "source": [
        "df_fire['MONTH'] = pd.DatetimeIndex(df_fire['DATE']).month\n",
        "df_fire['DAY_OF_WEEK'] = df_fire['DATE'].dt.weekday_name\n",
        "df_orig = df_fire.copy() #I will use this copy later\n",
        "print(df_fire.head())"
      ],
      "execution_count": 11,
      "outputs": [
        {
          "output_type": "stream",
          "text": [
            "/usr/local/lib/python3.6/dist-packages/ipykernel_launcher.py:1: SettingWithCopyWarning: \n",
            "A value is trying to be set on a copy of a slice from a DataFrame.\n",
            "Try using .loc[row_indexer,col_indexer] = value instead\n",
            "\n",
            "See the caveats in the documentation: http://pandas.pydata.org/pandas-docs/stable/user_guide/indexing.html#returning-a-view-versus-a-copy\n",
            "  \"\"\"Entry point for launching an IPython kernel.\n",
            "/usr/local/lib/python3.6/dist-packages/ipykernel_launcher.py:2: SettingWithCopyWarning: \n",
            "A value is trying to be set on a copy of a slice from a DataFrame.\n",
            "Try using .loc[row_indexer,col_indexer] = value instead\n",
            "\n",
            "See the caveats in the documentation: http://pandas.pydata.org/pandas-docs/stable/user_guide/indexing.html#returning-a-view-versus-a-copy\n",
            "  \n"
          ],
          "name": "stderr"
        },
        {
          "output_type": "stream",
          "text": [
            "   FIRE_YEAR STAT_CAUSE_DESCR   LATITUDE  ...       DATE MONTH  DAY_OF_WEEK\n",
            "0       2005    Miscellaneous  40.036944  ... 2005-02-02     2    Wednesday\n",
            "1       2004        Lightning  38.933056  ... 2004-05-12     5    Wednesday\n",
            "2       2004   Debris Burning  38.984167  ... 2004-05-31     5       Monday\n",
            "3       2004        Lightning  38.559167  ... 2004-06-28     6       Monday\n",
            "4       2004        Lightning  38.559167  ... 2004-06-28     6       Monday\n",
            "\n",
            "[5 rows x 12 columns]\n"
          ],
          "name": "stdout"
        }
      ]
    },
    {
      "cell_type": "markdown",
      "metadata": {
        "id": "fqNwSWnw-qDn",
        "colab_type": "text"
      },
      "source": [
        "### Exploratory Data Analysis"
      ]
    },
    {
      "cell_type": "code",
      "metadata": {
        "id": "ufDZsQK18VOQ",
        "colab_type": "code",
        "colab": {
          "base_uri": "https://localhost:8080/",
          "height": 268
        },
        "outputId": "9790a90c-c2b0-4823-fab0-e2bf6ae95e61"
      },
      "source": [
        "df_fire['STAT_CAUSE_DESCR'].value_counts().plot(kind='barh',color='coral')\n",
        "plt.show()"
      ],
      "execution_count": 12,
      "outputs": [
        {
          "output_type": "display_data",
          "data": {
            "image/png": "[encoded data removed]",
            "text/plain": [
              "<Figure size 432x288 with 1 Axes>"
            ]
          },
          "metadata": {
            "tags": []
          }
        }
      ]
    },
    {
      "cell_type": "markdown",
      "metadata": {
        "id": "IX4ffgMpAuUB",
        "colab_type": "text"
      },
      "source": [
        "There are 13 causes listed in the dataset."
      ]
    },
    {
      "cell_type": "code",
      "metadata": {
        "id": "UKlKI4-W-ZjL",
        "colab_type": "code",
        "colab": {
          "base_uri": "https://localhost:8080/",
          "height": 268
        },
        "outputId": "e93f21ef-99d0-404e-c029-15a308570beb"
      },
      "source": [
        "df_fire['FIRE_YEAR'].value_counts().plot(kind='barh',color='coral')\n",
        "plt.show()"
      ],
      "execution_count": 15,
      "outputs": [
        {
          "output_type": "display_data",
          "data": {
            "image/png": "[encoded data removed]",
            "text/plain": [
              "<Figure size 432x288 with 1 Axes>"
            ]
          },
          "metadata": {
            "tags": []
          }
        }
      ]
    },
    {
      "cell_type": "markdown",
      "metadata": {
        "id": "K74f7URaANYZ",
        "colab_type": "text"
      },
      "source": [
        "The number of fires reported are increasing from 1997 to 2006. The damage would increase in the next following years."
      ]
    },
    {
      "cell_type": "code",
      "metadata": {
        "id": "MakVpoA9_wUR",
        "colab_type": "code",
        "colab": {
          "base_uri": "https://localhost:8080/",
          "height": 285
        },
        "outputId": "386a3205-f334-43ff-a6c7-22fe83973a45"
      },
      "source": [
        "df_fire.plot(kind='scatter',x='LONGITUDE',y='LATITUDE',color='coral',alpha=0.3)\n",
        "plt.show()"
      ],
      "execution_count": 16,
      "outputs": [
        {
          "output_type": "display_data",
          "data": {
            "image/png": "[encoded data removed]",
            "text/plain": [
              "<Figure size 432x288 with 1 Axes>"
            ]
          },
          "metadata": {
            "tags": []
          }
        }
      ]
    },
    {
      "cell_type": "markdown",
      "metadata": {
        "id": "Wm4csMIoCLPZ",
        "colab_type": "text"
      },
      "source": [
        "`Longitude` and `Latitude` features can be beneficial for clustering."
      ]
    },
    {
      "cell_type": "code",
      "metadata": {
        "id": "PmV7g2RWILQ0",
        "colab_type": "code",
        "colab": {
          "base_uri": "https://localhost:8080/",
          "height": 34
        },
        "outputId": "d6d8dec2-30cc-4072-f285-294ffe8bbbb4"
      },
      "source": [
        "df_fire['SOURCE_REPORTING_UNIT'].dtype"
      ],
      "execution_count": 17,
      "outputs": [
        {
          "output_type": "execute_result",
          "data": {
            "text/plain": [
              "dtype('O')"
            ]
          },
          "metadata": {
            "tags": []
          },
          "execution_count": 17
        }
      ]
    },
    {
      "cell_type": "markdown",
      "metadata": {
        "id": "ApSFgaeL9NBs",
        "colab_type": "text"
      },
      "source": [
        "## Training and Running the Model"
      ]
    },
    {
      "cell_type": "markdown",
      "metadata": {
        "id": "yKfy1vRSAJDU",
        "colab_type": "text"
      },
      "source": [
        "To get a better idea of correlation between features we can plot a correlation matrix, first I will convert all features to numeric values, this is necessary for the machine learning stage"
      ]
    },
    {
      "cell_type": "code",
      "metadata": {
        "id": "LsRYPC-Z1cP6",
        "colab_type": "code",
        "colab": {}
      },
      "source": [
        "from sklearn import tree, preprocessing\n",
        "import sklearn.ensemble as ske\n",
        "from sklearn.model_selection import train_test_split"
      ],
      "execution_count": 0,
      "outputs": []
    },
    {
      "cell_type": "code",
      "metadata": {
        "id": "exwvvhpkL2W7",
        "colab_type": "code",
        "colab": {
          "base_uri": "https://localhost:8080/",
          "height": 238
        },
        "outputId": "f7847b7f-527b-416f-b327-f00eb959d2ad"
      },
      "source": [
        "df_fire.dtypes"
      ],
      "execution_count": 19,
      "outputs": [
        {
          "output_type": "execute_result",
          "data": {
            "text/plain": [
              "FIRE_YEAR                         int64\n",
              "STAT_CAUSE_DESCR                  int64\n",
              "LATITUDE                        float64\n",
              "LONGITUDE                       float64\n",
              "STATE                             int64\n",
              "DISCOVERY_DATE                  float64\n",
              "FIRE_SIZE                       float64\n",
              "SOURCE_REPORTING_UNIT            object\n",
              "FIRE_SIZE_CLASS                   int64\n",
              "DATE                     datetime64[ns]\n",
              "MONTH                             int64\n",
              "DAY_OF_WEEK                       int64\n",
              "dtype: object"
            ]
          },
          "metadata": {
            "tags": []
          },
          "execution_count": 19
        }
      ]
    },
    {
      "cell_type": "code",
      "metadata": {
        "id": "TgDdYpVy1q61",
        "colab_type": "code",
        "colab": {
          "base_uri": "https://localhost:8080/",
          "height": 445
        },
        "outputId": "b2a5a6e5-6b53-4d00-d190-4a1fbf7de5af"
      },
      "source": [
        "le = preprocessing.LabelEncoder()\n",
        "df_fire['STAT_CAUSE_DESCR'] = le.fit_transform(df_fire['STAT_CAUSE_DESCR'])\n",
        "df_fire['STATE'] = le.fit_transform(df_fire['STATE'])\n",
        "df_fire['DAY_OF_WEEK'] = le.fit_transform(df_fire['DAY_OF_WEEK'])\n",
        "df_fire['FIRE_SIZE_CLASS'] = le.fit_transform(df_fire['FIRE_SIZE_CLASS'])"
      ],
      "execution_count": 14,
      "outputs": [
        {
          "output_type": "stream",
          "text": [
            "/usr/local/lib/python3.6/dist-packages/ipykernel_launcher.py:2: SettingWithCopyWarning: \n",
            "A value is trying to be set on a copy of a slice from a DataFrame.\n",
            "Try using .loc[row_indexer,col_indexer] = value instead\n",
            "\n",
            "See the caveats in the documentation: http://pandas.pydata.org/pandas-docs/stable/user_guide/indexing.html#returning-a-view-versus-a-copy\n",
            "  \n",
            "/usr/local/lib/python3.6/dist-packages/ipykernel_launcher.py:3: SettingWithCopyWarning: \n",
            "A value is trying to be set on a copy of a slice from a DataFrame.\n",
            "Try using .loc[row_indexer,col_indexer] = value instead\n",
            "\n",
            "See the caveats in the documentation: http://pandas.pydata.org/pandas-docs/stable/user_guide/indexing.html#returning-a-view-versus-a-copy\n",
            "  This is separate from the ipykernel package so we can avoid doing imports until\n",
            "/usr/local/lib/python3.6/dist-packages/ipykernel_launcher.py:4: SettingWithCopyWarning: \n",
            "A value is trying to be set on a copy of a slice from a DataFrame.\n",
            "Try using .loc[row_indexer,col_indexer] = value instead\n",
            "\n",
            "See the caveats in the documentation: http://pandas.pydata.org/pandas-docs/stable/user_guide/indexing.html#returning-a-view-versus-a-copy\n",
            "  after removing the cwd from sys.path.\n",
            "/usr/local/lib/python3.6/dist-packages/ipykernel_launcher.py:5: SettingWithCopyWarning: \n",
            "A value is trying to be set on a copy of a slice from a DataFrame.\n",
            "Try using .loc[row_indexer,col_indexer] = value instead\n",
            "\n",
            "See the caveats in the documentation: http://pandas.pydata.org/pandas-docs/stable/user_guide/indexing.html#returning-a-view-versus-a-copy\n",
            "  \"\"\"\n"
          ],
          "name": "stderr"
        }
      ]
    },
    {
      "cell_type": "code",
      "metadata": {
        "id": "dAjAZtuX3Iu-",
        "colab_type": "code",
        "colab": {
          "base_uri": "https://localhost:8080/",
          "height": 678
        },
        "outputId": "2aff0192-deef-41b5-88a0-cd10725678bf"
      },
      "source": [
        "def plot_corr(df_fire,size=10):\n",
        "    corr = df_fire.corr()  #the default method is pearson\n",
        "    fig, ax = plt.subplots(figsize=(size, size))\n",
        "    ax.matshow(corr,cmap=plt.cm.Oranges)\n",
        "    plt.xticks(range(len(corr.columns)), corr.columns)\n",
        "    plt.yticks(range(len(corr.columns)), corr.columns)\n",
        "    for tick in ax.get_xticklabels():\n",
        "        tick.set_rotation(45)    \n",
        "    plt.show()\n",
        "    \n",
        "\n",
        "    \n",
        "plot_corr(df_fire)"
      ],
      "execution_count": 15,
      "outputs": [
        {
          "output_type": "display_data",
          "data": {
            "image/png": "[encoded data removed]",
            "text/plain": [
              "<Figure size 720x720 with 1 Axes>"
            ]
          },
          "metadata": {
            "tags": []
          }
        }
      ]
    },
    {
      "cell_type": "code",
      "metadata": {
        "id": "PWnZmUzHBM8i",
        "colab_type": "code",
        "colab": {}
      },
      "source": [
        "from sklearn.cluster import KMeans\n",
        "X=df_fire[['FIRE_SIZE','LONGITUDE','LATITUDE']]\n",
        "kmeans = KMeans(n_clusters=3)\n",
        "kmeans.fit(X)\n",
        "y_means = kmeans.predict(X)"
      ],
      "execution_count": 0,
      "outputs": []
    },
    {
      "cell_type": "code",
      "metadata": {
        "id": "DgJMN3anEHp3",
        "colab_type": "code",
        "colab": {
          "base_uri": "https://localhost:8080/",
          "height": 285
        },
        "outputId": "00f9ba79-abec-4b4f-963a-5a0390bc2d7b"
      },
      "source": [
        "plt.scatter(df_fire['MONTH'],df_fire['FIRE_SIZE'], c=y_means, s=50, cmap='viridis')"
      ],
      "execution_count": 28,
      "outputs": [
        {
          "output_type": "execute_result",
          "data": {
            "text/plain": [
              "<matplotlib.collections.PathCollection at 0x7fa8138a7da0>"
            ]
          },
          "metadata": {
            "tags": []
          },
          "execution_count": 28
        },
        {
          "output_type": "display_data",
          "data": {
            "image/png": "[encoded data removed]",
            "text/plain": [
              "<Figure size 432x288 with 1 Axes>"
            ]
          },
          "metadata": {
            "tags": []
          }
        }
      ]
    },
    {
      "cell_type": "code",
      "metadata": {
        "id": "Uxlj0l5N3_D7",
        "colab_type": "code",
        "colab": {}
      },
      "source": [
        "from sklearn.cluster import KMeans\n",
        "X=df_fire[['FIRE_SIZE','STATE']]\n",
        "kmeans = KMeans(n_clusters=5)\n",
        "kmeans.fit(X)\n",
        "y_means = kmeans.predict(X)"
      ],
      "execution_count": 0,
      "outputs": []
    },
    {
      "cell_type": "code",
      "metadata": {
        "id": "PtmuSMiu4TDr",
        "colab_type": "code",
        "colab": {
          "base_uri": "https://localhost:8080/",
          "height": 285
        },
        "outputId": "ee093083-ac6c-437b-e5eb-c6ad65ac9165"
      },
      "source": [
        "plt.scatter(df_fire['STATE'],df_fire['FIRE_SIZE'], c=y_means, s=50, cmap='viridis')"
      ],
      "execution_count": 48,
      "outputs": [
        {
          "output_type": "execute_result",
          "data": {
            "text/plain": [
              "<matplotlib.collections.PathCollection at 0x7fa81231db38>"
            ]
          },
          "metadata": {
            "tags": []
          },
          "execution_count": 48
        },
        {
          "output_type": "display_data",
          "data": {
            "image/png": "[encoded data removed]",
            "text/plain": [
              "<Figure size 432x288 with 1 Axes>"
            ]
          },
          "metadata": {
            "tags": []
          }
        }
      ]
    },
    {
      "cell_type": "code",
      "metadata": {
        "id": "N2lhSh4R4dZA",
        "colab_type": "code",
        "colab": {}
      },
      "source": [
        "X2=df_fire[['FIRE_SIZE','STAT_CAUSE_DESCR']]\n",
        "kmeans2 = KMeans(n_clusters=5)\n",
        "kmeans2.fit(X2)\n",
        "y_means2 = kmeans2.predict(X2)"
      ],
      "execution_count": 0,
      "outputs": []
    },
    {
      "cell_type": "code",
      "metadata": {
        "id": "HETTU_lY5HKL",
        "colab_type": "code",
        "colab": {
          "base_uri": "https://localhost:8080/",
          "height": 285
        },
        "outputId": "3cb681a9-6042-457e-f604-23b9531c0ad5"
      },
      "source": [
        "plt.scatter(df_fire['STAT_CAUSE_DESCR'],df_fire['FIRE_SIZE'], c=y_means2, s=50, cmap='viridis')"
      ],
      "execution_count": 50,
      "outputs": [
        {
          "output_type": "execute_result",
          "data": {
            "text/plain": [
              "<matplotlib.collections.PathCollection at 0x7fa812279a20>"
            ]
          },
          "metadata": {
            "tags": []
          },
          "execution_count": 50
        },
        {
          "output_type": "display_data",
          "data": {
            "image/png": "[encoded data removed]",
            "text/plain": [
              "<Figure size 432x288 with 1 Axes>"
            ]
          },
          "metadata": {
            "tags": []
          }
        }
      ]
    },
    {
      "cell_type": "code",
      "metadata": {
        "id": "__B_5e3q5NY3",
        "colab_type": "code",
        "colab": {}
      },
      "source": [
        "X3=df_fire[['LATITUDE','LONGITUDE']]\n",
        "kmeans3 = KMeans(n_clusters=2)\n",
        "kmeans3.fit(X3)\n",
        "y_means3 = kmeans3.predict(X3)"
      ],
      "execution_count": 0,
      "outputs": []
    },
    {
      "cell_type": "code",
      "metadata": {
        "id": "so_mfAFI53Jb",
        "colab_type": "code",
        "colab": {
          "base_uri": "https://localhost:8080/",
          "height": 288
        },
        "outputId": "b11e0163-065d-4a61-8dd3-6ed33b3640de"
      },
      "source": [
        "plt.scatter(df_fire['LATITUDE'],df_fire['LONGITUDE'], c=y_means3, s=50, cmap='viridis')"
      ],
      "execution_count": 68,
      "outputs": [
        {
          "output_type": "execute_result",
          "data": {
            "text/plain": [
              "<matplotlib.collections.PathCollection at 0x7fa7f5093438>"
            ]
          },
          "metadata": {
            "tags": []
          },
          "execution_count": 68
        },
        {
          "output_type": "display_data",
          "data": {
            "image/png": "[encoded data removed]",
            "text/plain": [
              "<Figure size 432x288 with 1 Axes>"
            ]
          },
          "metadata": {
            "tags": []
          }
        }
      ]
    },
    {
      "cell_type": "code",
      "metadata": {
        "id": "XzcT7W709cI9",
        "colab_type": "code",
        "colab": {}
      },
      "source": [
        "X4=df_fire[['FIRE_SIZE_CLASS','FIRE_SIZE']]\n",
        "kmeans4 = KMeans(n_clusters=2)\n",
        "kmeans4.fit(X4)\n",
        "y_means4 = kmeans4.predict(X4)"
      ],
      "execution_count": 0,
      "outputs": []
    },
    {
      "cell_type": "code",
      "metadata": {
        "id": "4kAAbmP99dxm",
        "colab_type": "code",
        "colab": {
          "base_uri": "https://localhost:8080/",
          "height": 285
        },
        "outputId": "1dccfbb0-27ea-46cd-be8d-78626ecc32b5"
      },
      "source": [
        "plt.scatter(df_fire['FIRE_SIZE_CLASS'],df_fire['FIRE_SIZE'], c=y_means4, s=50, cmap='viridis')"
      ],
      "execution_count": 85,
      "outputs": [
        {
          "output_type": "execute_result",
          "data": {
            "text/plain": [
              "<matplotlib.collections.PathCollection at 0x7fa8211aaac8>"
            ]
          },
          "metadata": {
            "tags": []
          },
          "execution_count": 85
        },
        {
          "output_type": "display_data",
          "data": {
            "image/png": "[encoded data removed]",
            "text/plain": [
              "<Figure size 432x288 with 1 Axes>"
            ]
          },
          "metadata": {
            "tags": []
          }
        }
      ]
    },
    {
      "cell_type": "code",
      "metadata": {
        "id": "zlccSg8B_Szp",
        "colab_type": "code",
        "colab": {}
      },
      "source": [
        "X5=df_fire[['FIRE_SIZE_CLASS','STATE']]\n",
        "kmeans5 = KMeans(n_clusters=5)\n",
        "kmeans5.fit(X5)\n",
        "y_means5 = kmeans5.predict(X5)"
      ],
      "execution_count": 0,
      "outputs": []
    },
    {
      "cell_type": "code",
      "metadata": {
        "id": "FLvCYHmxApi7",
        "colab_type": "code",
        "colab": {
          "base_uri": "https://localhost:8080/",
          "height": 285
        },
        "outputId": "3da6f18c-f56d-418d-c90c-79a6e4f105cb"
      },
      "source": [
        "plt.scatter(df_fire['FIRE_SIZE_CLASS'],df_fire['STATE'], c=y_means5, s=50, cmap='viridis')"
      ],
      "execution_count": 87,
      "outputs": [
        {
          "output_type": "execute_result",
          "data": {
            "text/plain": [
              "<matplotlib.collections.PathCollection at 0x7fa821192860>"
            ]
          },
          "metadata": {
            "tags": []
          },
          "execution_count": 87
        },
        {
          "output_type": "display_data",
          "data": {
            "image/png": "[encoded data removed]",
            "text/plain": [
              "<Figure size 432x288 with 1 Axes>"
            ]
          },
          "metadata": {
            "tags": []
          }
        }
      ]
    },
    {
      "cell_type": "markdown",
      "metadata": {
        "id": "fFvvpo2TD1HD",
        "colab_type": "text"
      },
      "source": [
        "## Running K-Means with TensorFlow"
      ]
    },
    {
      "cell_type": "code",
      "metadata": {
        "id": "uLuK3zSMBHdc",
        "colab_type": "code",
        "colab": {}
      },
      "source": [
        "import numpy as np\n",
        "import tensorflow as tf"
      ],
      "execution_count": 0,
      "outputs": []
    },
    {
      "cell_type": "code",
      "metadata": {
        "id": "4f6wTKKLDBGF",
        "colab_type": "code",
        "colab": {}
      },
      "source": [
        "X = df_fire[['MONTH','FIRE_SIZE']]"
      ],
      "execution_count": 0,
      "outputs": []
    },
    {
      "cell_type": "code",
      "metadata": {
        "id": "VX9dAicyDFKE",
        "colab_type": "code",
        "colab": {
          "base_uri": "https://localhost:8080/",
          "height": 1000
        },
        "outputId": "1bff6b07-ba5d-4c37-8169-ec284650145c"
      },
      "source": [
        "def input_fn():\n",
        "  return tf.train.limit_epochs(\n",
        "      tf.convert_to_tensor(X, dtype=tf.float32), num_epochs=1)\n",
        "\n",
        "num_clusters = 5\n",
        "kmeans = tf.estimator.experimental.KMeans(\n",
        "    num_clusters=num_clusters, use_mini_batch=False)\n",
        "\n",
        "# train\n",
        "num_iterations = 10\n",
        "previous_centers = None\n",
        "for _ in range(num_iterations):\n",
        "  kmeans.train(input_fn)\n",
        "  cluster_centers = kmeans.cluster_centers()\n",
        "  if previous_centers is not None:\n",
        "    print ('delta:', cluster_centers - previous_centers)\n",
        "  previous_centers = cluster_centers\n",
        "  print ('score:', kmeans.score(input_fn))\n",
        "print ('cluster centers:', cluster_centers)"
      ],
      "execution_count": 94,
      "outputs": [
        {
          "output_type": "stream",
          "text": [
            "INFO:tensorflow:Using default config.\n",
            "WARNING:tensorflow:Using temporary folder as model directory: /tmp/tmpwga540v7\n",
            "INFO:tensorflow:Using config: {'_model_dir': '/tmp/tmpwga540v7', '_tf_random_seed': None, '_save_summary_steps': 100, '_save_checkpoints_steps': None, '_save_checkpoints_secs': 600, '_session_config': allow_soft_placement: true\n",
            "graph_options {\n",
            "  rewrite_options {\n",
            "    meta_optimizer_iterations: ONE\n",
            "  }\n",
            "}\n",
            ", '_keep_checkpoint_max': 5, '_keep_checkpoint_every_n_hours': 10000, '_log_step_count_steps': 100, '_train_distribute': None, '_device_fn': None, '_protocol': None, '_eval_distribute': None, '_experimental_distribute': None, '_experimental_max_worker_delay_secs': None, '_session_creation_timeout_secs': 7200, '_service': None, '_cluster_spec': <tensorflow.python.training.server_lib.ClusterSpec object at 0x7fa821100278>, '_task_type': 'worker', '_task_id': 0, '_global_id_in_cluster': 0, '_master': '', '_evaluation_master': '', '_is_chief': True, '_num_ps_replicas': 0, '_num_worker_replicas': 1}\n",
            "WARNING:tensorflow:From /usr/local/lib/python3.6/dist-packages/tensorflow_core/python/training/training_util.py:236: Variable.initialized_value (from tensorflow.python.ops.variables) is deprecated and will be removed in a future version.\n",
            "Instructions for updating:\n",
            "Use Variable.read_value. Variables in 2.X are initialized automatically both in eager and graph (inside tf.defun) contexts.\n",
            "WARNING:tensorflow:From <ipython-input-94-bb20c81e102e>:3: limit_epochs (from tensorflow.python.training.input) is deprecated and will be removed in a future version.\n",
            "Instructions for updating:\n",
            "Queue-based input pipelines have been replaced by `tf.data`. Use `tf.data.Dataset.from_tensors(tensor).repeat(num_epochs)`.\n",
            "WARNING:tensorflow:From /usr/local/lib/python3.6/dist-packages/tensorflow_core/python/training/input.py:112: RefVariable.count_up_to (from tensorflow.python.ops.variables) is deprecated and will be removed in a future version.\n",
            "Instructions for updating:\n",
            "Prefer Dataset.range instead.\n",
            "WARNING:tensorflow:From /usr/local/lib/python3.6/dist-packages/tensorflow_core/python/ops/variables.py:2522: count_up_to (from tensorflow.python.ops.state_ops) is deprecated and will be removed in a future version.\n",
            "Instructions for updating:\n",
            "Prefer Dataset.range instead.\n",
            "INFO:tensorflow:Calling model_fn.\n",
            "INFO:tensorflow:Done calling model_fn.\n",
            "INFO:tensorflow:Create CheckpointSaverHook.\n",
            "WARNING:tensorflow:From /usr/local/lib/python3.6/dist-packages/tensorflow_core/python/ops/array_ops.py:1475: where (from tensorflow.python.ops.array_ops) is deprecated and will be removed in a future version.\n",
            "Instructions for updating:\n",
            "Use tf.where in 2.0, which has the same broadcast rule as np.where\n",
            "INFO:tensorflow:Graph was finalized.\n",
            "INFO:tensorflow:Running local_init_op.\n",
            "INFO:tensorflow:Done running local_init_op.\n",
            "INFO:tensorflow:Saving checkpoints for 0 into /tmp/tmpwga540v7/model.ckpt.\n",
            "INFO:tensorflow:Saving checkpoints for 1 into /tmp/tmpwga540v7/model.ckpt.\n",
            "WARNING:tensorflow:Training with estimator made no steps. Perhaps input is empty or misspecified.\n",
            "INFO:tensorflow:Loss for final step: None.\n",
            "INFO:tensorflow:Calling model_fn.\n",
            "INFO:tensorflow:Done calling model_fn.\n",
            "INFO:tensorflow:Starting evaluation at 2020-02-11T07:01:34Z\n",
            "INFO:tensorflow:Graph was finalized.\n",
            "INFO:tensorflow:Restoring parameters from /tmp/tmpwga540v7/model.ckpt-1\n",
            "INFO:tensorflow:Running local_init_op.\n",
            "INFO:tensorflow:Done running local_init_op.\n",
            "INFO:tensorflow:Evaluation [1/1]\n",
            "INFO:tensorflow:Finished evaluation at 2020-02-11-07:01:34\n",
            "INFO:tensorflow:Saving dict for global step 1: global_step = 1, loss = 11740494000000.0, score = 11740494000000.0\n",
            "INFO:tensorflow:Saving 'checkpoint_path' summary for global step 1: /tmp/tmpwga540v7/model.ckpt-1\n",
            "score: 11740494000000.0\n",
            "INFO:tensorflow:Calling model_fn.\n",
            "INFO:tensorflow:Done calling model_fn.\n",
            "INFO:tensorflow:Create CheckpointSaverHook.\n",
            "INFO:tensorflow:Graph was finalized.\n",
            "INFO:tensorflow:Restoring parameters from /tmp/tmpwga540v7/model.ckpt-1\n",
            "WARNING:tensorflow:From /usr/local/lib/python3.6/dist-packages/tensorflow_core/python/training/saver.py:1069: get_checkpoint_mtimes (from tensorflow.python.training.checkpoint_management) is deprecated and will be removed in a future version.\n",
            "Instructions for updating:\n",
            "Use standard file utilities to get mtimes.\n",
            "INFO:tensorflow:Running local_init_op.\n",
            "INFO:tensorflow:Done running local_init_op.\n",
            "INFO:tensorflow:Saving checkpoints for 1 into /tmp/tmpwga540v7/model.ckpt.\n",
            "INFO:tensorflow:loss = 11740494000000.0, step = 2\n",
            "INFO:tensorflow:Saving checkpoints for 3 into /tmp/tmpwga540v7/model.ckpt.\n",
            "INFO:tensorflow:Loss for final step: 11740494000000.0.\n",
            "delta: [[-5.5794477e-01  1.1179624e+02]\n",
            " [-1.3644893e+00  1.0695164e+00]\n",
            " [ 1.0188084e+00  1.9690149e+02]\n",
            " [ 5.1677322e-01 -3.1932560e-01]\n",
            " [-1.0562489e+00 -1.0497190e-01]]\n",
            "INFO:tensorflow:Calling model_fn.\n",
            "INFO:tensorflow:Done calling model_fn.\n",
            "INFO:tensorflow:Starting evaluation at 2020-02-11T07:01:39Z\n",
            "INFO:tensorflow:Graph was finalized.\n",
            "INFO:tensorflow:Restoring parameters from /tmp/tmpwga540v7/model.ckpt-3\n",
            "INFO:tensorflow:Running local_init_op.\n",
            "INFO:tensorflow:Done running local_init_op.\n",
            "INFO:tensorflow:Evaluation [1/1]\n",
            "INFO:tensorflow:Finished evaluation at 2020-02-11-07:01:40\n",
            "INFO:tensorflow:Saving dict for global step 3: global_step = 3, loss = 11690533000000.0, score = 11690533000000.0\n",
            "INFO:tensorflow:Saving 'checkpoint_path' summary for global step 3: /tmp/tmpwga540v7/model.ckpt-3\n",
            "score: 11690533000000.0\n",
            "INFO:tensorflow:Calling model_fn.\n",
            "INFO:tensorflow:Done calling model_fn.\n",
            "INFO:tensorflow:Create CheckpointSaverHook.\n",
            "INFO:tensorflow:Graph was finalized.\n",
            "INFO:tensorflow:Restoring parameters from /tmp/tmpwga540v7/model.ckpt-3\n",
            "INFO:tensorflow:Running local_init_op.\n",
            "INFO:tensorflow:Done running local_init_op.\n",
            "INFO:tensorflow:Saving checkpoints for 3 into /tmp/tmpwga540v7/model.ckpt.\n",
            "INFO:tensorflow:loss = 11690533000000.0, step = 4\n",
            "INFO:tensorflow:Saving checkpoints for 5 into /tmp/tmpwga540v7/model.ckpt.\n",
            "INFO:tensorflow:Loss for final step: 11690533000000.0.\n",
            "delta: [[ 1.1551814e+00 -2.0781876e+01]\n",
            " [ 8.9647007e-01  8.1777859e+00]\n",
            " [-2.7939372e+00  3.1820679e+03]\n",
            " [-1.3368320e-01  1.2051111e+00]\n",
            " [ 7.2149706e-01  1.9754259e-01]]\n",
            "INFO:tensorflow:Calling model_fn.\n",
            "INFO:tensorflow:Done calling model_fn.\n",
            "INFO:tensorflow:Starting evaluation at 2020-02-11T07:01:44Z\n",
            "INFO:tensorflow:Graph was finalized.\n",
            "INFO:tensorflow:Restoring parameters from /tmp/tmpwga540v7/model.ckpt-5\n",
            "INFO:tensorflow:Running local_init_op.\n",
            "INFO:tensorflow:Done running local_init_op.\n",
            "INFO:tensorflow:Evaluation [1/1]\n",
            "INFO:tensorflow:Finished evaluation at 2020-02-11-07:01:44\n",
            "INFO:tensorflow:Saving dict for global step 5: global_step = 5, loss = 11048996000000.0, score = 11048996000000.0\n",
            "INFO:tensorflow:Saving 'checkpoint_path' summary for global step 5: /tmp/tmpwga540v7/model.ckpt-5\n",
            "score: 11048996000000.0\n",
            "INFO:tensorflow:Calling model_fn.\n",
            "INFO:tensorflow:Done calling model_fn.\n",
            "INFO:tensorflow:Create CheckpointSaverHook.\n",
            "INFO:tensorflow:Graph was finalized.\n",
            "INFO:tensorflow:Restoring parameters from /tmp/tmpwga540v7/model.ckpt-5\n",
            "INFO:tensorflow:Running local_init_op.\n",
            "INFO:tensorflow:Done running local_init_op.\n",
            "INFO:tensorflow:Saving checkpoints for 5 into /tmp/tmpwga540v7/model.ckpt.\n",
            "INFO:tensorflow:loss = 11048996000000.0, step = 6\n",
            "INFO:tensorflow:Saving checkpoints for 7 into /tmp/tmpwga540v7/model.ckpt.\n",
            "INFO:tensorflow:Loss for final step: 11048996000000.0.\n",
            "delta: [[ 2.0878267e-01  1.5514703e+02]\n",
            " [ 1.3235471e+00  7.7266293e+00]\n",
            " [ 4.3497372e-01  1.1264416e+04]\n",
            " [ 1.7947388e-01 -3.3946943e-01]\n",
            " [ 6.0887337e-03  6.5640318e-01]]\n",
            "INFO:tensorflow:Calling model_fn.\n",
            "INFO:tensorflow:Done calling model_fn.\n",
            "INFO:tensorflow:Starting evaluation at 2020-02-11T07:01:49Z\n",
            "INFO:tensorflow:Graph was finalized.\n",
            "INFO:tensorflow:Restoring parameters from /tmp/tmpwga540v7/model.ckpt-7\n",
            "INFO:tensorflow:Running local_init_op.\n",
            "INFO:tensorflow:Done running local_init_op.\n",
            "INFO:tensorflow:Evaluation [1/1]\n",
            "INFO:tensorflow:Finished evaluation at 2020-02-11-07:01:49\n",
            "INFO:tensorflow:Saving dict for global step 7: global_step = 7, loss = 9469286000000.0, score = 9469286000000.0\n",
            "INFO:tensorflow:Saving 'checkpoint_path' summary for global step 7: /tmp/tmpwga540v7/model.ckpt-7\n",
            "score: 9469286000000.0\n",
            "INFO:tensorflow:Calling model_fn.\n",
            "INFO:tensorflow:Done calling model_fn.\n",
            "INFO:tensorflow:Create CheckpointSaverHook.\n",
            "INFO:tensorflow:Graph was finalized.\n",
            "INFO:tensorflow:Restoring parameters from /tmp/tmpwga540v7/model.ckpt-7\n",
            "INFO:tensorflow:Running local_init_op.\n",
            "INFO:tensorflow:Done running local_init_op.\n",
            "INFO:tensorflow:Saving checkpoints for 7 into /tmp/tmpwga540v7/model.ckpt.\n",
            "INFO:tensorflow:loss = 9469286000000.0, step = 8\n",
            "INFO:tensorflow:Saving checkpoints for 9 into /tmp/tmpwga540v7/model.ckpt.\n",
            "WARNING:tensorflow:From /usr/local/lib/python3.6/dist-packages/tensorflow_core/python/training/saver.py:963: remove_checkpoint (from tensorflow.python.training.checkpoint_management) is deprecated and will be removed in a future version.\n",
            "Instructions for updating:\n",
            "Use standard file APIs to delete files with this prefix.\n",
            "INFO:tensorflow:Loss for final step: 9469286000000.0.\n",
            "delta: [[3.4410286e-01 5.8377997e+02]\n",
            " [4.4689417e-01 1.5289764e+01]\n",
            " [4.8868179e-02 2.0774393e+04]\n",
            " [1.6699505e-01 7.1033955e-02]\n",
            " [6.4426899e-02 4.8499322e-01]]\n",
            "INFO:tensorflow:Calling model_fn.\n",
            "INFO:tensorflow:Done calling model_fn.\n",
            "INFO:tensorflow:Starting evaluation at 2020-02-11T07:01:54Z\n",
            "INFO:tensorflow:Graph was finalized.\n",
            "INFO:tensorflow:Restoring parameters from /tmp/tmpwga540v7/model.ckpt-9\n",
            "INFO:tensorflow:Running local_init_op.\n",
            "INFO:tensorflow:Done running local_init_op.\n",
            "INFO:tensorflow:Evaluation [1/1]\n",
            "INFO:tensorflow:Finished evaluation at 2020-02-11-07:01:54\n",
            "INFO:tensorflow:Saving dict for global step 9: global_step = 9, loss = 7606258000000.0, score = 7606258000000.0\n",
            "INFO:tensorflow:Saving 'checkpoint_path' summary for global step 9: /tmp/tmpwga540v7/model.ckpt-9\n",
            "score: 7606258000000.0\n",
            "INFO:tensorflow:Calling model_fn.\n",
            "INFO:tensorflow:Done calling model_fn.\n",
            "INFO:tensorflow:Create CheckpointSaverHook.\n",
            "INFO:tensorflow:Graph was finalized.\n",
            "INFO:tensorflow:Restoring parameters from /tmp/tmpwga540v7/model.ckpt-9\n",
            "INFO:tensorflow:Running local_init_op.\n",
            "INFO:tensorflow:Done running local_init_op.\n",
            "INFO:tensorflow:Saving checkpoints for 9 into /tmp/tmpwga540v7/model.ckpt.\n",
            "INFO:tensorflow:loss = 7606258000000.0, step = 10\n",
            "INFO:tensorflow:Saving checkpoints for 11 into /tmp/tmpwga540v7/model.ckpt.\n",
            "INFO:tensorflow:Loss for final step: 7606258000000.0.\n",
            "delta: [[ 3.0769444e-01  1.6054641e+03]\n",
            " [ 2.0566845e-01  3.8833931e+01]\n",
            " [-3.2851219e-02  2.6346738e+04]\n",
            " [ 1.2313843e-02  3.5909986e-01]\n",
            " [-1.6743422e-02  7.1210599e-01]]\n",
            "INFO:tensorflow:Calling model_fn.\n",
            "INFO:tensorflow:Done calling model_fn.\n",
            "INFO:tensorflow:Starting evaluation at 2020-02-11T07:01:59Z\n",
            "INFO:tensorflow:Graph was finalized.\n",
            "INFO:tensorflow:Restoring parameters from /tmp/tmpwga540v7/model.ckpt-11\n",
            "INFO:tensorflow:Running local_init_op.\n",
            "INFO:tensorflow:Done running local_init_op.\n",
            "INFO:tensorflow:Evaluation [1/1]\n",
            "INFO:tensorflow:Finished evaluation at 2020-02-11-07:01:59\n",
            "INFO:tensorflow:Saving dict for global step 11: global_step = 11, loss = 6106554300000.0, score = 6106554300000.0\n",
            "INFO:tensorflow:Saving 'checkpoint_path' summary for global step 11: /tmp/tmpwga540v7/model.ckpt-11\n",
            "score: 6106554300000.0\n",
            "INFO:tensorflow:Calling model_fn.\n",
            "INFO:tensorflow:Done calling model_fn.\n",
            "INFO:tensorflow:Create CheckpointSaverHook.\n",
            "INFO:tensorflow:Graph was finalized.\n",
            "INFO:tensorflow:Restoring parameters from /tmp/tmpwga540v7/model.ckpt-11\n",
            "INFO:tensorflow:Running local_init_op.\n",
            "INFO:tensorflow:Done running local_init_op.\n",
            "INFO:tensorflow:Saving checkpoints for 11 into /tmp/tmpwga540v7/model.ckpt.\n",
            "INFO:tensorflow:loss = 6106554300000.0, step = 12\n",
            "INFO:tensorflow:Saving checkpoints for 13 into /tmp/tmpwga540v7/model.ckpt.\n",
            "INFO:tensorflow:Loss for final step: 6106554300000.0.\n",
            "delta: [[ 1.7856741e-01  3.2590417e+03]\n",
            " [ 1.7237329e-01  9.8950722e+01]\n",
            " [ 1.3885021e-02  2.7739188e+04]\n",
            " [-1.8137836e-01  9.7979307e-02]\n",
            " [-8.1983089e-02  1.7931268e+00]]\n",
            "INFO:tensorflow:Calling model_fn.\n",
            "INFO:tensorflow:Done calling model_fn.\n",
            "INFO:tensorflow:Starting evaluation at 2020-02-11T07:02:04Z\n",
            "INFO:tensorflow:Graph was finalized.\n",
            "INFO:tensorflow:Restoring parameters from /tmp/tmpwga540v7/model.ckpt-13\n",
            "INFO:tensorflow:Running local_init_op.\n",
            "INFO:tensorflow:Done running local_init_op.\n",
            "INFO:tensorflow:Evaluation [1/1]\n",
            "INFO:tensorflow:Finished evaluation at 2020-02-11-07:02:05\n",
            "INFO:tensorflow:Saving dict for global step 13: global_step = 13, loss = 5011024000000.0, score = 5011024000000.0\n",
            "INFO:tensorflow:Saving 'checkpoint_path' summary for global step 13: /tmp/tmpwga540v7/model.ckpt-13\n",
            "score: 5011024000000.0\n",
            "INFO:tensorflow:Calling model_fn.\n",
            "INFO:tensorflow:Done calling model_fn.\n",
            "INFO:tensorflow:Create CheckpointSaverHook.\n",
            "INFO:tensorflow:Graph was finalized.\n",
            "INFO:tensorflow:Restoring parameters from /tmp/tmpwga540v7/model.ckpt-13\n",
            "INFO:tensorflow:Running local_init_op.\n",
            "INFO:tensorflow:Done running local_init_op.\n",
            "INFO:tensorflow:Saving checkpoints for 13 into /tmp/tmpwga540v7/model.ckpt.\n",
            "INFO:tensorflow:loss = 5011024000000.0, step = 14\n",
            "INFO:tensorflow:Saving checkpoints for 15 into /tmp/tmpwga540v7/model.ckpt.\n",
            "INFO:tensorflow:Loss for final step: 5011024000000.0.\n",
            "delta: [[ 4.1572094e-02  4.7576875e+03]\n",
            " [ 3.0275774e-01  2.5122530e+02]\n",
            " [-1.5657902e-02  2.6334891e+04]\n",
            " [-5.0529289e-01 -6.6568440e-01]\n",
            " [ 5.8713675e-02  4.0559607e+00]]\n",
            "INFO:tensorflow:Calling model_fn.\n",
            "INFO:tensorflow:Done calling model_fn.\n",
            "INFO:tensorflow:Starting evaluation at 2020-02-11T07:02:09Z\n",
            "INFO:tensorflow:Graph was finalized.\n",
            "INFO:tensorflow:Restoring parameters from /tmp/tmpwga540v7/model.ckpt-15\n",
            "INFO:tensorflow:Running local_init_op.\n",
            "INFO:tensorflow:Done running local_init_op.\n",
            "INFO:tensorflow:Evaluation [1/1]\n",
            "INFO:tensorflow:Finished evaluation at 2020-02-11-07:02:10\n",
            "INFO:tensorflow:Saving dict for global step 15: global_step = 15, loss = 4197626000000.0, score = 4197626000000.0\n",
            "INFO:tensorflow:Saving 'checkpoint_path' summary for global step 15: /tmp/tmpwga540v7/model.ckpt-15\n",
            "score: 4197626000000.0\n",
            "INFO:tensorflow:Calling model_fn.\n",
            "INFO:tensorflow:Done calling model_fn.\n",
            "INFO:tensorflow:Create CheckpointSaverHook.\n",
            "INFO:tensorflow:Graph was finalized.\n",
            "INFO:tensorflow:Restoring parameters from /tmp/tmpwga540v7/model.ckpt-15\n",
            "INFO:tensorflow:Running local_init_op.\n",
            "INFO:tensorflow:Done running local_init_op.\n",
            "INFO:tensorflow:Saving checkpoints for 15 into /tmp/tmpwga540v7/model.ckpt.\n",
            "INFO:tensorflow:loss = 4197626000000.0, step = 16\n",
            "INFO:tensorflow:Saving checkpoints for 17 into /tmp/tmpwga540v7/model.ckpt.\n",
            "INFO:tensorflow:Loss for final step: 4197626000000.0.\n",
            "delta: [[ 4.42132950e-02  6.36115820e+03]\n",
            " [ 2.68283367e-01  5.48061157e+02]\n",
            " [-1.09383106e-01  2.79196094e+04]\n",
            " [-1.74251223e+00 -7.30534792e-02]\n",
            " [ 9.04466391e-01  1.68797913e+01]]\n",
            "INFO:tensorflow:Calling model_fn.\n",
            "INFO:tensorflow:Done calling model_fn.\n",
            "INFO:tensorflow:Starting evaluation at 2020-02-11T07:02:14Z\n",
            "INFO:tensorflow:Graph was finalized.\n",
            "INFO:tensorflow:Restoring parameters from /tmp/tmpwga540v7/model.ckpt-17\n",
            "INFO:tensorflow:Running local_init_op.\n",
            "INFO:tensorflow:Done running local_init_op.\n",
            "INFO:tensorflow:Evaluation [1/1]\n",
            "INFO:tensorflow:Finished evaluation at 2020-02-11-07:02:14\n",
            "INFO:tensorflow:Saving dict for global step 17: global_step = 17, loss = 3472083600000.0, score = 3472083600000.0\n",
            "INFO:tensorflow:Saving 'checkpoint_path' summary for global step 17: /tmp/tmpwga540v7/model.ckpt-17\n",
            "score: 3472083600000.0\n",
            "INFO:tensorflow:Calling model_fn.\n",
            "INFO:tensorflow:Done calling model_fn.\n",
            "INFO:tensorflow:Create CheckpointSaverHook.\n",
            "INFO:tensorflow:Graph was finalized.\n",
            "INFO:tensorflow:Restoring parameters from /tmp/tmpwga540v7/model.ckpt-17\n",
            "INFO:tensorflow:Running local_init_op.\n",
            "INFO:tensorflow:Done running local_init_op.\n",
            "INFO:tensorflow:Saving checkpoints for 17 into /tmp/tmpwga540v7/model.ckpt.\n",
            "INFO:tensorflow:loss = 3472083600000.0, step = 18\n",
            "INFO:tensorflow:Saving checkpoints for 19 into /tmp/tmpwga540v7/model.ckpt.\n",
            "INFO:tensorflow:Loss for final step: 3472083600000.0.\n",
            "delta: [[-1.0478497e-02  7.4353281e+03]\n",
            " [ 2.1367598e-01  9.3558856e+02]\n",
            " [ 4.3457508e-02  2.8640312e+04]\n",
            " [-3.3210945e-01  7.6828009e-01]\n",
            " [ 8.6343813e-01  3.9828011e+01]]\n",
            "INFO:tensorflow:Calling model_fn.\n",
            "INFO:tensorflow:Done calling model_fn.\n",
            "INFO:tensorflow:Starting evaluation at 2020-02-11T07:02:19Z\n",
            "INFO:tensorflow:Graph was finalized.\n",
            "INFO:tensorflow:Restoring parameters from /tmp/tmpwga540v7/model.ckpt-19\n",
            "INFO:tensorflow:Running local_init_op.\n",
            "INFO:tensorflow:Done running local_init_op.\n",
            "INFO:tensorflow:Evaluation [1/1]\n",
            "INFO:tensorflow:Finished evaluation at 2020-02-11-07:02:20\n",
            "INFO:tensorflow:Saving dict for global step 19: global_step = 19, loss = 2903727400000.0, score = 2903727400000.0\n",
            "INFO:tensorflow:Saving 'checkpoint_path' summary for global step 19: /tmp/tmpwga540v7/model.ckpt-19\n",
            "score: 2903727400000.0\n",
            "cluster centers: [[6.7116909e+00 2.4249621e+04]\n",
            " [6.4651809e+00 1.9053234e+03]\n",
            " [6.6081634e+00 1.7239952e+05]\n",
            " [5.9805799e+00 1.6039715e+00]\n",
            " [5.4636555e+00 6.4752960e+01]]\n"
          ],
          "name": "stdout"
        }
      ]
    },
    {
      "cell_type": "code",
      "metadata": {
        "id": "klKu7QAFDSDW",
        "colab_type": "code",
        "colab": {
          "base_uri": "https://localhost:8080/",
          "height": 190
        },
        "outputId": "f960ce0a-e50e-441f-cbb1-e5522d26a9b9"
      },
      "source": [
        "# map the input points to their clusters\n",
        "cluster_indices = list(kmeans.predict_cluster_index(input_fn))\n",
        "for i, point in enumerate(X):\n",
        "  cluster_index = cluster_indices[i]\n",
        "  center = cluster_centers[cluster_index]\n",
        "  print ('point:', point, 'is in cluster', cluster_index, 'centered at', center)"
      ],
      "execution_count": 97,
      "outputs": [
        {
          "output_type": "stream",
          "text": [
            "WARNING:tensorflow:Input graph does not use tf.data.Dataset or contain a QueueRunner. That means predict yields forever. This is probably a mistake.\n",
            "INFO:tensorflow:Calling model_fn.\n",
            "INFO:tensorflow:Done calling model_fn.\n",
            "INFO:tensorflow:Graph was finalized.\n",
            "INFO:tensorflow:Restoring parameters from /tmp/tmpwga540v7/model.ckpt-19\n",
            "INFO:tensorflow:Running local_init_op.\n",
            "INFO:tensorflow:Done running local_init_op.\n",
            "point: MONTH is in cluster 3 centered at [5.98058   1.6039715]\n",
            "point: FIRE_SIZE is in cluster 3 centered at [5.98058   1.6039715]\n"
          ],
          "name": "stdout"
        }
      ]
    },
    {
      "cell_type": "code",
      "metadata": {
        "id": "YoZ7N3rHDnEU",
        "colab_type": "code",
        "colab": {}
      },
      "source": [
        "from sklearn.cluster import DBSCAN\n",
        "X = df_fire[['MONTH','FIRE_SIZE']][:10000]\n",
        "clustering = DBSCAN(eps=3, min_samples=2).fit(X)\n",
        "y_pred = clustering.fit_predict(X)"
      ],
      "execution_count": 0,
      "outputs": []
    },
    {
      "cell_type": "code",
      "metadata": {
        "id": "BpPhoisbFxky",
        "colab_type": "code",
        "colab": {
          "base_uri": "https://localhost:8080/",
          "height": 285
        },
        "outputId": "7d91a5c6-b0dc-4854-f309-766d87e951a5"
      },
      "source": [
        "plt.scatter(df_fire['MONTH'][:10000],df_fire['FIRE_SIZE'][:10000], c=y_pred, cmap='Paired')"
      ],
      "execution_count": 18,
      "outputs": [
        {
          "output_type": "execute_result",
          "data": {
            "text/plain": [
              "<matplotlib.collections.PathCollection at 0x7f74a1015160>"
            ]
          },
          "metadata": {
            "tags": []
          },
          "execution_count": 18
        },
        {
          "output_type": "display_data",
          "data": {
            "image/png": "[encoded data removed]",
            "text/plain": [
              "<Figure size 432x288 with 1 Axes>"
            ]
          },
          "metadata": {
            "tags": []
          }
        }
      ]
    },
    {
      "cell_type": "markdown",
      "metadata": {
        "id": "7td-nl2oKL5l",
        "colab_type": "text"
      },
      "source": [
        "The system crashes for loading huge data once."
      ]
    }
  ]
}
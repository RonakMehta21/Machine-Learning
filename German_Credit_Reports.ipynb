{
  "nbformat": 4,
  "nbformat_minor": 0,
  "metadata": {
    "colab": {
      "name": "German Credit Reports.ipynb",
      "provenance": [],
      "collapsed_sections": [],
      "authorship_tag": "ABX9TyMNzdstjZ3mhYc9juKnVc1O",
      "include_colab_link": true
    },
    "kernelspec": {
      "name": "python3",
      "display_name": "Python 3"
    }
  },
  "cells": [
    {
      "cell_type": "markdown",
      "metadata": {
        "id": "view-in-github",
        "colab_type": "text"
      },
      "source": [
        "<a href=\"https://colab.research.google.com/github/RonakMehta21/Machine-Learning/blob/master/German_Credit_Reports.ipynb\" target=\"_parent\"><img src=\"https://colab.research.google.com/assets/colab-badge.svg\" alt=\"Open In Colab\"/></a>"
      ]
    },
    {
      "cell_type": "markdown",
      "metadata": {
        "id": "wUQS7ycGFzCL",
        "colab_type": "text"
      },
      "source": [
        "#German Credit Reports"
      ]
    },
    {
      "cell_type": "markdown",
      "metadata": {
        "id": "UQfjgbL0NZog",
        "colab_type": "text"
      },
      "source": [
        "### 1. Business Case or Value"
      ]
    },
    {
      "cell_type": "markdown",
      "metadata": {
        "id": "Vc09v6bMQeGe",
        "colab_type": "text"
      },
      "source": [
        "When a bank receives a loan application, based on the applicant’s profile the bank has to make a decision regarding whether to go ahead with the loan approval or not. Two types of risks are associated with the bank’s decision –\n",
        "1. If the applicant is likely to repay the loan, then not approving the loan to the person results in a loss of business to the bank.\n",
        "2. If the applicant is not likely to repay the loan, then approving the loan to the person results in a financial loss to the bank."
      ]
    },
    {
      "cell_type": "markdown",
      "metadata": {
        "id": "q6ApvRt-RrC8",
        "colab_type": "text"
      },
      "source": [
        "**Objective Function**:\n",
        "Minimization of risk and maximization of profit on behalf of the bank."
      ]
    },
    {
      "cell_type": "markdown",
      "metadata": {
        "id": "5uDmItNkUU9u",
        "colab_type": "text"
      },
      "source": [
        "To minimize loss from the bank’s perspective, the bank needs a decision rule regarding who to give approval of the loan and who not to. An applicant’s demographic and socio-economic profiles are considered by loan managers before a decision is taken regarding his/her loan application."
      ]
    },
    {
      "cell_type": "markdown",
      "metadata": {
        "id": "wyTZif5rSuZk",
        "colab_type": "text"
      },
      "source": [
        "### 2. Data Narative"
      ]
    },
    {
      "cell_type": "markdown",
      "metadata": {
        "id": "vdvj4tkaNTPI",
        "colab_type": "text"
      },
      "source": [
        "The '[german.data](http://archive.ics.uci.edu/ml/machine-learning-databases/statlog/german/)' (original) dataset contains data on 20 variables (7 are numeric and 13 are categorical) and the classification whether an applicant is considered a Good or a Bad credit risk for 1000 loan applicants. \n",
        "\n",
        "In this dataset, each entry represents a person who takes a credit by a bank. Each person is classified as good or bad credit risks according to the set of attributes.\n",
        "\n",
        "A predictive model developed on this data is expected to provide a bank manager guidance for making a decision whether to approve a loan to a prospective applicant based on his/her profiles."
      ]
    },
    {
      "cell_type": "code",
      "metadata": {
        "id": "ZuwU6tl_Cdur",
        "colab_type": "code",
        "colab": {}
      },
      "source": [
        "#Import Necessary Libraries\n",
        "import requests\n",
        "import pandas as pd\n",
        "from sklearn.ensemble import RandomForestClassifier\n",
        "from sklearn.model_selection import train_test_split\n",
        "from sklearn.metrics import confusion_matrix\n",
        "from sklearn.tree import export_graphviz\n",
        "from sklearn.externals.six import StringIO \n",
        "from IPython.display import Image \n",
        "from pydot import graph_from_dot_data\n",
        "from sklearn.metrics import accuracy_score\n",
        "from sklearn.metrics import classification_report \n",
        "from sklearn.compose import ColumnTransformer\n",
        "from sklearn.preprocessing import LabelEncoder \n",
        "from sklearn.preprocessing import StandardScaler\n",
        "from sklearn.preprocessing import OneHotEncoder\n",
        "from sklearn.decomposition import PCA\n",
        "from sklearn.dummy import DummyClassifier\n",
        "from sklearn.model_selection import RepeatedStratifiedKFold\n",
        "from imblearn.under_sampling import InstanceHardnessThreshold\n",
        "from sklearn.model_selection import cross_val_score\n",
        "from sklearn.metrics import fbeta_score, make_scorer\n",
        "from sklearn.pipeline import Pipeline\n",
        "from sklearn.preprocessing import MinMaxScaler\n",
        "from sklearn.linear_model import LinearRegression\n",
        "from sklearn.linear_model import LogisticRegression\n",
        "from sklearn.ensemble import RandomForestClassifier\n",
        "from sklearn.naive_bayes import GaussianNB\n",
        "from sklearn import svm\n",
        "from sklearn.feature_selection import SelectKBest, chi2\n",
        "from sklearn.neighbors import KNeighborsClassifier\n",
        "from sklearn.mixture import GaussianMixture\n",
        "from sklearn.cluster import KMeans\n",
        "import xgboost as xgb\n",
        "import numpy as np\n",
        "import seaborn as sns\n",
        "import matplotlib.pyplot as plt"
      ],
      "execution_count": 0,
      "outputs": []
    },
    {
      "cell_type": "code",
      "metadata": {
        "id": "2tFxjtGtDLns",
        "colab_type": "code",
        "outputId": "a91ec0ed-2397-427b-8360-13ae8c9e6aff",
        "colab": {
          "base_uri": "https://localhost:8080/",
          "height": 34
        }
      },
      "source": [
        "# Read csv file into colaboratory\n",
        "!pip install -U -q PyDrive\n",
        "from pydrive.auth import GoogleAuth\n",
        "from pydrive.drive import GoogleDrive\n",
        "from google.colab import auth\n",
        "from oauth2client.client import GoogleCredentials\n",
        "# Authenticate and create the PyDrive client.\n",
        "auth.authenticate_user()\n",
        "gauth = GoogleAuth()\n",
        "gauth.credentials = GoogleCredentials.get_application_default()\n",
        "drive = GoogleDrive(gauth)\n",
        "\n",
        "link = 'https://drive.google.com/open?id=1YysaBDstCG2KwEzh6tg462Vac-vlz0ru'\n",
        "fluff, id = link.split('=')\n",
        "print (id) # Verify that you have everything after '='\n",
        "\n",
        "# Download the dataset from the drive.\n",
        "downloaded = drive.CreateFile({'id':id}) \n",
        "downloaded.GetContentFile('german.txt')"
      ],
      "execution_count": 8,
      "outputs": [
        {
          "output_type": "stream",
          "text": [
            "1YysaBDstCG2KwEzh6tg462Vac-vlz0ru\n"
          ],
          "name": "stdout"
        }
      ]
    },
    {
      "cell_type": "markdown",
      "metadata": {
        "id": "TPGJBCz9Tebb",
        "colab_type": "text"
      },
      "source": [
        "Load the Dataset"
      ]
    },
    {
      "cell_type": "code",
      "metadata": {
        "id": "_L61H1ugDaQb",
        "colab_type": "code",
        "colab": {}
      },
      "source": [
        "german = pd.read_csv('german.txt',delimiter=' ',header=None)"
      ],
      "execution_count": 0,
      "outputs": []
    },
    {
      "cell_type": "code",
      "metadata": {
        "id": "Mrypy0QzDf-6",
        "colab_type": "code",
        "colab": {}
      },
      "source": [
        "german.to_csv('german.csv')"
      ],
      "execution_count": 0,
      "outputs": []
    },
    {
      "cell_type": "code",
      "metadata": {
        "id": "HGwyTTp-Dgf8",
        "colab_type": "code",
        "colab": {}
      },
      "source": [
        "df = pd.read_csv('german.csv')"
      ],
      "execution_count": 0,
      "outputs": []
    },
    {
      "cell_type": "markdown",
      "metadata": {
        "id": "USJcZFqbF18A",
        "colab_type": "text"
      },
      "source": [
        "### Data Preprocessing"
      ]
    },
    {
      "cell_type": "code",
      "metadata": {
        "id": "BFlta58tDoJs",
        "colab_type": "code",
        "colab": {}
      },
      "source": [
        "df = df.drop(['Unnamed: 0'], axis=1)"
      ],
      "execution_count": 0,
      "outputs": []
    },
    {
      "cell_type": "code",
      "metadata": {
        "id": "yzPwz-F5DreE",
        "colab_type": "code",
        "outputId": "45b8d450-bede-4dab-8405-b9d90c9c2780",
        "colab": {
          "base_uri": "https://localhost:8080/",
          "height": 68
        }
      },
      "source": [
        "df.columns"
      ],
      "execution_count": 13,
      "outputs": [
        {
          "output_type": "execute_result",
          "data": {
            "text/plain": [
              "Index(['0', '1', '2', '3', '4', '5', '6', '7', '8', '9', '10', '11', '12',\n",
              "       '13', '14', '15', '16', '17', '18', '19', '20'],\n",
              "      dtype='object')"
            ]
          },
          "metadata": {
            "tags": []
          },
          "execution_count": 13
        }
      ]
    },
    {
      "cell_type": "code",
      "metadata": {
        "id": "VwZMos3ZHPiX",
        "colab_type": "code",
        "outputId": "cddbb05b-b034-4d26-880f-679796f1d0b9",
        "colab": {
          "base_uri": "https://localhost:8080/",
          "height": 34
        }
      },
      "source": [
        "df.shape"
      ],
      "execution_count": 14,
      "outputs": [
        {
          "output_type": "execute_result",
          "data": {
            "text/plain": [
              "(1000, 21)"
            ]
          },
          "metadata": {
            "tags": []
          },
          "execution_count": 14
        }
      ]
    },
    {
      "cell_type": "code",
      "metadata": {
        "id": "mWr0f9vcFbI8",
        "colab_type": "code",
        "outputId": "0fc31e52-baef-476f-e625-5f338d3846d1",
        "colab": {
          "base_uri": "https://localhost:8080/",
          "height": 391
        }
      },
      "source": [
        "df.isnull().sum()"
      ],
      "execution_count": 15,
      "outputs": [
        {
          "output_type": "execute_result",
          "data": {
            "text/plain": [
              "0     0\n",
              "1     0\n",
              "2     0\n",
              "3     0\n",
              "4     0\n",
              "5     0\n",
              "6     0\n",
              "7     0\n",
              "8     0\n",
              "9     0\n",
              "10    0\n",
              "11    0\n",
              "12    0\n",
              "13    0\n",
              "14    0\n",
              "15    0\n",
              "16    0\n",
              "17    0\n",
              "18    0\n",
              "19    0\n",
              "20    0\n",
              "dtype: int64"
            ]
          },
          "metadata": {
            "tags": []
          },
          "execution_count": 15
        }
      ]
    },
    {
      "cell_type": "markdown",
      "metadata": {
        "id": "dx6NirYwF5k6",
        "colab_type": "text"
      },
      "source": [
        "No Null values present in the dataset"
      ]
    },
    {
      "cell_type": "code",
      "metadata": {
        "id": "pZOk74NzF8v-",
        "colab_type": "code",
        "outputId": "6cf7974a-69ec-45c8-d4ff-ea51902e1a0a",
        "colab": {
          "base_uri": "https://localhost:8080/",
          "height": 419
        }
      },
      "source": [
        "df"
      ],
      "execution_count": 16,
      "outputs": [
        {
          "output_type": "execute_result",
          "data": {
            "text/html": [
              "<div>\n",
              "<style scoped>\n",
              "    .dataframe tbody tr th:only-of-type {\n",
              "        vertical-align: middle;\n",
              "    }\n",
              "\n",
              "    .dataframe tbody tr th {\n",
              "        vertical-align: top;\n",
              "    }\n",
              "\n",
              "    .dataframe thead th {\n",
              "        text-align: right;\n",
              "    }\n",
              "</style>\n",
              "<table border=\"1\" class=\"dataframe\">\n",
              "  <thead>\n",
              "    <tr style=\"text-align: right;\">\n",
              "      <th></th>\n",
              "      <th>0</th>\n",
              "      <th>1</th>\n",
              "      <th>2</th>\n",
              "      <th>3</th>\n",
              "      <th>4</th>\n",
              "      <th>5</th>\n",
              "      <th>6</th>\n",
              "      <th>7</th>\n",
              "      <th>8</th>\n",
              "      <th>9</th>\n",
              "      <th>10</th>\n",
              "      <th>11</th>\n",
              "      <th>12</th>\n",
              "      <th>13</th>\n",
              "      <th>14</th>\n",
              "      <th>15</th>\n",
              "      <th>16</th>\n",
              "      <th>17</th>\n",
              "      <th>18</th>\n",
              "      <th>19</th>\n",
              "      <th>20</th>\n",
              "    </tr>\n",
              "  </thead>\n",
              "  <tbody>\n",
              "    <tr>\n",
              "      <th>0</th>\n",
              "      <td>A11</td>\n",
              "      <td>6</td>\n",
              "      <td>A34</td>\n",
              "      <td>A43</td>\n",
              "      <td>1169</td>\n",
              "      <td>A65</td>\n",
              "      <td>A75</td>\n",
              "      <td>4</td>\n",
              "      <td>A93</td>\n",
              "      <td>A101</td>\n",
              "      <td>4</td>\n",
              "      <td>A121</td>\n",
              "      <td>67</td>\n",
              "      <td>A143</td>\n",
              "      <td>A152</td>\n",
              "      <td>2</td>\n",
              "      <td>A173</td>\n",
              "      <td>1</td>\n",
              "      <td>A192</td>\n",
              "      <td>A201</td>\n",
              "      <td>1</td>\n",
              "    </tr>\n",
              "    <tr>\n",
              "      <th>1</th>\n",
              "      <td>A12</td>\n",
              "      <td>48</td>\n",
              "      <td>A32</td>\n",
              "      <td>A43</td>\n",
              "      <td>5951</td>\n",
              "      <td>A61</td>\n",
              "      <td>A73</td>\n",
              "      <td>2</td>\n",
              "      <td>A92</td>\n",
              "      <td>A101</td>\n",
              "      <td>2</td>\n",
              "      <td>A121</td>\n",
              "      <td>22</td>\n",
              "      <td>A143</td>\n",
              "      <td>A152</td>\n",
              "      <td>1</td>\n",
              "      <td>A173</td>\n",
              "      <td>1</td>\n",
              "      <td>A191</td>\n",
              "      <td>A201</td>\n",
              "      <td>2</td>\n",
              "    </tr>\n",
              "    <tr>\n",
              "      <th>2</th>\n",
              "      <td>A14</td>\n",
              "      <td>12</td>\n",
              "      <td>A34</td>\n",
              "      <td>A46</td>\n",
              "      <td>2096</td>\n",
              "      <td>A61</td>\n",
              "      <td>A74</td>\n",
              "      <td>2</td>\n",
              "      <td>A93</td>\n",
              "      <td>A101</td>\n",
              "      <td>3</td>\n",
              "      <td>A121</td>\n",
              "      <td>49</td>\n",
              "      <td>A143</td>\n",
              "      <td>A152</td>\n",
              "      <td>1</td>\n",
              "      <td>A172</td>\n",
              "      <td>2</td>\n",
              "      <td>A191</td>\n",
              "      <td>A201</td>\n",
              "      <td>1</td>\n",
              "    </tr>\n",
              "    <tr>\n",
              "      <th>3</th>\n",
              "      <td>A11</td>\n",
              "      <td>42</td>\n",
              "      <td>A32</td>\n",
              "      <td>A42</td>\n",
              "      <td>7882</td>\n",
              "      <td>A61</td>\n",
              "      <td>A74</td>\n",
              "      <td>2</td>\n",
              "      <td>A93</td>\n",
              "      <td>A103</td>\n",
              "      <td>4</td>\n",
              "      <td>A122</td>\n",
              "      <td>45</td>\n",
              "      <td>A143</td>\n",
              "      <td>A153</td>\n",
              "      <td>1</td>\n",
              "      <td>A173</td>\n",
              "      <td>2</td>\n",
              "      <td>A191</td>\n",
              "      <td>A201</td>\n",
              "      <td>1</td>\n",
              "    </tr>\n",
              "    <tr>\n",
              "      <th>4</th>\n",
              "      <td>A11</td>\n",
              "      <td>24</td>\n",
              "      <td>A33</td>\n",
              "      <td>A40</td>\n",
              "      <td>4870</td>\n",
              "      <td>A61</td>\n",
              "      <td>A73</td>\n",
              "      <td>3</td>\n",
              "      <td>A93</td>\n",
              "      <td>A101</td>\n",
              "      <td>4</td>\n",
              "      <td>A124</td>\n",
              "      <td>53</td>\n",
              "      <td>A143</td>\n",
              "      <td>A153</td>\n",
              "      <td>2</td>\n",
              "      <td>A173</td>\n",
              "      <td>2</td>\n",
              "      <td>A191</td>\n",
              "      <td>A201</td>\n",
              "      <td>2</td>\n",
              "    </tr>\n",
              "    <tr>\n",
              "      <th>...</th>\n",
              "      <td>...</td>\n",
              "      <td>...</td>\n",
              "      <td>...</td>\n",
              "      <td>...</td>\n",
              "      <td>...</td>\n",
              "      <td>...</td>\n",
              "      <td>...</td>\n",
              "      <td>...</td>\n",
              "      <td>...</td>\n",
              "      <td>...</td>\n",
              "      <td>...</td>\n",
              "      <td>...</td>\n",
              "      <td>...</td>\n",
              "      <td>...</td>\n",
              "      <td>...</td>\n",
              "      <td>...</td>\n",
              "      <td>...</td>\n",
              "      <td>...</td>\n",
              "      <td>...</td>\n",
              "      <td>...</td>\n",
              "      <td>...</td>\n",
              "    </tr>\n",
              "    <tr>\n",
              "      <th>995</th>\n",
              "      <td>A14</td>\n",
              "      <td>12</td>\n",
              "      <td>A32</td>\n",
              "      <td>A42</td>\n",
              "      <td>1736</td>\n",
              "      <td>A61</td>\n",
              "      <td>A74</td>\n",
              "      <td>3</td>\n",
              "      <td>A92</td>\n",
              "      <td>A101</td>\n",
              "      <td>4</td>\n",
              "      <td>A121</td>\n",
              "      <td>31</td>\n",
              "      <td>A143</td>\n",
              "      <td>A152</td>\n",
              "      <td>1</td>\n",
              "      <td>A172</td>\n",
              "      <td>1</td>\n",
              "      <td>A191</td>\n",
              "      <td>A201</td>\n",
              "      <td>1</td>\n",
              "    </tr>\n",
              "    <tr>\n",
              "      <th>996</th>\n",
              "      <td>A11</td>\n",
              "      <td>30</td>\n",
              "      <td>A32</td>\n",
              "      <td>A41</td>\n",
              "      <td>3857</td>\n",
              "      <td>A61</td>\n",
              "      <td>A73</td>\n",
              "      <td>4</td>\n",
              "      <td>A91</td>\n",
              "      <td>A101</td>\n",
              "      <td>4</td>\n",
              "      <td>A122</td>\n",
              "      <td>40</td>\n",
              "      <td>A143</td>\n",
              "      <td>A152</td>\n",
              "      <td>1</td>\n",
              "      <td>A174</td>\n",
              "      <td>1</td>\n",
              "      <td>A192</td>\n",
              "      <td>A201</td>\n",
              "      <td>1</td>\n",
              "    </tr>\n",
              "    <tr>\n",
              "      <th>997</th>\n",
              "      <td>A14</td>\n",
              "      <td>12</td>\n",
              "      <td>A32</td>\n",
              "      <td>A43</td>\n",
              "      <td>804</td>\n",
              "      <td>A61</td>\n",
              "      <td>A75</td>\n",
              "      <td>4</td>\n",
              "      <td>A93</td>\n",
              "      <td>A101</td>\n",
              "      <td>4</td>\n",
              "      <td>A123</td>\n",
              "      <td>38</td>\n",
              "      <td>A143</td>\n",
              "      <td>A152</td>\n",
              "      <td>1</td>\n",
              "      <td>A173</td>\n",
              "      <td>1</td>\n",
              "      <td>A191</td>\n",
              "      <td>A201</td>\n",
              "      <td>1</td>\n",
              "    </tr>\n",
              "    <tr>\n",
              "      <th>998</th>\n",
              "      <td>A11</td>\n",
              "      <td>45</td>\n",
              "      <td>A32</td>\n",
              "      <td>A43</td>\n",
              "      <td>1845</td>\n",
              "      <td>A61</td>\n",
              "      <td>A73</td>\n",
              "      <td>4</td>\n",
              "      <td>A93</td>\n",
              "      <td>A101</td>\n",
              "      <td>4</td>\n",
              "      <td>A124</td>\n",
              "      <td>23</td>\n",
              "      <td>A143</td>\n",
              "      <td>A153</td>\n",
              "      <td>1</td>\n",
              "      <td>A173</td>\n",
              "      <td>1</td>\n",
              "      <td>A192</td>\n",
              "      <td>A201</td>\n",
              "      <td>2</td>\n",
              "    </tr>\n",
              "    <tr>\n",
              "      <th>999</th>\n",
              "      <td>A12</td>\n",
              "      <td>45</td>\n",
              "      <td>A34</td>\n",
              "      <td>A41</td>\n",
              "      <td>4576</td>\n",
              "      <td>A62</td>\n",
              "      <td>A71</td>\n",
              "      <td>3</td>\n",
              "      <td>A93</td>\n",
              "      <td>A101</td>\n",
              "      <td>4</td>\n",
              "      <td>A123</td>\n",
              "      <td>27</td>\n",
              "      <td>A143</td>\n",
              "      <td>A152</td>\n",
              "      <td>1</td>\n",
              "      <td>A173</td>\n",
              "      <td>1</td>\n",
              "      <td>A191</td>\n",
              "      <td>A201</td>\n",
              "      <td>1</td>\n",
              "    </tr>\n",
              "  </tbody>\n",
              "</table>\n",
              "<p>1000 rows × 21 columns</p>\n",
              "</div>"
            ],
            "text/plain": [
              "       0   1    2    3     4    5    6  ...    14 15    16  17    18    19 20\n",
              "0    A11   6  A34  A43  1169  A65  A75  ...  A152  2  A173   1  A192  A201  1\n",
              "1    A12  48  A32  A43  5951  A61  A73  ...  A152  1  A173   1  A191  A201  2\n",
              "2    A14  12  A34  A46  2096  A61  A74  ...  A152  1  A172   2  A191  A201  1\n",
              "3    A11  42  A32  A42  7882  A61  A74  ...  A153  1  A173   2  A191  A201  1\n",
              "4    A11  24  A33  A40  4870  A61  A73  ...  A153  2  A173   2  A191  A201  2\n",
              "..   ...  ..  ...  ...   ...  ...  ...  ...   ... ..   ...  ..   ...   ... ..\n",
              "995  A14  12  A32  A42  1736  A61  A74  ...  A152  1  A172   1  A191  A201  1\n",
              "996  A11  30  A32  A41  3857  A61  A73  ...  A152  1  A174   1  A192  A201  1\n",
              "997  A14  12  A32  A43   804  A61  A75  ...  A152  1  A173   1  A191  A201  1\n",
              "998  A11  45  A32  A43  1845  A61  A73  ...  A153  1  A173   1  A192  A201  2\n",
              "999  A12  45  A34  A41  4576  A62  A71  ...  A152  1  A173   1  A191  A201  1\n",
              "\n",
              "[1000 rows x 21 columns]"
            ]
          },
          "metadata": {
            "tags": []
          },
          "execution_count": 16
        }
      ]
    },
    {
      "cell_type": "code",
      "metadata": {
        "id": "m-VA5kUBHVk0",
        "colab_type": "code",
        "colab": {}
      },
      "source": [
        "df.columns=['account_check_status','duration_in_month','credit_history','purpose','credit_amount','savings','present_emp_since','installment_as_income_perc','personal_status_sex','other_debtors','present_res_since','property','age','other_installment_plans','housing','credits_this_bank','job','people_under_maintenance','telephone','foreign_worker','status']"
      ],
      "execution_count": 0,
      "outputs": []
    },
    {
      "cell_type": "code",
      "metadata": {
        "id": "GpzBw2-PKjHr",
        "colab_type": "code",
        "outputId": "33b22d08-96d4-4d15-8def-1b3d7bed7c09",
        "colab": {
          "base_uri": "https://localhost:8080/",
          "height": 439
        }
      },
      "source": [
        "df"
      ],
      "execution_count": 18,
      "outputs": [
        {
          "output_type": "execute_result",
          "data": {
            "text/html": [
              "<div>\n",
              "<style scoped>\n",
              "    .dataframe tbody tr th:only-of-type {\n",
              "        vertical-align: middle;\n",
              "    }\n",
              "\n",
              "    .dataframe tbody tr th {\n",
              "        vertical-align: top;\n",
              "    }\n",
              "\n",
              "    .dataframe thead th {\n",
              "        text-align: right;\n",
              "    }\n",
              "</style>\n",
              "<table border=\"1\" class=\"dataframe\">\n",
              "  <thead>\n",
              "    <tr style=\"text-align: right;\">\n",
              "      <th></th>\n",
              "      <th>account_check_status</th>\n",
              "      <th>duration_in_month</th>\n",
              "      <th>credit_history</th>\n",
              "      <th>purpose</th>\n",
              "      <th>credit_amount</th>\n",
              "      <th>savings</th>\n",
              "      <th>present_emp_since</th>\n",
              "      <th>installment_as_income_perc</th>\n",
              "      <th>personal_status_sex</th>\n",
              "      <th>other_debtors</th>\n",
              "      <th>present_res_since</th>\n",
              "      <th>property</th>\n",
              "      <th>age</th>\n",
              "      <th>other_installment_plans</th>\n",
              "      <th>housing</th>\n",
              "      <th>credits_this_bank</th>\n",
              "      <th>job</th>\n",
              "      <th>people_under_maintenance</th>\n",
              "      <th>telephone</th>\n",
              "      <th>foreign_worker</th>\n",
              "      <th>status</th>\n",
              "    </tr>\n",
              "  </thead>\n",
              "  <tbody>\n",
              "    <tr>\n",
              "      <th>0</th>\n",
              "      <td>A11</td>\n",
              "      <td>6</td>\n",
              "      <td>A34</td>\n",
              "      <td>A43</td>\n",
              "      <td>1169</td>\n",
              "      <td>A65</td>\n",
              "      <td>A75</td>\n",
              "      <td>4</td>\n",
              "      <td>A93</td>\n",
              "      <td>A101</td>\n",
              "      <td>4</td>\n",
              "      <td>A121</td>\n",
              "      <td>67</td>\n",
              "      <td>A143</td>\n",
              "      <td>A152</td>\n",
              "      <td>2</td>\n",
              "      <td>A173</td>\n",
              "      <td>1</td>\n",
              "      <td>A192</td>\n",
              "      <td>A201</td>\n",
              "      <td>1</td>\n",
              "    </tr>\n",
              "    <tr>\n",
              "      <th>1</th>\n",
              "      <td>A12</td>\n",
              "      <td>48</td>\n",
              "      <td>A32</td>\n",
              "      <td>A43</td>\n",
              "      <td>5951</td>\n",
              "      <td>A61</td>\n",
              "      <td>A73</td>\n",
              "      <td>2</td>\n",
              "      <td>A92</td>\n",
              "      <td>A101</td>\n",
              "      <td>2</td>\n",
              "      <td>A121</td>\n",
              "      <td>22</td>\n",
              "      <td>A143</td>\n",
              "      <td>A152</td>\n",
              "      <td>1</td>\n",
              "      <td>A173</td>\n",
              "      <td>1</td>\n",
              "      <td>A191</td>\n",
              "      <td>A201</td>\n",
              "      <td>2</td>\n",
              "    </tr>\n",
              "    <tr>\n",
              "      <th>2</th>\n",
              "      <td>A14</td>\n",
              "      <td>12</td>\n",
              "      <td>A34</td>\n",
              "      <td>A46</td>\n",
              "      <td>2096</td>\n",
              "      <td>A61</td>\n",
              "      <td>A74</td>\n",
              "      <td>2</td>\n",
              "      <td>A93</td>\n",
              "      <td>A101</td>\n",
              "      <td>3</td>\n",
              "      <td>A121</td>\n",
              "      <td>49</td>\n",
              "      <td>A143</td>\n",
              "      <td>A152</td>\n",
              "      <td>1</td>\n",
              "      <td>A172</td>\n",
              "      <td>2</td>\n",
              "      <td>A191</td>\n",
              "      <td>A201</td>\n",
              "      <td>1</td>\n",
              "    </tr>\n",
              "    <tr>\n",
              "      <th>3</th>\n",
              "      <td>A11</td>\n",
              "      <td>42</td>\n",
              "      <td>A32</td>\n",
              "      <td>A42</td>\n",
              "      <td>7882</td>\n",
              "      <td>A61</td>\n",
              "      <td>A74</td>\n",
              "      <td>2</td>\n",
              "      <td>A93</td>\n",
              "      <td>A103</td>\n",
              "      <td>4</td>\n",
              "      <td>A122</td>\n",
              "      <td>45</td>\n",
              "      <td>A143</td>\n",
              "      <td>A153</td>\n",
              "      <td>1</td>\n",
              "      <td>A173</td>\n",
              "      <td>2</td>\n",
              "      <td>A191</td>\n",
              "      <td>A201</td>\n",
              "      <td>1</td>\n",
              "    </tr>\n",
              "    <tr>\n",
              "      <th>4</th>\n",
              "      <td>A11</td>\n",
              "      <td>24</td>\n",
              "      <td>A33</td>\n",
              "      <td>A40</td>\n",
              "      <td>4870</td>\n",
              "      <td>A61</td>\n",
              "      <td>A73</td>\n",
              "      <td>3</td>\n",
              "      <td>A93</td>\n",
              "      <td>A101</td>\n",
              "      <td>4</td>\n",
              "      <td>A124</td>\n",
              "      <td>53</td>\n",
              "      <td>A143</td>\n",
              "      <td>A153</td>\n",
              "      <td>2</td>\n",
              "      <td>A173</td>\n",
              "      <td>2</td>\n",
              "      <td>A191</td>\n",
              "      <td>A201</td>\n",
              "      <td>2</td>\n",
              "    </tr>\n",
              "    <tr>\n",
              "      <th>...</th>\n",
              "      <td>...</td>\n",
              "      <td>...</td>\n",
              "      <td>...</td>\n",
              "      <td>...</td>\n",
              "      <td>...</td>\n",
              "      <td>...</td>\n",
              "      <td>...</td>\n",
              "      <td>...</td>\n",
              "      <td>...</td>\n",
              "      <td>...</td>\n",
              "      <td>...</td>\n",
              "      <td>...</td>\n",
              "      <td>...</td>\n",
              "      <td>...</td>\n",
              "      <td>...</td>\n",
              "      <td>...</td>\n",
              "      <td>...</td>\n",
              "      <td>...</td>\n",
              "      <td>...</td>\n",
              "      <td>...</td>\n",
              "      <td>...</td>\n",
              "    </tr>\n",
              "    <tr>\n",
              "      <th>995</th>\n",
              "      <td>A14</td>\n",
              "      <td>12</td>\n",
              "      <td>A32</td>\n",
              "      <td>A42</td>\n",
              "      <td>1736</td>\n",
              "      <td>A61</td>\n",
              "      <td>A74</td>\n",
              "      <td>3</td>\n",
              "      <td>A92</td>\n",
              "      <td>A101</td>\n",
              "      <td>4</td>\n",
              "      <td>A121</td>\n",
              "      <td>31</td>\n",
              "      <td>A143</td>\n",
              "      <td>A152</td>\n",
              "      <td>1</td>\n",
              "      <td>A172</td>\n",
              "      <td>1</td>\n",
              "      <td>A191</td>\n",
              "      <td>A201</td>\n",
              "      <td>1</td>\n",
              "    </tr>\n",
              "    <tr>\n",
              "      <th>996</th>\n",
              "      <td>A11</td>\n",
              "      <td>30</td>\n",
              "      <td>A32</td>\n",
              "      <td>A41</td>\n",
              "      <td>3857</td>\n",
              "      <td>A61</td>\n",
              "      <td>A73</td>\n",
              "      <td>4</td>\n",
              "      <td>A91</td>\n",
              "      <td>A101</td>\n",
              "      <td>4</td>\n",
              "      <td>A122</td>\n",
              "      <td>40</td>\n",
              "      <td>A143</td>\n",
              "      <td>A152</td>\n",
              "      <td>1</td>\n",
              "      <td>A174</td>\n",
              "      <td>1</td>\n",
              "      <td>A192</td>\n",
              "      <td>A201</td>\n",
              "      <td>1</td>\n",
              "    </tr>\n",
              "    <tr>\n",
              "      <th>997</th>\n",
              "      <td>A14</td>\n",
              "      <td>12</td>\n",
              "      <td>A32</td>\n",
              "      <td>A43</td>\n",
              "      <td>804</td>\n",
              "      <td>A61</td>\n",
              "      <td>A75</td>\n",
              "      <td>4</td>\n",
              "      <td>A93</td>\n",
              "      <td>A101</td>\n",
              "      <td>4</td>\n",
              "      <td>A123</td>\n",
              "      <td>38</td>\n",
              "      <td>A143</td>\n",
              "      <td>A152</td>\n",
              "      <td>1</td>\n",
              "      <td>A173</td>\n",
              "      <td>1</td>\n",
              "      <td>A191</td>\n",
              "      <td>A201</td>\n",
              "      <td>1</td>\n",
              "    </tr>\n",
              "    <tr>\n",
              "      <th>998</th>\n",
              "      <td>A11</td>\n",
              "      <td>45</td>\n",
              "      <td>A32</td>\n",
              "      <td>A43</td>\n",
              "      <td>1845</td>\n",
              "      <td>A61</td>\n",
              "      <td>A73</td>\n",
              "      <td>4</td>\n",
              "      <td>A93</td>\n",
              "      <td>A101</td>\n",
              "      <td>4</td>\n",
              "      <td>A124</td>\n",
              "      <td>23</td>\n",
              "      <td>A143</td>\n",
              "      <td>A153</td>\n",
              "      <td>1</td>\n",
              "      <td>A173</td>\n",
              "      <td>1</td>\n",
              "      <td>A192</td>\n",
              "      <td>A201</td>\n",
              "      <td>2</td>\n",
              "    </tr>\n",
              "    <tr>\n",
              "      <th>999</th>\n",
              "      <td>A12</td>\n",
              "      <td>45</td>\n",
              "      <td>A34</td>\n",
              "      <td>A41</td>\n",
              "      <td>4576</td>\n",
              "      <td>A62</td>\n",
              "      <td>A71</td>\n",
              "      <td>3</td>\n",
              "      <td>A93</td>\n",
              "      <td>A101</td>\n",
              "      <td>4</td>\n",
              "      <td>A123</td>\n",
              "      <td>27</td>\n",
              "      <td>A143</td>\n",
              "      <td>A152</td>\n",
              "      <td>1</td>\n",
              "      <td>A173</td>\n",
              "      <td>1</td>\n",
              "      <td>A191</td>\n",
              "      <td>A201</td>\n",
              "      <td>1</td>\n",
              "    </tr>\n",
              "  </tbody>\n",
              "</table>\n",
              "<p>1000 rows × 21 columns</p>\n",
              "</div>"
            ],
            "text/plain": [
              "    account_check_status  duration_in_month  ... foreign_worker status\n",
              "0                    A11                  6  ...           A201      1\n",
              "1                    A12                 48  ...           A201      2\n",
              "2                    A14                 12  ...           A201      1\n",
              "3                    A11                 42  ...           A201      1\n",
              "4                    A11                 24  ...           A201      2\n",
              "..                   ...                ...  ...            ...    ...\n",
              "995                  A14                 12  ...           A201      1\n",
              "996                  A11                 30  ...           A201      1\n",
              "997                  A14                 12  ...           A201      1\n",
              "998                  A11                 45  ...           A201      2\n",
              "999                  A12                 45  ...           A201      1\n",
              "\n",
              "[1000 rows x 21 columns]"
            ]
          },
          "metadata": {
            "tags": []
          },
          "execution_count": 18
        }
      ]
    },
    {
      "cell_type": "markdown",
      "metadata": {
        "id": "VX6D-1IlS_v5",
        "colab_type": "text"
      },
      "source": [
        "We can see that the categorical columns are encoded with an Axxx format, where “x” are integers for different labels. A one-hot encoding of the categorical variables will be required.\n",
        "\n",
        "We can also see that the numerical variables have different scales, e.g. 6, 48, and 12 in column 2, and 1169, 5951, etc. in column 5. This suggests that scaling of the integer columns will be needed for those algorithms that are sensitive to scale."
      ]
    },
    {
      "cell_type": "code",
      "metadata": {
        "id": "IhiLvx3drBeU",
        "colab_type": "code",
        "outputId": "df91bf7a-ba7c-4394-e59a-2de116db34bf",
        "colab": {
          "base_uri": "https://localhost:8080/",
          "height": 391
        }
      },
      "source": [
        "# Looking unique values\n",
        "print(df.nunique())"
      ],
      "execution_count": 19,
      "outputs": [
        {
          "output_type": "stream",
          "text": [
            "account_check_status            4\n",
            "duration_in_month              33\n",
            "credit_history                  5\n",
            "purpose                        10\n",
            "credit_amount                 921\n",
            "savings                         5\n",
            "present_emp_since               5\n",
            "installment_as_income_perc      4\n",
            "personal_status_sex             4\n",
            "other_debtors                   3\n",
            "present_res_since               4\n",
            "property                        4\n",
            "age                            53\n",
            "other_installment_plans         3\n",
            "housing                         3\n",
            "credits_this_bank               4\n",
            "job                             4\n",
            "people_under_maintenance        2\n",
            "telephone                       2\n",
            "foreign_worker                  2\n",
            "status                          2\n",
            "dtype: int64\n"
          ],
          "name": "stdout"
        }
      ]
    },
    {
      "cell_type": "markdown",
      "metadata": {
        "id": "p--YpdCnGwof",
        "colab_type": "text"
      },
      "source": [
        "### Exploratory Data Analysis:"
      ]
    },
    {
      "cell_type": "code",
      "metadata": {
        "id": "C3GuEQRMKjt2",
        "colab_type": "code",
        "outputId": "9da7faf5-ddf4-414b-a1a0-5b31057aa120",
        "colab": {
          "base_uri": "https://localhost:8080/",
          "height": 296
        }
      },
      "source": [
        "sns.countplot(data=df, x ='status', label='Count')"
      ],
      "execution_count": 20,
      "outputs": [
        {
          "output_type": "execute_result",
          "data": {
            "text/plain": [
              "<matplotlib.axes._subplots.AxesSubplot at 0x7fc6fb9fd240>"
            ]
          },
          "metadata": {
            "tags": []
          },
          "execution_count": 20
        },
        {
          "output_type": "display_data",
          "data": {
            "image/png": "[encoded data removed]",
            "text/plain": [
              "<Figure size 432x288 with 1 Axes>"
            ]
          },
          "metadata": {
            "tags": []
          }
        }
      ]
    },
    {
      "cell_type": "markdown",
      "metadata": {
        "id": "P5z02cdeM-ep",
        "colab_type": "text"
      },
      "source": [
        "Most number of people are at Good Credit Risks. But more importantly, the `Status/Target` column is highly imbalanced.\n",
        "\n",
        "Misclassification errors on the minority class are more important than other types of prediction errors for some imbalanced classification tasks.\n",
        "Giving a loan to a bad customer marked as a good customer results in a greater cost to the bank than denying a loan to a good customer marked as a bad customer."
      ]
    },
    {
      "cell_type": "code",
      "metadata": {
        "id": "7jAYTQaF1Nc1",
        "colab_type": "code",
        "colab": {
          "base_uri": "https://localhost:8080/",
          "height": 279
        },
        "outputId": "491008e1-670f-413e-feb0-0b8b06b1b2c6"
      },
      "source": [
        "ax = sns.countplot(data=df, x ='purpose', label='Count')\n",
        "total = float(len(df))\n",
        "for p in ax.patches:\n",
        "    height = p.get_height()\n",
        "    ax.text(p.get_x()+p.get_width()/2.,\n",
        "            height + 3,\n",
        "            '{:1.2f}'.format(height/total),\n",
        "            ha=\"center\")"
      ],
      "execution_count": 21,
      "outputs": [
        {
          "output_type": "display_data",
          "data": {
            "image/png": "[encoded data removed]",
            "text/plain": [
              "<Figure size 432x288 with 1 Axes>"
            ]
          },
          "metadata": {
            "tags": []
          }
        }
      ]
    },
    {
      "cell_type": "markdown",
      "metadata": {
        "id": "Yue02Lt_4E7o",
        "colab_type": "text"
      },
      "source": [
        "Most of the times the purpose of the credit was **Radio/Television** followed by **Car(new)**, **Furniture/Equipment**, and the rest."
      ]
    },
    {
      "cell_type": "code",
      "metadata": {
        "id": "Agbr1kHc7cKt",
        "colab_type": "code",
        "colab": {
          "base_uri": "https://localhost:8080/",
          "height": 265
        },
        "outputId": "7dc8d938-2e27-4837-c29e-e22b803950bd"
      },
      "source": [
        "df.other_installment_plans.value_counts().plot(kind='barh',color='coral')\n",
        "plt.show()"
      ],
      "execution_count": 22,
      "outputs": [
        {
          "output_type": "display_data",
          "data": {
            "image/png": "[encoded data removed]",
            "text/plain": [
              "<Figure size 432x288 with 1 Axes>"
            ]
          },
          "metadata": {
            "tags": []
          }
        }
      ]
    },
    {
      "cell_type": "markdown",
      "metadata": {
        "id": "I1pE9U6xUglK",
        "colab_type": "text"
      },
      "source": [
        "Most of the installment plans were None, followed by Banks and Stores"
      ]
    },
    {
      "cell_type": "code",
      "metadata": {
        "id": "xl_Q2BU39ELa",
        "colab_type": "code",
        "colab": {
          "base_uri": "https://localhost:8080/",
          "height": 265
        },
        "outputId": "4fe0aa6e-e20e-4d58-f9f1-3ed919ee9c32"
      },
      "source": [
        "df.job.value_counts().plot(kind='barh',color='coral')\n",
        "plt.show()"
      ],
      "execution_count": 23,
      "outputs": [
        {
          "output_type": "display_data",
          "data": {
            "image/png": "[encoded data removed]",
            "text/plain": [
              "<Figure size 432x288 with 1 Axes>"
            ]
          },
          "metadata": {
            "tags": []
          }
        }
      ]
    },
    {
      "cell_type": "markdown",
      "metadata": {
        "id": "DQ35XWtbUv3U",
        "colab_type": "text"
      },
      "source": [
        "It is evident that most number of people are skilled employee/official."
      ]
    },
    {
      "cell_type": "code",
      "metadata": {
        "id": "uTVLYNhh1cFg",
        "colab_type": "code",
        "colab": {
          "base_uri": "https://localhost:8080/",
          "height": 282
        },
        "outputId": "e5a1fc86-137c-49b7-ad28-73d5a7f5a9f2"
      },
      "source": [
        "ax = sns.countplot(data=df, x ='foreign_worker', label='Count',palette=\"rocket\")\n",
        "total = float(len(df))\n",
        "for p in ax.patches:\n",
        "    height = p.get_height()\n",
        "    ax.text(p.get_x()+p.get_width()/2.,\n",
        "            height + 3,\n",
        "            '{:1.2f}'.format(height/total),\n",
        "            ha=\"center\")"
      ],
      "execution_count": 24,
      "outputs": [
        {
          "output_type": "display_data",
          "data": {
            "image/png": "[encoded data removed]",
            "text/plain": [
              "<Figure size 432x288 with 1 Axes>"
            ]
          },
          "metadata": {
            "tags": []
          }
        }
      ]
    },
    {
      "cell_type": "markdown",
      "metadata": {
        "id": "I9YQXu365BD3",
        "colab_type": "text"
      },
      "source": [
        "Since number of Non-Foreign Workers are too less, this feature won't contribute to our predictive model."
      ]
    },
    {
      "cell_type": "markdown",
      "metadata": {
        "id": "-Sw7G__kV6dU",
        "colab_type": "text"
      },
      "source": [
        "We can also take a look at the distribution of the seven numerical input variables by creating a histogram for each."
      ]
    },
    {
      "cell_type": "code",
      "metadata": {
        "id": "wvKLQLh-Vzgw",
        "colab_type": "code",
        "colab": {
          "base_uri": "https://localhost:8080/",
          "height": 1000
        },
        "outputId": "596ef411-7ec9-477d-d65b-cf8982f05bef"
      },
      "source": [
        "# select columns with numerical data types\n",
        "num_ix = df.select_dtypes(include=['int64', 'float64']).columns\n",
        "# select a subset of the dataframe with the chosen columns\n",
        "subset = df[num_ix]\n",
        "# create a histogram plot of each numeric variable\n",
        "ax = subset.hist(figsize = (16,18))\n",
        "# disable axis labels to avoid the clutter\n",
        "for axis in ax.flatten():\n",
        "\taxis.set_xticklabels([])\n",
        "\taxis.set_yticklabels([])\n",
        "# show the plot\n",
        "plt.show()"
      ],
      "execution_count": 25,
      "outputs": [
        {
          "output_type": "display_data",
          "data": {
            "image/png": "[encoded data removed]",
            "text/plain": [
              "<Figure size 1152x1296 with 9 Axes>"
            ]
          },
          "metadata": {
            "tags": []
          }
        }
      ]
    },
    {
      "cell_type": "code",
      "metadata": {
        "id": "G-QnENivF_YV",
        "colab_type": "code",
        "colab": {}
      },
      "source": [
        "# Find the Correlation between various features\n",
        "cor=df.corr()"
      ],
      "execution_count": 0,
      "outputs": []
    },
    {
      "cell_type": "code",
      "metadata": {
        "id": "ZgI6DmotGZf7",
        "colab_type": "code",
        "colab": {
          "base_uri": "https://localhost:8080/",
          "height": 689
        },
        "outputId": "ce7d06ec-5c52-487f-f44d-b67351fa1a23"
      },
      "source": [
        "# Heatmap to show the correllation between the features in the dataset\n",
        "f, ax = plt.subplots(figsize=(11, 9))\n",
        "sns.heatmap(cor)"
      ],
      "execution_count": 27,
      "outputs": [
        {
          "output_type": "execute_result",
          "data": {
            "text/plain": [
              "<matplotlib.axes._subplots.AxesSubplot at 0x7fc6fb3c4e48>"
            ]
          },
          "metadata": {
            "tags": []
          },
          "execution_count": 27
        },
        {
          "output_type": "display_data",
          "data": {
            "image/png": "[encoded data removed]",
            "text/plain": [
              "<Figure size 792x648 with 2 Axes>"
            ]
          },
          "metadata": {
            "tags": []
          }
        }
      ]
    },
    {
      "cell_type": "markdown",
      "metadata": {
        "id": "HRQ_Z0XRIBdz",
        "colab_type": "text"
      },
      "source": [
        "Performing K-Means Clustering as part of EDA"
      ]
    },
    {
      "cell_type": "code",
      "metadata": {
        "id": "xopz4h0HIEdP",
        "colab_type": "code",
        "colab": {}
      },
      "source": [
        "#K-means clustering on fire cause and fire size\n",
        "data = df[['status','installment_as_income_perc']]"
      ],
      "execution_count": 0,
      "outputs": []
    },
    {
      "cell_type": "code",
      "metadata": {
        "id": "vE80Ejs6K7Ia",
        "colab_type": "code",
        "colab": {
          "base_uri": "https://localhost:8080/",
          "height": 71
        },
        "outputId": "be155bd3-ceb5-4ec9-c384-c4dfd1a25eeb"
      },
      "source": [
        "Sum_of_squared_distances = []\n",
        "K = range(1,10)\n",
        "for k in K:\n",
        "    km = KMeans(n_clusters=k)\n",
        "    km = km.fit(data)\n",
        "    Sum_of_squared_distances.append(km.inertia_)"
      ],
      "execution_count": 64,
      "outputs": [
        {
          "output_type": "stream",
          "text": [
            "/usr/local/lib/python3.6/dist-packages/ipykernel_launcher.py:5: ConvergenceWarning: Number of distinct clusters (8) found smaller than n_clusters (9). Possibly due to duplicate points in X.\n",
            "  \"\"\"\n"
          ],
          "name": "stderr"
        }
      ]
    },
    {
      "cell_type": "code",
      "metadata": {
        "id": "f92LV7ZTLDLD",
        "colab_type": "code",
        "colab": {
          "base_uri": "https://localhost:8080/",
          "height": 295
        },
        "outputId": "5987b41c-3b98-4dae-92e9-5e4c214a15c6"
      },
      "source": [
        "plt.plot(K, Sum_of_squared_distances, 'bx-')\n",
        "plt.xlabel('k')\n",
        "plt.ylabel('Sum_of_squared_distances')\n",
        "plt.title('Elbow Method For Optimal k')\n",
        "plt.show()"
      ],
      "execution_count": 65,
      "outputs": [
        {
          "output_type": "display_data",
          "data": {
            "image/png": "[encoded data removed]",
            "text/plain": [
              "<Figure size 432x288 with 1 Axes>"
            ]
          },
          "metadata": {
            "tags": []
          }
        }
      ]
    },
    {
      "cell_type": "markdown",
      "metadata": {
        "id": "iMP8bBLwLeay",
        "colab_type": "text"
      },
      "source": [
        "We got optimal K as 2."
      ]
    },
    {
      "cell_type": "code",
      "metadata": {
        "id": "dwV7ZSQ6LOq9",
        "colab_type": "code",
        "colab": {
          "base_uri": "https://localhost:8080/",
          "height": 280
        },
        "outputId": "47d7c813-20ad-4871-f807-6fe8ea12e6e2"
      },
      "source": [
        "ax = sns.countplot(data=df, x ='installment_as_income_perc', label='Count',palette=\"rocket\")\n",
        "total = float(len(df))\n",
        "for p in ax.patches:\n",
        "    height = p.get_height()\n",
        "    ax.text(p.get_x()+p.get_width()/2.,\n",
        "            height + 3,\n",
        "            '{:1.2f}'.format(height/total),\n",
        "            ha=\"center\")"
      ],
      "execution_count": 66,
      "outputs": [
        {
          "output_type": "display_data",
          "data": {
            "image/png": "[encoded data removed]",
            "text/plain": [
              "<Figure size 432x288 with 1 Axes>"
            ]
          },
          "metadata": {
            "tags": []
          }
        }
      ]
    },
    {
      "cell_type": "markdown",
      "metadata": {
        "id": "GIiaMWdiLhFu",
        "colab_type": "text"
      },
      "source": [
        "K Means gave an accurate result."
      ]
    },
    {
      "cell_type": "markdown",
      "metadata": {
        "id": "6i2h5ekQN-TQ",
        "colab_type": "text"
      },
      "source": [
        "#### Silhouette Analysis on KMeans Clustering"
      ]
    },
    {
      "cell_type": "code",
      "metadata": {
        "id": "UDPJCii_MxsC",
        "colab_type": "code",
        "colab": {
          "base_uri": "https://localhost:8080/",
          "height": 1000
        },
        "outputId": "c556ddea-f805-496d-ef50-a5f842038857"
      },
      "source": [
        "## Source: https://scikit-learn.org/stable/auto_examples/cluster/plot_kmeans_silhouette_analysis.html\n",
        "#Split into inputs and output\n",
        "X = df.loc[:, df.columns != 'status']\n",
        "Y = df.status\n",
        "\n",
        "# Categorical boolean mask\n",
        "categorical_feature_mask = df.dtypes==object\n",
        "# filter categorical columns using mask and turn it into a list\n",
        "categorical_cols = df.columns[categorical_feature_mask].tolist()\n",
        "\n",
        "X = pd.DataFrame(data=X)\n",
        "cat_ix = X.select_dtypes(include=['object', 'bool']).columns\n",
        "num_ix = X.select_dtypes(include=['int64', 'float64']).columns\n",
        "\n",
        "# one hot encode categorical features only\n",
        "# 13 categorical variables were encoded into a total of 54 columns.\n",
        "ct = ColumnTransformer([('c',OneHotEncoder(),cat_ix), ('n',MinMaxScaler(),num_ix)])\n",
        "X = ct.fit_transform(X)\n",
        "# Label Encode the status/target variable\n",
        "Y = LabelEncoder().fit_transform(Y)\n",
        "range_n_clusters = [2, 3, 4, 5, 6]\n",
        "\n",
        "for n_clusters in range_n_clusters:\n",
        "    # Create a subplot with 1 row and 2 columns\n",
        "    fig, (ax1, ax2) = plt.subplots(1, 2)\n",
        "    fig.set_size_inches(18, 7)\n",
        "\n",
        "    # The 1st subplot is the silhouette plot\n",
        "    # The silhouette coefficient can range from -1, 1 but in this example all\n",
        "    # lie within [-0.1, 1]\n",
        "    ax1.set_xlim([-0.1, 1])\n",
        "    # The (n_clusters+1)*10 is for inserting blank space between silhouette\n",
        "    # plots of individual clusters, to demarcate them clearly.\n",
        "    ax1.set_ylim([0, len(X) + (n_clusters + 1) * 10])\n",
        "\n",
        "    # Initialize the clusterer with n_clusters value and a random generator\n",
        "    # seed of 10 for reproducibility.\n",
        "    clusterer = KMeans(n_clusters=n_clusters, random_state=10)\n",
        "    cluster_labels = clusterer.fit_predict(X)\n",
        "\n",
        "    # The silhouette_score gives the average value for all the samples.\n",
        "    # This gives a perspective into the density and separation of the formed\n",
        "    # clusters\n",
        "    silhouette_avg = silhouette_score(X, cluster_labels)\n",
        "    print(\"For n_clusters =\", n_clusters,\n",
        "          \"The average silhouette_score is :\", silhouette_avg)\n",
        "\n",
        "    # Compute the silhouette scores for each sample\n",
        "    sample_silhouette_values = silhouette_samples(X, cluster_labels)\n",
        "\n",
        "    y_lower = 10\n",
        "    for i in range(n_clusters):\n",
        "        # Aggregate the silhouette scores for samples belonging to\n",
        "        # cluster i, and sort them\n",
        "        ith_cluster_silhouette_values = \\\n",
        "            sample_silhouette_values[cluster_labels == i]\n",
        "\n",
        "        ith_cluster_silhouette_values.sort()\n",
        "\n",
        "        size_cluster_i = ith_cluster_silhouette_values.shape[0]\n",
        "        y_upper = y_lower + size_cluster_i\n",
        "\n",
        "        color = cm.nipy_spectral(float(i) / n_clusters)\n",
        "        ax1.fill_betweenx(np.arange(y_lower, y_upper),\n",
        "                          0, ith_cluster_silhouette_values,\n",
        "                          facecolor=color, edgecolor=color, alpha=0.7)\n",
        "\n",
        "        # Label the silhouette plots with their cluster numbers at the middle\n",
        "        ax1.text(-0.05, y_lower + 0.5 * size_cluster_i, str(i))\n",
        "\n",
        "        # Compute the new y_lower for next plot\n",
        "        y_lower = y_upper + 10  # 10 for the 0 samples\n",
        "\n",
        "    ax1.set_title(\"The silhouette plot for the various clusters.\")\n",
        "    ax1.set_xlabel(\"The silhouette coefficient values\")\n",
        "    ax1.set_ylabel(\"Cluster label\")\n",
        "\n",
        "    # The vertical line for average silhouette score of all the values\n",
        "    ax1.axvline(x=silhouette_avg, color=\"red\", linestyle=\"--\")\n",
        "\n",
        "    ax1.set_yticks([])  # Clear the yaxis labels / ticks\n",
        "    ax1.set_xticks([-0.1, 0, 0.2, 0.4, 0.6, 0.8, 1])\n",
        "\n",
        "    # 2nd Plot showing the actual clusters formed\n",
        "    colors = cm.nipy_spectral(cluster_labels.astype(float) / n_clusters)\n",
        "    ax2.scatter(X[:, 0], X[:, 1], marker='.', s=30, lw=0, alpha=0.7,\n",
        "                c=colors, edgecolor='k')\n",
        "\n",
        "    # Labeling the clusters\n",
        "    centers = clusterer.cluster_centers_\n",
        "    # Draw white circles at cluster centers\n",
        "    ax2.scatter(centers[:, 0], centers[:, 1], marker='o',\n",
        "                c=\"white\", alpha=1, s=200, edgecolor='k')\n",
        "\n",
        "    for i, c in enumerate(centers):\n",
        "        ax2.scatter(c[0], c[1], marker='$%d$' % i, alpha=1,\n",
        "                    s=50, edgecolor='k')\n",
        "\n",
        "    ax2.set_title(\"The visualization of the clustered data.\")\n",
        "    ax2.set_xlabel(\"Feature space for the 1st feature\")\n",
        "    ax2.set_ylabel(\"Feature space for the 2nd feature\")\n",
        "\n",
        "    plt.suptitle((\"Silhouette analysis for KMeans clustering on sample data \"\n",
        "                  \"with n_clusters = %d\" % n_clusters),\n",
        "                 fontsize=14, fontweight='bold')\n",
        "\n",
        "plt.show()"
      ],
      "execution_count": 75,
      "outputs": [
        {
          "output_type": "stream",
          "text": [
            "For n_clusters = 2 The average silhouette_score is : 0.07595063290704303\n",
            "For n_clusters = 3 The average silhouette_score is : 0.05726046018573368\n",
            "For n_clusters = 4 The average silhouette_score is : 0.06319461600782325\n",
            "For n_clusters = 5 The average silhouette_score is : 0.05950969868596562\n",
            "For n_clusters = 6 The average silhouette_score is : 0.05871587446254979\n"
          ],
          "name": "stdout"
        },
        {
          "output_type": "display_data",
          "data": {
            "image/png": "[encoded data removed]",
            "text/plain": [
              "<Figure size 1296x504 with 2 Axes>"
            ]
          },
          "metadata": {
            "tags": []
          }
        },
        {
          "output_type": "display_data",
          "data": {
            "image/png": "[encoded data removed]",
            "text/plain": [
              "<Figure size 1296x504 with 2 Axes>"
            ]
          },
          "metadata": {
            "tags": []
          }
        },
        {
          "output_type": "display_data",
          "data": {
            "image/png": "[encoded data removed]",
            "text/plain": [
              "<Figure size 1296x504 with 2 Axes>"
            ]
          },
          "metadata": {
            "tags": []
          }
        },
        {
          "output_type": "display_data",
          "data": {
            "image/png": "[encoded data removed]",
            "text/plain": [
              "<Figure size 1296x504 with 2 Axes>"
            ]
          },
          "metadata": {
            "tags": []
          }
        },
        {
          "output_type": "display_data",
          "data": {
            "image/png": "[encoded data removed]",
            "text/plain": [
              "<Figure size 1296x504 with 2 Axes>"
            ]
          },
          "metadata": {
            "tags": []
          }
        }
      ]
    },
    {
      "cell_type": "markdown",
      "metadata": {
        "id": "BrH_-q1_SbN_",
        "colab_type": "text"
      },
      "source": [
        "### How many components?\n",
        "\n",
        "The fact that GMM is a generative model gives us a natural means of determining the optimal number of components for a given dataset.\n",
        "A generative model is inherently a probability distribution for the dataset, and so we can simply evaluate the *likelihood* of the data under the model, using cross-validation to avoid over-fitting.\n",
        "Another means of correcting for over-fitting is to adjust the model likelihoods using some analytic criterion such as the [Akaike information criterion (AIC)](https://en.wikipedia.org/wiki/Akaike_information_criterion) or the [Bayesian information criterion (BIC)](https://en.wikipedia.org/wiki/Bayesian_information_criterion).\n",
        "Scikit-Learn's ``GMM`` estimator actually includes built-in methods that compute both of these, and so it is very easy to operate on this approach.\n",
        "\n",
        "Let's look at the AIC and BIC as a function as the number of GMM components for our moon dataset:"
      ]
    },
    {
      "cell_type": "code",
      "metadata": {
        "id": "SLGc7SAEQE42",
        "colab_type": "code",
        "colab": {
          "base_uri": "https://localhost:8080/",
          "height": 361
        },
        "outputId": "c8c15091-cd3c-4c82-b442-32e3c7af05d1"
      },
      "source": [
        "n_components = np.arange(1, 21)\n",
        "models = [GaussianMixture(n, covariance_type='full', random_state=0).fit(X)\n",
        "          for n in n_components]\n",
        "\n",
        "plt.plot(n_components, [m.bic(X) for m in models], label='BIC')\n",
        "plt.plot(n_components, [m.aic(X) for m in models], label='AIC')\n",
        "plt.legend(loc='best')\n",
        "plt.xlabel('n_components');"
      ],
      "execution_count": 79,
      "outputs": [
        {
          "output_type": "display_data",
          "data": {
            "image/png": "[encoded data removed]",
            "text/plain": [
              "<Figure size 576x396 with 1 Axes>"
            ]
          },
          "metadata": {
            "tags": []
          }
        }
      ]
    },
    {
      "cell_type": "markdown",
      "metadata": {
        "id": "HFR-CqfxSril",
        "colab_type": "text"
      },
      "source": [
        "The optimal number of clusters is the value that minimizes the AIC or BIC, depending on which approximation we wish to use. The AIC tells us that our choice of 11 components above was probably too many: around 4-5 components would have been a better choice.\n",
        "As is typical with this sort of problem, the BIC recommends a simpler model.\n",
        "\n",
        "**Hence we require 4 or 5 latent variables.**"
      ]
    },
    {
      "cell_type": "markdown",
      "metadata": {
        "id": "wrcD-HvNY-dM",
        "colab_type": "text"
      },
      "source": [
        "### Baseline Result with k-fold cross-validation.\n",
        "We will use k=10, meaning each fold will contain about 1000/10 or 100 examples. In this way it provides a good general estimate of model performance that is not too optimistically biased.\n",
        "\n",
        "We will predict class labels of whether a customer is good or not. Therefore, we need a measure that is appropriate for evaluating the predicted class labels.\n",
        "\n",
        "The focus of the task is on the positive class (bad customers). Precision and recall are a good place to start. Maximizing precision will minimize the false positives and maximizing recall will minimize the false negatives in the predictions made by a model.\n",
        "\n",
        "Using the F-Measure will calculate the harmonic mean between precision and recall. This is a good single number that can be used to compare and select a model on this problem. The issue is that false negatives are more damaging than false positives.\n",
        "\n",
        "F-Measure = (2 * Precision * Recall) / (Precision + Recall)\n",
        "Remember that false negatives on this dataset are cases of a bad customer being marked as a good customer and being given a loan. False positives are cases of a good customer being marked as a bad customer and not being given a loan.\n",
        "\n",
        "False Negative: Bad Customer (class 1) predicted as a Good Customer (class 0).\n",
        "False Positive: Good Customer (class 0) predicted as a Bad Customer (class 1).\n",
        "False negatives are more costly to the bank than false positives.\n",
        "\n",
        "Cost(False Negatives) > Cost(False Positives)\n",
        "\n",
        "F-measure that calculates a weighted harmonic mean of precision and recall but favors higher recall scores over precision scores. This is called the Fbeta-measure, a generalization of F-measure, where “beta” is a parameter that defines the weighting of the two scores.\n",
        "\n",
        "Fbeta-Measure = ((1 + beta^2) * Precision * Recall) / (beta^2 * Precision + Recall)\n",
        "A beta value of 2 will weight more attention on recall than precision and is referred to as the F2-measure.\n",
        "\n",
        "F2-Measure = ((1 + 2^2) * Precision * Recall) / (2^2 * Precision + Recall)"
      ]
    },
    {
      "cell_type": "code",
      "metadata": {
        "id": "WCfI8MUJcU9s",
        "colab_type": "code",
        "colab": {}
      },
      "source": [
        "#Split into inputs and output\n",
        "X = df.loc[:, df.columns != 'status']\n",
        "Y = df.status"
      ],
      "execution_count": 0,
      "outputs": []
    },
    {
      "cell_type": "code",
      "metadata": {
        "id": "yyBjlCNmBVeU",
        "colab_type": "code",
        "colab": {}
      },
      "source": [
        "# Categorical boolean mask\n",
        "categorical_feature_mask = df.dtypes==object\n",
        "# filter categorical columns using mask and turn it into a list\n",
        "categorical_cols = df.columns[categorical_feature_mask].tolist()\n",
        "X = pd.DataFrame(data=X)\n",
        "cat_ix = X.select_dtypes(include=['object', 'bool']).columns\n",
        "num_ix = X.select_dtypes(include=['int64', 'float64']).columns"
      ],
      "execution_count": 0,
      "outputs": []
    },
    {
      "cell_type": "code",
      "metadata": {
        "id": "XD_OfkEFdnP8",
        "colab_type": "code",
        "colab": {}
      },
      "source": [
        "# one hot encode categorical features only\n",
        "# 13 categorical variables were encoded into a total of 54 columns.\n",
        "ct = ColumnTransformer([('c',OneHotEncoder(),cat_ix), ('n',MinMaxScaler(),num_ix)])\n",
        "X = ct.fit_transform(X)"
      ],
      "execution_count": 0,
      "outputs": []
    },
    {
      "cell_type": "code",
      "metadata": {
        "id": "lBfOHooC5BBR",
        "colab_type": "code",
        "colab": {
          "base_uri": "https://localhost:8080/",
          "height": 34
        },
        "outputId": "94a84359-c9f0-4117-dfb1-8f0a6e258d62"
      },
      "source": [
        "X.shape"
      ],
      "execution_count": 83,
      "outputs": [
        {
          "output_type": "execute_result",
          "data": {
            "text/plain": [
              "(1000, 61)"
            ]
          },
          "metadata": {
            "tags": []
          },
          "execution_count": 83
        }
      ]
    },
    {
      "cell_type": "code",
      "metadata": {
        "id": "Jouq0IBWFq2o",
        "colab_type": "code",
        "colab": {}
      },
      "source": [
        "# Label Encode the status/target variable\n",
        "Y = LabelEncoder().fit_transform(Y)"
      ],
      "execution_count": 0,
      "outputs": []
    },
    {
      "cell_type": "markdown",
      "metadata": {
        "id": "_6_moV5yeaFG",
        "colab_type": "text"
      },
      "source": [
        "Evaluate the set of predictions using FBeta score where beta is equal to 2."
      ]
    },
    {
      "cell_type": "code",
      "metadata": {
        "id": "GGTdDZbUeiUu",
        "colab_type": "code",
        "colab": {}
      },
      "source": [
        "# calculate f2 score\n",
        "def f2(y_true, y_pred):\n",
        "\treturn fbeta_score(y_true, y_pred, beta=2)"
      ],
      "execution_count": 0,
      "outputs": []
    },
    {
      "cell_type": "code",
      "metadata": {
        "id": "_2_Sb2xofbbC",
        "colab_type": "code",
        "colab": {}
      },
      "source": [
        "# evaluate a model\n",
        "def evaluate_model(X, Y, model):\n",
        "\t# define evaluation procedure\n",
        "\tcv = RepeatedStratifiedKFold(n_splits=10, n_repeats=3, random_state=1)\n",
        "\t# define the model evaluation the metric\n",
        "\tmetric = make_scorer(f2)\n",
        "\t# evaluate model\n",
        "\tscores = cross_val_score(model, X, Y, scoring=metric, cv=cv, n_jobs=-1)\n",
        "\treturn scores"
      ],
      "execution_count": 0,
      "outputs": []
    },
    {
      "cell_type": "markdown",
      "metadata": {
        "id": "DqRMubLfftu-",
        "colab_type": "text"
      },
      "source": [
        "A model that predicts the minority class for examples will achieve a maximum recall score and a baseline precision score. This provides a baseline in model performance on this problem by which all other models can be compared."
      ]
    },
    {
      "cell_type": "code",
      "metadata": {
        "id": "4vRdX5skfxxL",
        "colab_type": "code",
        "colab": {}
      },
      "source": [
        "# define the reference model\n",
        "#setting the “strategy” argument to “constant” and the “constant” argument to “1” for the minority class.\n",
        "model = DummyClassifier(strategy='constant', constant=1)"
      ],
      "execution_count": 0,
      "outputs": []
    },
    {
      "cell_type": "code",
      "metadata": {
        "id": "sNdDasfPgDj8",
        "colab_type": "code",
        "colab": {
          "base_uri": "https://localhost:8080/",
          "height": 34
        },
        "outputId": "93078b66-6b79-4efc-a29a-a9b299462f76"
      },
      "source": [
        "# evaluate the model\n",
        "scores = evaluate_model(X, Y, model)\n",
        "# summarize performance\n",
        "print('Mean F2: %.3f (%.3f)' % (np.mean(scores), np.std(scores)))"
      ],
      "execution_count": 88,
      "outputs": [
        {
          "output_type": "stream",
          "text": [
            "Mean F2: 0.682 (0.000)\n"
          ],
          "name": "stdout"
        }
      ]
    },
    {
      "cell_type": "markdown",
      "metadata": {
        "id": "cOSGaqKEhtL0",
        "colab_type": "text"
      },
      "source": [
        "The Mean F2 is 0.682. This is the baseline result. Any Model which is better than this score would perfectly model the german dataset."
      ]
    },
    {
      "cell_type": "markdown",
      "metadata": {
        "id": "laNq3F9Qh9I2",
        "colab_type": "text"
      },
      "source": [
        "Next we will run through several other models and test the Mean F2 score."
      ]
    },
    {
      "cell_type": "code",
      "metadata": {
        "id": "_kzwDpTKwJwE",
        "colab_type": "code",
        "colab": {
          "base_uri": "https://localhost:8080/",
          "height": 153
        },
        "outputId": "57ecc0e2-0aa2-455e-a63f-40498376d65d"
      },
      "source": [
        "## Test various models\n",
        "\n",
        "# Logistic Regression\n",
        "LogReg = LogisticRegression()\n",
        "# Support Vector Machines\n",
        "SVM = svm.SVC()\n",
        "# Random Forest\n",
        "RF = RandomForestClassifier()\n",
        "# Naive Bayes\n",
        "NB = GaussianNB()\n",
        "# K Nearest Neighbors\n",
        "KNN = KNeighborsClassifier(n_neighbors=2)\n",
        "# XGBoost Classifier\n",
        "XGBoost = xgb.XGBClassifier(random_state=1,learning_rate=0.01)\n",
        "# Gaussian Mixture Model\n",
        "gmm = GaussianMixture(n_components=2, covariance_type=\"spherical\")\n",
        "# K Means\n",
        "kmeans = KMeans(n_clusters=2, random_state=0)\n",
        "\n",
        "\n",
        "# Evaluate the scores\n",
        "LogReg_scores = evaluate_model(X, Y, LogReg)\n",
        "SVM_scores = evaluate_model(X, Y, SVM)\n",
        "RF_scores = evaluate_model(X, Y, RF)\n",
        "NB_scores = evaluate_model(X, Y, NB)\n",
        "KNN_scores = evaluate_model(X, Y, KNN)\n",
        "XGB_scores = evaluate_model(X, Y, XGBoost)\n",
        "gmm_scores = evaluate_model(X, Y, gmm)\n",
        "kmeans_scores = evaluate_model(X, Y, kmeans)\n",
        "\n",
        "# Summarize Performance\n",
        "print('Logistic Regression Mean F2: %.3f (%.3f)' % (np.mean(LogReg_scores), np.std(LogReg_scores)))\n",
        "print('Support Vector Machines Mean F2: %.3f (%.3f)' % (np.mean(SVM_scores), np.std(SVM_scores)))\n",
        "print('Random Forest Classifier Mean F2: %.3f (%.3f)' % (np.mean(RF_scores), np.std(RF_scores)))\n",
        "print('Naive Bayes Mean F2: %.3f (%.3f)' % (np.mean(NB_scores), np.std(NB_scores)))\n",
        "print('K Nearest Neighbors Classifier Mean F2: %.3f (%.3f)' % (np.mean(KNN_scores), np.std(KNN_scores)))\n",
        "print('XGBoost Classifier Mean F2: %.3f (%.3f)' % (np.mean(XGB_scores), np.std(XGB_scores)))\n",
        "print('Gaussian Mixture Model Mean F2: %.3f (%.3f)' % (np.mean(gmm_scores), np.std(gmm_scores)))\n",
        "print('K Means Mean F2: %.3f (%.3f)' % (np.mean(kmeans_scores), np.std(kmeans_scores)))"
      ],
      "execution_count": 89,
      "outputs": [
        {
          "output_type": "stream",
          "text": [
            "Logistic Regression Mean F2: 0.499 (0.075)\n",
            "Support Vector Machines Mean F2: 0.434 (0.077)\n",
            "Random Forest Classifier Mean F2: 0.419 (0.108)\n",
            "Naive Bayes Mean F2: 0.639 (0.049)\n",
            "K Nearest Neighbors Classifier Mean F2: 0.270 (0.082)\n",
            "XGBoost Classifier Mean F2: 0.287 (0.072)\n",
            "Gaussian Mixture Model Mean F2: 0.428 (0.103)\n",
            "K Means Mean F2: 0.450 (0.104)\n"
          ],
          "name": "stdout"
        }
      ]
    },
    {
      "cell_type": "markdown",
      "metadata": {
        "id": "zH4gK4AGGRso",
        "colab_type": "text"
      },
      "source": [
        "We can see that none of the tested models have an F2-measure above the default of predicting the majority class in all cases (0.682)"
      ]
    },
    {
      "cell_type": "markdown",
      "metadata": {
        "id": "wXfi0lNidHN3",
        "colab_type": "text"
      },
      "source": [
        "### Performing PCA"
      ]
    },
    {
      "cell_type": "code",
      "metadata": {
        "id": "M0QOn40OhIhh",
        "colab_type": "code",
        "colab": {
          "base_uri": "https://localhost:8080/",
          "height": 290
        },
        "outputId": "c3842cec-73ea-46d5-f7db-3b3ac8bc3ac7"
      },
      "source": [
        "#Split into inputs and output\n",
        "X = df.loc[:, df.columns != 'status']\n",
        "Y = df.status\n",
        "# Categorical boolean mask\n",
        "categorical_feature_mask = df.dtypes==object\n",
        "# filter categorical columns using mask and turn it into a list\n",
        "categorical_cols = df.columns[categorical_feature_mask].tolist()\n",
        "ct = ColumnTransformer([('c',OneHotEncoder(),cat_ix)],remainder='passthrough')\n",
        "X = ct.fit_transform(X)\n",
        "pca = PCA().fit(X)\n",
        "plt.plot(np.cumsum(pca.explained_variance_ratio_))\n",
        "plt.xlabel('number of components')\n",
        "plt.ylabel('cumulative explained variance');"
      ],
      "execution_count": 54,
      "outputs": [
        {
          "output_type": "display_data",
          "data": {
            "image/png": "[encoded data removed]",
            "text/plain": [
              "<Figure size 432x288 with 1 Axes>"
            ]
          },
          "metadata": {
            "tags": []
          }
        }
      ]
    },
    {
      "cell_type": "markdown",
      "metadata": {
        "id": "KHzFUldmRPIS",
        "colab_type": "text"
      },
      "source": [
        "PCA gave 2 components having the highest variance."
      ]
    },
    {
      "cell_type": "code",
      "metadata": {
        "id": "kAK0PjLdhIec",
        "colab_type": "code",
        "colab": {
          "base_uri": "https://localhost:8080/",
          "height": 289
        },
        "outputId": "79365e3e-5d8c-4d96-b74a-cfa15c499b12"
      },
      "source": [
        "pca.explained_variance_"
      ],
      "execution_count": 62,
      "outputs": [
        {
          "output_type": "execute_result",
          "data": {
            "text/plain": [
              "array([7.96790062e+06, 1.30897422e+02, 8.73544315e+01, 1.21829885e+00,\n",
              "       1.05634132e+00, 5.94628419e-01, 4.89042267e-01, 4.28936848e-01,\n",
              "       3.92571367e-01, 3.51457202e-01, 3.24726139e-01, 3.11306572e-01,\n",
              "       2.92002032e-01, 2.78797264e-01, 2.67546670e-01, 2.50279177e-01,\n",
              "       2.22835595e-01, 2.09167859e-01, 1.96951806e-01, 1.81516747e-01,\n",
              "       1.69194354e-01, 1.54424149e-01, 1.46943930e-01, 1.37909536e-01,\n",
              "       1.30941147e-01, 1.26045504e-01, 1.18872257e-01, 1.11139374e-01,\n",
              "       1.05171523e-01, 9.76005134e-02, 8.30550315e-02, 7.62649427e-02,\n",
              "       7.10489675e-02, 6.58139985e-02, 6.24119909e-02, 5.72932178e-02,\n",
              "       5.55006201e-02, 5.31251585e-02, 5.02972431e-02, 4.92283401e-02,\n",
              "       4.21184954e-02, 3.70119835e-02, 3.19402814e-02, 2.41975850e-02,\n",
              "       1.92098938e-02, 1.40654542e-02, 1.06714449e-02, 8.84765809e-03,\n",
              "       7.95092223e-26, 7.95092223e-26, 7.95092223e-26, 7.95092223e-26,\n",
              "       7.95092223e-26, 7.95092223e-26, 7.95092223e-26, 7.95092223e-26,\n",
              "       7.95092223e-26, 7.95092223e-26, 7.95092223e-26, 7.95092223e-26,\n",
              "       8.20732299e-28])"
            ]
          },
          "metadata": {
            "tags": []
          },
          "execution_count": 62
        }
      ]
    },
    {
      "cell_type": "markdown",
      "metadata": {
        "id": "I2Eg1ZwLWEJU",
        "colab_type": "text"
      },
      "source": [
        "Further improvements by using a RidgeClassifier instead of LDA and using a StandardScaler for the numeric inputs instead of a MinMaxScaler."
      ]
    },
    {
      "cell_type": "code",
      "metadata": {
        "id": "3WmZBrIyRxvG",
        "colab_type": "code",
        "colab": {
          "base_uri": "https://localhost:8080/",
          "height": 34
        },
        "outputId": "ab5c4a66-3271-4843-c3eb-9d4587065c87"
      },
      "source": [
        "from sklearn.linear_model import RidgeClassifier\n",
        "from imblearn.pipeline import Pipeline\n",
        "from imblearn.combine import SMOTEENN\n",
        "from imblearn.under_sampling import EditedNearestNeighbours\n",
        "\n",
        "#Split into inputs and output\n",
        "X = df.loc[:, df.columns != 'status']\n",
        "Y = df.status\n",
        "# Categorical boolean mask\n",
        "categorical_feature_mask = df.dtypes==object\n",
        "# filter categorical columns using mask and turn it into a list\n",
        "categorical_cols = df.columns[categorical_feature_mask].tolist()\n",
        "X = pd.DataFrame(data=X)\n",
        "# Label Encode the status/target variable\n",
        "Y = LabelEncoder().fit_transform(Y)\n",
        "cat_ix = X.select_dtypes(include=['object', 'bool']).columns\n",
        "num_ix = X.select_dtypes(include=['int64', 'float64']).columns\n",
        "\n",
        "# calculate f2-measure\n",
        "def f2_measure(y_true, y_pred):\n",
        "\treturn fbeta_score(y_true, y_pred, beta=2)\n",
        " \n",
        "# evaluate a model\n",
        "def evaluate_model(X, y, model):\n",
        "\t# define evaluation procedure\n",
        "\tcv = RepeatedStratifiedKFold(n_splits=10, n_repeats=3, random_state=1)\n",
        "\t# define the model evaluation metric\n",
        "\tmetric = make_scorer(f2_measure)\n",
        "\t# evaluate model\n",
        "\tscores = cross_val_score(model, X, y, scoring=metric, cv=cv, n_jobs=-1)\n",
        "\treturn scores\n",
        "\n",
        "# define model to evaluate\n",
        "model = RidgeClassifier()\n",
        "# define the data sampling\n",
        "sampling = SMOTEENN(enn=EditedNearestNeighbours(sampling_strategy='majority'))\n",
        "# one hot encode categorical, normalize numerical\n",
        "ct = ColumnTransformer([('c',OneHotEncoder(),cat_ix), ('n',StandardScaler(),num_ix)])\n",
        "# scale, then sample, then fit model\n",
        "pipeline = Pipeline(steps=[('t',ct), ('s', sampling), ('m',model)])\n",
        "# evaluate the model and store results\n",
        "scores = evaluate_model(X, Y, pipeline)\n",
        "print('Ridge Classifier Mean F2 Score: %.3f (%.3f)' % (np.mean(scores), np.std(scores)))"
      ],
      "execution_count": 90,
      "outputs": [
        {
          "output_type": "stream",
          "text": [
            "Ridge Classifier Mean F2 Score: 0.739 (0.042)\n"
          ],
          "name": "stdout"
        }
      ]
    },
    {
      "cell_type": "markdown",
      "metadata": {
        "id": "CSKhK6yc-wyt",
        "colab_type": "text"
      },
      "source": [
        "Ridge Classifier performed the best against all the other models tested above with a Mean F2 Score of (0.725)"
      ]
    },
    {
      "cell_type": "code",
      "metadata": {
        "id": "Pi7jZR-xV12I",
        "colab_type": "code",
        "colab": {
          "base_uri": "https://localhost:8080/",
          "height": 221
        },
        "outputId": "de18db7d-0871-41e6-dc0f-d93a77cd60ab"
      },
      "source": [
        "from prettytable import PrettyTable\n",
        "    \n",
        "x = PrettyTable()\n",
        "x.field_names = [\"Algorithm\",\"Mean F2 Score\"]\n",
        "x.add_row([\"Ridge Classifier\", np.mean(scores)])\n",
        "x.add_row([\"Naive Bayes\",np.mean(NB_scores)])\n",
        "x.add_row([\"Logistic Regression\",np.mean(LogReg_scores)])\n",
        "x.add_row([\"K Means\",np.mean(kmeans_scores)])\n",
        "x.add_row([\"Gaussian Mixture Model\",np.mean(gmm_scores)])\n",
        "x.add_row([\"Support Vector Machines\",np.mean(RF_scores)])\n",
        "x.add_row([\"XGBoost Classifier\",np.mean(XGB_scores)])\n",
        "x.add_row([\"K Nearest Neighbors Classifier\",np.mean(KNN_scores)])\n",
        "print(x)"
      ],
      "execution_count": 93,
      "outputs": [
        {
          "output_type": "stream",
          "text": [
            "+--------------------------------+---------------------+\n",
            "|           Algorithm            |    Mean F2 Score    |\n",
            "+--------------------------------+---------------------+\n",
            "|        Ridge Classifier        |  0.7390470086641266 |\n",
            "|          Naive Bayes           |  0.6391730191702827 |\n",
            "|      Logistic Regression       |  0.4991911379852895 |\n",
            "|            K Means             | 0.45048041860484467 |\n",
            "|     Gaussian Mixture Model     | 0.42829865416320495 |\n",
            "|    Support Vector Machines     |  0.4189442082129595 |\n",
            "|       XGBoost Classifier       | 0.28735314932172484 |\n",
            "| K Nearest Neighbors Classifier | 0.27021977773319183 |\n",
            "+--------------------------------+---------------------+\n"
          ],
          "name": "stdout"
        }
      ]
    },
    {
      "cell_type": "markdown",
      "metadata": {
        "id": "VjDrlTksBfRU",
        "colab_type": "text"
      },
      "source": [
        "Confusion Matrix, Accuracy Score and Classification Report of the models tested before."
      ]
    },
    {
      "cell_type": "code",
      "metadata": {
        "id": "CTsC4pEBXYm-",
        "colab_type": "code",
        "colab": {}
      },
      "source": [
        "#Split into inputs and output\n",
        "X = df.loc[:, df.columns != 'status']\n",
        "Y = df.status\n",
        "ct = ColumnTransformer([('c',OneHotEncoder(),cat_ix), ('n',MinMaxScaler(),num_ix)])\n",
        "X = ct.fit_transform(X)\n",
        "Y = LabelEncoder().fit_transform(Y)"
      ],
      "execution_count": 0,
      "outputs": []
    },
    {
      "cell_type": "code",
      "metadata": {
        "id": "6TUH9414Xgbk",
        "colab_type": "code",
        "colab": {}
      },
      "source": [
        "X_train, X_test, y_train, y_test = train_test_split(X,Y)"
      ],
      "execution_count": 0,
      "outputs": []
    },
    {
      "cell_type": "code",
      "metadata": {
        "id": "4kHHiho26aoi",
        "colab_type": "code",
        "colab": {
          "base_uri": "https://localhost:8080/",
          "height": 221
        },
        "outputId": "3be090f7-b09d-4e6f-ece1-de4c41233bd8"
      },
      "source": [
        "nb = GaussianNB().fit(X_train, y_train)\n",
        "y_pred = nb.predict(X_test)\n",
        "naive = accuracy_score(y_test,y_pred)*100\n",
        "print(\"Confusion Matrix: \",confusion_matrix(y_test, y_pred)) \n",
        "print (\"Accuracy : \",naive)\n",
        "print(\"Report : \",classification_report(y_test, y_pred))"
      ],
      "execution_count": 155,
      "outputs": [
        {
          "output_type": "stream",
          "text": [
            "Confusion Matrix:  [[124  48]\n",
            " [ 26  52]]\n",
            "Accuracy :  70.39999999999999\n",
            "Report :                precision    recall  f1-score   support\n",
            "\n",
            "           0       0.83      0.72      0.77       172\n",
            "           1       0.52      0.67      0.58        78\n",
            "\n",
            "    accuracy                           0.70       250\n",
            "   macro avg       0.67      0.69      0.68       250\n",
            "weighted avg       0.73      0.70      0.71       250\n",
            "\n"
          ],
          "name": "stdout"
        }
      ]
    },
    {
      "cell_type": "code",
      "metadata": {
        "id": "1nU7vQddZdgR",
        "colab_type": "code",
        "colab": {
          "base_uri": "https://localhost:8080/",
          "height": 221
        },
        "outputId": "5e7d1b05-fd16-46d9-ad91-e7ab6d875d42"
      },
      "source": [
        "rf = RandomForestClassifier().fit(X_train, y_train)\n",
        "y_pred = rf.predict(X_test)\n",
        "random = accuracy_score(y_test,y_pred)*100\n",
        "print(\"Confusion Matrix: \",confusion_matrix(y_test, y_pred)) \n",
        "print (\"Accuracy : \",random) \n",
        "print(\"Report : \",classification_report(y_test, y_pred))"
      ],
      "execution_count": 156,
      "outputs": [
        {
          "output_type": "stream",
          "text": [
            "Confusion Matrix:  [[160  12]\n",
            " [ 45  33]]\n",
            "Accuracy :  77.2\n",
            "Report :                precision    recall  f1-score   support\n",
            "\n",
            "           0       0.78      0.93      0.85       172\n",
            "           1       0.73      0.42      0.54        78\n",
            "\n",
            "    accuracy                           0.77       250\n",
            "   macro avg       0.76      0.68      0.69       250\n",
            "weighted avg       0.77      0.77      0.75       250\n",
            "\n"
          ],
          "name": "stdout"
        }
      ]
    },
    {
      "cell_type": "code",
      "metadata": {
        "id": "wHB7oVzBZlKK",
        "colab_type": "code",
        "colab": {
          "base_uri": "https://localhost:8080/",
          "height": 221
        },
        "outputId": "bb89fab6-719e-41b3-d67c-57acbc95daae"
      },
      "source": [
        "lr = LogisticRegression(solver='lbfgs').fit(X_train, y_train)\n",
        "y_pred = lr.predict(X_test)\n",
        "log = accuracy_score(y_test,y_pred)*100\n",
        "print(\"Confusion Matrix: \",confusion_matrix(y_test, y_pred)) \n",
        "print (\"Accuracy : \",log) \n",
        "print(\"Report : \",classification_report(y_test, y_pred))"
      ],
      "execution_count": 157,
      "outputs": [
        {
          "output_type": "stream",
          "text": [
            "Confusion Matrix:  [[159  13]\n",
            " [ 40  38]]\n",
            "Accuracy :  78.8\n",
            "Report :                precision    recall  f1-score   support\n",
            "\n",
            "           0       0.80      0.92      0.86       172\n",
            "           1       0.75      0.49      0.59        78\n",
            "\n",
            "    accuracy                           0.79       250\n",
            "   macro avg       0.77      0.71      0.72       250\n",
            "weighted avg       0.78      0.79      0.77       250\n",
            "\n"
          ],
          "name": "stdout"
        }
      ]
    },
    {
      "cell_type": "code",
      "metadata": {
        "id": "DKv1jHDD95E8",
        "colab_type": "code",
        "colab": {
          "base_uri": "https://localhost:8080/",
          "height": 221
        },
        "outputId": "48ee090f-a3bb-417f-dbb0-5541e7c36f49"
      },
      "source": [
        "SVM = svm.SVC()\n",
        "SVM.fit(X_train, y_train)\n",
        "y_pred = SVM.predict(X_test)\n",
        "asvm = accuracy_score(y_test,y_pred)*100\n",
        "print(\"Confusion Matrix: \",confusion_matrix(y_test, y_pred)) \n",
        "print (\"Accuracy : \",asvm) \n",
        "print(\"Report : \",classification_report(y_test, y_pred))"
      ],
      "execution_count": 158,
      "outputs": [
        {
          "output_type": "stream",
          "text": [
            "Confusion Matrix:  [[165   7]\n",
            " [ 47  31]]\n",
            "Accuracy :  78.4\n",
            "Report :                precision    recall  f1-score   support\n",
            "\n",
            "           0       0.78      0.96      0.86       172\n",
            "           1       0.82      0.40      0.53        78\n",
            "\n",
            "    accuracy                           0.78       250\n",
            "   macro avg       0.80      0.68      0.70       250\n",
            "weighted avg       0.79      0.78      0.76       250\n",
            "\n"
          ],
          "name": "stdout"
        }
      ]
    },
    {
      "cell_type": "code",
      "metadata": {
        "id": "f9nT0oLN_YvZ",
        "colab_type": "code",
        "colab": {
          "base_uri": "https://localhost:8080/",
          "height": 221
        },
        "outputId": "f98add36-b8dc-4773-8320-de32d42b32f0"
      },
      "source": [
        "KNN = KNeighborsClassifier(n_neighbors=2)\n",
        "KNN.fit(X_train, y_train)\n",
        "y_pred = SVM.predict(X_test)\n",
        "knn = accuracy_score(y_test,y_pred)*100\n",
        "print(\"Confusion Matrix: \",confusion_matrix(y_test, y_pred)) \n",
        "print (\"Accuracy : \",knn) \n",
        "print(\"Report : \",classification_report(y_test, y_pred))"
      ],
      "execution_count": 159,
      "outputs": [
        {
          "output_type": "stream",
          "text": [
            "Confusion Matrix:  [[165   7]\n",
            " [ 47  31]]\n",
            "Accuracy :  78.4\n",
            "Report :                precision    recall  f1-score   support\n",
            "\n",
            "           0       0.78      0.96      0.86       172\n",
            "           1       0.82      0.40      0.53        78\n",
            "\n",
            "    accuracy                           0.78       250\n",
            "   macro avg       0.80      0.68      0.70       250\n",
            "weighted avg       0.79      0.78      0.76       250\n",
            "\n"
          ],
          "name": "stdout"
        }
      ]
    },
    {
      "cell_type": "code",
      "metadata": {
        "id": "PTaqkHU8A57R",
        "colab_type": "code",
        "colab": {
          "base_uri": "https://localhost:8080/",
          "height": 221
        },
        "outputId": "a7c3ef92-f72c-4bdf-be1e-cae7635ddf8e"
      },
      "source": [
        "XGBoost = xgb.XGBClassifier(random_state=1,learning_rate=0.01)\n",
        "XGBoost.fit(X_train, y_train)\n",
        "y_pred = SVM.predict(X_test)\n",
        "axgb = accuracy_score(y_test,y_pred)*100\n",
        "print(\"Confusion Matrix: \",confusion_matrix(y_test, y_pred)) \n",
        "print (\"Accuracy : \",axgb) \n",
        "print(\"Report : \",classification_report(y_test, y_pred))"
      ],
      "execution_count": 160,
      "outputs": [
        {
          "output_type": "stream",
          "text": [
            "Confusion Matrix:  [[165   7]\n",
            " [ 47  31]]\n",
            "Accuracy :  78.4\n",
            "Report :                precision    recall  f1-score   support\n",
            "\n",
            "           0       0.78      0.96      0.86       172\n",
            "           1       0.82      0.40      0.53        78\n",
            "\n",
            "    accuracy                           0.78       250\n",
            "   macro avg       0.80      0.68      0.70       250\n",
            "weighted avg       0.79      0.78      0.76       250\n",
            "\n"
          ],
          "name": "stdout"
        }
      ]
    },
    {
      "cell_type": "code",
      "metadata": {
        "id": "zv2NTRSmBLtO",
        "colab_type": "code",
        "colab": {
          "base_uri": "https://localhost:8080/",
          "height": 221
        },
        "outputId": "02cf7ce2-9917-4df1-e96f-bcfce9278eef"
      },
      "source": [
        "gmm = GaussianMixture(n_components=2, covariance_type=\"spherical\")\n",
        "gmm.fit(X_train, y_train)\n",
        "y_pred = SVM.predict(X_test)\n",
        "agmm = accuracy_score(y_test,y_pred)*100\n",
        "print(\"Confusion Matrix: \",confusion_matrix(y_test, y_pred)) \n",
        "print (\"Accuracy : \",agmm) \n",
        "print(\"Report : \",classification_report(y_test, y_pred))"
      ],
      "execution_count": 161,
      "outputs": [
        {
          "output_type": "stream",
          "text": [
            "Confusion Matrix:  [[165   7]\n",
            " [ 47  31]]\n",
            "Accuracy :  78.4\n",
            "Report :                precision    recall  f1-score   support\n",
            "\n",
            "           0       0.78      0.96      0.86       172\n",
            "           1       0.82      0.40      0.53        78\n",
            "\n",
            "    accuracy                           0.78       250\n",
            "   macro avg       0.80      0.68      0.70       250\n",
            "weighted avg       0.79      0.78      0.76       250\n",
            "\n"
          ],
          "name": "stdout"
        }
      ]
    },
    {
      "cell_type": "code",
      "metadata": {
        "id": "sB5wMTV3BU99",
        "colab_type": "code",
        "colab": {
          "base_uri": "https://localhost:8080/",
          "height": 221
        },
        "outputId": "fc8bdacc-775c-4136-c1e1-54a477ca6b70"
      },
      "source": [
        "kmeans = KMeans(n_clusters=2, random_state=0)\n",
        "kmeans.fit(X_train, y_train)\n",
        "y_pred = SVM.predict(X_test)\n",
        "km = accuracy_score(y_test,y_pred)*100\n",
        "print(\"Confusion Matrix: \",confusion_matrix(y_test, y_pred)) \n",
        "print (\"Accuracy : \",km) \n",
        "print(\"Report : \",classification_report(y_test, y_pred))"
      ],
      "execution_count": 162,
      "outputs": [
        {
          "output_type": "stream",
          "text": [
            "Confusion Matrix:  [[165   7]\n",
            " [ 47  31]]\n",
            "Accuracy :  78.4\n",
            "Report :                precision    recall  f1-score   support\n",
            "\n",
            "           0       0.78      0.96      0.86       172\n",
            "           1       0.82      0.40      0.53        78\n",
            "\n",
            "    accuracy                           0.78       250\n",
            "   macro avg       0.80      0.68      0.70       250\n",
            "weighted avg       0.79      0.78      0.76       250\n",
            "\n"
          ],
          "name": "stdout"
        }
      ]
    },
    {
      "cell_type": "code",
      "metadata": {
        "id": "WzJFG1ajDmGd",
        "colab_type": "code",
        "colab": {
          "base_uri": "https://localhost:8080/",
          "height": 343
        },
        "outputId": "0580ff34-3f99-4ed4-87a9-edcbeb4bd1c8"
      },
      "source": [
        "from sklearn.linear_model import RidgeClassifier\n",
        "from imblearn.combine import SMOTEENN\n",
        "from imblearn.under_sampling import EditedNearestNeighbours\n",
        "\n",
        "#Split into inputs and output\n",
        "X = df.loc[:, df.columns != 'status']\n",
        "Y = df.status\n",
        "# Categorical boolean mask\n",
        "categorical_feature_mask = df.dtypes==object\n",
        "# filter categorical columns using mask and turn it into a list\n",
        "categorical_cols = df.columns[categorical_feature_mask].tolist()\n",
        "X = pd.DataFrame(data=X)\n",
        "# Label Encode the status/target variable\n",
        "Y = LabelEncoder().fit_transform(Y)\n",
        "cat_ix = X.select_dtypes(include=['object', 'bool']).columns\n",
        "num_ix = X.select_dtypes(include=['int64', 'float64']).columns\n",
        "# define model to evaluate\n",
        "model = RidgeClassifier()\n",
        "# define the data sampling\n",
        "sampling = SMOTEENN(enn=EditedNearestNeighbours(sampling_strategy='majority'))\n",
        "# one hot encode categorical, normalize numerical\n",
        "ct = ColumnTransformer([('c',OneHotEncoder(),cat_ix), ('n',StandardScaler(),num_ix)])\n",
        "X = ct.fit_transform(X)\n",
        "X,Y = sampling.fit_resample(X, Y)\n",
        "X_train, X_test, y_train, y_test = train_test_split(X,Y)\n",
        "# evaluate the model and store results\n",
        "model.fit(X,Y)\n",
        "y_pred = SVM.predict(X_test)\n",
        "rc = accuracy_score(y_test,y_pred)*100\n",
        "print(\"Confusion Matrix: \",confusion_matrix(y_test, y_pred)) \n",
        "print (\"Accuracy : \",rc) \n",
        "print(\"Report : \",classification_report(y_test, y_pred))"
      ],
      "execution_count": 163,
      "outputs": [
        {
          "output_type": "stream",
          "text": [
            "Confusion Matrix:  [[ 78   0]\n",
            " [111  58]]\n",
            "Accuracy :  55.06072874493927\n",
            "Report :                precision    recall  f1-score   support\n",
            "\n",
            "           0       0.41      1.00      0.58        78\n",
            "           1       1.00      0.34      0.51       169\n",
            "\n",
            "    accuracy                           0.55       247\n",
            "   macro avg       0.71      0.67      0.55       247\n",
            "weighted avg       0.81      0.55      0.53       247\n",
            "\n"
          ],
          "name": "stdout"
        },
        {
          "output_type": "stream",
          "text": [
            "/usr/local/lib/python3.6/dist-packages/sklearn/utils/deprecation.py:87: FutureWarning: Function safe_indexing is deprecated; safe_indexing is deprecated in version 0.22 and will be removed in version 0.24.\n",
            "  warnings.warn(msg, category=FutureWarning)\n",
            "/usr/local/lib/python3.6/dist-packages/sklearn/utils/deprecation.py:87: FutureWarning: Function safe_indexing is deprecated; safe_indexing is deprecated in version 0.22 and will be removed in version 0.24.\n",
            "  warnings.warn(msg, category=FutureWarning)\n",
            "/usr/local/lib/python3.6/dist-packages/sklearn/utils/deprecation.py:87: FutureWarning: Function safe_indexing is deprecated; safe_indexing is deprecated in version 0.22 and will be removed in version 0.24.\n",
            "  warnings.warn(msg, category=FutureWarning)\n"
          ],
          "name": "stderr"
        }
      ]
    },
    {
      "cell_type": "markdown",
      "metadata": {
        "id": "LmIkjqyccd7W",
        "colab_type": "text"
      },
      "source": [
        "## Model Evaluation"
      ]
    },
    {
      "cell_type": "code",
      "metadata": {
        "id": "m7aMZQCKamOH",
        "colab_type": "code",
        "colab": {
          "base_uri": "https://localhost:8080/",
          "height": 221
        },
        "outputId": "830939a6-66a9-4a7d-a13e-bbe04613ab99"
      },
      "source": [
        "from prettytable import PrettyTable\n",
        "x = PrettyTable()\n",
        "x.field_names = [\"Algorithm\",\"Mean F2 Score\",\"Accuracy\"]\n",
        "x.add_row([\"Ridge Classifier\", np.mean(scores),rc])\n",
        "x.add_row([\"Naive Bayes\",np.mean(NB_scores),naive])\n",
        "x.add_row([\"Logistic Regression\",np.mean(LogReg_scores),log])\n",
        "x.add_row([\"K Means\",np.mean(kmeans_scores),km])\n",
        "x.add_row([\"Gaussian Mixture Model\",np.mean(gmm_scores),agmm])\n",
        "x.add_row([\"Support Vector Machines\",np.mean(RF_scores),asvm])\n",
        "x.add_row([\"XGBoost Classifier\",np.mean(XGB_scores),axgb])\n",
        "x.add_row([\"K Nearest Neighbors Classifier\",np.mean(KNN_scores),knn])\n",
        "print(x)"
      ],
      "execution_count": 165,
      "outputs": [
        {
          "output_type": "stream",
          "text": [
            "+--------------------------------+---------------------+-------------------+\n",
            "|           Algorithm            |    Mean F2 Score    |      Accuracy     |\n",
            "+--------------------------------+---------------------+-------------------+\n",
            "|        Ridge Classifier        |  0.7390470086641266 | 55.06072874493927 |\n",
            "|          Naive Bayes           |  0.6391730191702827 | 70.39999999999999 |\n",
            "|      Logistic Regression       |  0.4991911379852895 |        78.8       |\n",
            "|            K Means             | 0.45048041860484467 |        78.4       |\n",
            "|     Gaussian Mixture Model     | 0.42829865416320495 |        78.4       |\n",
            "|    Support Vector Machines     |  0.4189442082129595 |        78.4       |\n",
            "|       XGBoost Classifier       | 0.28735314932172484 |        78.4       |\n",
            "| K Nearest Neighbors Classifier | 0.27021977773319183 |        78.4       |\n",
            "+--------------------------------+---------------------+-------------------+\n"
          ],
          "name": "stdout"
        }
      ]
    },
    {
      "cell_type": "markdown",
      "metadata": {
        "id": "e-al_v1tE3bW",
        "colab_type": "text"
      },
      "source": [
        "## Conclusion:\n",
        "Logistic Regression, Support Vector Machines, K Nearest Neighbors, K Means, Gaussian Mixture Model, XGBoost Classifier, Random Forest Models performs equivalently better than Naive Bayes and Ridge Classifier.\n",
        "\n",
        "Even though Ridge Classifier's accuracy is the least, it correctly identifies False Negatives.\n",
        "\n"
      ]
    }
  ]
}
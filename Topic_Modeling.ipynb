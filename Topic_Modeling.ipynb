{
  "nbformat": 4,
  "nbformat_minor": 0,
  "metadata": {
    "colab": {
      "name": "Topic Modeling.ipynb",
      "provenance": [],
      "collapsed_sections": [],
      "authorship_tag": "ABX9TyOp5CmBfzVfWn3uOWSTp3xj",
      "include_colab_link": true
    },
    "kernelspec": {
      "name": "python3",
      "display_name": "Python 3"
    }
  },
  "cells": [
    {
      "cell_type": "markdown",
      "metadata": {
        "id": "view-in-github",
        "colab_type": "text"
      },
      "source": [
        "<a href=\"https://colab.research.google.com/github/RonakMehta21/Machine-Learning/blob/master/Topic_Modeling.ipynb\" target=\"_parent\"><img src=\"https://colab.research.google.com/assets/colab-badge.svg\" alt=\"Open In Colab\"/></a>"
      ]
    },
    {
      "cell_type": "markdown",
      "metadata": {
        "id": "tmmXasq7mCwa",
        "colab_type": "text"
      },
      "source": [
        "# Topic Modeling with LDA and Gensim"
      ]
    },
    {
      "cell_type": "markdown",
      "metadata": {
        "id": "eSrhfAA7mIGp",
        "colab_type": "text"
      },
      "source": [
        "This notebook demonstrates how to perform topic modeling with Latent Dirichlet Allocation (LDA) and classify a label to a new topic by using TF-IDF and cosine similarity with the help of gensim and nltk library.\n",
        "\n",
        "The articles used for this demonstration purpose were randomly chosen to perform topic modeling. These articles can be accessible at:\n",
        "\n",
        "[What’s The Stock Market Seeing That We’re Not?](https://medium.com/swlh/whats-the-stock-market-seeing-that-we-re-not-bb4a03b223c5)\n",
        "\n",
        "[Comparing storytelling in games & literature](https://medium.com/@Tarnimus/comparing-storytelling-in-games-literature-4e5ff6ca5a73)\n",
        "\n",
        "[What It’s Like To Be A Movie Producer](https://medium.com/@overnightrick/what-its-like-to-be-a-movie-producer-edca96967123)"
      ]
    },
    {
      "cell_type": "markdown",
      "metadata": {
        "id": "2_f4eUYHo4iA",
        "colab_type": "text"
      },
      "source": [
        "The text was extracted from these articles and stored in a text file."
      ]
    },
    {
      "cell_type": "code",
      "metadata": {
        "id": "LgU3I2cVrfWt",
        "colab_type": "code",
        "colab": {}
      },
      "source": [
        "# Read text file into colaboratory\n",
        "!pip install -U -q PyDrive\n",
        "from pydrive.auth import GoogleAuth\n",
        "from pydrive.drive import GoogleDrive\n",
        "from google.colab import auth\n",
        "from oauth2client.client import GoogleCredentials"
      ],
      "execution_count": 0,
      "outputs": []
    },
    {
      "cell_type": "code",
      "metadata": {
        "id": "c3_U5-0IrhkL",
        "colab_type": "code",
        "colab": {}
      },
      "source": [
        "# Authenticate and create the PyDrive client.\n",
        "auth.authenticate_user()\n",
        "gauth = GoogleAuth()\n",
        "gauth.credentials = GoogleCredentials.get_application_default()\n",
        "drive = GoogleDrive(gauth)"
      ],
      "execution_count": 0,
      "outputs": []
    },
    {
      "cell_type": "markdown",
      "metadata": {
        "id": "pYSKkveepN75",
        "colab_type": "text"
      },
      "source": [
        "The generated text file is accessible at this [link](https://drive.google.com/open?id=1PuzBrkOrlKTgaVcl_1nHvmRIDpf3hOij)"
      ]
    },
    {
      "cell_type": "code",
      "metadata": {
        "id": "gAjIORhjrmqm",
        "colab_type": "code",
        "colab": {
          "base_uri": "https://localhost:8080/",
          "height": 34
        },
        "outputId": "6c7d258e-2889-4945-8372-750cb0722b88"
      },
      "source": [
        "# Google drive link where the dataset is stored.\n",
        "link = 'https://drive.google.com/open?id=1PuzBrkOrlKTgaVcl_1nHvmRIDpf3hOij'\n",
        "fluff, id = link.split('=')\n",
        "print (id) # Verify that you have everything after '='"
      ],
      "execution_count": 70,
      "outputs": [
        {
          "output_type": "stream",
          "text": [
            "1PuzBrkOrlKTgaVcl_1nHvmRIDpf3hOij\n"
          ],
          "name": "stdout"
        }
      ]
    },
    {
      "cell_type": "code",
      "metadata": {
        "id": "9tG7UGqpraM4",
        "colab_type": "code",
        "colab": {}
      },
      "source": [
        "# Download the text file.\n",
        "downloaded = drive.CreateFile({'id':id}) \n",
        "downloaded.GetContentFile('data.txt')"
      ],
      "execution_count": 0,
      "outputs": []
    },
    {
      "cell_type": "code",
      "metadata": {
        "id": "jSkEEnmcr-sV",
        "colab_type": "code",
        "colab": {}
      },
      "source": [
        "# Import necessary libraries\n",
        "import pandas as pd\n",
        "import numpy as np"
      ],
      "execution_count": 0,
      "outputs": []
    },
    {
      "cell_type": "code",
      "metadata": {
        "id": "n3Ls_JkixbT3",
        "colab_type": "code",
        "colab": {}
      },
      "source": [
        "# Convert to CSV file\n",
        "import pandas as pd\n",
        "df = pd.read_fwf('data.txt')\n",
        "df.to_csv('data.csv')"
      ],
      "execution_count": 0,
      "outputs": []
    },
    {
      "cell_type": "code",
      "metadata": {
        "id": "2GidIbwXxeNk",
        "colab_type": "code",
        "colab": {}
      },
      "source": [
        "# Read the CSV file\n",
        "data = pd.read_csv('data.csv',header=None)"
      ],
      "execution_count": 0,
      "outputs": []
    },
    {
      "cell_type": "code",
      "metadata": {
        "id": "VnDFwUkCyNey",
        "colab_type": "code",
        "colab": {}
      },
      "source": [
        "data['text'] = data[1]"
      ],
      "execution_count": 0,
      "outputs": []
    },
    {
      "cell_type": "code",
      "metadata": {
        "id": "m0Q7VBmJzmt4",
        "colab_type": "code",
        "colab": {}
      },
      "source": [
        "# Load the regular expression library\n",
        "import re"
      ],
      "execution_count": 0,
      "outputs": []
    },
    {
      "cell_type": "markdown",
      "metadata": {
        "id": "2c266pSHvVsr",
        "colab_type": "text"
      },
      "source": [
        "### Data Preprocessing "
      ]
    },
    {
      "cell_type": "code",
      "metadata": {
        "id": "fHp5u5TYzspB",
        "colab_type": "code",
        "colab": {
          "base_uri": "https://localhost:8080/",
          "height": 102
        },
        "outputId": "cf2e4a36-40d9-46a8-c520-c2fcac0d6687"
      },
      "source": [
        "# Remove punctuations\n",
        "data['text'] = data['text'].map(lambda x: re.sub('[,\\.!?]', '', x))"
      ],
      "execution_count": 78,
      "outputs": [
        {
          "output_type": "stream",
          "text": [
            "<input>:1: DeprecationWarning: invalid escape sequence \\.\n",
            "<input>:1: DeprecationWarning: invalid escape sequence \\.\n",
            "<input>:1: DeprecationWarning: invalid escape sequence \\.\n",
            "<ipython-input-78-2990a2999eec>:1: DeprecationWarning: invalid escape sequence \\.\n",
            "  data['text'] = data['text'].map(lambda x: re.sub('[,\\.!?]', '', x))\n"
          ],
          "name": "stderr"
        }
      ]
    },
    {
      "cell_type": "code",
      "metadata": {
        "id": "nQq8YxZ60grl",
        "colab_type": "code",
        "colab": {
          "base_uri": "https://localhost:8080/",
          "height": 221
        },
        "outputId": "7a6202f9-7c05-43c2-f6a0-73627722bd42"
      },
      "source": [
        "data['text']"
      ],
      "execution_count": 79,
      "outputs": [
        {
          "output_type": "execute_result",
          "data": {
            "text/plain": [
              "0          What’s The Stock Market Seeing That We’re Not\n",
              "1      As Americans brace for a week of horror the st...\n",
              "2                  We don’t think it’s that complicated:\n",
              "3                       There’s a lot of money out there\n",
              "4      The government is pumping trillions of dollars...\n",
              "                             ...                        \n",
              "170    Help me it pleads get me to the screen where I...\n",
              "171    Then there are the other voices: Heed the sign...\n",
              "172    And still I carry on for some unknown reason P...\n",
              "173    For these are the tools of my trade I’m a prod...\n",
              "174             This post originally appeared on Journal\n",
              "Name: text, Length: 175, dtype: object"
            ]
          },
          "metadata": {
            "tags": []
          },
          "execution_count": 79
        }
      ]
    },
    {
      "cell_type": "code",
      "metadata": {
        "id": "Jw9mBfk95j8A",
        "colab_type": "code",
        "colab": {
          "base_uri": "https://localhost:8080/",
          "height": 34
        },
        "outputId": "a95e145e-0713-47a0-95d2-8162428556b5"
      },
      "source": [
        "data['text'][1]"
      ],
      "execution_count": 81,
      "outputs": [
        {
          "output_type": "execute_result",
          "data": {
            "text/plain": [
              "'As Americans brace for a week of horror the stock market is having a very good run so far Why'"
            ]
          },
          "metadata": {
            "tags": []
          },
          "execution_count": 81
        }
      ]
    },
    {
      "cell_type": "code",
      "metadata": {
        "id": "XffBHBCK0mHZ",
        "colab_type": "code",
        "colab": {}
      },
      "source": [
        "# Convert the titles to lowercase\n",
        "data['text'] = data['text'].map(lambda x: x.lower())"
      ],
      "execution_count": 0,
      "outputs": []
    },
    {
      "cell_type": "code",
      "metadata": {
        "id": "-AFzg4Kq0qFB",
        "colab_type": "code",
        "colab": {
          "base_uri": "https://localhost:8080/",
          "height": 119
        },
        "outputId": "8a28e6a9-ac46-4b02-fe96-840099a40456"
      },
      "source": [
        "# Print out the first rows of text\n",
        "data['text'].head()"
      ],
      "execution_count": 83,
      "outputs": [
        {
          "output_type": "execute_result",
          "data": {
            "text/plain": [
              "0        what’s the stock market seeing that we’re not\n",
              "1    as americans brace for a week of horror the st...\n",
              "2                we don’t think it’s that complicated:\n",
              "3                     there’s a lot of money out there\n",
              "4    the government is pumping trillions of dollars...\n",
              "Name: text, dtype: object"
            ]
          },
          "metadata": {
            "tags": []
          },
          "execution_count": 83
        }
      ]
    },
    {
      "cell_type": "markdown",
      "metadata": {
        "id": "AbzXOH-HqjgC",
        "colab_type": "text"
      },
      "source": [
        "### Convert the collection of text to a matrix of token counts using CountVectorizer"
      ]
    },
    {
      "cell_type": "code",
      "metadata": {
        "id": "0xM-pahm04dY",
        "colab_type": "code",
        "colab": {}
      },
      "source": [
        "# Load the library with the CountVectorizer method\n",
        "from sklearn.feature_extraction.text import CountVectorizer"
      ],
      "execution_count": 0,
      "outputs": []
    },
    {
      "cell_type": "code",
      "metadata": {
        "id": "8SHO0KP_07FF",
        "colab_type": "code",
        "colab": {}
      },
      "source": [
        "import matplotlib.pyplot as plt\n",
        "import seaborn as sns\n",
        "sns.set_style('whitegrid')\n",
        "%matplotlib inline"
      ],
      "execution_count": 0,
      "outputs": []
    },
    {
      "cell_type": "code",
      "metadata": {
        "id": "18HjxzA21CQs",
        "colab_type": "code",
        "colab": {
          "base_uri": "https://localhost:8080/",
          "height": 662
        },
        "outputId": "bd2f85f3-c78c-4680-e29f-01e0a99639ff"
      },
      "source": [
        "# Helper function\n",
        "def plot_10_most_common_words(count_data, count_vectorizer):\n",
        "    import matplotlib.pyplot as plt\n",
        "    words = count_vectorizer.get_feature_names()\n",
        "    total_counts = np.zeros(len(words))\n",
        "    for t in count_data:\n",
        "        total_counts+=t.toarray()[0]\n",
        "    \n",
        "    count_dict = (zip(words, total_counts))\n",
        "    count_dict = sorted(count_dict, key=lambda x:x[1], reverse=True)[0:10]\n",
        "    words = [w[0] for w in count_dict]\n",
        "    counts = [w[1] for w in count_dict]\n",
        "    x_pos = np.arange(len(words)) \n",
        "    \n",
        "    plt.figure(2, figsize=(15, 15/1.6180))\n",
        "    plt.subplot(title='10 most common words')\n",
        "    sns.set_context(\"notebook\", font_scale=1.25, rc={\"lines.linewidth\": 2.5})\n",
        "    sns.barplot(x_pos, counts, palette='husl')\n",
        "    plt.xticks(x_pos, words, rotation=90) \n",
        "    plt.xlabel('words')\n",
        "    plt.ylabel('counts')\n",
        "    plt.show()\n",
        "# Initialise the count vectorizer with the English stop words\n",
        "count_vectorizer = CountVectorizer(stop_words='english')\n",
        "# Fit and transform the processed titles\n",
        "count_data = count_vectorizer.fit_transform(data['text'])\n",
        "# Visualise the 10 most common words\n",
        "plot_10_most_common_words(count_data, count_vectorizer)"
      ],
      "execution_count": 86,
      "outputs": [
        {
          "output_type": "display_data",
          "data": {
            "image/png": "[encoded data removed]",
            "text/plain": [
              "<Figure size 1080x667.491 with 1 Axes>"
            ]
          },
          "metadata": {
            "tags": [],
            "needs_background": "light"
          }
        }
      ]
    },
    {
      "cell_type": "markdown",
      "metadata": {
        "id": "z6i5bkxgqqDL",
        "colab_type": "text"
      },
      "source": [
        "### Perform LDA to give “topics” that occur in the articles mentioned above that best represents the information in them."
      ]
    },
    {
      "cell_type": "code",
      "metadata": {
        "id": "AW4kXAB81N7T",
        "colab_type": "code",
        "colab": {
          "base_uri": "https://localhost:8080/",
          "height": 544
        },
        "outputId": "bc563fac-7566-4fac-c940-b8606a3a29ce"
      },
      "source": [
        "import warnings\n",
        "warnings.simplefilter(\"ignore\", DeprecationWarning)\n",
        "# Load the LDA model from sk-learn\n",
        "from sklearn.decomposition import LatentDirichletAllocation as LDA\n",
        "l = []\n",
        "# Helper function\n",
        "def print_topics(model, count_vectorizer, n_top_words):\n",
        "    words = count_vectorizer.get_feature_names()\n",
        "    for topic_idx, topic in enumerate(model.components_):\n",
        "        print(\"\\nTopic #%d:\" % topic_idx)\n",
        "        print(\" \".join([words[i]\n",
        "                        for i in topic.argsort()[:-n_top_words - 1:-1]]))\n",
        "        l.append(\" \".join([words[i]\n",
        "                        for i in topic.argsort()[:-n_top_words - 1:-1]]))\n",
        "        \n",
        "# Tweak the two parameters below\n",
        "number_topics = 10\n",
        "number_words = 10\n",
        "# Create and fit the LDA model\n",
        "lda = LDA(n_components=number_topics, n_jobs=-1)\n",
        "lda.fit(count_data)\n",
        "# Print the topics found by the LDA model\n",
        "print(\"Topics found via LDA:\")\n",
        "print_topics(lda, count_vectorizer, number_words)"
      ],
      "execution_count": 91,
      "outputs": [
        {
          "output_type": "stream",
          "text": [
            "Topics found via LDA:\n",
            "\n",
            "Topic #0:\n",
            "games money person fiction like going zero crime perspective game\n",
            "\n",
            "Topic #1:\n",
            "story player game money action way lot games reader mechanical\n",
            "\n",
            "Topic #2:\n",
            "games person game comedy book story gaming genres storytelling player\n",
            "\n",
            "Topic #3:\n",
            "story player want don little read narrative director forms exciting\n",
            "\n",
            "Topic #4:\n",
            "games time getting script end investors form way close say\n",
            "\n",
            "Topic #5:\n",
            "story player character person games game perspective players entirely storytelling\n",
            "\n",
            "Topic #6:\n",
            "movie games genre thematic person does good able star mechanical\n",
            "\n",
            "Topic #7:\n",
            "people genre mechanical script critical movie narrative point actor audience\n",
            "\n",
            "Topic #8:\n",
            "movies movie million people years banks making does institutions financial\n",
            "\n",
            "Topic #9:\n",
            "trump just look want really player big market sure writer\n"
          ],
          "name": "stdout"
        }
      ]
    },
    {
      "cell_type": "markdown",
      "metadata": {
        "id": "CEbNIneIq37a",
        "colab_type": "text"
      },
      "source": [
        "### Given a new topic and to classify the topic with a label, the generated topics from LDA were manually labeled and was converted into a CSV file."
      ]
    },
    {
      "cell_type": "code",
      "metadata": {
        "id": "Ul2zHM1rHdSs",
        "colab_type": "code",
        "colab": {}
      },
      "source": [
        "# Authenticate and create the PyDrive client.\n",
        "auth.authenticate_user()\n",
        "gauth = GoogleAuth()\n",
        "gauth.credentials = GoogleCredentials.get_application_default()\n",
        "drive = GoogleDrive(gauth)"
      ],
      "execution_count": 0,
      "outputs": []
    },
    {
      "cell_type": "code",
      "metadata": {
        "id": "FLTIZNw1GiRl",
        "colab_type": "code",
        "colab": {
          "base_uri": "https://localhost:8080/",
          "height": 34
        },
        "outputId": "45c937c3-d3bf-40e8-c70d-351d6256b1a6"
      },
      "source": [
        "# Google drive link where the dataset is stored.\n",
        "link = 'https://drive.google.com/open?id=14WPNDWDkw_Ry8GPdVuyirtb9Is70l2uh'\n",
        "fluff, id = link.split('=')\n",
        "print (id) # Verify that you have everything after '='"
      ],
      "execution_count": 109,
      "outputs": [
        {
          "output_type": "stream",
          "text": [
            "14WPNDWDkw_Ry8GPdVuyirtb9Is70l2uh\n"
          ],
          "name": "stdout"
        }
      ]
    },
    {
      "cell_type": "markdown",
      "metadata": {
        "id": "9cJPovehrBpk",
        "colab_type": "text"
      },
      "source": [
        "The generated CSV file is accessible at this [link](https://drive.google.com/open?id=14WPNDWDkw_Ry8GPdVuyirtb9Is70l2uh)"
      ]
    },
    {
      "cell_type": "code",
      "metadata": {
        "id": "BdyobzqVG8la",
        "colab_type": "code",
        "colab": {}
      },
      "source": [
        "# Download the twitter dataset.\n",
        "downloaded = drive.CreateFile({'id':id}) \n",
        "downloaded.GetContentFile('MNBdatatset.csv')"
      ],
      "execution_count": 0,
      "outputs": []
    },
    {
      "cell_type": "code",
      "metadata": {
        "id": "yY6p3SAhHfnV",
        "colab_type": "code",
        "colab": {}
      },
      "source": [
        "# Read the CSV file\n",
        "df = pd.read_csv('MNBdatatset.csv')"
      ],
      "execution_count": 0,
      "outputs": []
    },
    {
      "cell_type": "code",
      "metadata": {
        "id": "36lFPqTMHlbP",
        "colab_type": "code",
        "colab": {
          "base_uri": "https://localhost:8080/",
          "height": 359
        },
        "outputId": "df9c0272-8bec-4f35-9f22-8ea412693884"
      },
      "source": [
        "df"
      ],
      "execution_count": 112,
      "outputs": [
        {
          "output_type": "execute_result",
          "data": {
            "text/html": [
              "<div>\n",
              "<style scoped>\n",
              "    .dataframe tbody tr th:only-of-type {\n",
              "        vertical-align: middle;\n",
              "    }\n",
              "\n",
              "    .dataframe tbody tr th {\n",
              "        vertical-align: top;\n",
              "    }\n",
              "\n",
              "    .dataframe thead th {\n",
              "        text-align: right;\n",
              "    }\n",
              "</style>\n",
              "<table border=\"1\" class=\"dataframe\">\n",
              "  <thead>\n",
              "    <tr style=\"text-align: right;\">\n",
              "      <th></th>\n",
              "      <th>Label</th>\n",
              "      <th>Word1</th>\n",
              "      <th>Word2</th>\n",
              "      <th>Word3</th>\n",
              "      <th>Word4</th>\n",
              "      <th>Word5</th>\n",
              "      <th>Word6</th>\n",
              "      <th>Word7</th>\n",
              "      <th>Word8</th>\n",
              "      <th>Word9</th>\n",
              "      <th>Word10</th>\n",
              "    </tr>\n",
              "  </thead>\n",
              "  <tbody>\n",
              "    <tr>\n",
              "      <th>0</th>\n",
              "      <td>fiction script</td>\n",
              "      <td>person</td>\n",
              "      <td>perspective</td>\n",
              "      <td>story</td>\n",
              "      <td>player</td>\n",
              "      <td>fiction</td>\n",
              "      <td>games</td>\n",
              "      <td>character</td>\n",
              "      <td>intent</td>\n",
              "      <td>change</td>\n",
              "      <td>script</td>\n",
              "    </tr>\n",
              "    <tr>\n",
              "      <th>1</th>\n",
              "      <td>crime story</td>\n",
              "      <td>player</td>\n",
              "      <td>games</td>\n",
              "      <td>story</td>\n",
              "      <td>crime</td>\n",
              "      <td>storytelling</td>\n",
              "      <td>fiction</td>\n",
              "      <td>like</td>\n",
              "      <td>actor</td>\n",
              "      <td>think</td>\n",
              "      <td>mechanical</td>\n",
              "    </tr>\n",
              "    <tr>\n",
              "      <th>2</th>\n",
              "      <td>game</td>\n",
              "      <td>games</td>\n",
              "      <td>player</td>\n",
              "      <td>person</td>\n",
              "      <td>end</td>\n",
              "      <td>getting</td>\n",
              "      <td>character</td>\n",
              "      <td>mechanics</td>\n",
              "      <td>investors</td>\n",
              "      <td>game</td>\n",
              "      <td>reader</td>\n",
              "    </tr>\n",
              "    <tr>\n",
              "      <th>3</th>\n",
              "      <td>comedy movie</td>\n",
              "      <td>games</td>\n",
              "      <td>player</td>\n",
              "      <td>comedy</td>\n",
              "      <td>don</td>\n",
              "      <td>action</td>\n",
              "      <td>movies</td>\n",
              "      <td>audience</td>\n",
              "      <td>years</td>\n",
              "      <td>good</td>\n",
              "      <td>movie</td>\n",
              "    </tr>\n",
              "    <tr>\n",
              "      <th>4</th>\n",
              "      <td>Finance</td>\n",
              "      <td>money</td>\n",
              "      <td>story</td>\n",
              "      <td>going</td>\n",
              "      <td>life</td>\n",
              "      <td>want</td>\n",
              "      <td>banks</td>\n",
              "      <td>new</td>\n",
              "      <td>zero</td>\n",
              "      <td>free</td>\n",
              "      <td>places</td>\n",
              "    </tr>\n",
              "    <tr>\n",
              "      <th>5</th>\n",
              "      <td>Mortgage game</td>\n",
              "      <td>games</td>\n",
              "      <td>genre</td>\n",
              "      <td>person</td>\n",
              "      <td>game</td>\n",
              "      <td>able</td>\n",
              "      <td>mortgage</td>\n",
              "      <td>character</td>\n",
              "      <td>does</td>\n",
              "      <td>just</td>\n",
              "      <td>going</td>\n",
              "    </tr>\n",
              "    <tr>\n",
              "      <th>6</th>\n",
              "      <td>Big movie</td>\n",
              "      <td>movie</td>\n",
              "      <td>read</td>\n",
              "      <td>book</td>\n",
              "      <td>reason</td>\n",
              "      <td>money</td>\n",
              "      <td>producer</td>\n",
              "      <td>big</td>\n",
              "      <td>people</td>\n",
              "      <td>wasn</td>\n",
              "      <td>just</td>\n",
              "    </tr>\n",
              "    <tr>\n",
              "      <th>7</th>\n",
              "      <td>romance movie</td>\n",
              "      <td>person</td>\n",
              "      <td>games</td>\n",
              "      <td>game</td>\n",
              "      <td>genres</td>\n",
              "      <td>narrative</td>\n",
              "      <td>movies</td>\n",
              "      <td>storytelling</td>\n",
              "      <td>11</td>\n",
              "      <td>romance</td>\n",
              "      <td>shooter</td>\n",
              "    </tr>\n",
              "    <tr>\n",
              "      <th>8</th>\n",
              "      <td>Player</td>\n",
              "      <td>movie</td>\n",
              "      <td>player</td>\n",
              "      <td>like</td>\n",
              "      <td>little</td>\n",
              "      <td>point</td>\n",
              "      <td>look</td>\n",
              "      <td>esther</td>\n",
              "      <td>dear</td>\n",
              "      <td>especially</td>\n",
              "      <td>story</td>\n",
              "    </tr>\n",
              "    <tr>\n",
              "      <th>9</th>\n",
              "      <td>third person game</td>\n",
              "      <td>game</td>\n",
              "      <td>games</td>\n",
              "      <td>player</td>\n",
              "      <td>fiction</td>\n",
              "      <td>players</td>\n",
              "      <td>literary</td>\n",
              "      <td>based</td>\n",
              "      <td>talk</td>\n",
              "      <td>really</td>\n",
              "      <td>gaming</td>\n",
              "    </tr>\n",
              "  </tbody>\n",
              "</table>\n",
              "</div>"
            ],
            "text/plain": [
              "               Label   Word1        Word2  ...      Word8       Word9      Word10\n",
              "0     fiction script  person  perspective  ...     intent      change      script\n",
              "1        crime story  player        games  ...      actor       think  mechanical\n",
              "2               game   games       player  ...  investors        game      reader\n",
              "3       comedy movie   games       player  ...      years        good       movie\n",
              "4            Finance   money        story  ...       zero        free      places\n",
              "5      Mortgage game   games        genre  ...       does        just       going\n",
              "6          Big movie   movie         read  ...     people        wasn        just\n",
              "7      romance movie  person        games  ...         11     romance     shooter\n",
              "8             Player   movie       player  ...       dear  especially       story\n",
              "9  third person game    game        games  ...       talk      really      gaming\n",
              "\n",
              "[10 rows x 11 columns]"
            ]
          },
          "metadata": {
            "tags": []
          },
          "execution_count": 112
        }
      ]
    },
    {
      "cell_type": "code",
      "metadata": {
        "id": "tkla8KDShyyK",
        "colab_type": "code",
        "colab": {
          "base_uri": "https://localhost:8080/",
          "height": 615
        },
        "outputId": "1e177a65-d141-45a2-ff53-b7c07f66417e"
      },
      "source": [
        "# Import the necessary libraries\n",
        "!pip install nltk\n",
        "!pip install gensim\n",
        "import nltk\n",
        "import gensim\n",
        "nltk.download('punkt')"
      ],
      "execution_count": 113,
      "outputs": [
        {
          "output_type": "stream",
          "text": [
            "Requirement already satisfied: nltk in /usr/local/lib/python3.6/dist-packages (3.2.5)\n",
            "Requirement already satisfied: six in /usr/local/lib/python3.6/dist-packages (from nltk) (1.12.0)\n",
            "Requirement already satisfied: gensim in /usr/local/lib/python3.6/dist-packages (3.6.0)\n",
            "Requirement already satisfied: smart-open>=1.2.1 in /usr/local/lib/python3.6/dist-packages (from gensim) (1.10.0)\n",
            "Requirement already satisfied: six>=1.5.0 in /usr/local/lib/python3.6/dist-packages (from gensim) (1.12.0)\n",
            "Requirement already satisfied: numpy>=1.11.3 in /usr/local/lib/python3.6/dist-packages (from gensim) (1.18.2)\n",
            "Requirement already satisfied: scipy>=0.18.1 in /usr/local/lib/python3.6/dist-packages (from gensim) (1.4.1)\n",
            "Requirement already satisfied: boto3 in /usr/local/lib/python3.6/dist-packages (from smart-open>=1.2.1->gensim) (1.12.38)\n",
            "Requirement already satisfied: google-cloud-storage in /usr/local/lib/python3.6/dist-packages (from smart-open>=1.2.1->gensim) (1.18.1)\n",
            "Requirement already satisfied: requests in /usr/local/lib/python3.6/dist-packages (from smart-open>=1.2.1->gensim) (2.21.0)\n",
            "Requirement already satisfied: s3transfer<0.4.0,>=0.3.0 in /usr/local/lib/python3.6/dist-packages (from boto3->smart-open>=1.2.1->gensim) (0.3.3)\n",
            "Requirement already satisfied: botocore<1.16.0,>=1.15.38 in /usr/local/lib/python3.6/dist-packages (from boto3->smart-open>=1.2.1->gensim) (1.15.38)\n",
            "Requirement already satisfied: jmespath<1.0.0,>=0.7.1 in /usr/local/lib/python3.6/dist-packages (from boto3->smart-open>=1.2.1->gensim) (0.9.5)\n",
            "Requirement already satisfied: google-resumable-media<0.5.0dev,>=0.3.1 in /usr/local/lib/python3.6/dist-packages (from google-cloud-storage->smart-open>=1.2.1->gensim) (0.4.1)\n",
            "Requirement already satisfied: google-cloud-core<2.0dev,>=1.0.0 in /usr/local/lib/python3.6/dist-packages (from google-cloud-storage->smart-open>=1.2.1->gensim) (1.0.3)\n",
            "Requirement already satisfied: google-auth>=1.2.0 in /usr/local/lib/python3.6/dist-packages (from google-cloud-storage->smart-open>=1.2.1->gensim) (1.7.2)\n",
            "Requirement already satisfied: certifi>=2017.4.17 in /usr/local/lib/python3.6/dist-packages (from requests->smart-open>=1.2.1->gensim) (2020.4.5.1)\n",
            "Requirement already satisfied: chardet<3.1.0,>=3.0.2 in /usr/local/lib/python3.6/dist-packages (from requests->smart-open>=1.2.1->gensim) (3.0.4)\n",
            "Requirement already satisfied: idna<2.9,>=2.5 in /usr/local/lib/python3.6/dist-packages (from requests->smart-open>=1.2.1->gensim) (2.8)\n",
            "Requirement already satisfied: urllib3<1.25,>=1.21.1 in /usr/local/lib/python3.6/dist-packages (from requests->smart-open>=1.2.1->gensim) (1.24.3)\n",
            "Requirement already satisfied: docutils<0.16,>=0.10 in /usr/local/lib/python3.6/dist-packages (from botocore<1.16.0,>=1.15.38->boto3->smart-open>=1.2.1->gensim) (0.15.2)\n",
            "Requirement already satisfied: python-dateutil<3.0.0,>=2.1 in /usr/local/lib/python3.6/dist-packages (from botocore<1.16.0,>=1.15.38->boto3->smart-open>=1.2.1->gensim) (2.8.1)\n",
            "Requirement already satisfied: google-api-core<2.0.0dev,>=1.14.0 in /usr/local/lib/python3.6/dist-packages (from google-cloud-core<2.0dev,>=1.0.0->google-cloud-storage->smart-open>=1.2.1->gensim) (1.16.0)\n",
            "Requirement already satisfied: setuptools>=40.3.0 in /usr/local/lib/python3.6/dist-packages (from google-auth>=1.2.0->google-cloud-storage->smart-open>=1.2.1->gensim) (46.1.3)\n",
            "Requirement already satisfied: cachetools<3.2,>=2.0.0 in /usr/local/lib/python3.6/dist-packages (from google-auth>=1.2.0->google-cloud-storage->smart-open>=1.2.1->gensim) (3.1.1)\n",
            "Requirement already satisfied: pyasn1-modules>=0.2.1 in /usr/local/lib/python3.6/dist-packages (from google-auth>=1.2.0->google-cloud-storage->smart-open>=1.2.1->gensim) (0.2.8)\n",
            "Requirement already satisfied: rsa<4.1,>=3.1.4 in /usr/local/lib/python3.6/dist-packages (from google-auth>=1.2.0->google-cloud-storage->smart-open>=1.2.1->gensim) (4.0)\n",
            "Requirement already satisfied: pytz in /usr/local/lib/python3.6/dist-packages (from google-api-core<2.0.0dev,>=1.14.0->google-cloud-core<2.0dev,>=1.0.0->google-cloud-storage->smart-open>=1.2.1->gensim) (2018.9)\n",
            "Requirement already satisfied: protobuf>=3.4.0 in /usr/local/lib/python3.6/dist-packages (from google-api-core<2.0.0dev,>=1.14.0->google-cloud-core<2.0dev,>=1.0.0->google-cloud-storage->smart-open>=1.2.1->gensim) (3.10.0)\n",
            "Requirement already satisfied: googleapis-common-protos<2.0dev,>=1.6.0 in /usr/local/lib/python3.6/dist-packages (from google-api-core<2.0.0dev,>=1.14.0->google-cloud-core<2.0dev,>=1.0.0->google-cloud-storage->smart-open>=1.2.1->gensim) (1.51.0)\n",
            "Requirement already satisfied: pyasn1<0.5.0,>=0.4.6 in /usr/local/lib/python3.6/dist-packages (from pyasn1-modules>=0.2.1->google-auth>=1.2.0->google-cloud-storage->smart-open>=1.2.1->gensim) (0.4.8)\n",
            "[nltk_data] Downloading package punkt to /root/nltk_data...\n",
            "[nltk_data]   Unzipping tokenizers/punkt.zip.\n"
          ],
          "name": "stdout"
        },
        {
          "output_type": "execute_result",
          "data": {
            "text/plain": [
              "True"
            ]
          },
          "metadata": {
            "tags": []
          },
          "execution_count": 113
        }
      ]
    },
    {
      "cell_type": "code",
      "metadata": {
        "id": "S97R2bbph5pa",
        "colab_type": "code",
        "colab": {}
      },
      "source": [
        "df['LDA_Words']=df.Word1 + ' ' + df.Word2 +' ' + df.Word3 +' ' + df.Word4 +' ' + df.Word5 +' ' + df.Word6 +' ' + df.Word7 +' ' + df.Word8 +' ' + df.Word9 +' ' + df.Word10"
      ],
      "execution_count": 0,
      "outputs": []
    },
    {
      "cell_type": "code",
      "metadata": {
        "id": "MtqKRVBTh71d",
        "colab_type": "code",
        "colab": {
          "base_uri": "https://localhost:8080/",
          "height": 682
        },
        "outputId": "f314a95f-31f3-4370-b207-b4714f88c8f7"
      },
      "source": [
        "df"
      ],
      "execution_count": 115,
      "outputs": [
        {
          "output_type": "execute_result",
          "data": {
            "text/html": [
              "<div>\n",
              "<style scoped>\n",
              "    .dataframe tbody tr th:only-of-type {\n",
              "        vertical-align: middle;\n",
              "    }\n",
              "\n",
              "    .dataframe tbody tr th {\n",
              "        vertical-align: top;\n",
              "    }\n",
              "\n",
              "    .dataframe thead th {\n",
              "        text-align: right;\n",
              "    }\n",
              "</style>\n",
              "<table border=\"1\" class=\"dataframe\">\n",
              "  <thead>\n",
              "    <tr style=\"text-align: right;\">\n",
              "      <th></th>\n",
              "      <th>Label</th>\n",
              "      <th>Word1</th>\n",
              "      <th>Word2</th>\n",
              "      <th>Word3</th>\n",
              "      <th>Word4</th>\n",
              "      <th>Word5</th>\n",
              "      <th>Word6</th>\n",
              "      <th>Word7</th>\n",
              "      <th>Word8</th>\n",
              "      <th>Word9</th>\n",
              "      <th>Word10</th>\n",
              "      <th>LDA_Words</th>\n",
              "    </tr>\n",
              "  </thead>\n",
              "  <tbody>\n",
              "    <tr>\n",
              "      <th>0</th>\n",
              "      <td>fiction script</td>\n",
              "      <td>person</td>\n",
              "      <td>perspective</td>\n",
              "      <td>story</td>\n",
              "      <td>player</td>\n",
              "      <td>fiction</td>\n",
              "      <td>games</td>\n",
              "      <td>character</td>\n",
              "      <td>intent</td>\n",
              "      <td>change</td>\n",
              "      <td>script</td>\n",
              "      <td>person perspective story player fiction games ...</td>\n",
              "    </tr>\n",
              "    <tr>\n",
              "      <th>1</th>\n",
              "      <td>crime story</td>\n",
              "      <td>player</td>\n",
              "      <td>games</td>\n",
              "      <td>story</td>\n",
              "      <td>crime</td>\n",
              "      <td>storytelling</td>\n",
              "      <td>fiction</td>\n",
              "      <td>like</td>\n",
              "      <td>actor</td>\n",
              "      <td>think</td>\n",
              "      <td>mechanical</td>\n",
              "      <td>player games story crime storytelling fiction ...</td>\n",
              "    </tr>\n",
              "    <tr>\n",
              "      <th>2</th>\n",
              "      <td>game</td>\n",
              "      <td>games</td>\n",
              "      <td>player</td>\n",
              "      <td>person</td>\n",
              "      <td>end</td>\n",
              "      <td>getting</td>\n",
              "      <td>character</td>\n",
              "      <td>mechanics</td>\n",
              "      <td>investors</td>\n",
              "      <td>game</td>\n",
              "      <td>reader</td>\n",
              "      <td>games player person end getting character mech...</td>\n",
              "    </tr>\n",
              "    <tr>\n",
              "      <th>3</th>\n",
              "      <td>comedy movie</td>\n",
              "      <td>games</td>\n",
              "      <td>player</td>\n",
              "      <td>comedy</td>\n",
              "      <td>don</td>\n",
              "      <td>action</td>\n",
              "      <td>movies</td>\n",
              "      <td>audience</td>\n",
              "      <td>years</td>\n",
              "      <td>good</td>\n",
              "      <td>movie</td>\n",
              "      <td>games player comedy don action movies audience...</td>\n",
              "    </tr>\n",
              "    <tr>\n",
              "      <th>4</th>\n",
              "      <td>Finance</td>\n",
              "      <td>money</td>\n",
              "      <td>story</td>\n",
              "      <td>going</td>\n",
              "      <td>life</td>\n",
              "      <td>want</td>\n",
              "      <td>banks</td>\n",
              "      <td>new</td>\n",
              "      <td>zero</td>\n",
              "      <td>free</td>\n",
              "      <td>places</td>\n",
              "      <td>money story going life want banks new zero fre...</td>\n",
              "    </tr>\n",
              "    <tr>\n",
              "      <th>5</th>\n",
              "      <td>Mortgage game</td>\n",
              "      <td>games</td>\n",
              "      <td>genre</td>\n",
              "      <td>person</td>\n",
              "      <td>game</td>\n",
              "      <td>able</td>\n",
              "      <td>mortgage</td>\n",
              "      <td>character</td>\n",
              "      <td>does</td>\n",
              "      <td>just</td>\n",
              "      <td>going</td>\n",
              "      <td>games genre person game able mortgage characte...</td>\n",
              "    </tr>\n",
              "    <tr>\n",
              "      <th>6</th>\n",
              "      <td>Big movie</td>\n",
              "      <td>movie</td>\n",
              "      <td>read</td>\n",
              "      <td>book</td>\n",
              "      <td>reason</td>\n",
              "      <td>money</td>\n",
              "      <td>producer</td>\n",
              "      <td>big</td>\n",
              "      <td>people</td>\n",
              "      <td>wasn</td>\n",
              "      <td>just</td>\n",
              "      <td>movie read book reason money producer big peop...</td>\n",
              "    </tr>\n",
              "    <tr>\n",
              "      <th>7</th>\n",
              "      <td>romance movie</td>\n",
              "      <td>person</td>\n",
              "      <td>games</td>\n",
              "      <td>game</td>\n",
              "      <td>genres</td>\n",
              "      <td>narrative</td>\n",
              "      <td>movies</td>\n",
              "      <td>storytelling</td>\n",
              "      <td>11</td>\n",
              "      <td>romance</td>\n",
              "      <td>shooter</td>\n",
              "      <td>person games game genres narrative movies stor...</td>\n",
              "    </tr>\n",
              "    <tr>\n",
              "      <th>8</th>\n",
              "      <td>Player</td>\n",
              "      <td>movie</td>\n",
              "      <td>player</td>\n",
              "      <td>like</td>\n",
              "      <td>little</td>\n",
              "      <td>point</td>\n",
              "      <td>look</td>\n",
              "      <td>esther</td>\n",
              "      <td>dear</td>\n",
              "      <td>especially</td>\n",
              "      <td>story</td>\n",
              "      <td>movie player like little point look esther dea...</td>\n",
              "    </tr>\n",
              "    <tr>\n",
              "      <th>9</th>\n",
              "      <td>third person game</td>\n",
              "      <td>game</td>\n",
              "      <td>games</td>\n",
              "      <td>player</td>\n",
              "      <td>fiction</td>\n",
              "      <td>players</td>\n",
              "      <td>literary</td>\n",
              "      <td>based</td>\n",
              "      <td>talk</td>\n",
              "      <td>really</td>\n",
              "      <td>gaming</td>\n",
              "      <td>game games player fiction players literary bas...</td>\n",
              "    </tr>\n",
              "  </tbody>\n",
              "</table>\n",
              "</div>"
            ],
            "text/plain": [
              "               Label  ...                                          LDA_Words\n",
              "0     fiction script  ...  person perspective story player fiction games ...\n",
              "1        crime story  ...  player games story crime storytelling fiction ...\n",
              "2               game  ...  games player person end getting character mech...\n",
              "3       comedy movie  ...  games player comedy don action movies audience...\n",
              "4            Finance  ...  money story going life want banks new zero fre...\n",
              "5      Mortgage game  ...  games genre person game able mortgage characte...\n",
              "6          Big movie  ...  movie read book reason money producer big peop...\n",
              "7      romance movie  ...  person games game genres narrative movies stor...\n",
              "8             Player  ...  movie player like little point look esther dea...\n",
              "9  third person game  ...  game games player fiction players literary bas...\n",
              "\n",
              "[10 rows x 12 columns]"
            ]
          },
          "metadata": {
            "tags": []
          },
          "execution_count": 115
        }
      ]
    },
    {
      "cell_type": "code",
      "metadata": {
        "id": "0w_L-P7ah-kR",
        "colab_type": "code",
        "colab": {}
      },
      "source": [
        "df=df[['Label','LDA_Words']]"
      ],
      "execution_count": 0,
      "outputs": []
    },
    {
      "cell_type": "code",
      "metadata": {
        "id": "quQOZBDBiASC",
        "colab_type": "code",
        "colab": {
          "base_uri": "https://localhost:8080/",
          "height": 359
        },
        "outputId": "913a35b4-23ca-4860-ad49-6a840d8269d6"
      },
      "source": [
        "df"
      ],
      "execution_count": 117,
      "outputs": [
        {
          "output_type": "execute_result",
          "data": {
            "text/html": [
              "<div>\n",
              "<style scoped>\n",
              "    .dataframe tbody tr th:only-of-type {\n",
              "        vertical-align: middle;\n",
              "    }\n",
              "\n",
              "    .dataframe tbody tr th {\n",
              "        vertical-align: top;\n",
              "    }\n",
              "\n",
              "    .dataframe thead th {\n",
              "        text-align: right;\n",
              "    }\n",
              "</style>\n",
              "<table border=\"1\" class=\"dataframe\">\n",
              "  <thead>\n",
              "    <tr style=\"text-align: right;\">\n",
              "      <th></th>\n",
              "      <th>Label</th>\n",
              "      <th>LDA_Words</th>\n",
              "    </tr>\n",
              "  </thead>\n",
              "  <tbody>\n",
              "    <tr>\n",
              "      <th>0</th>\n",
              "      <td>fiction script</td>\n",
              "      <td>person perspective story player fiction games ...</td>\n",
              "    </tr>\n",
              "    <tr>\n",
              "      <th>1</th>\n",
              "      <td>crime story</td>\n",
              "      <td>player games story crime storytelling fiction ...</td>\n",
              "    </tr>\n",
              "    <tr>\n",
              "      <th>2</th>\n",
              "      <td>game</td>\n",
              "      <td>games player person end getting character mech...</td>\n",
              "    </tr>\n",
              "    <tr>\n",
              "      <th>3</th>\n",
              "      <td>comedy movie</td>\n",
              "      <td>games player comedy don action movies audience...</td>\n",
              "    </tr>\n",
              "    <tr>\n",
              "      <th>4</th>\n",
              "      <td>Finance</td>\n",
              "      <td>money story going life want banks new zero fre...</td>\n",
              "    </tr>\n",
              "    <tr>\n",
              "      <th>5</th>\n",
              "      <td>Mortgage game</td>\n",
              "      <td>games genre person game able mortgage characte...</td>\n",
              "    </tr>\n",
              "    <tr>\n",
              "      <th>6</th>\n",
              "      <td>Big movie</td>\n",
              "      <td>movie read book reason money producer big peop...</td>\n",
              "    </tr>\n",
              "    <tr>\n",
              "      <th>7</th>\n",
              "      <td>romance movie</td>\n",
              "      <td>person games game genres narrative movies stor...</td>\n",
              "    </tr>\n",
              "    <tr>\n",
              "      <th>8</th>\n",
              "      <td>Player</td>\n",
              "      <td>movie player like little point look esther dea...</td>\n",
              "    </tr>\n",
              "    <tr>\n",
              "      <th>9</th>\n",
              "      <td>third person game</td>\n",
              "      <td>game games player fiction players literary bas...</td>\n",
              "    </tr>\n",
              "  </tbody>\n",
              "</table>\n",
              "</div>"
            ],
            "text/plain": [
              "               Label                                          LDA_Words\n",
              "0     fiction script  person perspective story player fiction games ...\n",
              "1        crime story  player games story crime storytelling fiction ...\n",
              "2               game  games player person end getting character mech...\n",
              "3       comedy movie  games player comedy don action movies audience...\n",
              "4            Finance  money story going life want banks new zero fre...\n",
              "5      Mortgage game  games genre person game able mortgage characte...\n",
              "6          Big movie  movie read book reason money producer big peop...\n",
              "7      romance movie  person games game genres narrative movies stor...\n",
              "8             Player  movie player like little point look esther dea...\n",
              "9  third person game  game games player fiction players literary bas..."
            ]
          },
          "metadata": {
            "tags": []
          },
          "execution_count": 117
        }
      ]
    },
    {
      "cell_type": "markdown",
      "metadata": {
        "id": "TWGYD8OyxCUt",
        "colab_type": "text"
      },
      "source": [
        "### Obtain the label for a new topic with the help of cosine similarity."
      ]
    },
    {
      "cell_type": "code",
      "metadata": {
        "id": "VrybgLzKiC6B",
        "colab_type": "code",
        "colab": {}
      },
      "source": [
        "# Tokenize the copy of text with nltk.tokenize\n",
        "from nltk.tokenize import word_tokenize, sent_tokenize\n",
        "gen_docs = [[w.lower() for w in word_tokenize(text)] for text in df.LDA_Words]"
      ],
      "execution_count": 0,
      "outputs": []
    },
    {
      "cell_type": "code",
      "metadata": {
        "id": "v-Y8O8ekiEf4",
        "colab_type": "code",
        "colab": {
          "base_uri": "https://localhost:8080/",
          "height": 1000
        },
        "outputId": "dbf56757-7fe7-4966-ffb1-e35d9d9f8251"
      },
      "source": [
        "gen_docs"
      ],
      "execution_count": 119,
      "outputs": [
        {
          "output_type": "execute_result",
          "data": {
            "text/plain": [
              "[['person',\n",
              "  'perspective',\n",
              "  'story',\n",
              "  'player',\n",
              "  'fiction',\n",
              "  'games',\n",
              "  'character',\n",
              "  'intent',\n",
              "  'change',\n",
              "  'script'],\n",
              " ['player',\n",
              "  'games',\n",
              "  'story',\n",
              "  'crime',\n",
              "  'storytelling',\n",
              "  'fiction',\n",
              "  'like',\n",
              "  'actor',\n",
              "  'think',\n",
              "  'mechanical'],\n",
              " ['games',\n",
              "  'player',\n",
              "  'person',\n",
              "  'end',\n",
              "  'getting',\n",
              "  'character',\n",
              "  'mechanics',\n",
              "  'investors',\n",
              "  'game',\n",
              "  'reader'],\n",
              " ['games',\n",
              "  'player',\n",
              "  'comedy',\n",
              "  'don',\n",
              "  'action',\n",
              "  'movies',\n",
              "  'audience',\n",
              "  'years',\n",
              "  'good',\n",
              "  'movie'],\n",
              " ['money',\n",
              "  'story',\n",
              "  'going',\n",
              "  'life',\n",
              "  'want',\n",
              "  'banks',\n",
              "  'new',\n",
              "  'zero',\n",
              "  'free',\n",
              "  'places'],\n",
              " ['games',\n",
              "  'genre',\n",
              "  'person',\n",
              "  'game',\n",
              "  'able',\n",
              "  'mortgage',\n",
              "  'character',\n",
              "  'does',\n",
              "  'just',\n",
              "  'going'],\n",
              " ['movie',\n",
              "  'read',\n",
              "  'book',\n",
              "  'reason',\n",
              "  'money',\n",
              "  'producer',\n",
              "  'big',\n",
              "  'people',\n",
              "  'wasn',\n",
              "  'just'],\n",
              " ['person',\n",
              "  'games',\n",
              "  'game',\n",
              "  'genres',\n",
              "  'narrative',\n",
              "  'movies',\n",
              "  'storytelling',\n",
              "  '11',\n",
              "  'romance',\n",
              "  'shooter'],\n",
              " ['movie',\n",
              "  'player',\n",
              "  'like',\n",
              "  'little',\n",
              "  'point',\n",
              "  'look',\n",
              "  'esther',\n",
              "  'dear',\n",
              "  'especially',\n",
              "  'story'],\n",
              " ['game',\n",
              "  'games',\n",
              "  'player',\n",
              "  'fiction',\n",
              "  'players',\n",
              "  'literary',\n",
              "  'based',\n",
              "  'talk',\n",
              "  'really',\n",
              "  'gaming']]"
            ]
          },
          "metadata": {
            "tags": []
          },
          "execution_count": 119
        }
      ]
    },
    {
      "cell_type": "code",
      "metadata": {
        "id": "6biKzOC9iLx0",
        "colab_type": "code",
        "colab": {}
      },
      "source": [
        "# Store the tokenized words in a dictionary\n",
        "dictionary = gensim.corpora.Dictionary(gen_docs)"
      ],
      "execution_count": 0,
      "outputs": []
    },
    {
      "cell_type": "code",
      "metadata": {
        "id": "p17khh19iPJX",
        "colab_type": "code",
        "colab": {
          "base_uri": "https://localhost:8080/",
          "height": 54
        },
        "outputId": "678f3381-9791-4f03-92ad-5d4f93df5b29"
      },
      "source": [
        "print(dictionary.token2id)"
      ],
      "execution_count": 121,
      "outputs": [
        {
          "output_type": "stream",
          "text": [
            "{'change': 0, 'character': 1, 'fiction': 2, 'games': 3, 'intent': 4, 'person': 5, 'perspective': 6, 'player': 7, 'script': 8, 'story': 9, 'actor': 10, 'crime': 11, 'like': 12, 'mechanical': 13, 'storytelling': 14, 'think': 15, 'end': 16, 'game': 17, 'getting': 18, 'investors': 19, 'mechanics': 20, 'reader': 21, 'action': 22, 'audience': 23, 'comedy': 24, 'don': 25, 'good': 26, 'movie': 27, 'movies': 28, 'years': 29, 'banks': 30, 'free': 31, 'going': 32, 'life': 33, 'money': 34, 'new': 35, 'places': 36, 'want': 37, 'zero': 38, 'able': 39, 'does': 40, 'genre': 41, 'just': 42, 'mortgage': 43, 'big': 44, 'book': 45, 'people': 46, 'producer': 47, 'read': 48, 'reason': 49, 'wasn': 50, '11': 51, 'genres': 52, 'narrative': 53, 'romance': 54, 'shooter': 55, 'dear': 56, 'especially': 57, 'esther': 58, 'little': 59, 'look': 60, 'point': 61, 'based': 62, 'gaming': 63, 'literary': 64, 'players': 65, 'really': 66, 'talk': 67}\n"
          ],
          "name": "stdout"
        }
      ]
    },
    {
      "cell_type": "code",
      "metadata": {
        "id": "fDaQXrzhiR1x",
        "colab_type": "code",
        "colab": {}
      },
      "source": [
        "#To convert tokenized topics to vectors\n",
        "corpus = [dictionary.doc2bow(gen_doc) for gen_doc in gen_docs]"
      ],
      "execution_count": 0,
      "outputs": []
    },
    {
      "cell_type": "code",
      "metadata": {
        "id": "ufjKOMvgiXtr",
        "colab_type": "code",
        "colab": {
          "base_uri": "https://localhost:8080/",
          "height": 207
        },
        "outputId": "8b39cd4a-796f-4fa8-c895-9de581c1fa8d"
      },
      "source": [
        "# Run TF-IDF on the corpus\n",
        "tf_idf = gensim.models.TfidfModel(corpus)\n",
        "for doc in tf_idf[corpus]:\n",
        "    print([[dictionary[id], np.around(freq, decimals=2)] for id, freq in doc])"
      ],
      "execution_count": 123,
      "outputs": [
        {
          "output_type": "stream",
          "text": [
            "[['change', 0.45], ['character', 0.24], ['fiction', 0.24], ['games', 0.07], ['intent', 0.45], ['person', 0.18], ['perspective', 0.45], ['player', 0.1], ['script', 0.45], ['story', 0.18]]\n",
            "[['fiction', 0.22], ['games', 0.07], ['player', 0.09], ['story', 0.17], ['actor', 0.43], ['crime', 0.43], ['like', 0.3], ['mechanical', 0.43], ['storytelling', 0.3], ['think', 0.43]]\n",
            "[['character', 0.22], ['games', 0.07], ['person', 0.17], ['player', 0.09], ['end', 0.42], ['game', 0.17], ['getting', 0.42], ['investors', 0.42], ['mechanics', 0.42], ['reader', 0.42]]\n",
            "[['games', 0.06], ['player', 0.08], ['action', 0.38], ['audience', 0.38], ['comedy', 0.38], ['don', 0.38], ['good', 0.38], ['movie', 0.2], ['movies', 0.27], ['years', 0.38]]\n",
            "[['story', 0.14], ['banks', 0.35], ['free', 0.35], ['going', 0.25], ['life', 0.35], ['money', 0.25], ['new', 0.35], ['places', 0.35], ['want', 0.35], ['zero', 0.35]]\n",
            "[['character', 0.22], ['games', 0.07], ['person', 0.17], ['game', 0.17], ['going', 0.3], ['able', 0.42], ['does', 0.42], ['genre', 0.42], ['just', 0.3], ['mortgage', 0.42]]\n",
            "[['movie', 0.18], ['money', 0.24], ['just', 0.24], ['big', 0.35], ['book', 0.35], ['people', 0.35], ['producer', 0.35], ['read', 0.35], ['reason', 0.35], ['wasn', 0.35]]\n",
            "[['games', 0.06], ['person', 0.16], ['storytelling', 0.28], ['game', 0.16], ['movies', 0.28], ['11', 0.4], ['genres', 0.4], ['narrative', 0.4], ['romance', 0.4], ['shooter', 0.4]]\n",
            "[['player', 0.08], ['story', 0.15], ['like', 0.26], ['movie', 0.2], ['dear', 0.38], ['especially', 0.38], ['esther', 0.38], ['little', 0.38], ['look', 0.38], ['point', 0.38]]\n",
            "[['fiction', 0.21], ['games', 0.06], ['player', 0.09], ['game', 0.16], ['based', 0.39], ['gaming', 0.39], ['literary', 0.39], ['players', 0.39], ['really', 0.39], ['talk', 0.39]]\n"
          ],
          "name": "stdout"
        }
      ]
    },
    {
      "cell_type": "code",
      "metadata": {
        "id": "3n2RIRFLiaHW",
        "colab_type": "code",
        "colab": {
          "base_uri": "https://localhost:8080/",
          "height": 71
        },
        "outputId": "606d3376-3f9f-45af-ff6a-fb72aa4f3dfa"
      },
      "source": [
        "# Obtain the similarities between the vectors using cosine similarity\n",
        "sims = gensim.similarities.Similarity('.',tf_idf[corpus],\n",
        "                                        num_features=len(dictionary))"
      ],
      "execution_count": 124,
      "outputs": [
        {
          "output_type": "stream",
          "text": [
            "/usr/local/lib/python3.6/dist-packages/gensim/matutils.py:718: FutureWarning: Conversion of the second argument of issubdtype from `int` to `np.signedinteger` is deprecated. In future, it will be treated as `np.int64 == np.dtype(int).type`.\n",
            "  if np.issubdtype(vec.dtype, np.int):\n"
          ],
          "name": "stderr"
        }
      ]
    },
    {
      "cell_type": "code",
      "metadata": {
        "id": "_KY0QXygjOQp",
        "colab_type": "code",
        "colab": {}
      },
      "source": [
        "# Labelling the topics with the highest returned similarity among the vectors\n",
        "file2_docs = []\n",
        "\n",
        "file1=['i am awsome, and i have a huge story to tell','i love playing games','dear son, i miss money']\n",
        "file2=['i like to play cricket, because it is very intense game']\n",
        "file3=['i like money, i breathe money, only money']\n",
        "file=[file1,file2,file3]\n",
        "def checkSimilarity(sentences):\n",
        "  for sentence in sentences:\n",
        "    tokens = sent_tokenize(sentence)\n",
        "    for line in tokens:\n",
        "        file2_docs.append(line)\n",
        "  print(\"\\nNumber of documents:\",len(file2_docs))  \n",
        "  for line in file2_docs:\n",
        "      query_doc = [w.lower() for w in word_tokenize(line)]\n",
        "      query_doc_bow = dictionary.doc2bow(query_doc) \n",
        "  query_doc_tf_idf = tf_idf[query_doc_bow]\n",
        "  max_number = float('-inf')\n",
        "  label=-1\n",
        "  for i,j in enumerate(sims[query_doc_tf_idf]):\n",
        "    print('Similarity with ',i,'the Label is',j)\n",
        "    if j > max_number:\n",
        "      label = i\n",
        "      max_number = j\n",
        "  print(\"\\nLabel for this Topic is:\",df.Label[label])"
      ],
      "execution_count": 0,
      "outputs": []
    },
    {
      "cell_type": "markdown",
      "metadata": {
        "id": "APxc7Dhhuqob",
        "colab_type": "text"
      },
      "source": [
        "### The output shows the Labels which were used, and classifies the new topic with label."
      ]
    },
    {
      "cell_type": "code",
      "metadata": {
        "id": "wrSHz3b1j868",
        "colab_type": "code",
        "colab": {
          "base_uri": "https://localhost:8080/",
          "height": 1000
        },
        "outputId": "3c28463f-3cff-4818-fe45-cdb21b84b577"
      },
      "source": [
        "print(\"Printing all labels:\\n\",df.Label)\n",
        "for i in file:\n",
        "  print(\"\\n\",i,\"\\n\")\n",
        "  checkSimilarity(i)"
      ],
      "execution_count": 146,
      "outputs": [
        {
          "output_type": "stream",
          "text": [
            "Printing all labels:\n",
            " 0       fiction script\n",
            "1          crime story\n",
            "2                 game\n",
            "3         comedy movie\n",
            "4              Finance\n",
            "5        Mortgage game\n",
            "6            Big movie\n",
            "7        romance movie\n",
            "8               Player\n",
            "9    third person game\n",
            "Name: Label, dtype: object\n",
            "\n",
            " ['i am awsome, and i have a huge story to tell', 'i love playing games', 'dear son, i miss money'] \n",
            "\n",
            "\n",
            "Number of documents: 8\n",
            "Similarity with  0 the Label is 0.0\n",
            "Similarity with  1 the Label is 0.0\n",
            "Similarity with  2 the Label is 0.0\n",
            "Similarity with  3 the Label is 0.0\n",
            "Similarity with  4 the Label is 0.14039208\n",
            "Similarity with  5 the Label is 0.0\n",
            "Similarity with  6 the Label is 0.13940983\n",
            "Similarity with  7 the Label is 0.0\n",
            "Similarity with  8 the Label is 0.31046674\n",
            "Similarity with  9 the Label is 0.0\n",
            "\n",
            "Label for this Topic is: Player\n",
            "\n",
            " ['i like to play cricket, because it is very intense game'] \n",
            "\n",
            "\n",
            "Number of documents: 9\n",
            "Similarity with  0 the Label is 0.0\n",
            "Similarity with  1 the Label is 0.2594301\n",
            "Similarity with  2 the Label is 0.08273242\n",
            "Similarity with  3 the Label is 0.0\n",
            "Similarity with  4 the Label is 0.0\n",
            "Similarity with  5 the Label is 0.08326412\n",
            "Similarity with  6 the Label is 0.0\n",
            "Similarity with  7 the Label is 0.07832992\n",
            "Similarity with  8 the Label is 0.23008668\n",
            "Similarity with  9 the Label is 0.077194944\n",
            "\n",
            "Label for this Topic is: crime story\n",
            "\n",
            " ['i like money, i breathe money, only money'] \n",
            "\n",
            "\n",
            "Number of documents: 10\n",
            "Similarity with  0 the Label is 0.0\n",
            "Similarity with  1 the Label is 0.09440294\n",
            "Similarity with  2 the Label is 0.0\n",
            "Similarity with  3 the Label is 0.0\n",
            "Similarity with  4 the Label is 0.23248148\n",
            "Similarity with  5 the Label is 0.0\n",
            "Similarity with  6 the Label is 0.23085491\n",
            "Similarity with  7 the Label is 0.0\n",
            "Similarity with  8 the Label is 0.08372529\n",
            "Similarity with  9 the Label is 0.0\n",
            "\n",
            "Label for this Topic is: Finance\n"
          ],
          "name": "stdout"
        },
        {
          "output_type": "stream",
          "text": [
            "/usr/local/lib/python3.6/dist-packages/gensim/similarities/docsim.py:518: FutureWarning: arrays to stack must be passed as a \"sequence\" type such as list or tuple. Support for non-sequence iterables such as generators is deprecated as of NumPy 1.16 and will raise an error in the future.\n",
            "  result = numpy.hstack(shard_results)\n"
          ],
          "name": "stderr"
        }
      ]
    }
  ]
}
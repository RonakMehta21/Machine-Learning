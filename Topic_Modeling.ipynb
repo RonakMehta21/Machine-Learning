{
  "nbformat": 4,
  "nbformat_minor": 0,
  "metadata": {
    "colab": {
      "name": "Topic Modeling.ipynb",
      "provenance": [],
      "collapsed_sections": [],
      "authorship_tag": "ABX9TyOvp4G4V12ienwHlO1q7WX1",
      "include_colab_link": true
    },
    "kernelspec": {
      "name": "python3",
      "display_name": "Python 3"
    }
  },
  "cells": [
    {
      "cell_type": "markdown",
      "metadata": {
        "id": "view-in-github",
        "colab_type": "text"
      },
      "source": [
        "<a href=\"https://colab.research.google.com/github/RonakMehta21/Machine-Learning/blob/master/Topic_Modeling.ipynb\" target=\"_parent\"><img src=\"https://colab.research.google.com/assets/colab-badge.svg\" alt=\"Open In Colab\"/></a>"
      ]
    },
    {
      "cell_type": "code",
      "metadata": {
        "id": "LgU3I2cVrfWt",
        "colab_type": "code",
        "colab": {}
      },
      "source": [
        "!pip install -U -q PyDrive\n",
        "from pydrive.auth import GoogleAuth\n",
        "from pydrive.drive import GoogleDrive\n",
        "from google.colab import auth\n",
        "from oauth2client.client import GoogleCredentials"
      ],
      "execution_count": 0,
      "outputs": []
    },
    {
      "cell_type": "code",
      "metadata": {
        "id": "c3_U5-0IrhkL",
        "colab_type": "code",
        "colab": {}
      },
      "source": [
        "# Authenticate and create the PyDrive client.\n",
        "auth.authenticate_user()\n",
        "gauth = GoogleAuth()\n",
        "gauth.credentials = GoogleCredentials.get_application_default()\n",
        "drive = GoogleDrive(gauth)"
      ],
      "execution_count": 0,
      "outputs": []
    },
    {
      "cell_type": "code",
      "metadata": {
        "id": "gAjIORhjrmqm",
        "colab_type": "code",
        "colab": {
          "base_uri": "https://localhost:8080/",
          "height": 34
        },
        "outputId": "6c7d258e-2889-4945-8372-750cb0722b88"
      },
      "source": [
        "# Google drive link where the dataset is stored.\n",
        "link = 'https://drive.google.com/open?id=1PuzBrkOrlKTgaVcl_1nHvmRIDpf3hOij'\n",
        "fluff, id = link.split('=')\n",
        "print (id) # Verify that you have everything after '='"
      ],
      "execution_count": 70,
      "outputs": [
        {
          "output_type": "stream",
          "text": [
            "1PuzBrkOrlKTgaVcl_1nHvmRIDpf3hOij\n"
          ],
          "name": "stdout"
        }
      ]
    },
    {
      "cell_type": "code",
      "metadata": {
        "id": "9tG7UGqpraM4",
        "colab_type": "code",
        "colab": {}
      },
      "source": [
        "# Download the twitter dataset.\n",
        "downloaded = drive.CreateFile({'id':id}) \n",
        "downloaded.GetContentFile('data.txt')"
      ],
      "execution_count": 0,
      "outputs": []
    },
    {
      "cell_type": "code",
      "metadata": {
        "id": "jSkEEnmcr-sV",
        "colab_type": "code",
        "colab": {}
      },
      "source": [
        "import pandas as pd\n",
        "import numpy as np"
      ],
      "execution_count": 0,
      "outputs": []
    },
    {
      "cell_type": "code",
      "metadata": {
        "id": "n3Ls_JkixbT3",
        "colab_type": "code",
        "colab": {}
      },
      "source": [
        "import pandas as pd\n",
        "df = pd.read_fwf('data.txt')\n",
        "df.to_csv('data.csv')"
      ],
      "execution_count": 0,
      "outputs": []
    },
    {
      "cell_type": "code",
      "metadata": {
        "id": "2GidIbwXxeNk",
        "colab_type": "code",
        "colab": {}
      },
      "source": [
        "data = pd.read_csv('data.csv',header=None)"
      ],
      "execution_count": 0,
      "outputs": []
    },
    {
      "cell_type": "code",
      "metadata": {
        "id": "VnDFwUkCyNey",
        "colab_type": "code",
        "colab": {}
      },
      "source": [
        "data['text'] = data[1]"
      ],
      "execution_count": 0,
      "outputs": []
    },
    {
      "cell_type": "code",
      "metadata": {
        "id": "m0Q7VBmJzmt4",
        "colab_type": "code",
        "colab": {}
      },
      "source": [
        "# Load the regular expression library\n",
        "import re"
      ],
      "execution_count": 0,
      "outputs": []
    },
    {
      "cell_type": "code",
      "metadata": {
        "id": "fHp5u5TYzspB",
        "colab_type": "code",
        "colab": {
          "base_uri": "https://localhost:8080/",
          "height": 102
        },
        "outputId": "cf2e4a36-40d9-46a8-c520-c2fcac0d6687"
      },
      "source": [
        "# Remove punctuation\n",
        "data['text'] = data['text'].map(lambda x: re.sub('[,\\.!?]', '', x))"
      ],
      "execution_count": 78,
      "outputs": [
        {
          "output_type": "stream",
          "text": [
            "<input>:1: DeprecationWarning: invalid escape sequence \\.\n",
            "<input>:1: DeprecationWarning: invalid escape sequence \\.\n",
            "<input>:1: DeprecationWarning: invalid escape sequence \\.\n",
            "<ipython-input-78-2990a2999eec>:1: DeprecationWarning: invalid escape sequence \\.\n",
            "  data['text'] = data['text'].map(lambda x: re.sub('[,\\.!?]', '', x))\n"
          ],
          "name": "stderr"
        }
      ]
    },
    {
      "cell_type": "code",
      "metadata": {
        "id": "nQq8YxZ60grl",
        "colab_type": "code",
        "colab": {
          "base_uri": "https://localhost:8080/",
          "height": 221
        },
        "outputId": "7a6202f9-7c05-43c2-f6a0-73627722bd42"
      },
      "source": [
        "data['text']"
      ],
      "execution_count": 79,
      "outputs": [
        {
          "output_type": "execute_result",
          "data": {
            "text/plain": [
              "0          What’s The Stock Market Seeing That We’re Not\n",
              "1      As Americans brace for a week of horror the st...\n",
              "2                  We don’t think it’s that complicated:\n",
              "3                       There’s a lot of money out there\n",
              "4      The government is pumping trillions of dollars...\n",
              "                             ...                        \n",
              "170    Help me it pleads get me to the screen where I...\n",
              "171    Then there are the other voices: Heed the sign...\n",
              "172    And still I carry on for some unknown reason P...\n",
              "173    For these are the tools of my trade I’m a prod...\n",
              "174             This post originally appeared on Journal\n",
              "Name: text, Length: 175, dtype: object"
            ]
          },
          "metadata": {
            "tags": []
          },
          "execution_count": 79
        }
      ]
    },
    {
      "cell_type": "code",
      "metadata": {
        "id": "Jw9mBfk95j8A",
        "colab_type": "code",
        "colab": {
          "base_uri": "https://localhost:8080/",
          "height": 34
        },
        "outputId": "a95e145e-0713-47a0-95d2-8162428556b5"
      },
      "source": [
        "data['text'][1]"
      ],
      "execution_count": 81,
      "outputs": [
        {
          "output_type": "execute_result",
          "data": {
            "text/plain": [
              "'As Americans brace for a week of horror the stock market is having a very good run so far Why'"
            ]
          },
          "metadata": {
            "tags": []
          },
          "execution_count": 81
        }
      ]
    },
    {
      "cell_type": "code",
      "metadata": {
        "id": "XffBHBCK0mHZ",
        "colab_type": "code",
        "colab": {}
      },
      "source": [
        "# Convert the titles to lowercase\n",
        "data['text'] = data['text'].map(lambda x: x.lower())"
      ],
      "execution_count": 0,
      "outputs": []
    },
    {
      "cell_type": "code",
      "metadata": {
        "id": "-AFzg4Kq0qFB",
        "colab_type": "code",
        "colab": {
          "base_uri": "https://localhost:8080/",
          "height": 119
        },
        "outputId": "8a28e6a9-ac46-4b02-fe96-840099a40456"
      },
      "source": [
        "# Print out the first rows of papers\n",
        "data['text'].head()"
      ],
      "execution_count": 83,
      "outputs": [
        {
          "output_type": "execute_result",
          "data": {
            "text/plain": [
              "0        what’s the stock market seeing that we’re not\n",
              "1    as americans brace for a week of horror the st...\n",
              "2                we don’t think it’s that complicated:\n",
              "3                     there’s a lot of money out there\n",
              "4    the government is pumping trillions of dollars...\n",
              "Name: text, dtype: object"
            ]
          },
          "metadata": {
            "tags": []
          },
          "execution_count": 83
        }
      ]
    },
    {
      "cell_type": "code",
      "metadata": {
        "id": "0xM-pahm04dY",
        "colab_type": "code",
        "colab": {}
      },
      "source": [
        "# Load the library with the CountVectorizer method\n",
        "from sklearn.feature_extraction.text import CountVectorizer"
      ],
      "execution_count": 0,
      "outputs": []
    },
    {
      "cell_type": "code",
      "metadata": {
        "id": "8SHO0KP_07FF",
        "colab_type": "code",
        "colab": {}
      },
      "source": [
        "import matplotlib.pyplot as plt\n",
        "import seaborn as sns\n",
        "sns.set_style('whitegrid')\n",
        "%matplotlib inline"
      ],
      "execution_count": 0,
      "outputs": []
    },
    {
      "cell_type": "code",
      "metadata": {
        "id": "18HjxzA21CQs",
        "colab_type": "code",
        "colab": {
          "base_uri": "https://localhost:8080/",
          "height": 662
        },
        "outputId": "bd2f85f3-c78c-4680-e29f-01e0a99639ff"
      },
      "source": [
        "# Helper function\n",
        "def plot_10_most_common_words(count_data, count_vectorizer):\n",
        "    import matplotlib.pyplot as plt\n",
        "    words = count_vectorizer.get_feature_names()\n",
        "    total_counts = np.zeros(len(words))\n",
        "    for t in count_data:\n",
        "        total_counts+=t.toarray()[0]\n",
        "    \n",
        "    count_dict = (zip(words, total_counts))\n",
        "    count_dict = sorted(count_dict, key=lambda x:x[1], reverse=True)[0:10]\n",
        "    words = [w[0] for w in count_dict]\n",
        "    counts = [w[1] for w in count_dict]\n",
        "    x_pos = np.arange(len(words)) \n",
        "    \n",
        "    plt.figure(2, figsize=(15, 15/1.6180))\n",
        "    plt.subplot(title='10 most common words')\n",
        "    sns.set_context(\"notebook\", font_scale=1.25, rc={\"lines.linewidth\": 2.5})\n",
        "    sns.barplot(x_pos, counts, palette='husl')\n",
        "    plt.xticks(x_pos, words, rotation=90) \n",
        "    plt.xlabel('words')\n",
        "    plt.ylabel('counts')\n",
        "    plt.show()\n",
        "# Initialise the count vectorizer with the English stop words\n",
        "count_vectorizer = CountVectorizer(stop_words='english')\n",
        "# Fit and transform the processed titles\n",
        "count_data = count_vectorizer.fit_transform(data['text'])\n",
        "# Visualise the 10 most common words\n",
        "plot_10_most_common_words(count_data, count_vectorizer)"
      ],
      "execution_count": 86,
      "outputs": [
        {
          "output_type": "display_data",
          "data": {
            "image/png": "[encoded data removed]",
            "text/plain": [
              "<Figure size 1080x667.491 with 1 Axes>"
            ]
          },
          "metadata": {
            "tags": [],
            "needs_background": "light"
          }
        }
      ]
    },
    {
      "cell_type": "code",
      "metadata": {
        "id": "AW4kXAB81N7T",
        "colab_type": "code",
        "colab": {
          "base_uri": "https://localhost:8080/",
          "height": 544
        },
        "outputId": "bc563fac-7566-4fac-c940-b8606a3a29ce"
      },
      "source": [
        "import warnings\n",
        "warnings.simplefilter(\"ignore\", DeprecationWarning)\n",
        "# Load the LDA model from sk-learn\n",
        "from sklearn.decomposition import LatentDirichletAllocation as LDA\n",
        "l = []\n",
        "# Helper function\n",
        "def print_topics(model, count_vectorizer, n_top_words):\n",
        "    words = count_vectorizer.get_feature_names()\n",
        "    for topic_idx, topic in enumerate(model.components_):\n",
        "        print(\"\\nTopic #%d:\" % topic_idx)\n",
        "        print(\" \".join([words[i]\n",
        "                        for i in topic.argsort()[:-n_top_words - 1:-1]]))\n",
        "        l.append(\" \".join([words[i]\n",
        "                        for i in topic.argsort()[:-n_top_words - 1:-1]]))\n",
        "        \n",
        "# Tweak the two parameters below\n",
        "number_topics = 10\n",
        "number_words = 10\n",
        "# Create and fit the LDA model\n",
        "lda = LDA(n_components=number_topics, n_jobs=-1)\n",
        "lda.fit(count_data)\n",
        "# Print the topics found by the LDA model\n",
        "print(\"Topics found via LDA:\")\n",
        "print_topics(lda, count_vectorizer, number_words)"
      ],
      "execution_count": 91,
      "outputs": [
        {
          "output_type": "stream",
          "text": [
            "Topics found via LDA:\n",
            "\n",
            "Topic #0:\n",
            "games money person fiction like going zero crime perspective game\n",
            "\n",
            "Topic #1:\n",
            "story player game money action way lot games reader mechanical\n",
            "\n",
            "Topic #2:\n",
            "games person game comedy book story gaming genres storytelling player\n",
            "\n",
            "Topic #3:\n",
            "story player want don little read narrative director forms exciting\n",
            "\n",
            "Topic #4:\n",
            "games time getting script end investors form way close say\n",
            "\n",
            "Topic #5:\n",
            "story player character person games game perspective players entirely storytelling\n",
            "\n",
            "Topic #6:\n",
            "movie games genre thematic person does good able star mechanical\n",
            "\n",
            "Topic #7:\n",
            "people genre mechanical script critical movie narrative point actor audience\n",
            "\n",
            "Topic #8:\n",
            "movies movie million people years banks making does institutions financial\n",
            "\n",
            "Topic #9:\n",
            "trump just look want really player big market sure writer\n"
          ],
          "name": "stdout"
        }
      ]
    },
    {
      "cell_type": "code",
      "metadata": {
        "id": "I8QO_v488NCs",
        "colab_type": "code",
        "colab": {
          "base_uri": "https://localhost:8080/",
          "height": 391
        },
        "outputId": "3ffa0669-a98b-4188-d77f-bd736cc79ec5"
      },
      "source": [
        "from sklearn.datasets import fetch_20newsgroups\n",
        "\n",
        "data = fetch_20newsgroups()\n",
        "data.target_names"
      ],
      "execution_count": 93,
      "outputs": [
        {
          "output_type": "stream",
          "text": [
            "Downloading 20news dataset. This may take a few minutes.\n",
            "Downloading dataset from https://ndownloader.figshare.com/files/5975967 (14 MB)\n"
          ],
          "name": "stderr"
        },
        {
          "output_type": "execute_result",
          "data": {
            "text/plain": [
              "['alt.atheism',\n",
              " 'comp.graphics',\n",
              " 'comp.os.ms-windows.misc',\n",
              " 'comp.sys.ibm.pc.hardware',\n",
              " 'comp.sys.mac.hardware',\n",
              " 'comp.windows.x',\n",
              " 'misc.forsale',\n",
              " 'rec.autos',\n",
              " 'rec.motorcycles',\n",
              " 'rec.sport.baseball',\n",
              " 'rec.sport.hockey',\n",
              " 'sci.crypt',\n",
              " 'sci.electronics',\n",
              " 'sci.med',\n",
              " 'sci.space',\n",
              " 'soc.religion.christian',\n",
              " 'talk.politics.guns',\n",
              " 'talk.politics.mideast',\n",
              " 'talk.politics.misc',\n",
              " 'talk.religion.misc']"
            ]
          },
          "metadata": {
            "tags": []
          },
          "execution_count": 93
        }
      ]
    },
    {
      "cell_type": "code",
      "metadata": {
        "id": "OejnZLpxDUjs",
        "colab_type": "code",
        "colab": {}
      },
      "source": [
        "categories = ['talk.religion.misc', 'soc.religion.christian',\n",
        "              'sci.space', 'comp.graphics']\n",
        "train = fetch_20newsgroups(subset='train', categories=categories)\n",
        "test = fetch_20newsgroups(subset='test', categories=categories)"
      ],
      "execution_count": 0,
      "outputs": []
    },
    {
      "cell_type": "code",
      "metadata": {
        "id": "7wTFt_UMDX7O",
        "colab_type": "code",
        "colab": {
          "base_uri": "https://localhost:8080/",
          "height": 323
        },
        "outputId": "eb372743-3839-4af6-aa5a-962578508bd1"
      },
      "source": [
        "print(train.data[5])"
      ],
      "execution_count": 95,
      "outputs": [
        {
          "output_type": "stream",
          "text": [
            "From: dmcgee@uluhe.soest.hawaii.edu (Don McGee)\n",
            "Subject: Federal Hearing\n",
            "Originator: dmcgee@uluhe\n",
            "Organization: School of Ocean and Earth Science and Technology\n",
            "Distribution: usa\n",
            "Lines: 10\n",
            "\n",
            "\n",
            "Fact or rumor....?  Madalyn Murray O'Hare an atheist who eliminated the\n",
            "use of the bible reading and prayer in public schools 15 years ago is now\n",
            "going to appear before the FCC with a petition to stop the reading of the\n",
            "Gospel on the airways of America.  And she is also campaigning to remove\n",
            "Christmas programs, songs, etc from the public schools.  If it is true\n",
            "then mail to Federal Communications Commission 1919 H Street Washington DC\n",
            "20054 expressing your opposition to her request.  Reference Petition number\n",
            "\n",
            "2493.\n",
            "\n"
          ],
          "name": "stdout"
        }
      ]
    },
    {
      "cell_type": "code",
      "metadata": {
        "id": "dWGNpHeeDaoQ",
        "colab_type": "code",
        "colab": {}
      },
      "source": [
        "from sklearn.feature_extraction.text import TfidfVectorizer\n",
        "from sklearn.naive_bayes import MultinomialNB\n",
        "from sklearn.pipeline import make_pipeline\n",
        "\n",
        "model = make_pipeline(TfidfVectorizer(), MultinomialNB())"
      ],
      "execution_count": 0,
      "outputs": []
    },
    {
      "cell_type": "code",
      "metadata": {
        "id": "KDxJp5o2DfhE",
        "colab_type": "code",
        "colab": {}
      },
      "source": [
        "model.fit(train.data, train.target)\n",
        "labels = model.predict(test.data)"
      ],
      "execution_count": 0,
      "outputs": []
    },
    {
      "cell_type": "code",
      "metadata": {
        "id": "Rjlu2xMTDiC-",
        "colab_type": "code",
        "colab": {
          "base_uri": "https://localhost:8080/",
          "height": 419
        },
        "outputId": "07cb89ad-f3f8-4a9a-db3a-a8d05d1a0097"
      },
      "source": [
        "from sklearn.metrics import confusion_matrix\n",
        "mat = confusion_matrix(test.target, labels)\n",
        "sns.heatmap(mat.T, square=True, annot=True, fmt='d', cbar=False,\n",
        "            xticklabels=train.target_names, yticklabels=train.target_names)\n",
        "plt.xlabel('true label')\n",
        "plt.ylabel('predicted label');"
      ],
      "execution_count": 98,
      "outputs": [
        {
          "output_type": "display_data",
          "data": {
            "image/png": "[encoded data removed]",
            "text/plain": [
              "<Figure size 432x288 with 1 Axes>"
            ]
          },
          "metadata": {
            "tags": [],
            "needs_background": "light"
          }
        }
      ]
    },
    {
      "cell_type": "code",
      "metadata": {
        "id": "itJYJDZFDlAX",
        "colab_type": "code",
        "colab": {}
      },
      "source": [
        "def predict_category(s, train=train, model=model):\n",
        "    pred = model.predict([s])\n",
        "    return train.target_names[pred[0]]"
      ],
      "execution_count": 0,
      "outputs": []
    },
    {
      "cell_type": "code",
      "metadata": {
        "id": "bUZ_FeMnDnhc",
        "colab_type": "code",
        "colab": {
          "base_uri": "https://localhost:8080/",
          "height": 34
        },
        "outputId": "c72a1772-ddcd-476a-ccc9-ac15305432fe"
      },
      "source": [
        "predict_category('sending a payload to the ISS')"
      ],
      "execution_count": 100,
      "outputs": [
        {
          "output_type": "execute_result",
          "data": {
            "text/plain": [
              "'sci.space'"
            ]
          },
          "metadata": {
            "tags": []
          },
          "execution_count": 100
        }
      ]
    },
    {
      "cell_type": "code",
      "metadata": {
        "id": "Ul2zHM1rHdSs",
        "colab_type": "code",
        "colab": {}
      },
      "source": [
        "# Authenticate and create the PyDrive client.\n",
        "auth.authenticate_user()\n",
        "gauth = GoogleAuth()\n",
        "gauth.credentials = GoogleCredentials.get_application_default()\n",
        "drive = GoogleDrive(gauth)"
      ],
      "execution_count": 0,
      "outputs": []
    },
    {
      "cell_type": "code",
      "metadata": {
        "id": "FLTIZNw1GiRl",
        "colab_type": "code",
        "colab": {
          "base_uri": "https://localhost:8080/",
          "height": 34
        },
        "outputId": "45c937c3-d3bf-40e8-c70d-351d6256b1a6"
      },
      "source": [
        "# Google drive link where the dataset is stored.\n",
        "link = 'https://drive.google.com/open?id=14WPNDWDkw_Ry8GPdVuyirtb9Is70l2uh'\n",
        "fluff, id = link.split('=')\n",
        "print (id) # Verify that you have everything after '='"
      ],
      "execution_count": 109,
      "outputs": [
        {
          "output_type": "stream",
          "text": [
            "14WPNDWDkw_Ry8GPdVuyirtb9Is70l2uh\n"
          ],
          "name": "stdout"
        }
      ]
    },
    {
      "cell_type": "code",
      "metadata": {
        "id": "BdyobzqVG8la",
        "colab_type": "code",
        "colab": {}
      },
      "source": [
        "# Download the twitter dataset.\n",
        "downloaded = drive.CreateFile({'id':id}) \n",
        "downloaded.GetContentFile('MNBdatatset.csv')"
      ],
      "execution_count": 0,
      "outputs": []
    },
    {
      "cell_type": "code",
      "metadata": {
        "id": "yY6p3SAhHfnV",
        "colab_type": "code",
        "colab": {}
      },
      "source": [
        "df = pd.read_csv('MNBdatatset.csv')"
      ],
      "execution_count": 0,
      "outputs": []
    },
    {
      "cell_type": "code",
      "metadata": {
        "id": "36lFPqTMHlbP",
        "colab_type": "code",
        "colab": {
          "base_uri": "https://localhost:8080/",
          "height": 359
        },
        "outputId": "df9c0272-8bec-4f35-9f22-8ea412693884"
      },
      "source": [
        "df"
      ],
      "execution_count": 112,
      "outputs": [
        {
          "output_type": "execute_result",
          "data": {
            "text/html": [
              "<div>\n",
              "<style scoped>\n",
              "    .dataframe tbody tr th:only-of-type {\n",
              "        vertical-align: middle;\n",
              "    }\n",
              "\n",
              "    .dataframe tbody tr th {\n",
              "        vertical-align: top;\n",
              "    }\n",
              "\n",
              "    .dataframe thead th {\n",
              "        text-align: right;\n",
              "    }\n",
              "</style>\n",
              "<table border=\"1\" class=\"dataframe\">\n",
              "  <thead>\n",
              "    <tr style=\"text-align: right;\">\n",
              "      <th></th>\n",
              "      <th>Label</th>\n",
              "      <th>Word1</th>\n",
              "      <th>Word2</th>\n",
              "      <th>Word3</th>\n",
              "      <th>Word4</th>\n",
              "      <th>Word5</th>\n",
              "      <th>Word6</th>\n",
              "      <th>Word7</th>\n",
              "      <th>Word8</th>\n",
              "      <th>Word9</th>\n",
              "      <th>Word10</th>\n",
              "    </tr>\n",
              "  </thead>\n",
              "  <tbody>\n",
              "    <tr>\n",
              "      <th>0</th>\n",
              "      <td>fiction script</td>\n",
              "      <td>person</td>\n",
              "      <td>perspective</td>\n",
              "      <td>story</td>\n",
              "      <td>player</td>\n",
              "      <td>fiction</td>\n",
              "      <td>games</td>\n",
              "      <td>character</td>\n",
              "      <td>intent</td>\n",
              "      <td>change</td>\n",
              "      <td>script</td>\n",
              "    </tr>\n",
              "    <tr>\n",
              "      <th>1</th>\n",
              "      <td>crime story</td>\n",
              "      <td>player</td>\n",
              "      <td>games</td>\n",
              "      <td>story</td>\n",
              "      <td>crime</td>\n",
              "      <td>storytelling</td>\n",
              "      <td>fiction</td>\n",
              "      <td>like</td>\n",
              "      <td>actor</td>\n",
              "      <td>think</td>\n",
              "      <td>mechanical</td>\n",
              "    </tr>\n",
              "    <tr>\n",
              "      <th>2</th>\n",
              "      <td>game</td>\n",
              "      <td>games</td>\n",
              "      <td>player</td>\n",
              "      <td>person</td>\n",
              "      <td>end</td>\n",
              "      <td>getting</td>\n",
              "      <td>character</td>\n",
              "      <td>mechanics</td>\n",
              "      <td>investors</td>\n",
              "      <td>game</td>\n",
              "      <td>reader</td>\n",
              "    </tr>\n",
              "    <tr>\n",
              "      <th>3</th>\n",
              "      <td>comedy movie</td>\n",
              "      <td>games</td>\n",
              "      <td>player</td>\n",
              "      <td>comedy</td>\n",
              "      <td>don</td>\n",
              "      <td>action</td>\n",
              "      <td>movies</td>\n",
              "      <td>audience</td>\n",
              "      <td>years</td>\n",
              "      <td>good</td>\n",
              "      <td>movie</td>\n",
              "    </tr>\n",
              "    <tr>\n",
              "      <th>4</th>\n",
              "      <td>Finance</td>\n",
              "      <td>money</td>\n",
              "      <td>story</td>\n",
              "      <td>going</td>\n",
              "      <td>life</td>\n",
              "      <td>want</td>\n",
              "      <td>banks</td>\n",
              "      <td>new</td>\n",
              "      <td>zero</td>\n",
              "      <td>free</td>\n",
              "      <td>places</td>\n",
              "    </tr>\n",
              "    <tr>\n",
              "      <th>5</th>\n",
              "      <td>Mortgage game</td>\n",
              "      <td>games</td>\n",
              "      <td>genre</td>\n",
              "      <td>person</td>\n",
              "      <td>game</td>\n",
              "      <td>able</td>\n",
              "      <td>mortgage</td>\n",
              "      <td>character</td>\n",
              "      <td>does</td>\n",
              "      <td>just</td>\n",
              "      <td>going</td>\n",
              "    </tr>\n",
              "    <tr>\n",
              "      <th>6</th>\n",
              "      <td>Big movie</td>\n",
              "      <td>movie</td>\n",
              "      <td>read</td>\n",
              "      <td>book</td>\n",
              "      <td>reason</td>\n",
              "      <td>money</td>\n",
              "      <td>producer</td>\n",
              "      <td>big</td>\n",
              "      <td>people</td>\n",
              "      <td>wasn</td>\n",
              "      <td>just</td>\n",
              "    </tr>\n",
              "    <tr>\n",
              "      <th>7</th>\n",
              "      <td>romance movie</td>\n",
              "      <td>person</td>\n",
              "      <td>games</td>\n",
              "      <td>game</td>\n",
              "      <td>genres</td>\n",
              "      <td>narrative</td>\n",
              "      <td>movies</td>\n",
              "      <td>storytelling</td>\n",
              "      <td>11</td>\n",
              "      <td>romance</td>\n",
              "      <td>shooter</td>\n",
              "    </tr>\n",
              "    <tr>\n",
              "      <th>8</th>\n",
              "      <td>Player</td>\n",
              "      <td>movie</td>\n",
              "      <td>player</td>\n",
              "      <td>like</td>\n",
              "      <td>little</td>\n",
              "      <td>point</td>\n",
              "      <td>look</td>\n",
              "      <td>esther</td>\n",
              "      <td>dear</td>\n",
              "      <td>especially</td>\n",
              "      <td>story</td>\n",
              "    </tr>\n",
              "    <tr>\n",
              "      <th>9</th>\n",
              "      <td>third person game</td>\n",
              "      <td>game</td>\n",
              "      <td>games</td>\n",
              "      <td>player</td>\n",
              "      <td>fiction</td>\n",
              "      <td>players</td>\n",
              "      <td>literary</td>\n",
              "      <td>based</td>\n",
              "      <td>talk</td>\n",
              "      <td>really</td>\n",
              "      <td>gaming</td>\n",
              "    </tr>\n",
              "  </tbody>\n",
              "</table>\n",
              "</div>"
            ],
            "text/plain": [
              "               Label   Word1        Word2  ...      Word8       Word9      Word10\n",
              "0     fiction script  person  perspective  ...     intent      change      script\n",
              "1        crime story  player        games  ...      actor       think  mechanical\n",
              "2               game   games       player  ...  investors        game      reader\n",
              "3       comedy movie   games       player  ...      years        good       movie\n",
              "4            Finance   money        story  ...       zero        free      places\n",
              "5      Mortgage game   games        genre  ...       does        just       going\n",
              "6          Big movie   movie         read  ...     people        wasn        just\n",
              "7      romance movie  person        games  ...         11     romance     shooter\n",
              "8             Player   movie       player  ...       dear  especially       story\n",
              "9  third person game    game        games  ...       talk      really      gaming\n",
              "\n",
              "[10 rows x 11 columns]"
            ]
          },
          "metadata": {
            "tags": []
          },
          "execution_count": 112
        }
      ]
    }
  ]
}